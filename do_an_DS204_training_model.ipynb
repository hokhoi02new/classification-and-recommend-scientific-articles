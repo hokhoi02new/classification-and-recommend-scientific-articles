{
 "cells": [
  {
   "cell_type": "markdown",
   "metadata": {
    "id": "4cbgwZWWfWpp"
   },
   "source": [
    "# **Đọc thư viện**"
   ]
  },
  {
   "cell_type": "code",
   "execution_count": null,
   "metadata": {
    "colab": {
     "base_uri": "https://localhost:8080/"
    },
    "id": "tAb77yZ9fzMG",
    "outputId": "c9b238c1-3d99-47a6-86f3-97acc674179e"
   },
   "outputs": [
    {
     "name": "stdout",
     "output_type": "stream",
     "text": [
      "Looking in indexes: https://pypi.org/simple, https://us-python.pkg.dev/colab-wheels/public/simple/\n",
      "Requirement already satisfied: transformers in /usr/local/lib/python3.10/dist-packages (4.30.2)\n",
      "Requirement already satisfied: filelock in /usr/local/lib/python3.10/dist-packages (from transformers) (3.12.0)\n",
      "Requirement already satisfied: huggingface-hub<1.0,>=0.14.1 in /usr/local/lib/python3.10/dist-packages (from transformers) (0.15.1)\n",
      "Requirement already satisfied: numpy>=1.17 in /usr/local/lib/python3.10/dist-packages (from transformers) (1.22.4)\n",
      "Requirement already satisfied: packaging>=20.0 in /usr/local/lib/python3.10/dist-packages (from transformers) (23.1)\n",
      "Requirement already satisfied: pyyaml>=5.1 in /usr/local/lib/python3.10/dist-packages (from transformers) (6.0)\n",
      "Requirement already satisfied: regex!=2019.12.17 in /usr/local/lib/python3.10/dist-packages (from transformers) (2022.10.31)\n",
      "Requirement already satisfied: requests in /usr/local/lib/python3.10/dist-packages (from transformers) (2.27.1)\n",
      "Requirement already satisfied: tokenizers!=0.11.3,<0.14,>=0.11.1 in /usr/local/lib/python3.10/dist-packages (from transformers) (0.13.3)\n",
      "Requirement already satisfied: safetensors>=0.3.1 in /usr/local/lib/python3.10/dist-packages (from transformers) (0.3.1)\n",
      "Requirement already satisfied: tqdm>=4.27 in /usr/local/lib/python3.10/dist-packages (from transformers) (4.65.0)\n",
      "Requirement already satisfied: fsspec in /usr/local/lib/python3.10/dist-packages (from huggingface-hub<1.0,>=0.14.1->transformers) (2023.4.0)\n",
      "Requirement already satisfied: typing-extensions>=3.7.4.3 in /usr/local/lib/python3.10/dist-packages (from huggingface-hub<1.0,>=0.14.1->transformers) (4.5.0)\n",
      "Requirement already satisfied: urllib3<1.27,>=1.21.1 in /usr/local/lib/python3.10/dist-packages (from requests->transformers) (1.26.15)\n",
      "Requirement already satisfied: certifi>=2017.4.17 in /usr/local/lib/python3.10/dist-packages (from requests->transformers) (2022.12.7)\n",
      "Requirement already satisfied: charset-normalizer~=2.0.0 in /usr/local/lib/python3.10/dist-packages (from requests->transformers) (2.0.12)\n",
      "Requirement already satisfied: idna<4,>=2.5 in /usr/local/lib/python3.10/dist-packages (from requests->transformers) (3.4)\n"
     ]
    },
    {
     "name": "stderr",
     "output_type": "stream",
     "text": [
      "[nltk_data] Downloading package punkt to /root/nltk_data...\n",
      "[nltk_data]   Package punkt is already up-to-date!\n",
      "[nltk_data] Downloading package stopwords to /root/nltk_data...\n",
      "[nltk_data]   Package stopwords is already up-to-date!\n"
     ]
    },
    {
     "data": {
      "text/plain": [
       "True"
      ]
     },
     "execution_count": 2,
     "metadata": {},
     "output_type": "execute_result"
    }
   ],
   "source": [
    "!pip install transformers\n",
    "import pandas as pd\n",
    "import numpy as np\n",
    "import re\n",
    "import torch\n",
    "import torch.nn as nn\n",
    "import nltk\n",
    "from nltk.corpus import stopwords\n",
    "from nltk.tokenize import word_tokenize\n",
    "import matplotlib.pyplot as plt\n",
    "from sklearn.model_selection import train_test_split\n",
    "from sklearn.preprocessing import LabelEncoder\n",
    "from transformers import BertTokenizer, BertForSequenceClassification, AdamW\n",
    "from sklearn.feature_extraction.text import TfidfVectorizer\n",
    "from sklearn.neighbors import KNeighborsClassifier\n",
    "from sklearn.svm import SVC\n",
    "from sklearn.multioutput import MultiOutputClassifier\n",
    "from sklearn.preprocessing import MultiLabelBinarizer\n",
    "from sklearn.metrics import classification_report\n",
    "from sklearn.ensemble import RandomForestClassifier\n",
    "from sklearn.tree import DecisionTreeClassifier\n",
    "from sklearn.naive_bayes import MultinomialNB\n",
    "from sklearn.multioutput import MultiOutputClassifier\n",
    "from sklearn.metrics import accuracy_score, f1_score\n",
    "from sklearn.preprocessing import MultiLabelBinarizer\n",
    "from sklearn.metrics import precision_score\n",
    "from nltk.tokenize import word_tokenize\n",
    "from tensorflow.keras.preprocessing.text import Tokenizer\n",
    "from tensorflow.keras.preprocessing.sequence import pad_sequences\n",
    "from tensorflow.keras.models import Sequential\n",
    "from tensorflow.keras.layers import Embedding, GRU, Dense\n",
    "import pandas as pd\n",
    "import numpy as np\n",
    "import matplotlib.pyplot as plt\n",
    "import seaborn as sns\n",
    "nltk.download('punkt')\n",
    "nltk.download('stopwords')"
   ]
  },
  {
   "cell_type": "code",
   "execution_count": null,
   "metadata": {
    "colab": {
     "base_uri": "https://localhost:8080/"
    },
    "id": "ZTDCn0NjL1yR",
    "outputId": "0e935755-f80c-4f74-b816-a3a73204827e"
   },
   "outputs": [
    {
     "name": "stdout",
     "output_type": "stream",
     "text": [
      "Mounted at /content/drive\n"
     ]
    }
   ],
   "source": [
    "from google.colab import drive\n",
    "drive.mount('/content/drive')"
   ]
  },
  {
   "cell_type": "markdown",
   "metadata": {
    "id": "Z23DlMKURQTd"
   },
   "source": [
    "# **Đọc dữ liệu**"
   ]
  },
  {
   "cell_type": "code",
   "execution_count": null,
   "metadata": {
    "id": "wHK3iCycRVWt"
   },
   "outputs": [],
   "source": [
    "#Gán tên cột cho bộ dữ liệu\n",
    "column_names = ['citations', 'task1', 'task2','purpose','name_of_paper','link_to_paper']\n",
    "\n",
    "#Đọc dữ liệu\n",
    "data = pd.read_csv('/content/drive/MyDrive/DS204/Dataset/Citations_dataset.csv',header=None,names=column_names)"
   ]
  },
  {
   "cell_type": "code",
   "execution_count": null,
   "metadata": {
    "id": "mszbDn6aSUqW"
   },
   "outputs": [],
   "source": [
    "X = data[['citations']]"
   ]
  },
  {
   "cell_type": "code",
   "execution_count": null,
   "metadata": {
    "colab": {
     "base_uri": "https://localhost:8080/",
     "height": 423
    },
    "id": "S-PVDcLMSXCr",
    "outputId": "581a00be-99fa-417c-8120-677ba5c087de"
   },
   "outputs": [
    {
     "data": {
      "text/html": [
       "\n",
       "  <div id=\"df-1e6a98f7-0fbc-4bb5-99b6-2aabd5841ec7\">\n",
       "    <div class=\"colab-df-container\">\n",
       "      <div>\n",
       "<style scoped>\n",
       "    .dataframe tbody tr th:only-of-type {\n",
       "        vertical-align: middle;\n",
       "    }\n",
       "\n",
       "    .dataframe tbody tr th {\n",
       "        vertical-align: top;\n",
       "    }\n",
       "\n",
       "    .dataframe thead th {\n",
       "        text-align: right;\n",
       "    }\n",
       "</style>\n",
       "<table border=\"1\" class=\"dataframe\">\n",
       "  <thead>\n",
       "    <tr style=\"text-align: right;\">\n",
       "      <th></th>\n",
       "      <th>citations</th>\n",
       "    </tr>\n",
       "  </thead>\n",
       "  <tbody>\n",
       "    <tr>\n",
       "      <th>0</th>\n",
       "      <td>In order to test this hypothesis , our source ...</td>\n",
       "    </tr>\n",
       "    <tr>\n",
       "      <th>1</th>\n",
       "      <td>Large scale annotated corpora , e . g ., the P...</td>\n",
       "    </tr>\n",
       "    <tr>\n",
       "      <th>2</th>\n",
       "      <td>The corpora are detailed in Table 1 . Links to...</td>\n",
       "    </tr>\n",
       "    <tr>\n",
       "      <th>3</th>\n",
       "      <td>Training of a classifier (’ language annotator...</td>\n",
       "    </tr>\n",
       "    <tr>\n",
       "      <th>4</th>\n",
       "      <td>http :// www . hf . uio . no / tekstlab / for ...</td>\n",
       "    </tr>\n",
       "    <tr>\n",
       "      <th>...</th>\n",
       "      <td>...</td>\n",
       "    </tr>\n",
       "    <tr>\n",
       "      <th>2493</th>\n",
       "      <td>A transition-based parser for Chinese.</td>\n",
       "    </tr>\n",
       "    <tr>\n",
       "      <th>2494</th>\n",
       "      <td>One billion word benchmark for measuring progr...</td>\n",
       "    </tr>\n",
       "    <tr>\n",
       "      <th>2495</th>\n",
       "      <td>Distributed representations of sentences and d...</td>\n",
       "    </tr>\n",
       "    <tr>\n",
       "      <th>2496</th>\n",
       "      <td>A fast and accurate dependency parser using ne...</td>\n",
       "    </tr>\n",
       "    <tr>\n",
       "      <th>2497</th>\n",
       "      <td>Named entity recognition with bidirectional LS...</td>\n",
       "    </tr>\n",
       "  </tbody>\n",
       "</table>\n",
       "<p>2498 rows × 1 columns</p>\n",
       "</div>\n",
       "      <button class=\"colab-df-convert\" onclick=\"convertToInteractive('df-1e6a98f7-0fbc-4bb5-99b6-2aabd5841ec7')\"\n",
       "              title=\"Convert this dataframe to an interactive table.\"\n",
       "              style=\"display:none;\">\n",
       "        \n",
       "  <svg xmlns=\"http://www.w3.org/2000/svg\" height=\"24px\"viewBox=\"0 0 24 24\"\n",
       "       width=\"24px\">\n",
       "    <path d=\"M0 0h24v24H0V0z\" fill=\"none\"/>\n",
       "    <path d=\"M18.56 5.44l.94 2.06.94-2.06 2.06-.94-2.06-.94-.94-2.06-.94 2.06-2.06.94zm-11 1L8.5 8.5l.94-2.06 2.06-.94-2.06-.94L8.5 2.5l-.94 2.06-2.06.94zm10 10l.94 2.06.94-2.06 2.06-.94-2.06-.94-.94-2.06-.94 2.06-2.06.94z\"/><path d=\"M17.41 7.96l-1.37-1.37c-.4-.4-.92-.59-1.43-.59-.52 0-1.04.2-1.43.59L10.3 9.45l-7.72 7.72c-.78.78-.78 2.05 0 2.83L4 21.41c.39.39.9.59 1.41.59.51 0 1.02-.2 1.41-.59l7.78-7.78 2.81-2.81c.8-.78.8-2.07 0-2.86zM5.41 20L4 18.59l7.72-7.72 1.47 1.35L5.41 20z\"/>\n",
       "  </svg>\n",
       "      </button>\n",
       "      \n",
       "  <style>\n",
       "    .colab-df-container {\n",
       "      display:flex;\n",
       "      flex-wrap:wrap;\n",
       "      gap: 12px;\n",
       "    }\n",
       "\n",
       "    .colab-df-convert {\n",
       "      background-color: #E8F0FE;\n",
       "      border: none;\n",
       "      border-radius: 50%;\n",
       "      cursor: pointer;\n",
       "      display: none;\n",
       "      fill: #1967D2;\n",
       "      height: 32px;\n",
       "      padding: 0 0 0 0;\n",
       "      width: 32px;\n",
       "    }\n",
       "\n",
       "    .colab-df-convert:hover {\n",
       "      background-color: #E2EBFA;\n",
       "      box-shadow: 0px 1px 2px rgba(60, 64, 67, 0.3), 0px 1px 3px 1px rgba(60, 64, 67, 0.15);\n",
       "      fill: #174EA6;\n",
       "    }\n",
       "\n",
       "    [theme=dark] .colab-df-convert {\n",
       "      background-color: #3B4455;\n",
       "      fill: #D2E3FC;\n",
       "    }\n",
       "\n",
       "    [theme=dark] .colab-df-convert:hover {\n",
       "      background-color: #434B5C;\n",
       "      box-shadow: 0px 1px 3px 1px rgba(0, 0, 0, 0.15);\n",
       "      filter: drop-shadow(0px 1px 2px rgba(0, 0, 0, 0.3));\n",
       "      fill: #FFFFFF;\n",
       "    }\n",
       "  </style>\n",
       "\n",
       "      <script>\n",
       "        const buttonEl =\n",
       "          document.querySelector('#df-1e6a98f7-0fbc-4bb5-99b6-2aabd5841ec7 button.colab-df-convert');\n",
       "        buttonEl.style.display =\n",
       "          google.colab.kernel.accessAllowed ? 'block' : 'none';\n",
       "\n",
       "        async function convertToInteractive(key) {\n",
       "          const element = document.querySelector('#df-1e6a98f7-0fbc-4bb5-99b6-2aabd5841ec7');\n",
       "          const dataTable =\n",
       "            await google.colab.kernel.invokeFunction('convertToInteractive',\n",
       "                                                     [key], {});\n",
       "          if (!dataTable) return;\n",
       "\n",
       "          const docLinkHtml = 'Like what you see? Visit the ' +\n",
       "            '<a target=\"_blank\" href=https://colab.research.google.com/notebooks/data_table.ipynb>data table notebook</a>'\n",
       "            + ' to learn more about interactive tables.';\n",
       "          element.innerHTML = '';\n",
       "          dataTable['output_type'] = 'display_data';\n",
       "          await google.colab.output.renderOutput(dataTable, element);\n",
       "          const docLink = document.createElement('div');\n",
       "          docLink.innerHTML = docLinkHtml;\n",
       "          element.appendChild(docLink);\n",
       "        }\n",
       "      </script>\n",
       "    </div>\n",
       "  </div>\n",
       "  "
      ],
      "text/plain": [
       "                                              citations\n",
       "0     In order to test this hypothesis , our source ...\n",
       "1     Large scale annotated corpora , e . g ., the P...\n",
       "2     The corpora are detailed in Table 1 . Links to...\n",
       "3     Training of a classifier (’ language annotator...\n",
       "4     http :// www . hf . uio . no / tekstlab / for ...\n",
       "...                                                 ...\n",
       "2493             A transition-based parser for Chinese.\n",
       "2494  One billion word benchmark for measuring progr...\n",
       "2495  Distributed representations of sentences and d...\n",
       "2496  A fast and accurate dependency parser using ne...\n",
       "2497  Named entity recognition with bidirectional LS...\n",
       "\n",
       "[2498 rows x 1 columns]"
      ]
     },
     "execution_count": 6,
     "metadata": {},
     "output_type": "execute_result"
    }
   ],
   "source": [
    "X"
   ]
  },
  {
   "cell_type": "code",
   "execution_count": null,
   "metadata": {
    "id": "ki10sGKwSY8P"
   },
   "outputs": [],
   "source": [
    "y = data[[\"task1\",\"task2\",\"purpose\"]]"
   ]
  },
  {
   "cell_type": "code",
   "execution_count": null,
   "metadata": {
    "colab": {
     "base_uri": "https://localhost:8080/",
     "height": 423
    },
    "id": "_BMD74LkUu9C",
    "outputId": "17f77890-2e8e-4da1-de9f-471c8b8bb3b2"
   },
   "outputs": [
    {
     "data": {
      "text/html": [
       "\n",
       "  <div id=\"df-5d1ec3b3-bfc0-4f13-b6b4-d7e6748b17d5\">\n",
       "    <div class=\"colab-df-container\">\n",
       "      <div>\n",
       "<style scoped>\n",
       "    .dataframe tbody tr th:only-of-type {\n",
       "        vertical-align: middle;\n",
       "    }\n",
       "\n",
       "    .dataframe tbody tr th {\n",
       "        vertical-align: top;\n",
       "    }\n",
       "\n",
       "    .dataframe thead th {\n",
       "        text-align: right;\n",
       "    }\n",
       "</style>\n",
       "<table border=\"1\" class=\"dataframe\">\n",
       "  <thead>\n",
       "    <tr style=\"text-align: right;\">\n",
       "      <th></th>\n",
       "      <th>task1</th>\n",
       "      <th>task2</th>\n",
       "      <th>purpose</th>\n",
       "    </tr>\n",
       "  </thead>\n",
       "  <tbody>\n",
       "    <tr>\n",
       "      <th>0</th>\n",
       "      <td>Substance</td>\n",
       "      <td>Data</td>\n",
       "      <td>Present</td>\n",
       "    </tr>\n",
       "    <tr>\n",
       "      <th>1</th>\n",
       "      <td>Substance</td>\n",
       "      <td>Data</td>\n",
       "      <td>Present</td>\n",
       "    </tr>\n",
       "    <tr>\n",
       "      <th>2</th>\n",
       "      <td>Substance</td>\n",
       "      <td>Data</td>\n",
       "      <td>Present</td>\n",
       "    </tr>\n",
       "    <tr>\n",
       "      <th>3</th>\n",
       "      <td>Substance</td>\n",
       "      <td>Data</td>\n",
       "      <td>Present</td>\n",
       "    </tr>\n",
       "    <tr>\n",
       "      <th>4</th>\n",
       "      <td>Substance</td>\n",
       "      <td>Data</td>\n",
       "      <td>Present</td>\n",
       "    </tr>\n",
       "    <tr>\n",
       "      <th>...</th>\n",
       "      <td>...</td>\n",
       "      <td>...</td>\n",
       "      <td>...</td>\n",
       "    </tr>\n",
       "    <tr>\n",
       "      <th>2493</th>\n",
       "      <td>Addition</td>\n",
       "      <td>Methodology</td>\n",
       "      <td>Present</td>\n",
       "    </tr>\n",
       "    <tr>\n",
       "      <th>2494</th>\n",
       "      <td>Addition</td>\n",
       "      <td>Methodology</td>\n",
       "      <td>Present</td>\n",
       "    </tr>\n",
       "    <tr>\n",
       "      <th>2495</th>\n",
       "      <td>Addition</td>\n",
       "      <td>Methodology</td>\n",
       "      <td>Present</td>\n",
       "    </tr>\n",
       "    <tr>\n",
       "      <th>2496</th>\n",
       "      <td>Addition</td>\n",
       "      <td>Methodology</td>\n",
       "      <td>Present</td>\n",
       "    </tr>\n",
       "    <tr>\n",
       "      <th>2497</th>\n",
       "      <td>Addition</td>\n",
       "      <td>Methodology</td>\n",
       "      <td>Present</td>\n",
       "    </tr>\n",
       "  </tbody>\n",
       "</table>\n",
       "<p>2498 rows × 3 columns</p>\n",
       "</div>\n",
       "      <button class=\"colab-df-convert\" onclick=\"convertToInteractive('df-5d1ec3b3-bfc0-4f13-b6b4-d7e6748b17d5')\"\n",
       "              title=\"Convert this dataframe to an interactive table.\"\n",
       "              style=\"display:none;\">\n",
       "        \n",
       "  <svg xmlns=\"http://www.w3.org/2000/svg\" height=\"24px\"viewBox=\"0 0 24 24\"\n",
       "       width=\"24px\">\n",
       "    <path d=\"M0 0h24v24H0V0z\" fill=\"none\"/>\n",
       "    <path d=\"M18.56 5.44l.94 2.06.94-2.06 2.06-.94-2.06-.94-.94-2.06-.94 2.06-2.06.94zm-11 1L8.5 8.5l.94-2.06 2.06-.94-2.06-.94L8.5 2.5l-.94 2.06-2.06.94zm10 10l.94 2.06.94-2.06 2.06-.94-2.06-.94-.94-2.06-.94 2.06-2.06.94z\"/><path d=\"M17.41 7.96l-1.37-1.37c-.4-.4-.92-.59-1.43-.59-.52 0-1.04.2-1.43.59L10.3 9.45l-7.72 7.72c-.78.78-.78 2.05 0 2.83L4 21.41c.39.39.9.59 1.41.59.51 0 1.02-.2 1.41-.59l7.78-7.78 2.81-2.81c.8-.78.8-2.07 0-2.86zM5.41 20L4 18.59l7.72-7.72 1.47 1.35L5.41 20z\"/>\n",
       "  </svg>\n",
       "      </button>\n",
       "      \n",
       "  <style>\n",
       "    .colab-df-container {\n",
       "      display:flex;\n",
       "      flex-wrap:wrap;\n",
       "      gap: 12px;\n",
       "    }\n",
       "\n",
       "    .colab-df-convert {\n",
       "      background-color: #E8F0FE;\n",
       "      border: none;\n",
       "      border-radius: 50%;\n",
       "      cursor: pointer;\n",
       "      display: none;\n",
       "      fill: #1967D2;\n",
       "      height: 32px;\n",
       "      padding: 0 0 0 0;\n",
       "      width: 32px;\n",
       "    }\n",
       "\n",
       "    .colab-df-convert:hover {\n",
       "      background-color: #E2EBFA;\n",
       "      box-shadow: 0px 1px 2px rgba(60, 64, 67, 0.3), 0px 1px 3px 1px rgba(60, 64, 67, 0.15);\n",
       "      fill: #174EA6;\n",
       "    }\n",
       "\n",
       "    [theme=dark] .colab-df-convert {\n",
       "      background-color: #3B4455;\n",
       "      fill: #D2E3FC;\n",
       "    }\n",
       "\n",
       "    [theme=dark] .colab-df-convert:hover {\n",
       "      background-color: #434B5C;\n",
       "      box-shadow: 0px 1px 3px 1px rgba(0, 0, 0, 0.15);\n",
       "      filter: drop-shadow(0px 1px 2px rgba(0, 0, 0, 0.3));\n",
       "      fill: #FFFFFF;\n",
       "    }\n",
       "  </style>\n",
       "\n",
       "      <script>\n",
       "        const buttonEl =\n",
       "          document.querySelector('#df-5d1ec3b3-bfc0-4f13-b6b4-d7e6748b17d5 button.colab-df-convert');\n",
       "        buttonEl.style.display =\n",
       "          google.colab.kernel.accessAllowed ? 'block' : 'none';\n",
       "\n",
       "        async function convertToInteractive(key) {\n",
       "          const element = document.querySelector('#df-5d1ec3b3-bfc0-4f13-b6b4-d7e6748b17d5');\n",
       "          const dataTable =\n",
       "            await google.colab.kernel.invokeFunction('convertToInteractive',\n",
       "                                                     [key], {});\n",
       "          if (!dataTable) return;\n",
       "\n",
       "          const docLinkHtml = 'Like what you see? Visit the ' +\n",
       "            '<a target=\"_blank\" href=https://colab.research.google.com/notebooks/data_table.ipynb>data table notebook</a>'\n",
       "            + ' to learn more about interactive tables.';\n",
       "          element.innerHTML = '';\n",
       "          dataTable['output_type'] = 'display_data';\n",
       "          await google.colab.output.renderOutput(dataTable, element);\n",
       "          const docLink = document.createElement('div');\n",
       "          docLink.innerHTML = docLinkHtml;\n",
       "          element.appendChild(docLink);\n",
       "        }\n",
       "      </script>\n",
       "    </div>\n",
       "  </div>\n",
       "  "
      ],
      "text/plain": [
       "          task1        task2  purpose\n",
       "0     Substance         Data  Present\n",
       "1     Substance         Data  Present\n",
       "2     Substance         Data  Present\n",
       "3     Substance         Data  Present\n",
       "4     Substance         Data  Present\n",
       "...         ...          ...      ...\n",
       "2493   Addition  Methodology  Present\n",
       "2494   Addition  Methodology  Present\n",
       "2495   Addition  Methodology  Present\n",
       "2496   Addition  Methodology  Present\n",
       "2497   Addition  Methodology  Present\n",
       "\n",
       "[2498 rows x 3 columns]"
      ]
     },
     "execution_count": 8,
     "metadata": {},
     "output_type": "execute_result"
    }
   ],
   "source": [
    "y"
   ]
  },
  {
   "cell_type": "markdown",
   "metadata": {
    "id": "VNGAQPq0SaO4"
   },
   "source": [
    "# **Tiền xử lý**"
   ]
  },
  {
   "cell_type": "code",
   "execution_count": null,
   "metadata": {
    "colab": {
     "base_uri": "https://localhost:8080/"
    },
    "id": "ynu9W0whSdYV",
    "outputId": "c9ad734e-63b7-4771-b154-e10e18a858a5"
   },
   "outputs": [
    {
     "data": {
      "text/html": [
       "\n",
       "  <div id=\"df-1bdacc93-1bd4-47bd-b6a9-b56cf0a70316\">\n",
       "    <div class=\"colab-df-container\">\n",
       "      <div>\n",
       "<style scoped>\n",
       "    .dataframe tbody tr th:only-of-type {\n",
       "        vertical-align: middle;\n",
       "    }\n",
       "\n",
       "    .dataframe tbody tr th {\n",
       "        vertical-align: top;\n",
       "    }\n",
       "\n",
       "    .dataframe thead th {\n",
       "        text-align: right;\n",
       "    }\n",
       "</style>\n",
       "<table border=\"1\" class=\"dataframe\">\n",
       "  <thead>\n",
       "    <tr style=\"text-align: right;\">\n",
       "      <th></th>\n",
       "      <th>citations</th>\n",
       "    </tr>\n",
       "  </thead>\n",
       "  <tbody>\n",
       "    <tr>\n",
       "      <th>0</th>\n",
       "      <td>In order to test this hypothesis , our source ...</td>\n",
       "    </tr>\n",
       "    <tr>\n",
       "      <th>1</th>\n",
       "      <td>Large scale annotated corpora , e . g ., the P...</td>\n",
       "    </tr>\n",
       "    <tr>\n",
       "      <th>2</th>\n",
       "      <td>The corpora are detailed in Table 1 . Links to...</td>\n",
       "    </tr>\n",
       "    <tr>\n",
       "      <th>3</th>\n",
       "      <td>Training of a classifier (’ language annotator...</td>\n",
       "    </tr>\n",
       "    <tr>\n",
       "      <th>4</th>\n",
       "      <td>http :// www . hf . uio . no / tekstlab / for ...</td>\n",
       "    </tr>\n",
       "    <tr>\n",
       "      <th>...</th>\n",
       "      <td>...</td>\n",
       "    </tr>\n",
       "    <tr>\n",
       "      <th>2493</th>\n",
       "      <td>A transition-based parser for Chinese.</td>\n",
       "    </tr>\n",
       "    <tr>\n",
       "      <th>2494</th>\n",
       "      <td>One billion word benchmark for measuring progr...</td>\n",
       "    </tr>\n",
       "    <tr>\n",
       "      <th>2495</th>\n",
       "      <td>Distributed representations of sentences and d...</td>\n",
       "    </tr>\n",
       "    <tr>\n",
       "      <th>2496</th>\n",
       "      <td>A fast and accurate dependency parser using ne...</td>\n",
       "    </tr>\n",
       "    <tr>\n",
       "      <th>2497</th>\n",
       "      <td>Named entity recognition with bidirectional LS...</td>\n",
       "    </tr>\n",
       "  </tbody>\n",
       "</table>\n",
       "<p>2498 rows × 1 columns</p>\n",
       "</div>\n",
       "      <button class=\"colab-df-convert\" onclick=\"convertToInteractive('df-1bdacc93-1bd4-47bd-b6a9-b56cf0a70316')\"\n",
       "              title=\"Convert this dataframe to an interactive table.\"\n",
       "              style=\"display:none;\">\n",
       "        \n",
       "  <svg xmlns=\"http://www.w3.org/2000/svg\" height=\"24px\"viewBox=\"0 0 24 24\"\n",
       "       width=\"24px\">\n",
       "    <path d=\"M0 0h24v24H0V0z\" fill=\"none\"/>\n",
       "    <path d=\"M18.56 5.44l.94 2.06.94-2.06 2.06-.94-2.06-.94-.94-2.06-.94 2.06-2.06.94zm-11 1L8.5 8.5l.94-2.06 2.06-.94-2.06-.94L8.5 2.5l-.94 2.06-2.06.94zm10 10l.94 2.06.94-2.06 2.06-.94-2.06-.94-.94-2.06-.94 2.06-2.06.94z\"/><path d=\"M17.41 7.96l-1.37-1.37c-.4-.4-.92-.59-1.43-.59-.52 0-1.04.2-1.43.59L10.3 9.45l-7.72 7.72c-.78.78-.78 2.05 0 2.83L4 21.41c.39.39.9.59 1.41.59.51 0 1.02-.2 1.41-.59l7.78-7.78 2.81-2.81c.8-.78.8-2.07 0-2.86zM5.41 20L4 18.59l7.72-7.72 1.47 1.35L5.41 20z\"/>\n",
       "  </svg>\n",
       "      </button>\n",
       "      \n",
       "  <style>\n",
       "    .colab-df-container {\n",
       "      display:flex;\n",
       "      flex-wrap:wrap;\n",
       "      gap: 12px;\n",
       "    }\n",
       "\n",
       "    .colab-df-convert {\n",
       "      background-color: #E8F0FE;\n",
       "      border: none;\n",
       "      border-radius: 50%;\n",
       "      cursor: pointer;\n",
       "      display: none;\n",
       "      fill: #1967D2;\n",
       "      height: 32px;\n",
       "      padding: 0 0 0 0;\n",
       "      width: 32px;\n",
       "    }\n",
       "\n",
       "    .colab-df-convert:hover {\n",
       "      background-color: #E2EBFA;\n",
       "      box-shadow: 0px 1px 2px rgba(60, 64, 67, 0.3), 0px 1px 3px 1px rgba(60, 64, 67, 0.15);\n",
       "      fill: #174EA6;\n",
       "    }\n",
       "\n",
       "    [theme=dark] .colab-df-convert {\n",
       "      background-color: #3B4455;\n",
       "      fill: #D2E3FC;\n",
       "    }\n",
       "\n",
       "    [theme=dark] .colab-df-convert:hover {\n",
       "      background-color: #434B5C;\n",
       "      box-shadow: 0px 1px 3px 1px rgba(0, 0, 0, 0.15);\n",
       "      filter: drop-shadow(0px 1px 2px rgba(0, 0, 0, 0.3));\n",
       "      fill: #FFFFFF;\n",
       "    }\n",
       "  </style>\n",
       "\n",
       "      <script>\n",
       "        const buttonEl =\n",
       "          document.querySelector('#df-1bdacc93-1bd4-47bd-b6a9-b56cf0a70316 button.colab-df-convert');\n",
       "        buttonEl.style.display =\n",
       "          google.colab.kernel.accessAllowed ? 'block' : 'none';\n",
       "\n",
       "        async function convertToInteractive(key) {\n",
       "          const element = document.querySelector('#df-1bdacc93-1bd4-47bd-b6a9-b56cf0a70316');\n",
       "          const dataTable =\n",
       "            await google.colab.kernel.invokeFunction('convertToInteractive',\n",
       "                                                     [key], {});\n",
       "          if (!dataTable) return;\n",
       "\n",
       "          const docLinkHtml = 'Like what you see? Visit the ' +\n",
       "            '<a target=\"_blank\" href=https://colab.research.google.com/notebooks/data_table.ipynb>data table notebook</a>'\n",
       "            + ' to learn more about interactive tables.';\n",
       "          element.innerHTML = '';\n",
       "          dataTable['output_type'] = 'display_data';\n",
       "          await google.colab.output.renderOutput(dataTable, element);\n",
       "          const docLink = document.createElement('div');\n",
       "          docLink.innerHTML = docLinkHtml;\n",
       "          element.appendChild(docLink);\n",
       "        }\n",
       "      </script>\n",
       "    </div>\n",
       "  </div>\n",
       "  "
      ],
      "text/plain": [
       "                                              citations\n",
       "0     In order to test this hypothesis , our source ...\n",
       "1     Large scale annotated corpora , e . g ., the P...\n",
       "2     The corpora are detailed in Table 1 . Links to...\n",
       "3     Training of a classifier (’ language annotator...\n",
       "4     http :// www . hf . uio . no / tekstlab / for ...\n",
       "...                                                 ...\n",
       "2493             A transition-based parser for Chinese.\n",
       "2494  One billion word benchmark for measuring progr...\n",
       "2495  Distributed representations of sentences and d...\n",
       "2496  A fast and accurate dependency parser using ne...\n",
       "2497  Named entity recognition with bidirectional LS...\n",
       "\n",
       "[2498 rows x 1 columns]"
      ]
     },
     "execution_count": 9,
     "metadata": {},
     "output_type": "execute_result"
    }
   ],
   "source": [
    "X"
   ]
  },
  {
   "cell_type": "code",
   "execution_count": null,
   "metadata": {
    "colab": {
     "base_uri": "https://localhost:8080/"
    },
    "id": "ILI0GVF0SgKw",
    "outputId": "5f0a70da-20fd-4438-a49c-c98f2a811ba0"
   },
   "outputs": [
    {
     "data": {
      "text/plain": [
       "Approach     914\n",
       "Addition     862\n",
       "Substance    722\n",
       "Name: task1, dtype: int64"
      ]
     },
     "execution_count": 10,
     "metadata": {},
     "output_type": "execute_result"
    }
   ],
   "source": [
    "#number of \"task1\" labels\n",
    "y['task1'].value_counts()"
   ]
  },
  {
   "cell_type": "code",
   "execution_count": null,
   "metadata": {
    "colab": {
     "base_uri": "https://localhost:8080/"
    },
    "id": "a6MXp9YRSiiL",
    "outputId": "45865a10-a2a0-4abc-8963-1713e8481723"
   },
   "outputs": [
    {
     "data": {
      "text/plain": [
       "Instrument     438\n",
       "File           370\n",
       "Site           369\n",
       "Data           364\n",
       "Script         356\n",
       "Methodology    301\n",
       "Publication    300\n",
       "Name: task2, dtype: int64"
      ]
     },
     "execution_count": 11,
     "metadata": {},
     "output_type": "execute_result"
    }
   ],
   "source": [
    "#number of \"task2\" labels\n",
    "y['task2'].value_counts()"
   ]
  },
  {
   "cell_type": "code",
   "execution_count": null,
   "metadata": {
    "colab": {
     "base_uri": "https://localhost:8080/"
    },
    "id": "mHwKra3oSlKQ",
    "outputId": "7e7a7d67-93e0-473c-d69e-b950b9dd5436"
   },
   "outputs": [
    {
     "data": {
      "text/plain": [
       "Utilize     896\n",
       "Present     831\n",
       "Generate    771\n",
       "Name: purpose, dtype: int64"
      ]
     },
     "execution_count": 12,
     "metadata": {},
     "output_type": "execute_result"
    }
   ],
   "source": [
    "#number of \"purpose\" labels\n",
    "y['purpose'].value_counts()"
   ]
  },
  {
   "cell_type": "code",
   "execution_count": null,
   "metadata": {
    "colab": {
     "base_uri": "https://localhost:8080/"
    },
    "id": "hgBezWToSm_D",
    "outputId": "a36d834a-9427-49ff-9756-1dc626f99095"
   },
   "outputs": [
    {
     "data": {
      "text/plain": [
       "citations    False\n",
       "dtype: bool"
      ]
     },
     "execution_count": 13,
     "metadata": {},
     "output_type": "execute_result"
    }
   ],
   "source": [
    "#number of null values\n",
    "X.isnull().any()"
   ]
  },
  {
   "cell_type": "code",
   "execution_count": null,
   "metadata": {
    "colab": {
     "base_uri": "https://localhost:8080/"
    },
    "id": "v4raT6rWSpDD",
    "outputId": "44802d83-23b7-4fe7-fe1b-8826469002fe"
   },
   "outputs": [
    {
     "data": {
      "text/plain": [
       "([<matplotlib.patches.Wedge at 0x7efbc090a6b0>,\n",
       "  <matplotlib.patches.Wedge at 0x7efbc090a5c0>,\n",
       "  <matplotlib.patches.Wedge at 0x7efbc090b3d0>],\n",
       " [Text(0.5144905053717638, 0.9722651489600496, 'Addition'),\n",
       "  Text(-1.0829936503179232, -0.19267784867768334, 'Approach'),\n",
       "  Text(0.6768399161021714, -0.8671145990991074, 'Substance')],\n",
       " [Text(0.2806311847482348, 0.5303264448872997, '34.51%'),\n",
       "  Text(-0.5907238092643217, -0.10509700836964546, '36.59%'),\n",
       "  Text(0.3691854087830026, -0.47297159950860396, '28.90%')])"
      ]
     },
     "execution_count": 14,
     "metadata": {},
     "output_type": "execute_result"
    },
    {
     "data": {
      "image/png": "[encoded data removed]",
      "text/plain": [
       "<Figure size 640x480 with 1 Axes>"
      ]
     },
     "metadata": {},
     "output_type": "display_data"
    }
   ],
   "source": [
    "#number of \"task1\" labels\n",
    "import matplotlib.pyplot as plt\n",
    "label, number_count = np.unique(y['task1'],return_counts = True)\n",
    "plt.pie(number_count,labels=label,autopct=\"%1.2f%%\")\n"
   ]
  },
  {
   "cell_type": "code",
   "execution_count": null,
   "metadata": {
    "colab": {
     "base_uri": "https://localhost:8080/"
    },
    "id": "3i46Vo7aSqrX",
    "outputId": "ec361d3c-6f8f-473d-8523-b8ac91cd5514"
   },
   "outputs": [
    {
     "data": {
      "text/plain": [
       "([<matplotlib.patches.Wedge at 0x7efbbfff27d0>,\n",
       "  <matplotlib.patches.Wedge at 0x7efbbfff26e0>,\n",
       "  <matplotlib.patches.Wedge at 0x7efbbfff01f0>,\n",
       "  <matplotlib.patches.Wedge at 0x7efbbfff36d0>,\n",
       "  <matplotlib.patches.Wedge at 0x7efbbfff3d60>,\n",
       "  <matplotlib.patches.Wedge at 0x7efbbde30430>,\n",
       "  <matplotlib.patches.Wedge at 0x7efbbde30ac0>],\n",
       " [Text(0.9867384031901362, 0.4861556578605051, 'Data'),\n",
       "  Text(0.2076411785395269, 1.0802245789532454, 'File'),\n",
       "  Text(-0.8089510300831921, 0.7453846194598749, 'Instrument'),\n",
       "  Text(-1.0812554540245989, -0.2022044587590952, 'Methodology'),\n",
       "  Text(-0.6481296400846664, -0.888778920566707, 'Publication'),\n",
       "  Text(0.21307271946872777, -1.0791663524305235, 'Script'),\n",
       "  Text(0.9836618673732427, -0.4923508207323162, 'Site')],\n",
       " [Text(0.5382209471946197, 0.2651758133784573, '14.57%'),\n",
       "  Text(0.11325882465792375, 0.5892134067017701, '14.81%'),\n",
       "  Text(-0.4412460164090139, 0.4065734287962953, '17.53%'),\n",
       "  Text(-0.5897757021952357, -0.11029334114132465, '12.05%'),\n",
       "  Text(-0.35352525822799985, -0.4847885021272947, '12.01%'),\n",
       "  Text(0.11622148334657877, -0.588636192234831, '14.25%'),\n",
       "  Text(0.5365428367490414, -0.2685549931267179, '14.77%')])"
      ]
     },
     "execution_count": 15,
     "metadata": {},
     "output_type": "execute_result"
    },
    {
     "data": {
      "image/png": "[encoded data removed]",
      "text/plain": [
       "<Figure size 640x480 with 1 Axes>"
      ]
     },
     "metadata": {},
     "output_type": "display_data"
    }
   ],
   "source": [
    "#number of \"task2\" labels\n",
    "import matplotlib.pyplot as plt\n",
    "label, number_count = np.unique(y['task2'],return_counts = True)\n",
    "plt.pie(number_count,labels=label,autopct=\"%1.2f%%\")"
   ]
  },
  {
   "cell_type": "code",
   "execution_count": null,
   "metadata": {
    "colab": {
     "base_uri": "https://localhost:8080/"
    },
    "id": "Gzt6Mv5IStzg",
    "outputId": "dd7a9a61-cac5-489e-de39-34ed290ceb85"
   },
   "outputs": [
    {
     "data": {
      "text/plain": [
       "([<matplotlib.patches.Wedge at 0x7efbbde5fbe0>,\n",
       "  <matplotlib.patches.Wedge at 0x7efbbde5faf0>,\n",
       "  <matplotlib.patches.Wedge at 0x7efbbde8c910>],\n",
       " [Text(0.6221534787933412, 0.9071521640967097, 'Generate'),\n",
       "  Text(-1.0864355224132796, 0.17221456279474356, 'Present'),\n",
       "  Text(0.4724589331144202, -0.9933692951366998, 'Utilize')],\n",
       " [Text(0.339356442978186, 0.494810271325478, '30.86%'),\n",
       "  Text(-0.5926011940436069, 0.09393521606986012, '33.27%'),\n",
       "  Text(0.25770487260786556, -0.5418377973472908, '35.87%')])"
      ]
     },
     "execution_count": 16,
     "metadata": {},
     "output_type": "execute_result"
    },
    {
     "data": {
      "image/png": "[encoded data removed]",
      "text/plain": [
       "<Figure size 640x480 with 1 Axes>"
      ]
     },
     "metadata": {},
     "output_type": "display_data"
    }
   ],
   "source": [
    "#number of \"purpose\" labels\n",
    "import matplotlib.pyplot as plt\n",
    "label, number_count = np.unique(y['purpose'],return_counts = True)\n",
    "plt.pie(number_count,labels=label,autopct=\"%1.2f%%\")"
   ]
  },
  {
   "cell_type": "code",
   "execution_count": null,
   "metadata": {
    "id": "no-xZ-obSwUY"
   },
   "outputs": [],
   "source": [
    "#split data\n",
    "X_train,X_test,y_train,y_test = train_test_split(X,y,test_size=0.2,random_state=17)"
   ]
  },
  {
   "cell_type": "code",
   "execution_count": null,
   "metadata": {
    "id": "i0QgcUdvSxym"
   },
   "outputs": [],
   "source": [
    "X_train = X_train['citations'].tolist()\n",
    "X_test = X_test['citations'].tolist()"
   ]
  },
  {
   "cell_type": "code",
   "execution_count": null,
   "metadata": {
    "id": "76HFkN_TS0Xt"
   },
   "outputs": [],
   "source": [
    "list_word = X_train + X_test"
   ]
  },
  {
   "cell_type": "code",
   "execution_count": null,
   "metadata": {
    "id": "pNcqZ-d2S1nH"
   },
   "outputs": [],
   "source": [
    "vectorizer = TfidfVectorizer()\n",
    "vectorizer.fit(list_word)\n",
    "X_train_vectorized = vectorizer.transform(X_train)"
   ]
  },
  {
   "cell_type": "code",
   "execution_count": null,
   "metadata": {
    "colab": {
     "base_uri": "https://localhost:8080/"
    },
    "id": "Wpbg_tDMS494",
    "outputId": "f2d99e38-e1a6-4a0f-eb98-54221b8a5399"
   },
   "outputs": [
    {
     "data": {
      "text/plain": [
       "<1998x14086 sparse matrix of type '<class 'numpy.float64'>'\n",
       "\twith 82734 stored elements in Compressed Sparse Row format>"
      ]
     },
     "execution_count": 21,
     "metadata": {},
     "output_type": "execute_result"
    }
   ],
   "source": [
    "X_train_vectorized"
   ]
  },
  {
   "cell_type": "code",
   "execution_count": null,
   "metadata": {
    "colab": {
     "base_uri": "https://localhost:8080/"
    },
    "id": "mHzZJyKCTCZY",
    "outputId": "56463199-906c-4c40-f60a-bdbdd2de517a"
   },
   "outputs": [
    {
     "data": {
      "text/html": [
       "\n",
       "  <div id=\"df-bb62f98e-c492-403b-b4e2-cf16d9c26358\">\n",
       "    <div class=\"colab-df-container\">\n",
       "      <div>\n",
       "<style scoped>\n",
       "    .dataframe tbody tr th:only-of-type {\n",
       "        vertical-align: middle;\n",
       "    }\n",
       "\n",
       "    .dataframe tbody tr th {\n",
       "        vertical-align: top;\n",
       "    }\n",
       "\n",
       "    .dataframe thead th {\n",
       "        text-align: right;\n",
       "    }\n",
       "</style>\n",
       "<table border=\"1\" class=\"dataframe\">\n",
       "  <thead>\n",
       "    <tr style=\"text-align: right;\">\n",
       "      <th></th>\n",
       "      <th>00</th>\n",
       "      <th>000</th>\n",
       "      <th>0000005</th>\n",
       "      <th>0002</th>\n",
       "      <th>001</th>\n",
       "      <th>00198451</th>\n",
       "      <th>00203866</th>\n",
       "      <th>0022</th>\n",
       "      <th>003</th>\n",
       "      <th>00537</th>\n",
       "      <th>...</th>\n",
       "      <th>ついて</th>\n",
       "      <th>ていい</th>\n",
       "      <th>という</th>\n",
       "      <th>となると</th>\n",
       "      <th>にかけては</th>\n",
       "      <th>兼职</th>\n",
       "      <th>变坏</th>\n",
       "      <th>恶化</th>\n",
       "      <th>晋升</th>\n",
       "      <th>晋什</th>\n",
       "    </tr>\n",
       "  </thead>\n",
       "  <tbody>\n",
       "    <tr>\n",
       "      <th>0</th>\n",
       "      <td>0.0</td>\n",
       "      <td>0.0</td>\n",
       "      <td>0.0</td>\n",
       "      <td>0.0</td>\n",
       "      <td>0.0</td>\n",
       "      <td>0.0</td>\n",
       "      <td>0.0</td>\n",
       "      <td>0.0</td>\n",
       "      <td>0.0</td>\n",
       "      <td>0.0</td>\n",
       "      <td>...</td>\n",
       "      <td>0.0</td>\n",
       "      <td>0.0</td>\n",
       "      <td>0.0</td>\n",
       "      <td>0.0</td>\n",
       "      <td>0.0</td>\n",
       "      <td>0.0</td>\n",
       "      <td>0.0</td>\n",
       "      <td>0.0</td>\n",
       "      <td>0.0</td>\n",
       "      <td>0.0</td>\n",
       "    </tr>\n",
       "    <tr>\n",
       "      <th>1</th>\n",
       "      <td>0.0</td>\n",
       "      <td>0.0</td>\n",
       "      <td>0.0</td>\n",
       "      <td>0.0</td>\n",
       "      <td>0.0</td>\n",
       "      <td>0.0</td>\n",
       "      <td>0.0</td>\n",
       "      <td>0.0</td>\n",
       "      <td>0.0</td>\n",
       "      <td>0.0</td>\n",
       "      <td>...</td>\n",
       "      <td>0.0</td>\n",
       "      <td>0.0</td>\n",
       "      <td>0.0</td>\n",
       "      <td>0.0</td>\n",
       "      <td>0.0</td>\n",
       "      <td>0.0</td>\n",
       "      <td>0.0</td>\n",
       "      <td>0.0</td>\n",
       "      <td>0.0</td>\n",
       "      <td>0.0</td>\n",
       "    </tr>\n",
       "    <tr>\n",
       "      <th>2</th>\n",
       "      <td>0.0</td>\n",
       "      <td>0.0</td>\n",
       "      <td>0.0</td>\n",
       "      <td>0.0</td>\n",
       "      <td>0.0</td>\n",
       "      <td>0.0</td>\n",
       "      <td>0.0</td>\n",
       "      <td>0.0</td>\n",
       "      <td>0.0</td>\n",
       "      <td>0.0</td>\n",
       "      <td>...</td>\n",
       "      <td>0.0</td>\n",
       "      <td>0.0</td>\n",
       "      <td>0.0</td>\n",
       "      <td>0.0</td>\n",
       "      <td>0.0</td>\n",
       "      <td>0.0</td>\n",
       "      <td>0.0</td>\n",
       "      <td>0.0</td>\n",
       "      <td>0.0</td>\n",
       "      <td>0.0</td>\n",
       "    </tr>\n",
       "    <tr>\n",
       "      <th>3</th>\n",
       "      <td>0.0</td>\n",
       "      <td>0.0</td>\n",
       "      <td>0.0</td>\n",
       "      <td>0.0</td>\n",
       "      <td>0.0</td>\n",
       "      <td>0.0</td>\n",
       "      <td>0.0</td>\n",
       "      <td>0.0</td>\n",
       "      <td>0.0</td>\n",
       "      <td>0.0</td>\n",
       "      <td>...</td>\n",
       "      <td>0.0</td>\n",
       "      <td>0.0</td>\n",
       "      <td>0.0</td>\n",
       "      <td>0.0</td>\n",
       "      <td>0.0</td>\n",
       "      <td>0.0</td>\n",
       "      <td>0.0</td>\n",
       "      <td>0.0</td>\n",
       "      <td>0.0</td>\n",
       "      <td>0.0</td>\n",
       "    </tr>\n",
       "    <tr>\n",
       "      <th>4</th>\n",
       "      <td>0.0</td>\n",
       "      <td>0.0</td>\n",
       "      <td>0.0</td>\n",
       "      <td>0.0</td>\n",
       "      <td>0.0</td>\n",
       "      <td>0.0</td>\n",
       "      <td>0.0</td>\n",
       "      <td>0.0</td>\n",
       "      <td>0.0</td>\n",
       "      <td>0.0</td>\n",
       "      <td>...</td>\n",
       "      <td>0.0</td>\n",
       "      <td>0.0</td>\n",
       "      <td>0.0</td>\n",
       "      <td>0.0</td>\n",
       "      <td>0.0</td>\n",
       "      <td>0.0</td>\n",
       "      <td>0.0</td>\n",
       "      <td>0.0</td>\n",
       "      <td>0.0</td>\n",
       "      <td>0.0</td>\n",
       "    </tr>\n",
       "    <tr>\n",
       "      <th>...</th>\n",
       "      <td>...</td>\n",
       "      <td>...</td>\n",
       "      <td>...</td>\n",
       "      <td>...</td>\n",
       "      <td>...</td>\n",
       "      <td>...</td>\n",
       "      <td>...</td>\n",
       "      <td>...</td>\n",
       "      <td>...</td>\n",
       "      <td>...</td>\n",
       "      <td>...</td>\n",
       "      <td>...</td>\n",
       "      <td>...</td>\n",
       "      <td>...</td>\n",
       "      <td>...</td>\n",
       "      <td>...</td>\n",
       "      <td>...</td>\n",
       "      <td>...</td>\n",
       "      <td>...</td>\n",
       "      <td>...</td>\n",
       "      <td>...</td>\n",
       "    </tr>\n",
       "    <tr>\n",
       "      <th>1993</th>\n",
       "      <td>0.0</td>\n",
       "      <td>0.0</td>\n",
       "      <td>0.0</td>\n",
       "      <td>0.0</td>\n",
       "      <td>0.0</td>\n",
       "      <td>0.0</td>\n",
       "      <td>0.0</td>\n",
       "      <td>0.0</td>\n",
       "      <td>0.0</td>\n",
       "      <td>0.0</td>\n",
       "      <td>...</td>\n",
       "      <td>0.0</td>\n",
       "      <td>0.0</td>\n",
       "      <td>0.0</td>\n",
       "      <td>0.0</td>\n",
       "      <td>0.0</td>\n",
       "      <td>0.0</td>\n",
       "      <td>0.0</td>\n",
       "      <td>0.0</td>\n",
       "      <td>0.0</td>\n",
       "      <td>0.0</td>\n",
       "    </tr>\n",
       "    <tr>\n",
       "      <th>1994</th>\n",
       "      <td>0.0</td>\n",
       "      <td>0.0</td>\n",
       "      <td>0.0</td>\n",
       "      <td>0.0</td>\n",
       "      <td>0.0</td>\n",
       "      <td>0.0</td>\n",
       "      <td>0.0</td>\n",
       "      <td>0.0</td>\n",
       "      <td>0.0</td>\n",
       "      <td>0.0</td>\n",
       "      <td>...</td>\n",
       "      <td>0.0</td>\n",
       "      <td>0.0</td>\n",
       "      <td>0.0</td>\n",
       "      <td>0.0</td>\n",
       "      <td>0.0</td>\n",
       "      <td>0.0</td>\n",
       "      <td>0.0</td>\n",
       "      <td>0.0</td>\n",
       "      <td>0.0</td>\n",
       "      <td>0.0</td>\n",
       "    </tr>\n",
       "    <tr>\n",
       "      <th>1995</th>\n",
       "      <td>0.0</td>\n",
       "      <td>0.0</td>\n",
       "      <td>0.0</td>\n",
       "      <td>0.0</td>\n",
       "      <td>0.0</td>\n",
       "      <td>0.0</td>\n",
       "      <td>0.0</td>\n",
       "      <td>0.0</td>\n",
       "      <td>0.0</td>\n",
       "      <td>0.0</td>\n",
       "      <td>...</td>\n",
       "      <td>0.0</td>\n",
       "      <td>0.0</td>\n",
       "      <td>0.0</td>\n",
       "      <td>0.0</td>\n",
       "      <td>0.0</td>\n",
       "      <td>0.0</td>\n",
       "      <td>0.0</td>\n",
       "      <td>0.0</td>\n",
       "      <td>0.0</td>\n",
       "      <td>0.0</td>\n",
       "    </tr>\n",
       "    <tr>\n",
       "      <th>1996</th>\n",
       "      <td>0.0</td>\n",
       "      <td>0.0</td>\n",
       "      <td>0.0</td>\n",
       "      <td>0.0</td>\n",
       "      <td>0.0</td>\n",
       "      <td>0.0</td>\n",
       "      <td>0.0</td>\n",
       "      <td>0.0</td>\n",
       "      <td>0.0</td>\n",
       "      <td>0.0</td>\n",
       "      <td>...</td>\n",
       "      <td>0.0</td>\n",
       "      <td>0.0</td>\n",
       "      <td>0.0</td>\n",
       "      <td>0.0</td>\n",
       "      <td>0.0</td>\n",
       "      <td>0.0</td>\n",
       "      <td>0.0</td>\n",
       "      <td>0.0</td>\n",
       "      <td>0.0</td>\n",
       "      <td>0.0</td>\n",
       "    </tr>\n",
       "    <tr>\n",
       "      <th>1997</th>\n",
       "      <td>0.0</td>\n",
       "      <td>0.0</td>\n",
       "      <td>0.0</td>\n",
       "      <td>0.0</td>\n",
       "      <td>0.0</td>\n",
       "      <td>0.0</td>\n",
       "      <td>0.0</td>\n",
       "      <td>0.0</td>\n",
       "      <td>0.0</td>\n",
       "      <td>0.0</td>\n",
       "      <td>...</td>\n",
       "      <td>0.0</td>\n",
       "      <td>0.0</td>\n",
       "      <td>0.0</td>\n",
       "      <td>0.0</td>\n",
       "      <td>0.0</td>\n",
       "      <td>0.0</td>\n",
       "      <td>0.0</td>\n",
       "      <td>0.0</td>\n",
       "      <td>0.0</td>\n",
       "      <td>0.0</td>\n",
       "    </tr>\n",
       "  </tbody>\n",
       "</table>\n",
       "<p>1998 rows × 14086 columns</p>\n",
       "</div>\n",
       "      <button class=\"colab-df-convert\" onclick=\"convertToInteractive('df-bb62f98e-c492-403b-b4e2-cf16d9c26358')\"\n",
       "              title=\"Convert this dataframe to an interactive table.\"\n",
       "              style=\"display:none;\">\n",
       "        \n",
       "  <svg xmlns=\"http://www.w3.org/2000/svg\" height=\"24px\"viewBox=\"0 0 24 24\"\n",
       "       width=\"24px\">\n",
       "    <path d=\"M0 0h24v24H0V0z\" fill=\"none\"/>\n",
       "    <path d=\"M18.56 5.44l.94 2.06.94-2.06 2.06-.94-2.06-.94-.94-2.06-.94 2.06-2.06.94zm-11 1L8.5 8.5l.94-2.06 2.06-.94-2.06-.94L8.5 2.5l-.94 2.06-2.06.94zm10 10l.94 2.06.94-2.06 2.06-.94-2.06-.94-.94-2.06-.94 2.06-2.06.94z\"/><path d=\"M17.41 7.96l-1.37-1.37c-.4-.4-.92-.59-1.43-.59-.52 0-1.04.2-1.43.59L10.3 9.45l-7.72 7.72c-.78.78-.78 2.05 0 2.83L4 21.41c.39.39.9.59 1.41.59.51 0 1.02-.2 1.41-.59l7.78-7.78 2.81-2.81c.8-.78.8-2.07 0-2.86zM5.41 20L4 18.59l7.72-7.72 1.47 1.35L5.41 20z\"/>\n",
       "  </svg>\n",
       "      </button>\n",
       "      \n",
       "  <style>\n",
       "    .colab-df-container {\n",
       "      display:flex;\n",
       "      flex-wrap:wrap;\n",
       "      gap: 12px;\n",
       "    }\n",
       "\n",
       "    .colab-df-convert {\n",
       "      background-color: #E8F0FE;\n",
       "      border: none;\n",
       "      border-radius: 50%;\n",
       "      cursor: pointer;\n",
       "      display: none;\n",
       "      fill: #1967D2;\n",
       "      height: 32px;\n",
       "      padding: 0 0 0 0;\n",
       "      width: 32px;\n",
       "    }\n",
       "\n",
       "    .colab-df-convert:hover {\n",
       "      background-color: #E2EBFA;\n",
       "      box-shadow: 0px 1px 2px rgba(60, 64, 67, 0.3), 0px 1px 3px 1px rgba(60, 64, 67, 0.15);\n",
       "      fill: #174EA6;\n",
       "    }\n",
       "\n",
       "    [theme=dark] .colab-df-convert {\n",
       "      background-color: #3B4455;\n",
       "      fill: #D2E3FC;\n",
       "    }\n",
       "\n",
       "    [theme=dark] .colab-df-convert:hover {\n",
       "      background-color: #434B5C;\n",
       "      box-shadow: 0px 1px 3px 1px rgba(0, 0, 0, 0.15);\n",
       "      filter: drop-shadow(0px 1px 2px rgba(0, 0, 0, 0.3));\n",
       "      fill: #FFFFFF;\n",
       "    }\n",
       "  </style>\n",
       "\n",
       "      <script>\n",
       "        const buttonEl =\n",
       "          document.querySelector('#df-bb62f98e-c492-403b-b4e2-cf16d9c26358 button.colab-df-convert');\n",
       "        buttonEl.style.display =\n",
       "          google.colab.kernel.accessAllowed ? 'block' : 'none';\n",
       "\n",
       "        async function convertToInteractive(key) {\n",
       "          const element = document.querySelector('#df-bb62f98e-c492-403b-b4e2-cf16d9c26358');\n",
       "          const dataTable =\n",
       "            await google.colab.kernel.invokeFunction('convertToInteractive',\n",
       "                                                     [key], {});\n",
       "          if (!dataTable) return;\n",
       "\n",
       "          const docLinkHtml = 'Like what you see? Visit the ' +\n",
       "            '<a target=\"_blank\" href=https://colab.research.google.com/notebooks/data_table.ipynb>data table notebook</a>'\n",
       "            + ' to learn more about interactive tables.';\n",
       "          element.innerHTML = '';\n",
       "          dataTable['output_type'] = 'display_data';\n",
       "          await google.colab.output.renderOutput(dataTable, element);\n",
       "          const docLink = document.createElement('div');\n",
       "          docLink.innerHTML = docLinkHtml;\n",
       "          element.appendChild(docLink);\n",
       "        }\n",
       "      </script>\n",
       "    </div>\n",
       "  </div>\n",
       "  "
      ],
      "text/plain": [
       "       00  000  0000005  0002  001  00198451  00203866  0022  003  00537  ...  \\\n",
       "0     0.0  0.0      0.0   0.0  0.0       0.0       0.0   0.0  0.0    0.0  ...   \n",
       "1     0.0  0.0      0.0   0.0  0.0       0.0       0.0   0.0  0.0    0.0  ...   \n",
       "2     0.0  0.0      0.0   0.0  0.0       0.0       0.0   0.0  0.0    0.0  ...   \n",
       "3     0.0  0.0      0.0   0.0  0.0       0.0       0.0   0.0  0.0    0.0  ...   \n",
       "4     0.0  0.0      0.0   0.0  0.0       0.0       0.0   0.0  0.0    0.0  ...   \n",
       "...   ...  ...      ...   ...  ...       ...       ...   ...  ...    ...  ...   \n",
       "1993  0.0  0.0      0.0   0.0  0.0       0.0       0.0   0.0  0.0    0.0  ...   \n",
       "1994  0.0  0.0      0.0   0.0  0.0       0.0       0.0   0.0  0.0    0.0  ...   \n",
       "1995  0.0  0.0      0.0   0.0  0.0       0.0       0.0   0.0  0.0    0.0  ...   \n",
       "1996  0.0  0.0      0.0   0.0  0.0       0.0       0.0   0.0  0.0    0.0  ...   \n",
       "1997  0.0  0.0      0.0   0.0  0.0       0.0       0.0   0.0  0.0    0.0  ...   \n",
       "\n",
       "      ついて  ていい  という  となると  にかけては   兼职   变坏   恶化   晋升   晋什  \n",
       "0     0.0  0.0  0.0   0.0    0.0  0.0  0.0  0.0  0.0  0.0  \n",
       "1     0.0  0.0  0.0   0.0    0.0  0.0  0.0  0.0  0.0  0.0  \n",
       "2     0.0  0.0  0.0   0.0    0.0  0.0  0.0  0.0  0.0  0.0  \n",
       "3     0.0  0.0  0.0   0.0    0.0  0.0  0.0  0.0  0.0  0.0  \n",
       "4     0.0  0.0  0.0   0.0    0.0  0.0  0.0  0.0  0.0  0.0  \n",
       "...   ...  ...  ...   ...    ...  ...  ...  ...  ...  ...  \n",
       "1993  0.0  0.0  0.0   0.0    0.0  0.0  0.0  0.0  0.0  0.0  \n",
       "1994  0.0  0.0  0.0   0.0    0.0  0.0  0.0  0.0  0.0  0.0  \n",
       "1995  0.0  0.0  0.0   0.0    0.0  0.0  0.0  0.0  0.0  0.0  \n",
       "1996  0.0  0.0  0.0   0.0    0.0  0.0  0.0  0.0  0.0  0.0  \n",
       "1997  0.0  0.0  0.0   0.0    0.0  0.0  0.0  0.0  0.0  0.0  \n",
       "\n",
       "[1998 rows x 14086 columns]"
      ]
     },
     "execution_count": 22,
     "metadata": {},
     "output_type": "execute_result"
    }
   ],
   "source": [
    "a = pd.DataFrame(X_train_vectorized.toarray(), columns=vectorizer.get_feature_names_out())\n",
    "a"
   ]
  },
  {
   "cell_type": "code",
   "execution_count": null,
   "metadata": {
    "id": "Sbb7qjQsTEVv"
   },
   "outputs": [],
   "source": [
    "X_test_vectorized = vectorizer.transform(X_test)"
   ]
  },
  {
   "cell_type": "code",
   "execution_count": null,
   "metadata": {
    "colab": {
     "base_uri": "https://localhost:8080/"
    },
    "id": "TiIGvkYtTF7O",
    "outputId": "46839474-cf53-4fa4-d421-c2ec957c3a6a"
   },
   "outputs": [
    {
     "data": {
      "text/plain": [
       "<500x14086 sparse matrix of type '<class 'numpy.float64'>'\n",
       "\twith 21137 stored elements in Compressed Sparse Row format>"
      ]
     },
     "execution_count": 24,
     "metadata": {},
     "output_type": "execute_result"
    }
   ],
   "source": [
    "X_test_vectorized"
   ]
  },
  {
   "cell_type": "code",
   "execution_count": null,
   "metadata": {
    "colab": {
     "base_uri": "https://localhost:8080/"
    },
    "id": "cHLz3ThxTHQo",
    "outputId": "14e4981a-6c71-41f9-f646-cd192fb36b09"
   },
   "outputs": [
    {
     "data": {
      "text/html": [
       "\n",
       "  <div id=\"df-918d1969-bcdc-4ee2-b6a7-d1452465eaa6\">\n",
       "    <div class=\"colab-df-container\">\n",
       "      <div>\n",
       "<style scoped>\n",
       "    .dataframe tbody tr th:only-of-type {\n",
       "        vertical-align: middle;\n",
       "    }\n",
       "\n",
       "    .dataframe tbody tr th {\n",
       "        vertical-align: top;\n",
       "    }\n",
       "\n",
       "    .dataframe thead th {\n",
       "        text-align: right;\n",
       "    }\n",
       "</style>\n",
       "<table border=\"1\" class=\"dataframe\">\n",
       "  <thead>\n",
       "    <tr style=\"text-align: right;\">\n",
       "      <th></th>\n",
       "      <th>00</th>\n",
       "      <th>000</th>\n",
       "      <th>0000005</th>\n",
       "      <th>0002</th>\n",
       "      <th>001</th>\n",
       "      <th>00198451</th>\n",
       "      <th>00203866</th>\n",
       "      <th>0022</th>\n",
       "      <th>003</th>\n",
       "      <th>00537</th>\n",
       "      <th>...</th>\n",
       "      <th>ついて</th>\n",
       "      <th>ていい</th>\n",
       "      <th>という</th>\n",
       "      <th>となると</th>\n",
       "      <th>にかけては</th>\n",
       "      <th>兼职</th>\n",
       "      <th>变坏</th>\n",
       "      <th>恶化</th>\n",
       "      <th>晋升</th>\n",
       "      <th>晋什</th>\n",
       "    </tr>\n",
       "  </thead>\n",
       "  <tbody>\n",
       "    <tr>\n",
       "      <th>0</th>\n",
       "      <td>0.0</td>\n",
       "      <td>0.0</td>\n",
       "      <td>0.0</td>\n",
       "      <td>0.0</td>\n",
       "      <td>0.0</td>\n",
       "      <td>0.0</td>\n",
       "      <td>0.0</td>\n",
       "      <td>0.0</td>\n",
       "      <td>0.0</td>\n",
       "      <td>0.0</td>\n",
       "      <td>...</td>\n",
       "      <td>0.0</td>\n",
       "      <td>0.0</td>\n",
       "      <td>0.0</td>\n",
       "      <td>0.0</td>\n",
       "      <td>0.0</td>\n",
       "      <td>0.0</td>\n",
       "      <td>0.0</td>\n",
       "      <td>0.0</td>\n",
       "      <td>0.0</td>\n",
       "      <td>0.0</td>\n",
       "    </tr>\n",
       "    <tr>\n",
       "      <th>1</th>\n",
       "      <td>0.0</td>\n",
       "      <td>0.0</td>\n",
       "      <td>0.0</td>\n",
       "      <td>0.0</td>\n",
       "      <td>0.0</td>\n",
       "      <td>0.0</td>\n",
       "      <td>0.0</td>\n",
       "      <td>0.0</td>\n",
       "      <td>0.0</td>\n",
       "      <td>0.0</td>\n",
       "      <td>...</td>\n",
       "      <td>0.0</td>\n",
       "      <td>0.0</td>\n",
       "      <td>0.0</td>\n",
       "      <td>0.0</td>\n",
       "      <td>0.0</td>\n",
       "      <td>0.0</td>\n",
       "      <td>0.0</td>\n",
       "      <td>0.0</td>\n",
       "      <td>0.0</td>\n",
       "      <td>0.0</td>\n",
       "    </tr>\n",
       "    <tr>\n",
       "      <th>2</th>\n",
       "      <td>0.0</td>\n",
       "      <td>0.0</td>\n",
       "      <td>0.0</td>\n",
       "      <td>0.0</td>\n",
       "      <td>0.0</td>\n",
       "      <td>0.0</td>\n",
       "      <td>0.0</td>\n",
       "      <td>0.0</td>\n",
       "      <td>0.0</td>\n",
       "      <td>0.0</td>\n",
       "      <td>...</td>\n",
       "      <td>0.0</td>\n",
       "      <td>0.0</td>\n",
       "      <td>0.0</td>\n",
       "      <td>0.0</td>\n",
       "      <td>0.0</td>\n",
       "      <td>0.0</td>\n",
       "      <td>0.0</td>\n",
       "      <td>0.0</td>\n",
       "      <td>0.0</td>\n",
       "      <td>0.0</td>\n",
       "    </tr>\n",
       "    <tr>\n",
       "      <th>3</th>\n",
       "      <td>0.0</td>\n",
       "      <td>0.0</td>\n",
       "      <td>0.0</td>\n",
       "      <td>0.0</td>\n",
       "      <td>0.0</td>\n",
       "      <td>0.0</td>\n",
       "      <td>0.0</td>\n",
       "      <td>0.0</td>\n",
       "      <td>0.0</td>\n",
       "      <td>0.0</td>\n",
       "      <td>...</td>\n",
       "      <td>0.0</td>\n",
       "      <td>0.0</td>\n",
       "      <td>0.0</td>\n",
       "      <td>0.0</td>\n",
       "      <td>0.0</td>\n",
       "      <td>0.0</td>\n",
       "      <td>0.0</td>\n",
       "      <td>0.0</td>\n",
       "      <td>0.0</td>\n",
       "      <td>0.0</td>\n",
       "    </tr>\n",
       "    <tr>\n",
       "      <th>4</th>\n",
       "      <td>0.0</td>\n",
       "      <td>0.0</td>\n",
       "      <td>0.0</td>\n",
       "      <td>0.0</td>\n",
       "      <td>0.0</td>\n",
       "      <td>0.0</td>\n",
       "      <td>0.0</td>\n",
       "      <td>0.0</td>\n",
       "      <td>0.0</td>\n",
       "      <td>0.0</td>\n",
       "      <td>...</td>\n",
       "      <td>0.0</td>\n",
       "      <td>0.0</td>\n",
       "      <td>0.0</td>\n",
       "      <td>0.0</td>\n",
       "      <td>0.0</td>\n",
       "      <td>0.0</td>\n",
       "      <td>0.0</td>\n",
       "      <td>0.0</td>\n",
       "      <td>0.0</td>\n",
       "      <td>0.0</td>\n",
       "    </tr>\n",
       "    <tr>\n",
       "      <th>...</th>\n",
       "      <td>...</td>\n",
       "      <td>...</td>\n",
       "      <td>...</td>\n",
       "      <td>...</td>\n",
       "      <td>...</td>\n",
       "      <td>...</td>\n",
       "      <td>...</td>\n",
       "      <td>...</td>\n",
       "      <td>...</td>\n",
       "      <td>...</td>\n",
       "      <td>...</td>\n",
       "      <td>...</td>\n",
       "      <td>...</td>\n",
       "      <td>...</td>\n",
       "      <td>...</td>\n",
       "      <td>...</td>\n",
       "      <td>...</td>\n",
       "      <td>...</td>\n",
       "      <td>...</td>\n",
       "      <td>...</td>\n",
       "      <td>...</td>\n",
       "    </tr>\n",
       "    <tr>\n",
       "      <th>495</th>\n",
       "      <td>0.0</td>\n",
       "      <td>0.0</td>\n",
       "      <td>0.0</td>\n",
       "      <td>0.0</td>\n",
       "      <td>0.0</td>\n",
       "      <td>0.0</td>\n",
       "      <td>0.0</td>\n",
       "      <td>0.0</td>\n",
       "      <td>0.0</td>\n",
       "      <td>0.0</td>\n",
       "      <td>...</td>\n",
       "      <td>0.0</td>\n",
       "      <td>0.0</td>\n",
       "      <td>0.0</td>\n",
       "      <td>0.0</td>\n",
       "      <td>0.0</td>\n",
       "      <td>0.0</td>\n",
       "      <td>0.0</td>\n",
       "      <td>0.0</td>\n",
       "      <td>0.0</td>\n",
       "      <td>0.0</td>\n",
       "    </tr>\n",
       "    <tr>\n",
       "      <th>496</th>\n",
       "      <td>0.0</td>\n",
       "      <td>0.0</td>\n",
       "      <td>0.0</td>\n",
       "      <td>0.0</td>\n",
       "      <td>0.0</td>\n",
       "      <td>0.0</td>\n",
       "      <td>0.0</td>\n",
       "      <td>0.0</td>\n",
       "      <td>0.0</td>\n",
       "      <td>0.0</td>\n",
       "      <td>...</td>\n",
       "      <td>0.0</td>\n",
       "      <td>0.0</td>\n",
       "      <td>0.0</td>\n",
       "      <td>0.0</td>\n",
       "      <td>0.0</td>\n",
       "      <td>0.0</td>\n",
       "      <td>0.0</td>\n",
       "      <td>0.0</td>\n",
       "      <td>0.0</td>\n",
       "      <td>0.0</td>\n",
       "    </tr>\n",
       "    <tr>\n",
       "      <th>497</th>\n",
       "      <td>0.0</td>\n",
       "      <td>0.0</td>\n",
       "      <td>0.0</td>\n",
       "      <td>0.0</td>\n",
       "      <td>0.0</td>\n",
       "      <td>0.0</td>\n",
       "      <td>0.0</td>\n",
       "      <td>0.0</td>\n",
       "      <td>0.0</td>\n",
       "      <td>0.0</td>\n",
       "      <td>...</td>\n",
       "      <td>0.0</td>\n",
       "      <td>0.0</td>\n",
       "      <td>0.0</td>\n",
       "      <td>0.0</td>\n",
       "      <td>0.0</td>\n",
       "      <td>0.0</td>\n",
       "      <td>0.0</td>\n",
       "      <td>0.0</td>\n",
       "      <td>0.0</td>\n",
       "      <td>0.0</td>\n",
       "    </tr>\n",
       "    <tr>\n",
       "      <th>498</th>\n",
       "      <td>0.0</td>\n",
       "      <td>0.0</td>\n",
       "      <td>0.0</td>\n",
       "      <td>0.0</td>\n",
       "      <td>0.0</td>\n",
       "      <td>0.0</td>\n",
       "      <td>0.0</td>\n",
       "      <td>0.0</td>\n",
       "      <td>0.0</td>\n",
       "      <td>0.0</td>\n",
       "      <td>...</td>\n",
       "      <td>0.0</td>\n",
       "      <td>0.0</td>\n",
       "      <td>0.0</td>\n",
       "      <td>0.0</td>\n",
       "      <td>0.0</td>\n",
       "      <td>0.0</td>\n",
       "      <td>0.0</td>\n",
       "      <td>0.0</td>\n",
       "      <td>0.0</td>\n",
       "      <td>0.0</td>\n",
       "    </tr>\n",
       "    <tr>\n",
       "      <th>499</th>\n",
       "      <td>0.0</td>\n",
       "      <td>0.0</td>\n",
       "      <td>0.0</td>\n",
       "      <td>0.0</td>\n",
       "      <td>0.0</td>\n",
       "      <td>0.0</td>\n",
       "      <td>0.0</td>\n",
       "      <td>0.0</td>\n",
       "      <td>0.0</td>\n",
       "      <td>0.0</td>\n",
       "      <td>...</td>\n",
       "      <td>0.0</td>\n",
       "      <td>0.0</td>\n",
       "      <td>0.0</td>\n",
       "      <td>0.0</td>\n",
       "      <td>0.0</td>\n",
       "      <td>0.0</td>\n",
       "      <td>0.0</td>\n",
       "      <td>0.0</td>\n",
       "      <td>0.0</td>\n",
       "      <td>0.0</td>\n",
       "    </tr>\n",
       "  </tbody>\n",
       "</table>\n",
       "<p>500 rows × 14086 columns</p>\n",
       "</div>\n",
       "      <button class=\"colab-df-convert\" onclick=\"convertToInteractive('df-918d1969-bcdc-4ee2-b6a7-d1452465eaa6')\"\n",
       "              title=\"Convert this dataframe to an interactive table.\"\n",
       "              style=\"display:none;\">\n",
       "        \n",
       "  <svg xmlns=\"http://www.w3.org/2000/svg\" height=\"24px\"viewBox=\"0 0 24 24\"\n",
       "       width=\"24px\">\n",
       "    <path d=\"M0 0h24v24H0V0z\" fill=\"none\"/>\n",
       "    <path d=\"M18.56 5.44l.94 2.06.94-2.06 2.06-.94-2.06-.94-.94-2.06-.94 2.06-2.06.94zm-11 1L8.5 8.5l.94-2.06 2.06-.94-2.06-.94L8.5 2.5l-.94 2.06-2.06.94zm10 10l.94 2.06.94-2.06 2.06-.94-2.06-.94-.94-2.06-.94 2.06-2.06.94z\"/><path d=\"M17.41 7.96l-1.37-1.37c-.4-.4-.92-.59-1.43-.59-.52 0-1.04.2-1.43.59L10.3 9.45l-7.72 7.72c-.78.78-.78 2.05 0 2.83L4 21.41c.39.39.9.59 1.41.59.51 0 1.02-.2 1.41-.59l7.78-7.78 2.81-2.81c.8-.78.8-2.07 0-2.86zM5.41 20L4 18.59l7.72-7.72 1.47 1.35L5.41 20z\"/>\n",
       "  </svg>\n",
       "      </button>\n",
       "      \n",
       "  <style>\n",
       "    .colab-df-container {\n",
       "      display:flex;\n",
       "      flex-wrap:wrap;\n",
       "      gap: 12px;\n",
       "    }\n",
       "\n",
       "    .colab-df-convert {\n",
       "      background-color: #E8F0FE;\n",
       "      border: none;\n",
       "      border-radius: 50%;\n",
       "      cursor: pointer;\n",
       "      display: none;\n",
       "      fill: #1967D2;\n",
       "      height: 32px;\n",
       "      padding: 0 0 0 0;\n",
       "      width: 32px;\n",
       "    }\n",
       "\n",
       "    .colab-df-convert:hover {\n",
       "      background-color: #E2EBFA;\n",
       "      box-shadow: 0px 1px 2px rgba(60, 64, 67, 0.3), 0px 1px 3px 1px rgba(60, 64, 67, 0.15);\n",
       "      fill: #174EA6;\n",
       "    }\n",
       "\n",
       "    [theme=dark] .colab-df-convert {\n",
       "      background-color: #3B4455;\n",
       "      fill: #D2E3FC;\n",
       "    }\n",
       "\n",
       "    [theme=dark] .colab-df-convert:hover {\n",
       "      background-color: #434B5C;\n",
       "      box-shadow: 0px 1px 3px 1px rgba(0, 0, 0, 0.15);\n",
       "      filter: drop-shadow(0px 1px 2px rgba(0, 0, 0, 0.3));\n",
       "      fill: #FFFFFF;\n",
       "    }\n",
       "  </style>\n",
       "\n",
       "      <script>\n",
       "        const buttonEl =\n",
       "          document.querySelector('#df-918d1969-bcdc-4ee2-b6a7-d1452465eaa6 button.colab-df-convert');\n",
       "        buttonEl.style.display =\n",
       "          google.colab.kernel.accessAllowed ? 'block' : 'none';\n",
       "\n",
       "        async function convertToInteractive(key) {\n",
       "          const element = document.querySelector('#df-918d1969-bcdc-4ee2-b6a7-d1452465eaa6');\n",
       "          const dataTable =\n",
       "            await google.colab.kernel.invokeFunction('convertToInteractive',\n",
       "                                                     [key], {});\n",
       "          if (!dataTable) return;\n",
       "\n",
       "          const docLinkHtml = 'Like what you see? Visit the ' +\n",
       "            '<a target=\"_blank\" href=https://colab.research.google.com/notebooks/data_table.ipynb>data table notebook</a>'\n",
       "            + ' to learn more about interactive tables.';\n",
       "          element.innerHTML = '';\n",
       "          dataTable['output_type'] = 'display_data';\n",
       "          await google.colab.output.renderOutput(dataTable, element);\n",
       "          const docLink = document.createElement('div');\n",
       "          docLink.innerHTML = docLinkHtml;\n",
       "          element.appendChild(docLink);\n",
       "        }\n",
       "      </script>\n",
       "    </div>\n",
       "  </div>\n",
       "  "
      ],
      "text/plain": [
       "      00  000  0000005  0002  001  00198451  00203866  0022  003  00537  ...  \\\n",
       "0    0.0  0.0      0.0   0.0  0.0       0.0       0.0   0.0  0.0    0.0  ...   \n",
       "1    0.0  0.0      0.0   0.0  0.0       0.0       0.0   0.0  0.0    0.0  ...   \n",
       "2    0.0  0.0      0.0   0.0  0.0       0.0       0.0   0.0  0.0    0.0  ...   \n",
       "3    0.0  0.0      0.0   0.0  0.0       0.0       0.0   0.0  0.0    0.0  ...   \n",
       "4    0.0  0.0      0.0   0.0  0.0       0.0       0.0   0.0  0.0    0.0  ...   \n",
       "..   ...  ...      ...   ...  ...       ...       ...   ...  ...    ...  ...   \n",
       "495  0.0  0.0      0.0   0.0  0.0       0.0       0.0   0.0  0.0    0.0  ...   \n",
       "496  0.0  0.0      0.0   0.0  0.0       0.0       0.0   0.0  0.0    0.0  ...   \n",
       "497  0.0  0.0      0.0   0.0  0.0       0.0       0.0   0.0  0.0    0.0  ...   \n",
       "498  0.0  0.0      0.0   0.0  0.0       0.0       0.0   0.0  0.0    0.0  ...   \n",
       "499  0.0  0.0      0.0   0.0  0.0       0.0       0.0   0.0  0.0    0.0  ...   \n",
       "\n",
       "     ついて  ていい  という  となると  にかけては   兼职   变坏   恶化   晋升   晋什  \n",
       "0    0.0  0.0  0.0   0.0    0.0  0.0  0.0  0.0  0.0  0.0  \n",
       "1    0.0  0.0  0.0   0.0    0.0  0.0  0.0  0.0  0.0  0.0  \n",
       "2    0.0  0.0  0.0   0.0    0.0  0.0  0.0  0.0  0.0  0.0  \n",
       "3    0.0  0.0  0.0   0.0    0.0  0.0  0.0  0.0  0.0  0.0  \n",
       "4    0.0  0.0  0.0   0.0    0.0  0.0  0.0  0.0  0.0  0.0  \n",
       "..   ...  ...  ...   ...    ...  ...  ...  ...  ...  ...  \n",
       "495  0.0  0.0  0.0   0.0    0.0  0.0  0.0  0.0  0.0  0.0  \n",
       "496  0.0  0.0  0.0   0.0    0.0  0.0  0.0  0.0  0.0  0.0  \n",
       "497  0.0  0.0  0.0   0.0    0.0  0.0  0.0  0.0  0.0  0.0  \n",
       "498  0.0  0.0  0.0   0.0    0.0  0.0  0.0  0.0  0.0  0.0  \n",
       "499  0.0  0.0  0.0   0.0    0.0  0.0  0.0  0.0  0.0  0.0  \n",
       "\n",
       "[500 rows x 14086 columns]"
      ]
     },
     "execution_count": 25,
     "metadata": {},
     "output_type": "execute_result"
    }
   ],
   "source": [
    "b = pd.DataFrame(X_test_vectorized.toarray(), columns=vectorizer.get_feature_names_out())\n",
    "b"
   ]
  },
  {
   "cell_type": "code",
   "execution_count": null,
   "metadata": {
    "colab": {
     "base_uri": "https://localhost:8080/"
    },
    "id": "qVPELksQTI3r",
    "outputId": "b2a58690-df0b-49f0-bf59-391ffd046dd0"
   },
   "outputs": [
    {
     "data": {
      "text/plain": [
       "array(['Addition', 'Approach', 'Substance'], dtype=object)"
      ]
     },
     "execution_count": 26,
     "metadata": {},
     "output_type": "execute_result"
    }
   ],
   "source": [
    "#encode label\n",
    "label_encode_task1 = LabelEncoder()\n",
    "y_train_task1 = label_encode_task1.fit_transform(y_train['task1'])\n",
    "label_encode_task1.classes_"
   ]
  },
  {
   "cell_type": "code",
   "execution_count": null,
   "metadata": {
    "colab": {
     "base_uri": "https://localhost:8080/"
    },
    "id": "r9ReUJiHTKqJ",
    "outputId": "9afb5c6b-9fff-4ffe-9233-fa537c37b778"
   },
   "outputs": [
    {
     "data": {
      "text/plain": [
       "array(['Data', 'File', 'Instrument', 'Methodology', 'Publication',\n",
       "       'Script', 'Site'], dtype=object)"
      ]
     },
     "execution_count": 27,
     "metadata": {},
     "output_type": "execute_result"
    }
   ],
   "source": [
    "label_encode_task2 = LabelEncoder()\n",
    "y_train_task2 = label_encode_task2.fit_transform(y_train['task2'])\n",
    "label_encode_task2.classes_"
   ]
  },
  {
   "cell_type": "code",
   "execution_count": null,
   "metadata": {
    "colab": {
     "base_uri": "https://localhost:8080/"
    },
    "id": "EEl-J8xrTMHb",
    "outputId": "0ee2f524-01f5-4970-fa8a-087ea8bd4c98"
   },
   "outputs": [
    {
     "data": {
      "text/plain": [
       "array(['Generate', 'Present', 'Utilize'], dtype=object)"
      ]
     },
     "execution_count": 28,
     "metadata": {},
     "output_type": "execute_result"
    }
   ],
   "source": [
    "label_encode_purpose = LabelEncoder()\n",
    "y_train_purpose = label_encode_purpose.fit_transform(y_train['purpose'])\n",
    "label_encode_purpose.classes_"
   ]
  },
  {
   "cell_type": "code",
   "execution_count": null,
   "metadata": {
    "id": "P4XnITGrTNfc"
   },
   "outputs": [],
   "source": [
    "y_multi_label_train = np.c_[y_train_task1,y_train_task2,y_train_purpose]"
   ]
  },
  {
   "cell_type": "code",
   "execution_count": null,
   "metadata": {
    "colab": {
     "base_uri": "https://localhost:8080/"
    },
    "id": "3nkswMlBTPPL",
    "outputId": "a2f62fee-2fde-4180-85e3-0b05b1a97680"
   },
   "outputs": [
    {
     "data": {
      "text/plain": [
       "array(['Addition', 'Approach', 'Substance'], dtype=object)"
      ]
     },
     "execution_count": 30,
     "metadata": {},
     "output_type": "execute_result"
    }
   ],
   "source": [
    "label_encode_task1_test = LabelEncoder()\n",
    "y_test_task1 = label_encode_task1_test.fit_transform(y_test['task1'])\n",
    "label_encode_task1_test.classes_"
   ]
  },
  {
   "cell_type": "code",
   "execution_count": null,
   "metadata": {
    "colab": {
     "base_uri": "https://localhost:8080/"
    },
    "id": "a_pkFdBeTRby",
    "outputId": "c2f57862-32d3-4dbb-fb90-13fd61d86f57"
   },
   "outputs": [
    {
     "data": {
      "text/plain": [
       "array(['Data', 'File', 'Instrument', 'Methodology', 'Publication',\n",
       "       'Script', 'Site'], dtype=object)"
      ]
     },
     "execution_count": 31,
     "metadata": {},
     "output_type": "execute_result"
    }
   ],
   "source": [
    "label_encode_task2_test = LabelEncoder()\n",
    "y_test_task2 = label_encode_task2_test.fit_transform(y_test['task2'])\n",
    "label_encode_task2_test.classes_"
   ]
  },
  {
   "cell_type": "code",
   "execution_count": null,
   "metadata": {
    "colab": {
     "base_uri": "https://localhost:8080/"
    },
    "id": "MVjE7t_lTT6r",
    "outputId": "68742545-a1bf-4f37-cb0c-a2ca904b9f51"
   },
   "outputs": [
    {
     "data": {
      "text/plain": [
       "array(['Generate', 'Present', 'Utilize'], dtype=object)"
      ]
     },
     "execution_count": 32,
     "metadata": {},
     "output_type": "execute_result"
    }
   ],
   "source": [
    "label_encode_purpose_test = LabelEncoder()\n",
    "y_train_purpose_test = label_encode_purpose_test.fit_transform(y_test['purpose'])\n",
    "label_encode_purpose_test.classes_"
   ]
  },
  {
   "cell_type": "code",
   "execution_count": null,
   "metadata": {
    "id": "s7lO9ZodTVlH"
   },
   "outputs": [],
   "source": [
    "y_multi_label_test = np.c_[y_test_task1,y_test_task2,y_train_purpose_test]"
   ]
  },
  {
   "cell_type": "markdown",
   "metadata": {
    "id": "A5-u8s4ZjsBN"
   },
   "source": [
    "# **Vẽ biểu đồ phân bố nhãn**"
   ]
  },
  {
   "cell_type": "code",
   "execution_count": null,
   "metadata": {
    "id": "3G8DkcsYjwL2"
   },
   "outputs": [],
   "source": [
    "number_label_acl_task1 = [132,160,150]\n",
    "number_label_acl_task2 = [88,88,82,103,75,71,56]\n",
    "number_label_acl_purpose = [158,150,183]"
   ]
  },
  {
   "cell_type": "code",
   "execution_count": null,
   "metadata": {
    "id": "Xq_9QT_WkEMz"
   },
   "outputs": [],
   "source": [
    "number_label_arxiv_task1 = [102,125,115]\n",
    "number_label_arxiv_task2 = [66,71,57,80,62,56,55]\n",
    "number_label_arxiv_purpose = [132,120,136]"
   ]
  },
  {
   "cell_type": "code",
   "execution_count": null,
   "metadata": {
    "id": "3ZuTcQ2HkFsF"
   },
   "outputs": [],
   "source": [
    "number_label_neurips_task1 = [97,119,110]\n",
    "number_label_neurips_task2 = [58,\n",
    "62,\n",
    "48,\n",
    "68,\n",
    "50,\n",
    "48,\n",
    "28\n",
    "]\n",
    "number_label_neurips_purpose = [134,\n",
    "104,\n",
    "112\n",
    "]"
   ]
  },
  {
   "cell_type": "code",
   "execution_count": null,
   "metadata": {
    "id": "GwjozA_HkHPH"
   },
   "outputs": [],
   "source": [
    "number_label_biomed_task1 = [85,\n",
    "105,\n",
    "95\n",
    "]\n",
    "number_label_biomed_task2 = [42,\n",
    "49,\n",
    "41,\n",
    "61,\n",
    "41,\n",
    "45,\n",
    "31\n",
    "]\n",
    "number_label_biomed_purpose = [113,\n",
    "86,\n",
    "101\n",
    "]"
   ]
  },
  {
   "cell_type": "code",
   "execution_count": null,
   "metadata": {
    "id": "Bw8dSkMqkKlJ"
   },
   "outputs": [],
   "source": [
    "number_label_plos_pathogens_task1 = [83,\n",
    "103,\n",
    "93\n",
    "]\n",
    "number_label_plos_pathogens_task2 = [36,\n",
    "49,\n",
    "47,\n",
    "60,\n",
    "39,\n",
    "42,\n",
    "40\n",
    "]\n",
    "number_label_plos_pathogens_purpose = [110,\n",
    "84,\n",
    "95\n",
    "]"
   ]
  },
  {
   "cell_type": "code",
   "execution_count": null,
   "metadata": {
    "id": "RkBlEo5RkL7j"
   },
   "outputs": [],
   "source": [
    "number_label_researchgate_task1 = [71,\n",
    "88,\n",
    "80]\n",
    "number_label_researchgate_task2 = [31,\n",
    "40,\n",
    "32,\n",
    "51,\n",
    "35,\n",
    "37,\n",
    "33\n",
    "]\n",
    "number_label_researchgate_purpose = [99,\n",
    "86,\n",
    "72\n",
    "]"
   ]
  },
  {
   "cell_type": "code",
   "execution_count": null,
   "metadata": {
    "id": "hyomwMXskMhH"
   },
   "outputs": [],
   "source": [
    "number_label_ieeexplore_task1 = [63,\n",
    "78,\n",
    "70\n",
    "]\n",
    "number_label_ieeexplore_task2 = [27,\n",
    "35,\n",
    "28,\n",
    "47,\n",
    "31,\n",
    "31,\n",
    "28\n",
    "]\n",
    "number_label_ieeexplore_purpose = [88,\n",
    "76,\n",
    "68\n",
    "]"
   ]
  },
  {
   "cell_type": "code",
   "execution_count": null,
   "metadata": {
    "id": "NP0bGzmxkNlk"
   },
   "outputs": [],
   "source": [
    "number_label_other_task1 = [89,\n",
    "136,\n",
    "149\n",
    "]\n",
    "number_label_other_task2 = [16,\n",
    "44,\n",
    "21,\n",
    "85,\n",
    "37,\n",
    "39,\n",
    "29\n",
    "]\n",
    "number_label_other_purpose = [62,\n",
    "65,\n",
    "64\n",
    "]"
   ]
  },
  {
   "cell_type": "code",
   "execution_count": null,
   "metadata": {
    "id": "ZwwZ0FM-kOnB"
   },
   "outputs": [],
   "source": [
    "colors_3 = ['#ff8c00','#87ceeb','#fafad2']\n",
    "colors_8 = ['red', '#87ceeb', '#fafad2', '#ff8c00', 'gray', 'yellow', 'pink', '#f4a460']"
   ]
  },
  {
   "cell_type": "code",
   "execution_count": null,
   "metadata": {
    "id": "QHj_0GQbkPzT"
   },
   "outputs": [],
   "source": [
    "label_task1 = [\"Substance\",\n",
    "\"Approach\",\n",
    "\"Addition\"]\n",
    "label_task2 = [\"Data\",\n",
    "\"Instrument\",\n",
    "\"Script\",\n",
    "\"Methodology\",\n",
    "\"File\",\n",
    "\"Site\",\n",
    "\"Publication\"\n",
    "]\n",
    "label_purpose = [\"Utilize\",\n",
    "\"Generate\",\n",
    "\"Present\"\n",
    "]"
   ]
  },
  {
   "cell_type": "code",
   "execution_count": null,
   "metadata": {
    "colab": {
     "base_uri": "https://localhost:8080/",
     "height": 1000
    },
    "id": "VWVbvJnMkRAI",
    "outputId": "5841f4cf-01d5-44a4-b3bf-334555dc8fa1"
   },
   "outputs": [
    {
     "data": {
      "text/plain": [
       "Text(0.5, 0.98, 'Resource')"
      ]
     },
     "execution_count": 44,
     "metadata": {},
     "output_type": "execute_result"
    },
    {
     "data": {
      "image/png": "[encoded data removed]",
      "text/plain": [
       "<Figure size 2000x2000 with 6 Axes>"
      ]
     },
     "metadata": {},
     "output_type": "display_data"
    }
   ],
   "source": [
    "fig, axs = plt.subplots(2,3, figsize=(20,20))\n",
    "\n",
    "axs[0,0].pie(number_label_acl_task1,labels=label_task1, colors=colors_3, autopct='%1.1f%%', startangle=90)\n",
    "axs[0,0].set_title('ACL Task 1', loc='center',fontsize=20)\n",
    "\n",
    "axs[0,1].pie(number_label_acl_task2,labels=label_task2, colors=colors_8, autopct='%1.1f%%', startangle=90)\n",
    "axs[0,1].set_title('ACL Task 2', loc='center',fontsize=20)\n",
    "\n",
    "axs[0,2].pie(number_label_acl_purpose,labels=label_purpose, colors=colors_3, autopct='%1.1f%%', startangle=90)\n",
    "axs[0,2].set_title('ACL Purpose', loc='center',fontsize=20)\n",
    "\n",
    "axs[1,0].pie(number_label_neurips_task1,labels=label_task1, colors=colors_3, autopct='%1.1f%%', startangle=90)\n",
    "axs[1,0].set_title('NeurIPS Task 1', loc='center',fontsize=20)\n",
    "\n",
    "axs[1,1].pie(number_label_neurips_task2,labels=label_task2, colors=colors_8, autopct='%1.1f%%', startangle=90)\n",
    "axs[1,1].set_title('NeurIPS Task 2', loc='center',fontsize=20)\n",
    "\n",
    "axs[1,2].pie(number_label_neurips_purpose,labels=label_purpose, colors=colors_3, autopct='%1.1f%%', startangle=90)\n",
    "axs[1,2].set_title('NeurIPS Purpose', loc='center',fontsize=20)\n",
    "\n",
    "fig.suptitle('Resource',fontsize=30)"
   ]
  },
  {
   "cell_type": "markdown",
   "metadata": {
    "id": "idRYpQOuW2X6"
   },
   "source": [
    "# **Các mô hình phân loại**"
   ]
  },
  {
   "cell_type": "markdown",
   "metadata": {
    "id": "bfJL-W-mX1RR"
   },
   "source": [
    "# **KNN**"
   ]
  },
  {
   "cell_type": "code",
   "execution_count": null,
   "metadata": {
    "colab": {
     "base_uri": "https://localhost:8080/",
     "height": 75
    },
    "id": "cXou1ZOxW4U9",
    "outputId": "8a89f1d5-ae85-4d1e-c086-43eb779fd41f"
   },
   "outputs": [
    {
     "data": {
      "text/html": [
       "<style>#sk-container-id-1 {color: black;background-color: white;}#sk-container-id-1 pre{padding: 0;}#sk-container-id-1 div.sk-toggleable {background-color: white;}#sk-container-id-1 label.sk-toggleable__label {cursor: pointer;display: block;width: 100%;margin-bottom: 0;padding: 0.3em;box-sizing: border-box;text-align: center;}#sk-container-id-1 label.sk-toggleable__label-arrow:before {content: \"▸\";float: left;margin-right: 0.25em;color: #696969;}#sk-container-id-1 label.sk-toggleable__label-arrow:hover:before {color: black;}#sk-container-id-1 div.sk-estimator:hover label.sk-toggleable__label-arrow:before {color: black;}#sk-container-id-1 div.sk-toggleable__content {max-height: 0;max-width: 0;overflow: hidden;text-align: left;background-color: #f0f8ff;}#sk-container-id-1 div.sk-toggleable__content pre {margin: 0.2em;color: black;border-radius: 0.25em;background-color: #f0f8ff;}#sk-container-id-1 input.sk-toggleable__control:checked~div.sk-toggleable__content {max-height: 200px;max-width: 100%;overflow: auto;}#sk-container-id-1 input.sk-toggleable__control:checked~label.sk-toggleable__label-arrow:before {content: \"▾\";}#sk-container-id-1 div.sk-estimator input.sk-toggleable__control:checked~label.sk-toggleable__label {background-color: #d4ebff;}#sk-container-id-1 div.sk-label input.sk-toggleable__control:checked~label.sk-toggleable__label {background-color: #d4ebff;}#sk-container-id-1 input.sk-hidden--visually {border: 0;clip: rect(1px 1px 1px 1px);clip: rect(1px, 1px, 1px, 1px);height: 1px;margin: -1px;overflow: hidden;padding: 0;position: absolute;width: 1px;}#sk-container-id-1 div.sk-estimator {font-family: monospace;background-color: #f0f8ff;border: 1px dotted black;border-radius: 0.25em;box-sizing: border-box;margin-bottom: 0.5em;}#sk-container-id-1 div.sk-estimator:hover {background-color: #d4ebff;}#sk-container-id-1 div.sk-parallel-item::after {content: \"\";width: 100%;border-bottom: 1px solid gray;flex-grow: 1;}#sk-container-id-1 div.sk-label:hover label.sk-toggleable__label {background-color: #d4ebff;}#sk-container-id-1 div.sk-serial::before {content: \"\";position: absolute;border-left: 1px solid gray;box-sizing: border-box;top: 0;bottom: 0;left: 50%;z-index: 0;}#sk-container-id-1 div.sk-serial {display: flex;flex-direction: column;align-items: center;background-color: white;padding-right: 0.2em;padding-left: 0.2em;position: relative;}#sk-container-id-1 div.sk-item {position: relative;z-index: 1;}#sk-container-id-1 div.sk-parallel {display: flex;align-items: stretch;justify-content: center;background-color: white;position: relative;}#sk-container-id-1 div.sk-item::before, #sk-container-id-1 div.sk-parallel-item::before {content: \"\";position: absolute;border-left: 1px solid gray;box-sizing: border-box;top: 0;bottom: 0;left: 50%;z-index: -1;}#sk-container-id-1 div.sk-parallel-item {display: flex;flex-direction: column;z-index: 1;position: relative;background-color: white;}#sk-container-id-1 div.sk-parallel-item:first-child::after {align-self: flex-end;width: 50%;}#sk-container-id-1 div.sk-parallel-item:last-child::after {align-self: flex-start;width: 50%;}#sk-container-id-1 div.sk-parallel-item:only-child::after {width: 0;}#sk-container-id-1 div.sk-dashed-wrapped {border: 1px dashed gray;margin: 0 0.4em 0.5em 0.4em;box-sizing: border-box;padding-bottom: 0.4em;background-color: white;}#sk-container-id-1 div.sk-label label {font-family: monospace;font-weight: bold;display: inline-block;line-height: 1.2em;}#sk-container-id-1 div.sk-label-container {text-align: center;}#sk-container-id-1 div.sk-container {/* jupyter's `normalize.less` sets `[hidden] { display: none; }` but bootstrap.min.css set `[hidden] { display: none !important; }` so we also need the `!important` here to be able to override the default hidden behavior on the sphinx rendered scikit-learn.org. See: https://github.com/scikit-learn/scikit-learn/issues/21755 */display: inline-block !important;position: relative;}#sk-container-id-1 div.sk-text-repr-fallback {display: none;}</style><div id=\"sk-container-id-1\" class=\"sk-top-container\"><div class=\"sk-text-repr-fallback\"><pre>KNeighborsClassifier()</pre><b>In a Jupyter environment, please rerun this cell to show the HTML representation or trust the notebook. <br />On GitHub, the HTML representation is unable to render, please try loading this page with nbviewer.org.</b></div><div class=\"sk-container\" hidden><div class=\"sk-item\"><div class=\"sk-estimator sk-toggleable\"><input class=\"sk-toggleable__control sk-hidden--visually\" id=\"sk-estimator-id-1\" type=\"checkbox\" checked><label for=\"sk-estimator-id-1\" class=\"sk-toggleable__label sk-toggleable__label-arrow\">KNeighborsClassifier</label><div class=\"sk-toggleable__content\"><pre>KNeighborsClassifier()</pre></div></div></div></div></div>"
      ],
      "text/plain": [
       "KNeighborsClassifier()"
      ]
     },
     "execution_count": 36,
     "metadata": {},
     "output_type": "execute_result"
    }
   ],
   "source": [
    "knn_clf = KNeighborsClassifier()\n",
    "knn_clf.fit(X_train_vectorized, y_multi_label_train)"
   ]
  },
  {
   "cell_type": "code",
   "execution_count": null,
   "metadata": {
    "colab": {
     "base_uri": "https://localhost:8080/"
    },
    "id": "RhiyX15_W7az",
    "outputId": "e89401f0-bf0b-4b1a-c0a8-c3c7b159aa6a"
   },
   "outputs": [
    {
     "name": "stdout",
     "output_type": "stream",
     "text": [
      "Predicted labels KNN: [[1 0 2]]\n"
     ]
    }
   ],
   "source": [
    "test_sample = ['In order to test this hypothesis, we conducted a series of experiments.']\n",
    "test_sample_vectorized = vectorizer.transform(test_sample)\n",
    "predictions = knn_clf.predict(test_sample_vectorized)\n",
    "\n",
    "print('Predicted labels KNN:', predictions)"
   ]
  },
  {
   "cell_type": "code",
   "execution_count": null,
   "metadata": {
    "colab": {
     "base_uri": "https://localhost:8080/"
    },
    "id": "LrvSQwxoW-Dm",
    "outputId": "bc904115-630b-4207-d552-cd691b920cba"
   },
   "outputs": [
    {
     "name": "stdout",
     "output_type": "stream",
     "text": [
      "Accuracy KNN: 0.468\n"
     ]
    }
   ],
   "source": [
    "from sklearn.metrics import accuracy_score\n",
    "y_pred_label_knn = knn_clf.predict(X_test_vectorized)\n",
    "\n",
    "true_labels_flat_knn = [label for sublist in y_multi_label_test for label in sublist]\n",
    "predicted_labels_flat_knn = [label for sublist in y_pred_label_knn for label in sublist]\n",
    "\n",
    "accuracy_knn = accuracy_score(true_labels_flat_knn, predicted_labels_flat_knn)\n",
    "\n",
    "print(\"Accuracy KNN:\", accuracy_knn)"
   ]
  },
  {
   "cell_type": "code",
   "execution_count": null,
   "metadata": {
    "colab": {
     "base_uri": "https://localhost:8080/"
    },
    "id": "7UliBpeEXTpF",
    "outputId": "8529ecd9-5827-4e13-a55d-b3fb91030272"
   },
   "outputs": [
    {
     "name": "stdout",
     "output_type": "stream",
     "text": [
      "              precision    recall  f1-score   support\n",
      "\n",
      "           0       0.45      0.60      0.52       414\n",
      "           1       0.52      0.44      0.47       432\n",
      "           2       0.50      0.46      0.48       389\n",
      "           3       0.32      0.18      0.24        65\n",
      "           4       0.36      0.33      0.35        54\n",
      "           5       0.42      0.44      0.43        71\n",
      "           6       0.38      0.36      0.37        75\n",
      "\n",
      "    accuracy                           0.47      1500\n",
      "   macro avg       0.42      0.40      0.41      1500\n",
      "weighted avg       0.47      0.47      0.46      1500\n",
      "\n"
     ]
    }
   ],
   "source": [
    "classification_report_knn = classification_report(true_labels_flat_knn, predicted_labels_flat_knn)\n",
    "print(classification_report_knn)"
   ]
  },
  {
   "cell_type": "code",
   "execution_count": null,
   "metadata": {
    "colab": {
     "base_uri": "https://localhost:8080/"
    },
    "id": "94nXKbF41DD0",
    "outputId": "a73d5b6f-ac37-4789-ca62-e7f6983b4d3b"
   },
   "outputs": [
    {
     "name": "stderr",
     "output_type": "stream",
     "text": [
      "/usr/local/lib/python3.10/dist-packages/numpy/lib/arraysetops.py:604: FutureWarning: elementwise comparison failed; returning scalar instead, but in the future will perform elementwise comparison\n",
      "  mask &= (ar1 != a)\n",
      "/usr/local/lib/python3.10/dist-packages/numpy/lib/arraysetops.py:604: FutureWarning: elementwise comparison failed; returning scalar instead, but in the future will perform elementwise comparison\n",
      "  mask &= (ar1 != a)\n",
      "/usr/local/lib/python3.10/dist-packages/numpy/lib/arraysetops.py:604: FutureWarning: elementwise comparison failed; returning scalar instead, but in the future will perform elementwise comparison\n",
      "  mask &= (ar1 != a)\n"
     ]
    }
   ],
   "source": [
    "from sklearn.metrics import precision_recall_fscore_support\n",
    "\n",
    "# Convert labels to strings\n",
    "true_labels_flat_knn = [str(label) for label in true_labels_flat_knn]\n",
    "predicted_labels_flat_knn = [str(label) for label in predicted_labels_flat_knn]\n",
    "\n",
    "# Calculate precision, recall, F1-score, and support for each label\n",
    "precision_task1, recall_task1, f1_task1, support_task1 = precision_recall_fscore_support(true_labels_flat_knn, predicted_labels_flat_knn, labels=label_encode_task1_test.classes_, zero_division=0)\n",
    "precision_task2, recall_task2, f1_task2, support_task2 = precision_recall_fscore_support(true_labels_flat_knn, predicted_labels_flat_knn, labels=label_encode_task2_test.classes_, zero_division=0)\n",
    "precision_purpose, recall_purpose, f1_purpose, support_purpose = precision_recall_fscore_support(true_labels_flat_knn, predicted_labels_flat_knn, labels=label_encode_purpose_test.classes_, zero_division=0)\n",
    "\n",
    "# Calculate F1-macro for Task 1\n",
    "f1_macro_task1 = f1_score(true_labels_flat_knn, predicted_labels_flat_knn, average='macro', labels=label_encode_task1_test.transform(label_encode_task1_test.classes_))\n",
    "\n",
    "# Calculate F1-macro for Task 2\n",
    "f1_macro_task2 = f1_score(true_labels_flat_knn, predicted_labels_flat_knn, average='macro', labels=label_encode_task2_test.transform(label_encode_task2_test.classes_))\n",
    "\n",
    "# Calculate F1-macro for Purpose\n",
    "f1_macro_purpose = f1_score(true_labels_flat_knn, predicted_labels_flat_knn, average='macro', labels=label_encode_purpose_test.transform(label_encode_purpose_test.classes_))"
   ]
  },
  {
   "cell_type": "code",
   "execution_count": null,
   "metadata": {
    "colab": {
     "base_uri": "https://localhost:8080/"
    },
    "id": "tUmWPTH81Zfm",
    "outputId": "75268c53-fc67-4522-c2f0-c4b26aa97d0c"
   },
   "outputs": [
    {
     "name": "stdout",
     "output_type": "stream",
     "text": [
      "F1-macro Task 1: 0.48854919905558863\n",
      "F1-macro Task 2: 0.4064282936141052\n",
      "F1-macro Purpose: 0.48854919905558863\n"
     ]
    }
   ],
   "source": [
    "# Print F1-macro for Task 1\n",
    "print(\"F1-macro Task 1:\", f1_macro_task1)\n",
    "\n",
    "# Print F1-macro for Task 2\n",
    "print(\"F1-macro Task 2:\", f1_macro_task2)\n",
    "\n",
    "# Print F1-macro for Purpose\n",
    "print(\"F1-macro Purpose:\", f1_macro_purpose)"
   ]
  },
  {
   "cell_type": "markdown",
   "metadata": {
    "id": "OL1VElkZX6Dy"
   },
   "source": [
    "# **SVM**"
   ]
  },
  {
   "cell_type": "code",
   "execution_count": null,
   "metadata": {
    "colab": {
     "base_uri": "https://localhost:8080/",
     "height": 118
    },
    "id": "S6JO1hm7X8OQ",
    "outputId": "324a6ff3-4fea-4249-dad3-5cf70ec7be5e"
   },
   "outputs": [
    {
     "data": {
      "text/html": [
       "<style>#sk-container-id-2 {color: black;background-color: white;}#sk-container-id-2 pre{padding: 0;}#sk-container-id-2 div.sk-toggleable {background-color: white;}#sk-container-id-2 label.sk-toggleable__label {cursor: pointer;display: block;width: 100%;margin-bottom: 0;padding: 0.3em;box-sizing: border-box;text-align: center;}#sk-container-id-2 label.sk-toggleable__label-arrow:before {content: \"▸\";float: left;margin-right: 0.25em;color: #696969;}#sk-container-id-2 label.sk-toggleable__label-arrow:hover:before {color: black;}#sk-container-id-2 div.sk-estimator:hover label.sk-toggleable__label-arrow:before {color: black;}#sk-container-id-2 div.sk-toggleable__content {max-height: 0;max-width: 0;overflow: hidden;text-align: left;background-color: #f0f8ff;}#sk-container-id-2 div.sk-toggleable__content pre {margin: 0.2em;color: black;border-radius: 0.25em;background-color: #f0f8ff;}#sk-container-id-2 input.sk-toggleable__control:checked~div.sk-toggleable__content {max-height: 200px;max-width: 100%;overflow: auto;}#sk-container-id-2 input.sk-toggleable__control:checked~label.sk-toggleable__label-arrow:before {content: \"▾\";}#sk-container-id-2 div.sk-estimator input.sk-toggleable__control:checked~label.sk-toggleable__label {background-color: #d4ebff;}#sk-container-id-2 div.sk-label input.sk-toggleable__control:checked~label.sk-toggleable__label {background-color: #d4ebff;}#sk-container-id-2 input.sk-hidden--visually {border: 0;clip: rect(1px 1px 1px 1px);clip: rect(1px, 1px, 1px, 1px);height: 1px;margin: -1px;overflow: hidden;padding: 0;position: absolute;width: 1px;}#sk-container-id-2 div.sk-estimator {font-family: monospace;background-color: #f0f8ff;border: 1px dotted black;border-radius: 0.25em;box-sizing: border-box;margin-bottom: 0.5em;}#sk-container-id-2 div.sk-estimator:hover {background-color: #d4ebff;}#sk-container-id-2 div.sk-parallel-item::after {content: \"\";width: 100%;border-bottom: 1px solid gray;flex-grow: 1;}#sk-container-id-2 div.sk-label:hover label.sk-toggleable__label {background-color: #d4ebff;}#sk-container-id-2 div.sk-serial::before {content: \"\";position: absolute;border-left: 1px solid gray;box-sizing: border-box;top: 0;bottom: 0;left: 50%;z-index: 0;}#sk-container-id-2 div.sk-serial {display: flex;flex-direction: column;align-items: center;background-color: white;padding-right: 0.2em;padding-left: 0.2em;position: relative;}#sk-container-id-2 div.sk-item {position: relative;z-index: 1;}#sk-container-id-2 div.sk-parallel {display: flex;align-items: stretch;justify-content: center;background-color: white;position: relative;}#sk-container-id-2 div.sk-item::before, #sk-container-id-2 div.sk-parallel-item::before {content: \"\";position: absolute;border-left: 1px solid gray;box-sizing: border-box;top: 0;bottom: 0;left: 50%;z-index: -1;}#sk-container-id-2 div.sk-parallel-item {display: flex;flex-direction: column;z-index: 1;position: relative;background-color: white;}#sk-container-id-2 div.sk-parallel-item:first-child::after {align-self: flex-end;width: 50%;}#sk-container-id-2 div.sk-parallel-item:last-child::after {align-self: flex-start;width: 50%;}#sk-container-id-2 div.sk-parallel-item:only-child::after {width: 0;}#sk-container-id-2 div.sk-dashed-wrapped {border: 1px dashed gray;margin: 0 0.4em 0.5em 0.4em;box-sizing: border-box;padding-bottom: 0.4em;background-color: white;}#sk-container-id-2 div.sk-label label {font-family: monospace;font-weight: bold;display: inline-block;line-height: 1.2em;}#sk-container-id-2 div.sk-label-container {text-align: center;}#sk-container-id-2 div.sk-container {/* jupyter's `normalize.less` sets `[hidden] { display: none; }` but bootstrap.min.css set `[hidden] { display: none !important; }` so we also need the `!important` here to be able to override the default hidden behavior on the sphinx rendered scikit-learn.org. See: https://github.com/scikit-learn/scikit-learn/issues/21755 */display: inline-block !important;position: relative;}#sk-container-id-2 div.sk-text-repr-fallback {display: none;}</style><div id=\"sk-container-id-2\" class=\"sk-top-container\"><div class=\"sk-text-repr-fallback\"><pre>MultiOutputClassifier(estimator=SVC(kernel=&#x27;linear&#x27;))</pre><b>In a Jupyter environment, please rerun this cell to show the HTML representation or trust the notebook. <br />On GitHub, the HTML representation is unable to render, please try loading this page with nbviewer.org.</b></div><div class=\"sk-container\" hidden><div class=\"sk-item sk-dashed-wrapped\"><div class=\"sk-label-container\"><div class=\"sk-label sk-toggleable\"><input class=\"sk-toggleable__control sk-hidden--visually\" id=\"sk-estimator-id-2\" type=\"checkbox\" ><label for=\"sk-estimator-id-2\" class=\"sk-toggleable__label sk-toggleable__label-arrow\">MultiOutputClassifier</label><div class=\"sk-toggleable__content\"><pre>MultiOutputClassifier(estimator=SVC(kernel=&#x27;linear&#x27;))</pre></div></div></div><div class=\"sk-parallel\"><div class=\"sk-parallel-item\"><div class=\"sk-item\"><div class=\"sk-label-container\"><div class=\"sk-label sk-toggleable\"><input class=\"sk-toggleable__control sk-hidden--visually\" id=\"sk-estimator-id-3\" type=\"checkbox\" ><label for=\"sk-estimator-id-3\" class=\"sk-toggleable__label sk-toggleable__label-arrow\">estimator: SVC</label><div class=\"sk-toggleable__content\"><pre>SVC(kernel=&#x27;linear&#x27;)</pre></div></div></div><div class=\"sk-serial\"><div class=\"sk-item\"><div class=\"sk-estimator sk-toggleable\"><input class=\"sk-toggleable__control sk-hidden--visually\" id=\"sk-estimator-id-4\" type=\"checkbox\" ><label for=\"sk-estimator-id-4\" class=\"sk-toggleable__label sk-toggleable__label-arrow\">SVC</label><div class=\"sk-toggleable__content\"><pre>SVC(kernel=&#x27;linear&#x27;)</pre></div></div></div></div></div></div></div></div></div></div>"
      ],
      "text/plain": [
       "MultiOutputClassifier(estimator=SVC(kernel='linear'))"
      ]
     },
     "execution_count": 40,
     "metadata": {},
     "output_type": "execute_result"
    }
   ],
   "source": [
    "svm = SVC(kernel='linear')\n",
    "\n",
    "# Create a multi-output classifier using the SVM classifier\n",
    "multi_output_svm = MultiOutputClassifier(svm)\n",
    "\n",
    "# Fit the multi-output classifier on the training data\n",
    "multi_output_svm.fit(X_train_vectorized, y_multi_label_train)"
   ]
  },
  {
   "cell_type": "code",
   "execution_count": null,
   "metadata": {
    "colab": {
     "base_uri": "https://localhost:8080/"
    },
    "id": "sGkeQwD0YAoS",
    "outputId": "b263525b-aa41-4de1-a7cc-213960b78b81"
   },
   "outputs": [
    {
     "name": "stdout",
     "output_type": "stream",
     "text": [
      "Predicted labels SVM: [[1 5 2]]\n"
     ]
    }
   ],
   "source": [
    "# Predict the labels for the test data\n",
    "y_pred_svm = multi_output_svm.predict(test_sample_vectorized)\n",
    "print('Predicted labels SVM:', y_pred_svm)"
   ]
  },
  {
   "cell_type": "code",
   "execution_count": null,
   "metadata": {
    "colab": {
     "base_uri": "https://localhost:8080/"
    },
    "id": "SLoisIvlYDK9",
    "outputId": "b5ec88ab-c20e-43a9-ca02-c05ccebbede6"
   },
   "outputs": [
    {
     "name": "stdout",
     "output_type": "stream",
     "text": [
      "Accuracy SVM: 0.57\n"
     ]
    }
   ],
   "source": [
    "y_pred_label_svm = multi_output_svm.predict(X_test_vectorized)\n",
    "\n",
    "true_labels_flat_svm = [label for sublist in y_multi_label_test for label in sublist]\n",
    "predicted_labels_flat_svm = [label for sublist in y_pred_label_svm for label in sublist]\n",
    "\n",
    "accuracy_svm = accuracy_score(true_labels_flat_svm, predicted_labels_flat_svm)\n",
    "\n",
    "print(\"Accuracy SVM:\", accuracy_svm)"
   ]
  },
  {
   "cell_type": "code",
   "execution_count": null,
   "metadata": {
    "colab": {
     "base_uri": "https://localhost:8080/"
    },
    "id": "-PPAkdzwYGWr",
    "outputId": "97ee955e-97b4-402a-8095-a8a2c84189c6"
   },
   "outputs": [
    {
     "name": "stdout",
     "output_type": "stream",
     "text": [
      "              precision    recall  f1-score   support\n",
      "\n",
      "           0       0.61      0.57      0.59       414\n",
      "           1       0.58      0.60      0.59       432\n",
      "           2       0.56      0.61      0.59       389\n",
      "           3       0.43      0.20      0.27        65\n",
      "           4       0.58      0.61      0.59        54\n",
      "           5       0.44      0.49      0.47        71\n",
      "           6       0.49      0.52      0.51        75\n",
      "\n",
      "    accuracy                           0.57      1500\n",
      "   macro avg       0.53      0.52      0.52      1500\n",
      "weighted avg       0.57      0.57      0.57      1500\n",
      "\n"
     ]
    }
   ],
   "source": [
    "classification_report_svm = classification_report(true_labels_flat_svm, predicted_labels_flat_svm)\n",
    "print(classification_report_svm)"
   ]
  },
  {
   "cell_type": "code",
   "execution_count": null,
   "metadata": {
    "colab": {
     "base_uri": "https://localhost:8080/"
    },
    "id": "lUQ9DadzGtxs",
    "outputId": "84a774d2-e016-48a6-cb39-142fc7b6f4a6"
   },
   "outputs": [
    {
     "name": "stderr",
     "output_type": "stream",
     "text": [
      "/usr/local/lib/python3.10/dist-packages/numpy/lib/arraysetops.py:604: FutureWarning: elementwise comparison failed; returning scalar instead, but in the future will perform elementwise comparison\n",
      "  mask &= (ar1 != a)\n",
      "/usr/local/lib/python3.10/dist-packages/numpy/lib/arraysetops.py:604: FutureWarning: elementwise comparison failed; returning scalar instead, but in the future will perform elementwise comparison\n",
      "  mask &= (ar1 != a)\n",
      "/usr/local/lib/python3.10/dist-packages/numpy/lib/arraysetops.py:604: FutureWarning: elementwise comparison failed; returning scalar instead, but in the future will perform elementwise comparison\n",
      "  mask &= (ar1 != a)\n"
     ]
    }
   ],
   "source": [
    "from sklearn.metrics import precision_recall_fscore_support, f1_score\n",
    "\n",
    "# Convert labels to strings\n",
    "true_labels_flat_svm = [str(label) for label in true_labels_flat_svm]\n",
    "predicted_labels_flat_svm = [str(label) for label in predicted_labels_flat_svm]\n",
    "\n",
    "# Calculate precision, recall, F1-score, and support for each label for Task 1\n",
    "precision_task1, recall_task1, f1_task1, support_task1 = precision_recall_fscore_support(true_labels_flat_svm, predicted_labels_flat_svm, labels=label_encode_task1_test.classes_, zero_division=0)\n",
    "\n",
    "# Calculate precision, recall, F1-score, and support for each label for Task 2\n",
    "precision_task2, recall_task2, f1_task2, support_task2 = precision_recall_fscore_support(true_labels_flat_svm, predicted_labels_flat_svm, labels=label_encode_task2_test.classes_, zero_division=0)\n",
    "\n",
    "# Calculate precision, recall, F1-score, and support for each label for Purpose\n",
    "precision_purpose, recall_purpose, f1_purpose, support_purpose = precision_recall_fscore_support(true_labels_flat_svm, predicted_labels_flat_svm, labels=label_encode_purpose_test.classes_, zero_division=0)\n",
    "\n",
    "# Calculate F1-macro for Task 1\n",
    "f1_macro_task1 = f1_score(true_labels_flat_svm, predicted_labels_flat_svm, average='macro', labels=label_encode_task1_test.transform(label_encode_task1_test.classes_))\n",
    "\n",
    "# Calculate F1-macro for Task 2\n",
    "f1_macro_task2 = f1_score(true_labels_flat_svm, predicted_labels_flat_svm, average='macro', labels=label_encode_task2_test.transform(label_encode_task2_test.classes_))\n",
    "\n",
    "# Calculate F1-macro for Purpose\n",
    "f1_macro_purpose = f1_score(true_labels_flat_svm, predicted_labels_flat_svm, average='macro', labels=label_encode_purpose_test.transform(label_encode_purpose_test.classes_))"
   ]
  },
  {
   "cell_type": "code",
   "execution_count": null,
   "metadata": {
    "colab": {
     "base_uri": "https://localhost:8080/"
    },
    "id": "v9dnxLlUGw7V",
    "outputId": "d74cc7e6-25f2-4ace-8466-16e535b9c058"
   },
   "outputs": [
    {
     "name": "stdout",
     "output_type": "stream",
     "text": [
      "F1-macro Task 1 (SVM): 0.5902890011223344\n",
      "F1-macro Task 2 (SVM): 0.5160437116640125\n",
      "F1-macro Purpose (SVM): 0.5902890011223344\n"
     ]
    }
   ],
   "source": [
    "# Print the results\n",
    "print(\"F1-macro Task 1 (SVM):\", f1_macro_task1)\n",
    "print(\"F1-macro Task 2 (SVM):\", f1_macro_task2)\n",
    "print(\"F1-macro Purpose (SVM):\", f1_macro_purpose)"
   ]
  },
  {
   "cell_type": "markdown",
   "metadata": {
    "id": "_ryO4q2fYIh9"
   },
   "source": [
    "# **Random Forest**"
   ]
  },
  {
   "cell_type": "code",
   "execution_count": null,
   "metadata": {
    "colab": {
     "base_uri": "https://localhost:8080/",
     "height": 75
    },
    "id": "0yaPySu3YKPp",
    "outputId": "f0d88000-f564-4d73-b550-c9b2b9459d16"
   },
   "outputs": [
    {
     "data": {
      "text/html": [
       "<style>#sk-container-id-3 {color: black;background-color: white;}#sk-container-id-3 pre{padding: 0;}#sk-container-id-3 div.sk-toggleable {background-color: white;}#sk-container-id-3 label.sk-toggleable__label {cursor: pointer;display: block;width: 100%;margin-bottom: 0;padding: 0.3em;box-sizing: border-box;text-align: center;}#sk-container-id-3 label.sk-toggleable__label-arrow:before {content: \"▸\";float: left;margin-right: 0.25em;color: #696969;}#sk-container-id-3 label.sk-toggleable__label-arrow:hover:before {color: black;}#sk-container-id-3 div.sk-estimator:hover label.sk-toggleable__label-arrow:before {color: black;}#sk-container-id-3 div.sk-toggleable__content {max-height: 0;max-width: 0;overflow: hidden;text-align: left;background-color: #f0f8ff;}#sk-container-id-3 div.sk-toggleable__content pre {margin: 0.2em;color: black;border-radius: 0.25em;background-color: #f0f8ff;}#sk-container-id-3 input.sk-toggleable__control:checked~div.sk-toggleable__content {max-height: 200px;max-width: 100%;overflow: auto;}#sk-container-id-3 input.sk-toggleable__control:checked~label.sk-toggleable__label-arrow:before {content: \"▾\";}#sk-container-id-3 div.sk-estimator input.sk-toggleable__control:checked~label.sk-toggleable__label {background-color: #d4ebff;}#sk-container-id-3 div.sk-label input.sk-toggleable__control:checked~label.sk-toggleable__label {background-color: #d4ebff;}#sk-container-id-3 input.sk-hidden--visually {border: 0;clip: rect(1px 1px 1px 1px);clip: rect(1px, 1px, 1px, 1px);height: 1px;margin: -1px;overflow: hidden;padding: 0;position: absolute;width: 1px;}#sk-container-id-3 div.sk-estimator {font-family: monospace;background-color: #f0f8ff;border: 1px dotted black;border-radius: 0.25em;box-sizing: border-box;margin-bottom: 0.5em;}#sk-container-id-3 div.sk-estimator:hover {background-color: #d4ebff;}#sk-container-id-3 div.sk-parallel-item::after {content: \"\";width: 100%;border-bottom: 1px solid gray;flex-grow: 1;}#sk-container-id-3 div.sk-label:hover label.sk-toggleable__label {background-color: #d4ebff;}#sk-container-id-3 div.sk-serial::before {content: \"\";position: absolute;border-left: 1px solid gray;box-sizing: border-box;top: 0;bottom: 0;left: 50%;z-index: 0;}#sk-container-id-3 div.sk-serial {display: flex;flex-direction: column;align-items: center;background-color: white;padding-right: 0.2em;padding-left: 0.2em;position: relative;}#sk-container-id-3 div.sk-item {position: relative;z-index: 1;}#sk-container-id-3 div.sk-parallel {display: flex;align-items: stretch;justify-content: center;background-color: white;position: relative;}#sk-container-id-3 div.sk-item::before, #sk-container-id-3 div.sk-parallel-item::before {content: \"\";position: absolute;border-left: 1px solid gray;box-sizing: border-box;top: 0;bottom: 0;left: 50%;z-index: -1;}#sk-container-id-3 div.sk-parallel-item {display: flex;flex-direction: column;z-index: 1;position: relative;background-color: white;}#sk-container-id-3 div.sk-parallel-item:first-child::after {align-self: flex-end;width: 50%;}#sk-container-id-3 div.sk-parallel-item:last-child::after {align-self: flex-start;width: 50%;}#sk-container-id-3 div.sk-parallel-item:only-child::after {width: 0;}#sk-container-id-3 div.sk-dashed-wrapped {border: 1px dashed gray;margin: 0 0.4em 0.5em 0.4em;box-sizing: border-box;padding-bottom: 0.4em;background-color: white;}#sk-container-id-3 div.sk-label label {font-family: monospace;font-weight: bold;display: inline-block;line-height: 1.2em;}#sk-container-id-3 div.sk-label-container {text-align: center;}#sk-container-id-3 div.sk-container {/* jupyter's `normalize.less` sets `[hidden] { display: none; }` but bootstrap.min.css set `[hidden] { display: none !important; }` so we also need the `!important` here to be able to override the default hidden behavior on the sphinx rendered scikit-learn.org. See: https://github.com/scikit-learn/scikit-learn/issues/21755 */display: inline-block !important;position: relative;}#sk-container-id-3 div.sk-text-repr-fallback {display: none;}</style><div id=\"sk-container-id-3\" class=\"sk-top-container\"><div class=\"sk-text-repr-fallback\"><pre>RandomForestClassifier()</pre><b>In a Jupyter environment, please rerun this cell to show the HTML representation or trust the notebook. <br />On GitHub, the HTML representation is unable to render, please try loading this page with nbviewer.org.</b></div><div class=\"sk-container\" hidden><div class=\"sk-item\"><div class=\"sk-estimator sk-toggleable\"><input class=\"sk-toggleable__control sk-hidden--visually\" id=\"sk-estimator-id-5\" type=\"checkbox\" checked><label for=\"sk-estimator-id-5\" class=\"sk-toggleable__label sk-toggleable__label-arrow\">RandomForestClassifier</label><div class=\"sk-toggleable__content\"><pre>RandomForestClassifier()</pre></div></div></div></div></div>"
      ],
      "text/plain": [
       "RandomForestClassifier()"
      ]
     },
     "execution_count": 44,
     "metadata": {},
     "output_type": "execute_result"
    }
   ],
   "source": [
    "random_forest = RandomForestClassifier()\n",
    "random_forest.fit(X_train_vectorized,y_multi_label_train)"
   ]
  },
  {
   "cell_type": "code",
   "execution_count": null,
   "metadata": {
    "colab": {
     "base_uri": "https://localhost:8080/"
    },
    "id": "G8nFoZeZYPHX",
    "outputId": "20048da3-f24a-4280-b594-50c3fda5d785"
   },
   "outputs": [
    {
     "name": "stdout",
     "output_type": "stream",
     "text": [
      "Predicted labels Random Forest: [[2 5 2]]\n"
     ]
    }
   ],
   "source": [
    "y_pred_forest = random_forest.predict(test_sample_vectorized)\n",
    "print('Predicted labels Random Forest:', y_pred_forest)"
   ]
  },
  {
   "cell_type": "code",
   "execution_count": null,
   "metadata": {
    "colab": {
     "base_uri": "https://localhost:8080/"
    },
    "id": "aApMcRYfYUcd",
    "outputId": "8a3733f9-fd15-4134-9ff5-0d12cb16853f"
   },
   "outputs": [
    {
     "name": "stdout",
     "output_type": "stream",
     "text": [
      "Accuracy Random Forest: 0.5526666666666666\n"
     ]
    }
   ],
   "source": [
    "y_pred_label_forest= random_forest.predict(X_test_vectorized)\n",
    "\n",
    "true_labels_flat_rdfr = [label for sublist in y_multi_label_test for label in sublist]\n",
    "predicted_labels_flat_rdfr = [label for sublist in y_pred_label_forest for label in sublist]\n",
    "\n",
    "accuracy_rdfr = accuracy_score(true_labels_flat_rdfr, predicted_labels_flat_rdfr)\n",
    "\n",
    "print(\"Accuracy Random Forest:\", accuracy_rdfr)"
   ]
  },
  {
   "cell_type": "code",
   "execution_count": null,
   "metadata": {
    "colab": {
     "base_uri": "https://localhost:8080/"
    },
    "id": "A6243XnfYaOX",
    "outputId": "a3e4210d-01df-4197-f7d7-9b7383e66e66"
   },
   "outputs": [
    {
     "name": "stdout",
     "output_type": "stream",
     "text": [
      "              precision    recall  f1-score   support\n",
      "\n",
      "           0       0.60      0.55      0.58       414\n",
      "           1       0.56      0.56      0.56       432\n",
      "           2       0.56      0.60      0.58       389\n",
      "           3       0.36      0.20      0.26        65\n",
      "           4       0.66      0.65      0.65        54\n",
      "           5       0.45      0.46      0.46        71\n",
      "           6       0.40      0.56      0.47        75\n",
      "\n",
      "    accuracy                           0.55      1500\n",
      "   macro avg       0.51      0.51      0.51      1500\n",
      "weighted avg       0.55      0.55      0.55      1500\n",
      "\n"
     ]
    }
   ],
   "source": [
    "classification_report_rdfd = classification_report(true_labels_flat_rdfr, predicted_labels_flat_rdfr)\n",
    "print(classification_report_rdfd)"
   ]
  },
  {
   "cell_type": "code",
   "execution_count": null,
   "metadata": {
    "colab": {
     "base_uri": "https://localhost:8080/"
    },
    "id": "Ag1EvCrPG-Pw",
    "outputId": "cb4331e1-b207-4ed5-c37d-ce842dc4d78f"
   },
   "outputs": [
    {
     "name": "stderr",
     "output_type": "stream",
     "text": [
      "/usr/local/lib/python3.10/dist-packages/numpy/lib/arraysetops.py:604: FutureWarning: elementwise comparison failed; returning scalar instead, but in the future will perform elementwise comparison\n",
      "  mask &= (ar1 != a)\n",
      "/usr/local/lib/python3.10/dist-packages/numpy/lib/arraysetops.py:604: FutureWarning: elementwise comparison failed; returning scalar instead, but in the future will perform elementwise comparison\n",
      "  mask &= (ar1 != a)\n",
      "/usr/local/lib/python3.10/dist-packages/numpy/lib/arraysetops.py:604: FutureWarning: elementwise comparison failed; returning scalar instead, but in the future will perform elementwise comparison\n",
      "  mask &= (ar1 != a)\n"
     ]
    }
   ],
   "source": [
    "from sklearn.metrics import precision_recall_fscore_support, f1_score\n",
    "\n",
    "# Convert labels to strings\n",
    "true_labels_flat_rdfr = [str(label) for label in true_labels_flat_rdfr]\n",
    "predicted_labels_flat_rdfr = [str(label) for label in predicted_labels_flat_rdfr]\n",
    "\n",
    "# Calculate precision, recall, F1-score, and support for each label for Task 1\n",
    "precision_task1, recall_task1, f1_task1, support_task1 = precision_recall_fscore_support(true_labels_flat_rdfr, predicted_labels_flat_rdfr, labels=label_encode_task1_test.classes_, zero_division=0)\n",
    "\n",
    "# Calculate precision, recall, F1-score, and support for each label for Task 2\n",
    "precision_task2, recall_task2, f1_task2, support_task2 = precision_recall_fscore_support(true_labels_flat_rdfr, predicted_labels_flat_rdfr, labels=label_encode_task2_test.classes_, zero_division=0)\n",
    "\n",
    "# Calculate precision, recall, F1-score, and support for each label for Purpose\n",
    "precision_purpose, recall_purpose, f1_purpose, support_purpose = precision_recall_fscore_support(true_labels_flat_rdfr, predicted_labels_flat_rdfr, labels=label_encode_purpose_test.classes_, zero_division=0)\n",
    "\n",
    "# Calculate F1-macro for Task 1\n",
    "f1_macro_task1 = f1_score(true_labels_flat_rdfr, predicted_labels_flat_rdfr, average='macro', labels=label_encode_task1_test.transform(label_encode_task1_test.classes_))\n",
    "\n",
    "# Calculate F1-macro for Task 2\n",
    "f1_macro_task2 = f1_score(true_labels_flat_rdfr, predicted_labels_flat_rdfr, average='macro', labels=label_encode_task2_test.transform(label_encode_task2_test.classes_))\n",
    "\n",
    "# Calculate F1-macro for Purpose\n",
    "f1_macro_purpose = f1_score(true_labels_flat_rdfr, predicted_labels_flat_rdfr, average='macro', labels=label_encode_purpose_test.transform(label_encode_purpose_test.classes_))"
   ]
  },
  {
   "cell_type": "code",
   "execution_count": null,
   "metadata": {
    "colab": {
     "base_uri": "https://localhost:8080/"
    },
    "id": "9ByCww53HCuK",
    "outputId": "754c93e1-408a-4b19-c967-c2063a394d1d"
   },
   "outputs": [
    {
     "name": "stdout",
     "output_type": "stream",
     "text": [
      "F1-macro Task 1 (Random Forest): 0.5721992083310924\n",
      "F1-macro Task 2 (Random Forest): 0.5079765787706091\n",
      "F1-macro Purpose (Random Forest): 0.5721992083310924\n"
     ]
    }
   ],
   "source": [
    "# Print the results\n",
    "print(\"F1-macro Task 1 (Random Forest):\", f1_macro_task1)\n",
    "print(\"F1-macro Task 2 (Random Forest):\", f1_macro_task2)\n",
    "print(\"F1-macro Purpose (Random Forest):\", f1_macro_purpose)"
   ]
  },
  {
   "cell_type": "markdown",
   "metadata": {
    "id": "vF1i9cucYdp8"
   },
   "source": [
    "# **Decision Tree**"
   ]
  },
  {
   "cell_type": "code",
   "execution_count": null,
   "metadata": {
    "colab": {
     "base_uri": "https://localhost:8080/",
     "height": 75
    },
    "id": "yzyLxvxrYgMs",
    "outputId": "e41b0ff6-bae4-494d-c7d9-0c60a7175ca6"
   },
   "outputs": [
    {
     "data": {
      "text/html": [
       "<style>#sk-container-id-4 {color: black;background-color: white;}#sk-container-id-4 pre{padding: 0;}#sk-container-id-4 div.sk-toggleable {background-color: white;}#sk-container-id-4 label.sk-toggleable__label {cursor: pointer;display: block;width: 100%;margin-bottom: 0;padding: 0.3em;box-sizing: border-box;text-align: center;}#sk-container-id-4 label.sk-toggleable__label-arrow:before {content: \"▸\";float: left;margin-right: 0.25em;color: #696969;}#sk-container-id-4 label.sk-toggleable__label-arrow:hover:before {color: black;}#sk-container-id-4 div.sk-estimator:hover label.sk-toggleable__label-arrow:before {color: black;}#sk-container-id-4 div.sk-toggleable__content {max-height: 0;max-width: 0;overflow: hidden;text-align: left;background-color: #f0f8ff;}#sk-container-id-4 div.sk-toggleable__content pre {margin: 0.2em;color: black;border-radius: 0.25em;background-color: #f0f8ff;}#sk-container-id-4 input.sk-toggleable__control:checked~div.sk-toggleable__content {max-height: 200px;max-width: 100%;overflow: auto;}#sk-container-id-4 input.sk-toggleable__control:checked~label.sk-toggleable__label-arrow:before {content: \"▾\";}#sk-container-id-4 div.sk-estimator input.sk-toggleable__control:checked~label.sk-toggleable__label {background-color: #d4ebff;}#sk-container-id-4 div.sk-label input.sk-toggleable__control:checked~label.sk-toggleable__label {background-color: #d4ebff;}#sk-container-id-4 input.sk-hidden--visually {border: 0;clip: rect(1px 1px 1px 1px);clip: rect(1px, 1px, 1px, 1px);height: 1px;margin: -1px;overflow: hidden;padding: 0;position: absolute;width: 1px;}#sk-container-id-4 div.sk-estimator {font-family: monospace;background-color: #f0f8ff;border: 1px dotted black;border-radius: 0.25em;box-sizing: border-box;margin-bottom: 0.5em;}#sk-container-id-4 div.sk-estimator:hover {background-color: #d4ebff;}#sk-container-id-4 div.sk-parallel-item::after {content: \"\";width: 100%;border-bottom: 1px solid gray;flex-grow: 1;}#sk-container-id-4 div.sk-label:hover label.sk-toggleable__label {background-color: #d4ebff;}#sk-container-id-4 div.sk-serial::before {content: \"\";position: absolute;border-left: 1px solid gray;box-sizing: border-box;top: 0;bottom: 0;left: 50%;z-index: 0;}#sk-container-id-4 div.sk-serial {display: flex;flex-direction: column;align-items: center;background-color: white;padding-right: 0.2em;padding-left: 0.2em;position: relative;}#sk-container-id-4 div.sk-item {position: relative;z-index: 1;}#sk-container-id-4 div.sk-parallel {display: flex;align-items: stretch;justify-content: center;background-color: white;position: relative;}#sk-container-id-4 div.sk-item::before, #sk-container-id-4 div.sk-parallel-item::before {content: \"\";position: absolute;border-left: 1px solid gray;box-sizing: border-box;top: 0;bottom: 0;left: 50%;z-index: -1;}#sk-container-id-4 div.sk-parallel-item {display: flex;flex-direction: column;z-index: 1;position: relative;background-color: white;}#sk-container-id-4 div.sk-parallel-item:first-child::after {align-self: flex-end;width: 50%;}#sk-container-id-4 div.sk-parallel-item:last-child::after {align-self: flex-start;width: 50%;}#sk-container-id-4 div.sk-parallel-item:only-child::after {width: 0;}#sk-container-id-4 div.sk-dashed-wrapped {border: 1px dashed gray;margin: 0 0.4em 0.5em 0.4em;box-sizing: border-box;padding-bottom: 0.4em;background-color: white;}#sk-container-id-4 div.sk-label label {font-family: monospace;font-weight: bold;display: inline-block;line-height: 1.2em;}#sk-container-id-4 div.sk-label-container {text-align: center;}#sk-container-id-4 div.sk-container {/* jupyter's `normalize.less` sets `[hidden] { display: none; }` but bootstrap.min.css set `[hidden] { display: none !important; }` so we also need the `!important` here to be able to override the default hidden behavior on the sphinx rendered scikit-learn.org. See: https://github.com/scikit-learn/scikit-learn/issues/21755 */display: inline-block !important;position: relative;}#sk-container-id-4 div.sk-text-repr-fallback {display: none;}</style><div id=\"sk-container-id-4\" class=\"sk-top-container\"><div class=\"sk-text-repr-fallback\"><pre>DecisionTreeClassifier()</pre><b>In a Jupyter environment, please rerun this cell to show the HTML representation or trust the notebook. <br />On GitHub, the HTML representation is unable to render, please try loading this page with nbviewer.org.</b></div><div class=\"sk-container\" hidden><div class=\"sk-item\"><div class=\"sk-estimator sk-toggleable\"><input class=\"sk-toggleable__control sk-hidden--visually\" id=\"sk-estimator-id-6\" type=\"checkbox\" checked><label for=\"sk-estimator-id-6\" class=\"sk-toggleable__label sk-toggleable__label-arrow\">DecisionTreeClassifier</label><div class=\"sk-toggleable__content\"><pre>DecisionTreeClassifier()</pre></div></div></div></div></div>"
      ],
      "text/plain": [
       "DecisionTreeClassifier()"
      ]
     },
     "execution_count": 48,
     "metadata": {},
     "output_type": "execute_result"
    }
   ],
   "source": [
    "tree_clf = DecisionTreeClassifier()\n",
    "tree_clf.fit(X_train_vectorized,y_multi_label_train)"
   ]
  },
  {
   "cell_type": "code",
   "execution_count": null,
   "metadata": {
    "colab": {
     "base_uri": "https://localhost:8080/"
    },
    "id": "6BXDn_5rYdJw",
    "outputId": "79bfd0e9-a98b-41c8-82e6-f533fb049ba3"
   },
   "outputs": [
    {
     "name": "stdout",
     "output_type": "stream",
     "text": [
      "Predicted labels Decision Tree: [[1 5 2]]\n"
     ]
    }
   ],
   "source": [
    "y_pred_tree = tree_clf.predict(test_sample_vectorized)\n",
    "print('Predicted labels Decision Tree:', y_pred_tree)"
   ]
  },
  {
   "cell_type": "code",
   "execution_count": null,
   "metadata": {
    "colab": {
     "base_uri": "https://localhost:8080/"
    },
    "id": "ZpcDpe8rYlOP",
    "outputId": "c95d8459-106c-4056-9715-c6e2e56f98bf"
   },
   "outputs": [
    {
     "name": "stdout",
     "output_type": "stream",
     "text": [
      "Accuracy Decision Tree: 0.5233333333333333\n"
     ]
    }
   ],
   "source": [
    "y_pred_label_tree = tree_clf.predict(X_test_vectorized)\n",
    "\n",
    "true_labels_flat_tree = [label for sublist in y_multi_label_test for label in sublist]\n",
    "predicted_labels_flat_tree = [label for sublist in y_pred_label_tree for label in sublist]\n",
    "\n",
    "accuracy_tree = accuracy_score(true_labels_flat_tree, predicted_labels_flat_tree)\n",
    "\n",
    "print(\"Accuracy Decision Tree:\", accuracy_tree)"
   ]
  },
  {
   "cell_type": "code",
   "execution_count": null,
   "metadata": {
    "colab": {
     "base_uri": "https://localhost:8080/"
    },
    "id": "w0tVDU-vYnpb",
    "outputId": "63f01d62-7d0d-4891-d3e1-3ee20fb75542"
   },
   "outputs": [
    {
     "name": "stdout",
     "output_type": "stream",
     "text": [
      "              precision    recall  f1-score   support\n",
      "\n",
      "           0       0.53      0.56      0.54       414\n",
      "           1       0.55      0.54      0.55       432\n",
      "           2       0.54      0.57      0.56       389\n",
      "           3       0.33      0.34      0.33        65\n",
      "           4       0.62      0.59      0.60        54\n",
      "           5       0.42      0.35      0.38        71\n",
      "           6       0.35      0.28      0.31        75\n",
      "\n",
      "    accuracy                           0.52      1500\n",
      "   macro avg       0.48      0.46      0.47      1500\n",
      "weighted avg       0.52      0.52      0.52      1500\n",
      "\n"
     ]
    }
   ],
   "source": [
    "classification_report_tree = classification_report(true_labels_flat_tree, predicted_labels_flat_tree)\n",
    "print(classification_report_tree)"
   ]
  },
  {
   "cell_type": "code",
   "execution_count": null,
   "metadata": {
    "colab": {
     "base_uri": "https://localhost:8080/"
    },
    "id": "WRI8RjOiHjai",
    "outputId": "b7dadbb2-522f-44a8-aa65-d021f94be683"
   },
   "outputs": [
    {
     "name": "stderr",
     "output_type": "stream",
     "text": [
      "/usr/local/lib/python3.10/dist-packages/numpy/lib/arraysetops.py:604: FutureWarning: elementwise comparison failed; returning scalar instead, but in the future will perform elementwise comparison\n",
      "  mask &= (ar1 != a)\n",
      "/usr/local/lib/python3.10/dist-packages/numpy/lib/arraysetops.py:604: FutureWarning: elementwise comparison failed; returning scalar instead, but in the future will perform elementwise comparison\n",
      "  mask &= (ar1 != a)\n",
      "/usr/local/lib/python3.10/dist-packages/numpy/lib/arraysetops.py:604: FutureWarning: elementwise comparison failed; returning scalar instead, but in the future will perform elementwise comparison\n",
      "  mask &= (ar1 != a)\n"
     ]
    }
   ],
   "source": [
    "from sklearn.metrics import precision_recall_fscore_support, f1_score\n",
    "\n",
    "# Convert labels to strings\n",
    "true_labels_flat_tree = [str(label) for label in true_labels_flat_tree]\n",
    "predicted_labels_flat_tree = [str(label) for label in predicted_labels_flat_tree]\n",
    "\n",
    "# Calculate precision, recall, F1-score, and support for each label for Task 1\n",
    "precision_task1, recall_task1, f1_task1, support_task1 = precision_recall_fscore_support(true_labels_flat_tree, predicted_labels_flat_tree, labels=label_encode_task1_test.classes_, zero_division=0)\n",
    "\n",
    "# Calculate precision, recall, F1-score, and support for each label for Task 2\n",
    "precision_task2, recall_task2, f1_task2, support_task2 = precision_recall_fscore_support(true_labels_flat_tree, predicted_labels_flat_tree, labels=label_encode_task2_test.classes_, zero_division=0)\n",
    "\n",
    "# Calculate precision, recall, F1-score, and support for each label for Purpose\n",
    "precision_purpose, recall_purpose, f1_purpose, support_purpose = precision_recall_fscore_support(true_labels_flat_tree, predicted_labels_flat_tree, labels=label_encode_purpose_test.classes_, zero_division=0)\n",
    "\n",
    "# Calculate F1-macro for Task 1\n",
    "f1_macro_task1 = f1_score(true_labels_flat_tree, predicted_labels_flat_tree, average='macro', labels=label_encode_task1_test.transform(label_encode_task1_test.classes_))\n",
    "\n",
    "# Calculate F1-macro for Task 2\n",
    "f1_macro_task2 = f1_score(true_labels_flat_tree, predicted_labels_flat_tree, average='macro', labels=label_encode_task2_test.transform(label_encode_task2_test.classes_))\n",
    "\n",
    "# Calculate F1-macro for Purpose\n",
    "f1_macro_purpose = f1_score(true_labels_flat_tree, predicted_labels_flat_tree, average='macro', labels=label_encode_purpose_test.transform(label_encode_purpose_test.classes_))"
   ]
  },
  {
   "cell_type": "code",
   "execution_count": null,
   "metadata": {
    "colab": {
     "base_uri": "https://localhost:8080/"
    },
    "id": "MI_hRLrDHn3O",
    "outputId": "9bf5b8f0-aec9-4520-c491-509503165442"
   },
   "outputs": [
    {
     "name": "stdout",
     "output_type": "stream",
     "text": [
      "F1-macro Task 1 (Decision Tree): 0.5488148520537807\n",
      "F1-macro Task 2 (Decision Tree): 0.4684682814466902\n",
      "F1-macro Purpose (Decision Tree): 0.5488148520537807\n"
     ]
    }
   ],
   "source": [
    "# Print the results\n",
    "print(\"F1-macro Task 1 (Decision Tree):\", f1_macro_task1)\n",
    "print(\"F1-macro Task 2 (Decision Tree):\", f1_macro_task2)\n",
    "print(\"F1-macro Purpose (Decision Tree):\", f1_macro_purpose)"
   ]
  },
  {
   "cell_type": "markdown",
   "metadata": {
    "id": "i4Wg2rFFYqsB"
   },
   "source": [
    "# **Naive Bayes**"
   ]
  },
  {
   "cell_type": "code",
   "execution_count": null,
   "metadata": {
    "id": "D1zGRWKWYsxO"
   },
   "outputs": [],
   "source": [
    "naive_bayes = MultinomialNB()\n",
    "multi_nb = MultiOutputClassifier(naive_bayes)"
   ]
  },
  {
   "cell_type": "code",
   "execution_count": null,
   "metadata": {
    "colab": {
     "base_uri": "https://localhost:8080/",
     "height": 118
    },
    "id": "Ta8ALv9LYqKM",
    "outputId": "f83fd77e-730f-49a6-d0c3-40adf412b886"
   },
   "outputs": [
    {
     "data": {
      "text/html": [
       "<style>#sk-container-id-5 {color: black;background-color: white;}#sk-container-id-5 pre{padding: 0;}#sk-container-id-5 div.sk-toggleable {background-color: white;}#sk-container-id-5 label.sk-toggleable__label {cursor: pointer;display: block;width: 100%;margin-bottom: 0;padding: 0.3em;box-sizing: border-box;text-align: center;}#sk-container-id-5 label.sk-toggleable__label-arrow:before {content: \"▸\";float: left;margin-right: 0.25em;color: #696969;}#sk-container-id-5 label.sk-toggleable__label-arrow:hover:before {color: black;}#sk-container-id-5 div.sk-estimator:hover label.sk-toggleable__label-arrow:before {color: black;}#sk-container-id-5 div.sk-toggleable__content {max-height: 0;max-width: 0;overflow: hidden;text-align: left;background-color: #f0f8ff;}#sk-container-id-5 div.sk-toggleable__content pre {margin: 0.2em;color: black;border-radius: 0.25em;background-color: #f0f8ff;}#sk-container-id-5 input.sk-toggleable__control:checked~div.sk-toggleable__content {max-height: 200px;max-width: 100%;overflow: auto;}#sk-container-id-5 input.sk-toggleable__control:checked~label.sk-toggleable__label-arrow:before {content: \"▾\";}#sk-container-id-5 div.sk-estimator input.sk-toggleable__control:checked~label.sk-toggleable__label {background-color: #d4ebff;}#sk-container-id-5 div.sk-label input.sk-toggleable__control:checked~label.sk-toggleable__label {background-color: #d4ebff;}#sk-container-id-5 input.sk-hidden--visually {border: 0;clip: rect(1px 1px 1px 1px);clip: rect(1px, 1px, 1px, 1px);height: 1px;margin: -1px;overflow: hidden;padding: 0;position: absolute;width: 1px;}#sk-container-id-5 div.sk-estimator {font-family: monospace;background-color: #f0f8ff;border: 1px dotted black;border-radius: 0.25em;box-sizing: border-box;margin-bottom: 0.5em;}#sk-container-id-5 div.sk-estimator:hover {background-color: #d4ebff;}#sk-container-id-5 div.sk-parallel-item::after {content: \"\";width: 100%;border-bottom: 1px solid gray;flex-grow: 1;}#sk-container-id-5 div.sk-label:hover label.sk-toggleable__label {background-color: #d4ebff;}#sk-container-id-5 div.sk-serial::before {content: \"\";position: absolute;border-left: 1px solid gray;box-sizing: border-box;top: 0;bottom: 0;left: 50%;z-index: 0;}#sk-container-id-5 div.sk-serial {display: flex;flex-direction: column;align-items: center;background-color: white;padding-right: 0.2em;padding-left: 0.2em;position: relative;}#sk-container-id-5 div.sk-item {position: relative;z-index: 1;}#sk-container-id-5 div.sk-parallel {display: flex;align-items: stretch;justify-content: center;background-color: white;position: relative;}#sk-container-id-5 div.sk-item::before, #sk-container-id-5 div.sk-parallel-item::before {content: \"\";position: absolute;border-left: 1px solid gray;box-sizing: border-box;top: 0;bottom: 0;left: 50%;z-index: -1;}#sk-container-id-5 div.sk-parallel-item {display: flex;flex-direction: column;z-index: 1;position: relative;background-color: white;}#sk-container-id-5 div.sk-parallel-item:first-child::after {align-self: flex-end;width: 50%;}#sk-container-id-5 div.sk-parallel-item:last-child::after {align-self: flex-start;width: 50%;}#sk-container-id-5 div.sk-parallel-item:only-child::after {width: 0;}#sk-container-id-5 div.sk-dashed-wrapped {border: 1px dashed gray;margin: 0 0.4em 0.5em 0.4em;box-sizing: border-box;padding-bottom: 0.4em;background-color: white;}#sk-container-id-5 div.sk-label label {font-family: monospace;font-weight: bold;display: inline-block;line-height: 1.2em;}#sk-container-id-5 div.sk-label-container {text-align: center;}#sk-container-id-5 div.sk-container {/* jupyter's `normalize.less` sets `[hidden] { display: none; }` but bootstrap.min.css set `[hidden] { display: none !important; }` so we also need the `!important` here to be able to override the default hidden behavior on the sphinx rendered scikit-learn.org. See: https://github.com/scikit-learn/scikit-learn/issues/21755 */display: inline-block !important;position: relative;}#sk-container-id-5 div.sk-text-repr-fallback {display: none;}</style><div id=\"sk-container-id-5\" class=\"sk-top-container\"><div class=\"sk-text-repr-fallback\"><pre>MultiOutputClassifier(estimator=MultinomialNB())</pre><b>In a Jupyter environment, please rerun this cell to show the HTML representation or trust the notebook. <br />On GitHub, the HTML representation is unable to render, please try loading this page with nbviewer.org.</b></div><div class=\"sk-container\" hidden><div class=\"sk-item sk-dashed-wrapped\"><div class=\"sk-label-container\"><div class=\"sk-label sk-toggleable\"><input class=\"sk-toggleable__control sk-hidden--visually\" id=\"sk-estimator-id-7\" type=\"checkbox\" ><label for=\"sk-estimator-id-7\" class=\"sk-toggleable__label sk-toggleable__label-arrow\">MultiOutputClassifier</label><div class=\"sk-toggleable__content\"><pre>MultiOutputClassifier(estimator=MultinomialNB())</pre></div></div></div><div class=\"sk-parallel\"><div class=\"sk-parallel-item\"><div class=\"sk-item\"><div class=\"sk-label-container\"><div class=\"sk-label sk-toggleable\"><input class=\"sk-toggleable__control sk-hidden--visually\" id=\"sk-estimator-id-8\" type=\"checkbox\" ><label for=\"sk-estimator-id-8\" class=\"sk-toggleable__label sk-toggleable__label-arrow\">estimator: MultinomialNB</label><div class=\"sk-toggleable__content\"><pre>MultinomialNB()</pre></div></div></div><div class=\"sk-serial\"><div class=\"sk-item\"><div class=\"sk-estimator sk-toggleable\"><input class=\"sk-toggleable__control sk-hidden--visually\" id=\"sk-estimator-id-9\" type=\"checkbox\" ><label for=\"sk-estimator-id-9\" class=\"sk-toggleable__label sk-toggleable__label-arrow\">MultinomialNB</label><div class=\"sk-toggleable__content\"><pre>MultinomialNB()</pre></div></div></div></div></div></div></div></div></div></div>"
      ],
      "text/plain": [
       "MultiOutputClassifier(estimator=MultinomialNB())"
      ]
     },
     "execution_count": 53,
     "metadata": {},
     "output_type": "execute_result"
    }
   ],
   "source": [
    "multi_nb.fit(X_train_vectorized, y_multi_label_train)"
   ]
  },
  {
   "cell_type": "code",
   "execution_count": null,
   "metadata": {
    "colab": {
     "base_uri": "https://localhost:8080/"
    },
    "id": "NjDNysTBY0gn",
    "outputId": "2940dbf7-1118-49f3-d53d-cb2dfa7482d7"
   },
   "outputs": [
    {
     "name": "stdout",
     "output_type": "stream",
     "text": [
      "Predicted labels Naive Bayes: [[1 0 2]]\n"
     ]
    }
   ],
   "source": [
    "y_pred_nb = multi_nb.predict(test_sample_vectorized)\n",
    "print('Predicted labels Naive Bayes:', y_pred_nb)"
   ]
  },
  {
   "cell_type": "code",
   "execution_count": null,
   "metadata": {
    "colab": {
     "base_uri": "https://localhost:8080/"
    },
    "id": "8NbvlVQzY2hY",
    "outputId": "6b093fc3-ab31-4103-b0ab-73d307ad3d18"
   },
   "outputs": [
    {
     "name": "stdout",
     "output_type": "stream",
     "text": [
      "Accuracy Naive Bayes: 0.49266666666666664\n"
     ]
    }
   ],
   "source": [
    "y_pred_label_nb= multi_nb.predict(X_test_vectorized)\n",
    "\n",
    "true_labels_flat_nb = [label for sublist in y_multi_label_test for label in sublist]\n",
    "predicted_labels_flat_nb = [label for sublist in y_pred_label_nb for label in sublist]\n",
    "\n",
    "accuracy_nb = accuracy_score(true_labels_flat_nb, predicted_labels_flat_nb)\n",
    "\n",
    "print(\"Accuracy Naive Bayes:\", accuracy_nb)"
   ]
  },
  {
   "cell_type": "code",
   "execution_count": null,
   "metadata": {
    "colab": {
     "base_uri": "https://localhost:8080/"
    },
    "id": "dyTi3_R6Y5Bb",
    "outputId": "ccfcd289-6be6-43f6-9251-f49fab1dba31"
   },
   "outputs": [
    {
     "name": "stdout",
     "output_type": "stream",
     "text": [
      "              precision    recall  f1-score   support\n",
      "\n",
      "           0       0.57      0.43      0.49       414\n",
      "           1       0.54      0.57      0.55       432\n",
      "           2       0.43      0.62      0.51       389\n",
      "           3       0.33      0.05      0.08        65\n",
      "           4       0.37      0.19      0.25        54\n",
      "           5       0.53      0.34      0.41        71\n",
      "           6       0.40      0.48      0.44        75\n",
      "\n",
      "    accuracy                           0.49      1500\n",
      "   macro avg       0.45      0.38      0.39      1500\n",
      "weighted avg       0.50      0.49      0.48      1500\n",
      "\n"
     ]
    }
   ],
   "source": [
    "classification_report_nb = classification_report(true_labels_flat_nb, predicted_labels_flat_nb)\n",
    "print(classification_report_nb)"
   ]
  },
  {
   "cell_type": "code",
   "execution_count": null,
   "metadata": {
    "id": "9ICN2A2SH417"
   },
   "outputs": [],
   "source": [
    "from sklearn.metrics import precision_recall_fscore_support, f1_score\n",
    "\n",
    "# Convert labels to strings\n",
    "true_labels_flat_nb = [str(label) for label in true_labels_flat_nb]\n",
    "predicted_labels_flat_nb = [str(label) for label in predicted_labels_flat_nb]\n",
    "\n",
    "# Calculate precision, recall, F1-score, and support for each label for Task 1\n",
    "precision_task1, recall_task1, f1_task1, support_task1 = precision_recall_fscore_support(true_labels_flat_nb, predicted_labels_flat_nb, labels=label_encode_task1_test.classes_, zero_division=0)\n",
    "\n",
    "# Calculate precision, recall, F1-score, and support for each label for Task 2\n",
    "precision_task2, recall_task2, f1_task2, support_task2 = precision_recall_fscore_support(true_labels_flat_nb, predicted_labels_flat_nb, labels=label_encode_task2_test.classes_, zero_division=0)\n",
    "\n",
    "# Calculate precision, recall, F1-score, and support for each label for Purpose\n",
    "precision_purpose, recall_purpose, f1_purpose, support_purpose = precision_recall_fscore_support(true_labels_flat_nb, predicted_labels_flat_nb, labels=label_encode_purpose_test.classes_, zero_division=0)\n",
    "\n",
    "# Calculate F1-macro for Task 1\n",
    "f1_macro_task1 = f1_score(true_labels_flat_nb, predicted_labels_flat_nb, average='macro', labels=label_encode_task1_test.transform(label_encode_task1_test.classes_))\n",
    "\n",
    "# Calculate F1-macro for Task 2\n",
    "f1_macro_task2 = f1_score(true_labels_flat_nb, predicted_labels_flat_nb, average='macro', labels=label_encode_task2_test.transform(label_encode_task2_test.classes_))\n",
    "\n",
    "# Calculate F1-macro for Purpose\n",
    "f1_macro_purpose = f1_score(true_labels_flat_nb, predicted_labels_flat_nb, average='macro', labels=label_encode_purpose_test.transform(label_encode_purpose_test.classes_))"
   ]
  },
  {
   "cell_type": "code",
   "execution_count": null,
   "metadata": {
    "colab": {
     "base_uri": "https://localhost:8080/"
    },
    "id": "MkKpy4YYInuQ",
    "outputId": "1f33c39c-6c9b-4f85-9450-25a8aff8a698"
   },
   "outputs": [
    {
     "name": "stdout",
     "output_type": "stream",
     "text": [
      "F1-macro Task 1 (Naive Bayes): 0.5178791134808719\n",
      "F1-macro Task 2 (Naive Bayes): 0.3902555345117889\n",
      "F1-macro Purpose (Naive Bayes): 0.5178791134808719\n"
     ]
    }
   ],
   "source": [
    "# Print the results\n",
    "print(\"F1-macro Task 1 (Naive Bayes):\", f1_macro_task1)\n",
    "print(\"F1-macro Task 2 (Naive Bayes):\", f1_macro_task2)\n",
    "print(\"F1-macro Purpose (Naive Bayes):\", f1_macro_purpose)"
   ]
  },
  {
   "cell_type": "markdown",
   "metadata": {
    "id": "-DRULOFaY8Uq"
   },
   "source": [
    "# **Bert base**"
   ]
  },
  {
   "cell_type": "code",
   "execution_count": null,
   "metadata": {
    "colab": {
     "base_uri": "https://localhost:8080/",
     "height": 425,
     "referenced_widgets": [
      "9235b74979104bff994e0cfa9e507cc3",
      "8a2159afbf03437e90c46754dc6a1726",
      "3a3a26d6ef424c9dac3262576687f079",
      "03acc0e42cc6486f801d5a7083dd52eb",
      "58c6ab60a2b543e5807d70a72882f68e",
      "b4e6f81fe78141a5936f0cc982443767",
      "94acadeebf11476583883f4db72792a5",
      "9d5d5a6c99c54ef1aa74accfe82a2474",
      "590f5f074c6d4a67ad974c133443f4ef",
      "25364c7c4237486a99e5eae94b089d1a",
      "99792b6bcacd4ccea24bba26329d4a5b",
      "43116d7b6138478d93df1b30b1142060",
      "fa5075dbb47b4282988296278fbc49fb",
      "36057ba7f4ee4db88fd07f7342682663",
      "a74fb7417626424e904f0f59b4445245",
      "b30b55bf8286412db4d1a9a4f170fac2",
      "7f79a50d1ebc4ef0a5ba5de611520c2e",
      "47e95a7a79a545e29680fdde68dd7710",
      "a3f90a3b0d1f4f3c8c3bcd4e3015b699",
      "43b969aa50344491b178f96c5d210b04",
      "9788e8ddb69a41dd90c39d8cd62e426c",
      "0aee3ddc676c44eaab77c58e7161f926",
      "c76d2aa0f3f9490e81cf9f16a4974e9e",
      "4d2e92bed20b4fc683f6973452f54556",
      "50d520f6aeb74893ac99626e006310cb",
      "fe0196ee20e34f97a7e7e2130a879c86",
      "c28c02e9bfc84337b9965d9eaf53172f",
      "fec060122e3d46f0909b0f2b16f65678",
      "9dee3e667cac4312af5ddc781c43ff4e",
      "6cd1d104df2942519b0d08ec08b8c595",
      "840c08664cfb4c45a3d8e69350a125fb",
      "95cec2fffef240d3b64f663778f022cf",
      "05bc1584e0e54ab69a4536b94d3ebb36",
      "db9b5d2a05e5431fb370bae2b2c5a3bf",
      "15e54e43268b4e38bce9796b56c25c4f",
      "d8fad1691f0a424da371b016d1623bf8",
      "f4c91a12966e460199086f4be26db697",
      "90638814e04d4a079b330660631f57cd",
      "12f6b534bd4046b3bf30be6146078c59",
      "8ec5e141ff104dfca531494cedae911c",
      "9305397325f843b58ff057afbc5581ab",
      "ccfc032dd4f54305a7709e874b9f7ad4",
      "0be6591f1c3c403ea311661f97c57cd0",
      "8a537a3805ac406996842978a4fcfaf0"
     ]
    },
    "id": "VizOcwQKY-60",
    "outputId": "938c4d71-6101-4422-9c0e-e86729654dfe"
   },
   "outputs": [
    {
     "data": {
      "application/vnd.jupyter.widget-view+json": {
       "model_id": "9235b74979104bff994e0cfa9e507cc3",
       "version_major": 2,
       "version_minor": 0
      },
      "text/plain": [
       "Downloading (…)solve/main/vocab.txt:   0%|          | 0.00/232k [00:00<?, ?B/s]"
      ]
     },
     "metadata": {},
     "output_type": "display_data"
    },
    {
     "data": {
      "application/vnd.jupyter.widget-view+json": {
       "model_id": "43116d7b6138478d93df1b30b1142060",
       "version_major": 2,
       "version_minor": 0
      },
      "text/plain": [
       "Downloading (…)okenizer_config.json:   0%|          | 0.00/28.0 [00:00<?, ?B/s]"
      ]
     },
     "metadata": {},
     "output_type": "display_data"
    },
    {
     "data": {
      "application/vnd.jupyter.widget-view+json": {
       "model_id": "c76d2aa0f3f9490e81cf9f16a4974e9e",
       "version_major": 2,
       "version_minor": 0
      },
      "text/plain": [
       "Downloading (…)lve/main/config.json:   0%|          | 0.00/570 [00:00<?, ?B/s]"
      ]
     },
     "metadata": {},
     "output_type": "display_data"
    },
    {
     "data": {
      "application/vnd.jupyter.widget-view+json": {
       "model_id": "db9b5d2a05e5431fb370bae2b2c5a3bf",
       "version_major": 2,
       "version_minor": 0
      },
      "text/plain": [
       "Downloading model.safetensors:   0%|          | 0.00/440M [00:00<?, ?B/s]"
      ]
     },
     "metadata": {},
     "output_type": "display_data"
    },
    {
     "name": "stderr",
     "output_type": "stream",
     "text": [
      "Some weights of the model checkpoint at bert-base-uncased were not used when initializing BertForSequenceClassification: ['cls.predictions.transform.dense.weight', 'cls.seq_relationship.bias', 'cls.predictions.bias', 'cls.predictions.transform.dense.bias', 'cls.seq_relationship.weight', 'cls.predictions.transform.LayerNorm.weight', 'cls.predictions.transform.LayerNorm.bias']\n",
      "- This IS expected if you are initializing BertForSequenceClassification from the checkpoint of a model trained on another task or with another architecture (e.g. initializing a BertForSequenceClassification model from a BertForPreTraining model).\n",
      "- This IS NOT expected if you are initializing BertForSequenceClassification from the checkpoint of a model that you expect to be exactly identical (initializing a BertForSequenceClassification model from a BertForSequenceClassification model).\n",
      "Some weights of BertForSequenceClassification were not initialized from the model checkpoint at bert-base-uncased and are newly initialized: ['classifier.bias', 'classifier.weight']\n",
      "You should probably TRAIN this model on a down-stream task to be able to use it for predictions and inference.\n",
      "Some weights of the model checkpoint at bert-base-uncased were not used when initializing BertForSequenceClassification: ['cls.predictions.transform.dense.weight', 'cls.seq_relationship.bias', 'cls.predictions.bias', 'cls.predictions.transform.dense.bias', 'cls.seq_relationship.weight', 'cls.predictions.transform.LayerNorm.weight', 'cls.predictions.transform.LayerNorm.bias']\n",
      "- This IS expected if you are initializing BertForSequenceClassification from the checkpoint of a model trained on another task or with another architecture (e.g. initializing a BertForSequenceClassification model from a BertForPreTraining model).\n",
      "- This IS NOT expected if you are initializing BertForSequenceClassification from the checkpoint of a model that you expect to be exactly identical (initializing a BertForSequenceClassification model from a BertForSequenceClassification model).\n",
      "Some weights of BertForSequenceClassification were not initialized from the model checkpoint at bert-base-uncased and are newly initialized: ['classifier.bias', 'classifier.weight']\n",
      "You should probably TRAIN this model on a down-stream task to be able to use it for predictions and inference.\n",
      "Some weights of the model checkpoint at bert-base-uncased were not used when initializing BertForSequenceClassification: ['cls.predictions.transform.dense.weight', 'cls.seq_relationship.bias', 'cls.predictions.bias', 'cls.predictions.transform.dense.bias', 'cls.seq_relationship.weight', 'cls.predictions.transform.LayerNorm.weight', 'cls.predictions.transform.LayerNorm.bias']\n",
      "- This IS expected if you are initializing BertForSequenceClassification from the checkpoint of a model trained on another task or with another architecture (e.g. initializing a BertForSequenceClassification model from a BertForPreTraining model).\n",
      "- This IS NOT expected if you are initializing BertForSequenceClassification from the checkpoint of a model that you expect to be exactly identical (initializing a BertForSequenceClassification model from a BertForSequenceClassification model).\n",
      "Some weights of BertForSequenceClassification were not initialized from the model checkpoint at bert-base-uncased and are newly initialized: ['classifier.bias', 'classifier.weight']\n",
      "You should probably TRAIN this model on a down-stream task to be able to use it for predictions and inference.\n"
     ]
    }
   ],
   "source": [
    "#load model bert\n",
    "#create tokenizer\n",
    "tokenizer = BertTokenizer.from_pretrained('bert-base-uncased')\n",
    "task1_model = BertForSequenceClassification.from_pretrained('bert-base-uncased', num_labels=3)\n",
    "task2_model = BertForSequenceClassification.from_pretrained('bert-base-uncased', num_labels=7)\n",
    "purpose_model = BertForSequenceClassification.from_pretrained('bert-base-uncased', num_labels=3)"
   ]
  },
  {
   "cell_type": "code",
   "execution_count": null,
   "metadata": {
    "id": "fiMNzdRGWnny"
   },
   "outputs": [],
   "source": [
    "# Tokenize input data\n",
    "encodings = tokenizer(X_train, truncation=True, padding=True, return_tensors='pt')"
   ]
  },
  {
   "cell_type": "code",
   "execution_count": null,
   "metadata": {
    "id": "i9TUuWVYZEci"
   },
   "outputs": [],
   "source": [
    "# conver labels to tensor\n",
    "task1_labels = torch.tensor(y_train_task1)\n",
    "task2_labels = torch.tensor(y_train_task2)\n",
    "purpose_labels = torch.tensor(y_train_purpose)"
   ]
  },
  {
   "cell_type": "code",
   "execution_count": null,
   "metadata": {
    "id": "x4yM227VZGAl"
   },
   "outputs": [],
   "source": [
    "# create DataLoader\n",
    "class CustomDataset(torch.utils.data.Dataset):\n",
    "    def __init__(self, encodings, task1_labels, task2_labels, purpose_labels):\n",
    "        self.encodings = encodings\n",
    "        self.task1_labels = task1_labels\n",
    "        self.task2_labels = task2_labels\n",
    "        self.purpose_labels = purpose_labels\n",
    "\n",
    "    def __getitem__(self, idx):\n",
    "        item = {key: val[idx] for key, val in self.encodings.items()}\n",
    "        item['task1_labels'] = self.task1_labels[idx]\n",
    "        item['task2_labels'] = self.task2_labels[idx]\n",
    "        item['purpose_labels'] = self.purpose_labels[idx]\n",
    "        return item\n",
    "    def __len__(self):\n",
    "        return len(self.task1_labels)"
   ]
  },
  {
   "cell_type": "code",
   "execution_count": null,
   "metadata": {
    "id": "p6_Jd1JRZgSh"
   },
   "outputs": [],
   "source": [
    "dataset = CustomDataset(encodings, task1_labels, task2_labels, purpose_labels)\n",
    "dataloader = torch.utils.data.DataLoader(dataset, batch_size=2, shuffle=True)"
   ]
  },
  {
   "cell_type": "code",
   "execution_count": null,
   "metadata": {
    "id": "66d7JZ9HZhte"
   },
   "outputs": [],
   "source": [
    "device = torch.device(\"cuda\" if torch.cuda.is_available() else \"cpu\")"
   ]
  },
  {
   "cell_type": "code",
   "execution_count": null,
   "metadata": {
    "colab": {
     "base_uri": "https://localhost:8080/"
    },
    "id": "WrHJcMadb7bL",
    "outputId": "3f199c6b-6d00-414f-d19a-3ec30453e843"
   },
   "outputs": [
    {
     "name": "stderr",
     "output_type": "stream",
     "text": [
      "/usr/local/lib/python3.10/dist-packages/transformers/optimization.py:411: FutureWarning: This implementation of AdamW is deprecated and will be removed in a future version. Use the PyTorch implementation torch.optim.AdamW instead, or set `no_deprecation_warning=True` to disable this warning\n",
      "  warnings.warn(\n"
     ]
    },
    {
     "data": {
      "text/plain": [
       "BertForSequenceClassification(\n",
       "  (bert): BertModel(\n",
       "    (embeddings): BertEmbeddings(\n",
       "      (word_embeddings): Embedding(30522, 768, padding_idx=0)\n",
       "      (position_embeddings): Embedding(512, 768)\n",
       "      (token_type_embeddings): Embedding(2, 768)\n",
       "      (LayerNorm): LayerNorm((768,), eps=1e-12, elementwise_affine=True)\n",
       "      (dropout): Dropout(p=0.1, inplace=False)\n",
       "    )\n",
       "    (encoder): BertEncoder(\n",
       "      (layer): ModuleList(\n",
       "        (0-11): 12 x BertLayer(\n",
       "          (attention): BertAttention(\n",
       "            (self): BertSelfAttention(\n",
       "              (query): Linear(in_features=768, out_features=768, bias=True)\n",
       "              (key): Linear(in_features=768, out_features=768, bias=True)\n",
       "              (value): Linear(in_features=768, out_features=768, bias=True)\n",
       "              (dropout): Dropout(p=0.1, inplace=False)\n",
       "            )\n",
       "            (output): BertSelfOutput(\n",
       "              (dense): Linear(in_features=768, out_features=768, bias=True)\n",
       "              (LayerNorm): LayerNorm((768,), eps=1e-12, elementwise_affine=True)\n",
       "              (dropout): Dropout(p=0.1, inplace=False)\n",
       "            )\n",
       "          )\n",
       "          (intermediate): BertIntermediate(\n",
       "            (dense): Linear(in_features=768, out_features=3072, bias=True)\n",
       "            (intermediate_act_fn): GELUActivation()\n",
       "          )\n",
       "          (output): BertOutput(\n",
       "            (dense): Linear(in_features=3072, out_features=768, bias=True)\n",
       "            (LayerNorm): LayerNorm((768,), eps=1e-12, elementwise_affine=True)\n",
       "            (dropout): Dropout(p=0.1, inplace=False)\n",
       "          )\n",
       "        )\n",
       "      )\n",
       "    )\n",
       "    (pooler): BertPooler(\n",
       "      (dense): Linear(in_features=768, out_features=768, bias=True)\n",
       "      (activation): Tanh()\n",
       "    )\n",
       "  )\n",
       "  (dropout): Dropout(p=0.1, inplace=False)\n",
       "  (classifier): Linear(in_features=768, out_features=3, bias=True)\n",
       ")"
      ]
     },
     "execution_count": 63,
     "metadata": {},
     "output_type": "execute_result"
    }
   ],
   "source": [
    "#init optimizer algorithm\n",
    "task1_optimizer = AdamW(task1_model.parameters(), lr=1e-5)\n",
    "task2_optimizer = AdamW(task2_model.parameters(), lr=1e-5)\n",
    "purpose_optimizer = AdamW(purpose_model.parameters(), lr=1e-5)\n",
    "\n",
    "#init loss purpose\n",
    "task1_loss_fn = nn.CrossEntropyLoss()\n",
    "task2_loss_fn = nn.CrossEntropyLoss()\n",
    "purpose_loss_fn = nn.CrossEntropyLoss()\n",
    "\n",
    "device = torch.device(\"cuda\" if torch.cuda.is_available() else \"cpu\")\n",
    "\n",
    "task1_model.to(device)\n",
    "task2_model.to(device)\n",
    "purpose_model.to(device)"
   ]
  },
  {
   "cell_type": "code",
   "execution_count": null,
   "metadata": {
    "id": "c2wEAUPSchML"
   },
   "outputs": [],
   "source": [
    "\n",
    "#train\n",
    "task1_model.train()\n",
    "task2_model.train()\n",
    "purpose_model.train()\n",
    "\n",
    "for epoch in range(3):\n",
    "    for batch in dataloader:\n",
    "        #khởi tạo 0\n",
    "        task1_optimizer.zero_grad()\n",
    "        task2_optimizer.zero_grad()\n",
    "        purpose_optimizer.zero_grad()\n",
    "\n",
    "        input_ids = batch['input_ids'].to(device)\n",
    "        attention_mask = batch['attention_mask'].to(device)\n",
    "        task1_labels = batch['task1_labels'].to(device)\n",
    "        task2_labels = batch['task2_labels'].to(device)\n",
    "        purpose_labels = batch['purpose_labels'].to(device)\n",
    "\n",
    "        task1_outputs = task1_model(input_ids, attention_mask=attention_mask, labels=task1_labels)\n",
    "        task2_outputs = task2_model(input_ids, attention_mask=attention_mask, labels=task2_labels)\n",
    "        purpose_outputs = purpose_model(input_ids, attention_mask=attention_mask, labels=purpose_labels)\n",
    "\n",
    "        task1_loss = task1_outputs.loss\n",
    "        task2_loss = task2_outputs.loss\n",
    "        purpose_loss = purpose_outputs.loss\n",
    "\n",
    "        total_loss = task1_loss + task2_loss + purpose_loss\n",
    "        total_loss.backward()\n",
    "\n",
    "        task1_optimizer.step()\n",
    "        task2_optimizer.step()\n",
    "        purpose_optimizer.step()"
   ]
  },
  {
   "cell_type": "code",
   "execution_count": null,
   "metadata": {
    "id": "uye-x1aXa0by"
   },
   "outputs": [],
   "source": [
    "# Define the paths to save the models\n",
    "task1_model_path = \"/content/drive/MyDrive/DS204/task1_model.pth\"\n",
    "task2_model_path = \"/content/drive/MyDrive/DS204/task2_model.pth\"\n",
    "purpose_model_path = \"/content/drive/MyDrive/DS204/purpose_model.pth\"\n",
    "\n",
    "# Save the models\n",
    "task1_model.save_pretrained(task1_model_path)\n",
    "task2_model.save_pretrained(task2_model_path)\n",
    "purpose_model.save_pretrained(purpose_model_path)\n"
   ]
  },
  {
   "cell_type": "code",
   "execution_count": null,
   "metadata": {
    "id": "ZTHppcbybLj2"
   },
   "outputs": [],
   "source": [
    "#predict for a sample\n",
    "text = \"his is an extension of the similarity task for compositional models developed by Mitchell and Lapata ( 2008 ) and constructed according to the same guidelines\"\n",
    "input_ids = tokenizer.encode(text, truncation=True, padding=True, return_tensors='pt').to(device)\n",
    "\n",
    "task1_outputs = task1_model(input_ids)\n",
    "task2_outputs = task2_model(input_ids)\n",
    "purpose_outputs = purpose_model(input_ids)\n",
    "\n",
    "task1_logits = task1_outputs.logits[0]\n",
    "task2_logits = task2_outputs.logits[0]\n",
    "purpose_logits = purpose_outputs.logits[0]\n",
    "\n",
    "task1_predictions = torch.argmax(task1_logits, dim=0).item()\n",
    "task2_predictions = torch.argmax(task2_logits, dim=0).item()\n",
    "purpose_predictions = torch.argmax(purpose_logits, dim=0).item()"
   ]
  },
  {
   "cell_type": "code",
   "execution_count": null,
   "metadata": {
    "colab": {
     "base_uri": "https://localhost:8080/"
    },
    "id": "xQld6GHqbn7D",
    "outputId": "91c67117-6a5a-412c-9f27-7db73b0b02e8"
   },
   "outputs": [
    {
     "name": "stdout",
     "output_type": "stream",
     "text": [
      "Task 1:  Approach\n",
      "Task 2:  Script\n",
      "Purpose:  Generate\n"
     ]
    }
   ],
   "source": [
    "#mapping label\n",
    "task1_label = ['Addition', 'Approach', 'Substance'][task1_predictions]\n",
    "task2_label = ['Data', 'File', 'Instrument', 'Methodology', 'Publication', 'Script', 'Site'][task2_predictions]\n",
    "purpose_label = ['Generate', 'Present', 'Utilize'][purpose_predictions]\n",
    "\n",
    "print(\"Task 1: \", task1_label)\n",
    "print(\"Task 2: \", task2_label)\n",
    "print(\"Purpose: \", purpose_label)"
   ]
  },
  {
   "cell_type": "code",
   "execution_count": null,
   "metadata": {
    "id": "Uvc33uxKe_sS"
   },
   "outputs": [],
   "source": [
    "def predict_label(data,label_task1,label_task2,label_purpose):\n",
    "  list_predict_task1 = []\n",
    "  list_predict_task2 = []\n",
    "  list_predict_purpose = []\n",
    "\n",
    "  for i in range(0,len(data)):\n",
    "    input_ids_i = tokenizer.encode(data[i], truncation=True, padding=True, return_tensors='pt').to(device)\n",
    "    task1_outputs_i = task1_model(input_ids_i)\n",
    "    task2_outputs_i = task2_model(input_ids_i)\n",
    "    purpose_output_i = purpose_model(input_ids_i)\n",
    "\n",
    "    task1_logits_i = task1_outputs_i.logits[0]\n",
    "    task2_logits_i = task2_outputs_i.logits[0]\n",
    "    purpose_logits_i = purpose_output_i.logits[0]\n",
    "\n",
    "    task1_predictions_i = torch.argmax(task1_logits_i, dim=0).item()\n",
    "    task2_predictions_i = torch.argmax(task2_logits_i, dim=0).item()\n",
    "    purpose_predictions_i = torch.argmax(purpose_logits_i, dim=0).item()\n",
    "    list_predict_task1.append(task1_predictions_i)\n",
    "    list_predict_task2.append(task2_predictions_i)\n",
    "    list_predict_purpose.append(purpose_predictions_i)\n",
    "  return list_predict_task1,list_predict_task2,list_predict_purpose"
   ]
  },
  {
   "cell_type": "code",
   "execution_count": null,
   "metadata": {
    "id": "tyCVFVx2fFw2"
   },
   "outputs": [],
   "source": [
    "def caculate_accuracy(data,label_task1,label_task2,label_purpose):\n",
    "  list_score = []\n",
    "  number_label_true_task1 = 0\n",
    "  number_label_true_task2 = 0\n",
    "  number_label_true_purpose = 0\n",
    "  accuracy_sc_task1 = 0\n",
    "  accuracy_sc_task2 = 0\n",
    "  accuracy_sc_purpose = 0\n",
    "  for i in range(0,len(data)):\n",
    "    input_ids_i = tokenizer.encode(data[i], truncation=True, padding=True, return_tensors='pt').to(device)\n",
    "    task1_outputs_i = task1_model(input_ids_i)\n",
    "    task2_outputs_i = task2_model(input_ids_i)\n",
    "    purpose_output_i = purpose_model(input_ids_i)\n",
    "\n",
    "    task1_logits_i = task1_outputs_i.logits[0]\n",
    "    task2_logits_i = task2_outputs_i.logits[0]\n",
    "    purpose_logits_i = purpose_output_i.logits[0]\n",
    "\n",
    "    task1_predictions_i = torch.argmax(task1_logits_i, dim=0).item()\n",
    "    task2_predictions_i = torch.argmax(task2_logits_i, dim=0).item()\n",
    "    purpose_predictions_i = torch.argmax(purpose_logits_i, dim=0).item()\n",
    "    if task1_predictions_i == label_task1[i]:\n",
    "      number_label_true_task1 +=1\n",
    "    if task2_predictions_i == label_task2[i]:\n",
    "      number_label_true_task2 +=1\n",
    "    if purpose_predictions_i == label_purpose[i]:\n",
    "      number_label_true_purpose +=1\n",
    "  accuracy_sc_task1 = number_label_true_task1/len(data)\n",
    "  accuracy_sc_task2 = number_label_true_task2/len(data)\n",
    "  accuracy_sc_purpose = number_label_true_purpose/len(data)\n",
    "  list_score = [accuracy_sc_task1,accuracy_sc_task2,accuracy_sc_purpose]\n",
    "  return list_score"
   ]
  },
  {
   "cell_type": "code",
   "execution_count": null,
   "metadata": {
    "colab": {
     "base_uri": "https://localhost:8080/"
    },
    "id": "JHCI7FIUfVFF",
    "outputId": "0b4203a0-51f1-4856-c19f-23140e491740"
   },
   "outputs": [
    {
     "name": "stdout",
     "output_type": "stream",
     "text": [
      "79.41274607941274\n"
     ]
    }
   ],
   "source": [
    "acc_train = caculate_accuracy(X_train,y_train_task1,y_train_task2,y_train_purpose)\n",
    "print(np.mean(acc_train)*100)"
   ]
  },
  {
   "cell_type": "code",
   "execution_count": null,
   "metadata": {
    "id": "SLDc8RrafWA-"
   },
   "outputs": [],
   "source": [
    "y_test_task1 = y_test['task1'].tolist()\n",
    "y_test_task2 = y_test['task2'].tolist()\n",
    "y_test_purpose = y_test['purpose'].tolist()"
   ]
  },
  {
   "cell_type": "code",
   "execution_count": null,
   "metadata": {
    "id": "iMUPAw6ifeiz"
   },
   "outputs": [],
   "source": [
    "label_encode = LabelEncoder()\n",
    "y_test_task1 = label_encode.fit_transform(y_test_task1)"
   ]
  },
  {
   "cell_type": "code",
   "execution_count": null,
   "metadata": {
    "id": "jhd9nrZJfe9F"
   },
   "outputs": [],
   "source": [
    "label_encode = LabelEncoder()\n",
    "y_test_task2 = label_encode.fit_transform(y_test_task2)"
   ]
  },
  {
   "cell_type": "code",
   "execution_count": null,
   "metadata": {
    "id": "_lmrdcaNffAO"
   },
   "outputs": [],
   "source": [
    "label_encode = LabelEncoder()\n",
    "y_test_purpose = label_encode.fit_transform(y_test_purpose)"
   ]
  },
  {
   "cell_type": "code",
   "execution_count": null,
   "metadata": {
    "id": "nvKz32fKffDI"
   },
   "outputs": [],
   "source": [
    "list_pre_task1, list_pre_task2,list_pre_purpose = predict_label(X_test,y_test_task1,y_test_task2,y_test_purpose)"
   ]
  },
  {
   "cell_type": "code",
   "execution_count": null,
   "metadata": {
    "colab": {
     "base_uri": "https://localhost:8080/"
    },
    "id": "dU3i-29DffF6",
    "outputId": "fc3aa0a6-c824-4901-abc6-f54f99d4b516"
   },
   "outputs": [
    {
     "name": "stdout",
     "output_type": "stream",
     "text": [
      "độ chính xác trên tập test 65.2 %\n"
     ]
    }
   ],
   "source": [
    "acc_test = caculate_accuracy(X_test,y_test_task1,y_test_task2,y_test_purpose)\n",
    "print(\"độ chính xác trên tập test\",np.mean(acc_test)*100,\"%\")"
   ]
  },
  {
   "cell_type": "code",
   "execution_count": null,
   "metadata": {
    "id": "HLQnPMo6ffIu"
   },
   "outputs": [],
   "source": [
    "mapping = {'Addition':0,'Approach':1,'Substance':2}\n",
    "y_decode_task1 = y_test['task1'].map(mapping)"
   ]
  },
  {
   "cell_type": "code",
   "execution_count": null,
   "metadata": {
    "id": "svbef0gxffLp"
   },
   "outputs": [],
   "source": [
    "list_precision = []\n",
    "for label in range(0,3):\n",
    "  y_task_1_true_label = np.where(y_decode_task1==label,1,0)\n",
    "  list_pre_task1_label = [1 if elements == label else 0 for elements in list_pre_task1]\n",
    "  pre = precision_score(y_task_1_true_label,list_pre_task1_label)\n",
    "  list_precision.append(pre)"
   ]
  },
  {
   "cell_type": "code",
   "execution_count": null,
   "metadata": {
    "colab": {
     "base_uri": "https://localhost:8080/"
    },
    "id": "BEn5kot6ffOd",
    "outputId": "8e57916c-1b56-4d17-b128-8be6605d53d5"
   },
   "outputs": [
    {
     "name": "stdout",
     "output_type": "stream",
     "text": [
      "precision của từng nhãn task1: Addition 0.75, Approach 0.7401129943502824, Substance 0.7407407407407407\n"
     ]
    }
   ],
   "source": [
    "print(\"precision của từng nhãn task1: Addition {}, Approach {}, Substance {}\" .format(list_precision[0],list_precision[1],list_precision[2]))"
   ]
  },
  {
   "cell_type": "code",
   "execution_count": null,
   "metadata": {
    "id": "5wHDQNuNffRT"
   },
   "outputs": [],
   "source": [
    "from sklearn.metrics import recall_score\n",
    "list_recall = []\n",
    "for label in range(0,3):\n",
    "  y_task_1_true_label = np.where(y_decode_task1==label,1,0)\n",
    "  list_pre_task1_label = [1 if elements == label else 0 for elements in list_pre_task1]\n",
    "  recall = recall_score(y_task_1_true_label,list_pre_task1_label)\n",
    "  list_recall.append(recall)"
   ]
  },
  {
   "cell_type": "code",
   "execution_count": null,
   "metadata": {
    "colab": {
     "base_uri": "https://localhost:8080/"
    },
    "id": "LtmLlBAvffUm",
    "outputId": "95b28f01-a6fa-4250-855d-d8586dff8137"
   },
   "outputs": [
    {
     "name": "stdout",
     "output_type": "stream",
     "text": [
      "recall của từng nhãn task1: Addition 0.7877094972067039, Approach 0.7119565217391305, Substance 0.7299270072992701\n"
     ]
    }
   ],
   "source": [
    "print(\"recall của từng nhãn task1: Addition {}, Approach {}, Substance {}\" .format(list_recall[0],list_recall[1],list_recall[2]))"
   ]
  },
  {
   "cell_type": "code",
   "execution_count": null,
   "metadata": {
    "id": "udcx0WOGVIOw"
   },
   "outputs": [],
   "source": [
    "from sklearn.metrics import f1_score\n",
    "f1_score_task1 = []\n",
    "for label in range(0,3):\n",
    "  y_task_1_true_label = np.where(y_decode_task1==label,1,0)\n",
    "  list_f1_role1_label = [1 if elements == label else 0 for elements in list_pre_task1]\n",
    "  score = f1_score(y_task_1_true_label,list_f1_role1_label)\n",
    "  f1_score_task1.append(score)"
   ]
  },
  {
   "cell_type": "code",
   "execution_count": null,
   "metadata": {
    "colab": {
     "base_uri": "https://localhost:8080/"
    },
    "id": "IXX6DUfLffYI",
    "outputId": "108c5454-f0ad-4d15-8736-0b814e232d61"
   },
   "outputs": [
    {
     "name": "stdout",
     "output_type": "stream",
     "text": [
      "F1-score của từng nhãn task1: Addition 0.7683923705722072, Approach 0.7257617728531855, Substance 0.7352941176470589\n"
     ]
    }
   ],
   "source": [
    "print(\"F1-score của từng nhãn task1: Addition {}, Approach {}, Substance {}\" .format(f1_score_task1[0],f1_score_task1[1],f1_score_task1[2]))"
   ]
  },
  {
   "cell_type": "code",
   "execution_count": null,
   "metadata": {
    "id": "sH150wSgffbC"
   },
   "outputs": [],
   "source": [
    "#đánh giá pre,recall, f1 cho task2\n",
    "mapping = {'Data':0, 'File':1, 'Instrument':2, 'Methodology':3, 'Publication':4, 'Script':5, 'Site':6}\n",
    "y_decode_task2 = y_test['task2'].map(mapping)"
   ]
  },
  {
   "cell_type": "code",
   "execution_count": null,
   "metadata": {
    "id": "Dn9dSMwHff6l"
   },
   "outputs": [],
   "source": [
    "list_precision_task2 = []\n",
    "for label in range(0,7):\n",
    "  y_task_2_true_label = np.where(y_decode_task2==label,1,0)\n",
    "  list_pre_task2_label = [1 if elements == label else 0 for elements in list_pre_task2]\n",
    "  pre = precision_score(y_task_2_true_label,list_pre_task2_label)\n",
    "  list_precision_task2.append(pre)"
   ]
  },
  {
   "cell_type": "code",
   "execution_count": null,
   "metadata": {
    "colab": {
     "base_uri": "https://localhost:8080/"
    },
    "id": "zkoMkplnff9s",
    "outputId": "b8b99d70-f9ec-4fbc-aa8f-35eb8538979f"
   },
   "outputs": [
    {
     "name": "stdout",
     "output_type": "stream",
     "text": [
      "precision cho nhãn task2: Data: 0.44\n",
      "precision cho nhãn task2: File: 0.43\n",
      "precision cho nhãn task2: Instrument: 0.64\n",
      "precision cho nhãn task2: Methodology: 0.55\n",
      "precision cho nhãn task2: Publication: 0.57\n",
      "precision cho nhãn task2: Script: 0.57\n",
      "precision cho nhãn task2: Site: 0.67\n"
     ]
    }
   ],
   "source": [
    "labels = ['Data', 'File', 'Instrument', 'Methodology', 'Publication', 'Script', 'Site']\n",
    "for label, score in zip(labels, list_precision_task2):\n",
    "    print(\"precision cho nhãn task2: {}: {:.2f}\".format(label, score))\n"
   ]
  },
  {
   "cell_type": "code",
   "execution_count": null,
   "metadata": {
    "id": "U9wdDI3tgSd5"
   },
   "outputs": [],
   "source": [
    "list_recal_task2 = []\n",
    "for label in range(0,7):\n",
    "  y_task_2_true_label = np.where(y_decode_task2==label,1,0)\n",
    "  list_pre_task2_label = [1 if elements == label else 0 for elements in list_pre_task2]\n",
    "  re = recall_score(y_task_2_true_label,list_pre_task2_label)\n",
    "  list_recal_task2.append(re)"
   ]
  },
  {
   "cell_type": "code",
   "execution_count": null,
   "metadata": {
    "colab": {
     "base_uri": "https://localhost:8080/"
    },
    "id": "eYxHAhcugV96",
    "outputId": "f3888375-92e3-4c88-c6ed-444c3a76b015"
   },
   "outputs": [
    {
     "name": "stdout",
     "output_type": "stream",
     "text": [
      "recall cho nhãn task2 Data: 0.40\n",
      "recall cho nhãn task2 File: 0.53\n",
      "recall cho nhãn task2 Instrument: 0.69\n",
      "recall cho nhãn task2 Methodology: 0.25\n",
      "recall cho nhãn task2 Publication: 0.80\n",
      "recall cho nhãn task2 Script: 0.65\n",
      "recall cho nhãn task2 Site: 0.55\n"
     ]
    }
   ],
   "source": [
    "labels = ['Data', 'File', 'Instrument', 'Methodology', 'Publication', 'Script', 'Site']\n",
    "for label, score in zip(labels, list_recal_task2):\n",
    "    print(\"recall cho nhãn task2 {}: {:.2f}\".format(label, score))"
   ]
  },
  {
   "cell_type": "code",
   "execution_count": null,
   "metadata": {
    "id": "Fllv5EYugZ9S"
   },
   "outputs": [],
   "source": [
    "list_f1_score_task2 = []\n",
    "for label in range(0,7):\n",
    "  y_task_2_true_label = np.where(y_decode_task2==label,1,0)\n",
    "  list_pre_task2_label = [1 if elements == label else 0 for elements in list_pre_task2]\n",
    "  f1 = f1_score(y_task_2_true_label,list_pre_task2_label)\n",
    "  list_f1_score_task2.append(f1)"
   ]
  },
  {
   "cell_type": "code",
   "execution_count": null,
   "metadata": {
    "colab": {
     "base_uri": "https://localhost:8080/"
    },
    "id": "Hv9w7H3PgbNa",
    "outputId": "ad4525cb-0d5a-4bad-c691-cca1d3a7f253"
   },
   "outputs": [
    {
     "name": "stdout",
     "output_type": "stream",
     "text": [
      "f1_score cho nhãn task2 Data: 0.42\n",
      "f1_score cho nhãn task2 File: 0.48\n",
      "f1_score cho nhãn task2 Instrument: 0.66\n",
      "f1_score cho nhãn task2 Methodology: 0.34\n",
      "f1_score cho nhãn task2 Publication: 0.67\n",
      "f1_score cho nhãn task2 Script: 0.61\n",
      "f1_score cho nhãn task2 Site: 0.60\n"
     ]
    }
   ],
   "source": [
    "labels = ['Data', 'File', 'Instrument', 'Methodology', 'Publication', 'Script', 'Site']\n",
    "for label, score in zip(labels, list_f1_score_task2):\n",
    "    print(\"f1_score cho nhãn task2 {}: {:.2f}\".format(label, score))"
   ]
  },
  {
   "cell_type": "code",
   "execution_count": null,
   "metadata": {
    "id": "PIJupyNigdEf"
   },
   "outputs": [],
   "source": [
    "#đánh giá pre, recall, f1 cho purpose\n",
    "mapping = {'Generate':0, 'Present':1, 'Utilize':2}\n",
    "y_decode_purpose = y_test['purpose'].map(mapping)"
   ]
  },
  {
   "cell_type": "code",
   "execution_count": null,
   "metadata": {
    "id": "hyYdRYnLgfx4"
   },
   "outputs": [],
   "source": [
    "list_precision_purpose = []\n",
    "for label in range(0,3):\n",
    "  y_purpose_true_label = np.where(y_decode_purpose==label,1,0)\n",
    "  list_purpose_label = [1 if elements == label else 0 for elements in list_pre_purpose]\n",
    "  pre = precision_score(y_purpose_true_label,list_purpose_label)\n",
    "  list_precision_purpose.append(pre)"
   ]
  },
  {
   "cell_type": "code",
   "execution_count": null,
   "metadata": {
    "colab": {
     "base_uri": "https://localhost:8080/"
    },
    "id": "UYwuAGXxgkJG",
    "outputId": "fb63bd88-23e4-4a55-9a8e-abed2a279f93"
   },
   "outputs": [
    {
     "name": "stdout",
     "output_type": "stream",
     "text": [
      "precision cho nhãn purpose Generate: 0.67\n",
      "precision cho nhãn purpose Present: 0.67\n",
      "precision cho nhãn purpose Utilize: 0.56\n"
     ]
    }
   ],
   "source": [
    "labels = ['Generate', 'Present', 'Utilize']\n",
    "for label, score in zip(labels, list_precision_purpose):\n",
    "    print(\"precision cho nhãn purpose {}: {:.2f}\".format(label, score))"
   ]
  },
  {
   "cell_type": "code",
   "execution_count": null,
   "metadata": {
    "id": "K5FyTk3Egm3Z"
   },
   "outputs": [],
   "source": [
    "list_recall_purpose = []\n",
    "for label in range(0,3):\n",
    "  y_purpose_true_label = np.where(y_decode_purpose==label,1,0)\n",
    "  list_purpose_label = [1 if elements == label else 0 for elements in list_pre_purpose]\n",
    "  re = recall_score(y_purpose_true_label,list_purpose_label)\n",
    "  list_recall_purpose.append(re)"
   ]
  },
  {
   "cell_type": "code",
   "execution_count": null,
   "metadata": {
    "colab": {
     "base_uri": "https://localhost:8080/"
    },
    "id": "AqBIYTWZgpzb",
    "outputId": "c45a4745-7b51-4367-fc6f-2b12103a5637"
   },
   "outputs": [
    {
     "name": "stdout",
     "output_type": "stream",
     "text": [
      "recall cho purpose Generate: 0.60\n",
      "recall cho purpose Present: 0.60\n",
      "recall cho purpose Utilize: 0.69\n"
     ]
    }
   ],
   "source": [
    "labels = ['Generate', 'Present', 'Utilize']\n",
    "for label, score in zip(labels, list_recall_purpose):\n",
    "    print(\"recall cho purpose {}: {:.2f}\".format(label, score))"
   ]
  },
  {
   "cell_type": "code",
   "execution_count": null,
   "metadata": {
    "id": "7hTA3OKEgt4z"
   },
   "outputs": [],
   "source": [
    "list_f1_score_purpose = []\n",
    "for label in range(0,3):\n",
    "  y_purpose_true_label = np.where(y_decode_purpose==label,1,0)\n",
    "  list_purpose_label = [1 if elements == label else 0 for elements in list_pre_purpose]\n",
    "  f1 = f1_score(y_purpose_true_label,list_purpose_label)\n",
    "  list_f1_score_purpose.append(f1)"
   ]
  },
  {
   "cell_type": "code",
   "execution_count": null,
   "metadata": {
    "colab": {
     "base_uri": "https://localhost:8080/"
    },
    "id": "xbjrdJt2gvu0",
    "outputId": "9f241537-0d95-4b9a-df90-a1fe6e5c013e"
   },
   "outputs": [
    {
     "name": "stdout",
     "output_type": "stream",
     "text": [
      "f1_score cho purpose Generate: 0.63\n",
      "f1_score cho purpose Present: 0.63\n",
      "f1_score cho purpose Utilize: 0.62\n"
     ]
    }
   ],
   "source": [
    "labels = ['Generate', 'Present', 'Utilize']\n",
    "for label, score in zip(labels, list_f1_score_purpose):\n",
    "    print(\"f1_score cho purpose {}: {:.2f}\".format(label, score))"
   ]
  },
  {
   "cell_type": "markdown",
   "metadata": {
    "id": "8orOP178Np7g"
   },
   "source": [
    "# **DistilBERT**"
   ]
  },
  {
   "cell_type": "code",
   "execution_count": null,
   "metadata": {
    "id": "ksl9x-GTlekE"
   },
   "outputs": [],
   "source": [
    "from transformers import DistilBertTokenizer, DistilBertForSequenceClassification, AdamW\n",
    "import torch\n",
    "import torch.nn as nn\n",
    "\n",
    "# Load DistilBERT model and tokenizer\n",
    "tokenizer = DistilBertTokenizer.from_pretrained('distilbert-base-uncased')\n",
    "task1_model = DistilBertForSequenceClassification.from_pretrained('distilbert-base-uncased', num_labels=3)\n",
    "task2_model = DistilBertForSequenceClassification.from_pretrained('distilbert-base-uncased', num_labels=7)\n",
    "purpose_model = DistilBertForSequenceClassification.from_pretrained('distilbert-base-uncased', num_labels=3)\n",
    "\n",
    "# Tokenize input data\n",
    "encodings = tokenizer(X_train, truncation=True, padding=True, return_tensors='pt')\n",
    "\n",
    "# Convert labels to tensors\n",
    "task1_labels = torch.tensor(y_train_task1)\n",
    "task2_labels = torch.tensor(y_train_task2)\n",
    "purpose_labels = torch.tensor(y_train_purpose)\n",
    "\n",
    "# Create DataLoader\n",
    "class CustomDataset(torch.utils.data.Dataset):\n",
    "    def __init__(self, encodings, task1_labels, task2_labels, purpose_labels):\n",
    "        self.encodings = encodings\n",
    "        self.task1_labels = task1_labels\n",
    "        self.task2_labels = task2_labels\n",
    "        self.purpose_labels = purpose_labels\n",
    "\n",
    "    def __getitem__(self, idx):\n",
    "        item = {key: val[idx].to(device) for key, val in self.encodings.items()}\n",
    "        item['task1_labels'] = self.task1_labels[idx].to(device)\n",
    "        item['task2_labels'] = self.task2_labels[idx].to(device)\n",
    "        item['purpose_labels'] = self.purpose_labels[idx].to(device)\n",
    "        return item\n",
    "\n",
    "    def __len__(self):\n",
    "        return len(self.task1_labels)\n",
    "\n",
    "dataset = CustomDataset(encodings, task1_labels, task2_labels, purpose_labels)\n",
    "dataloader = torch.utils.data.DataLoader(dataset, batch_size=2, shuffle=True)\n",
    "\n",
    "device = torch.device(\"cuda\" if torch.cuda.is_available() else \"cpu\")\n",
    "\n",
    "# Initialize optimizer algorithm\n",
    "task1_optimizer = AdamW(task1_model.parameters(), lr=1e-5)\n",
    "task2_optimizer = AdamW(task2_model.parameters(), lr=1e-5)\n",
    "purpose_optimizer = AdamW(purpose_model.parameters(), lr=1e-5)\n",
    "\n",
    "# Initialize loss functions\n",
    "task1_loss_fn = nn.CrossEntropyLoss()\n",
    "task2_loss_fn = nn.CrossEntropyLoss()\n",
    "purpose_loss_fn = nn.CrossEntropyLoss()\n",
    "\n",
    "# Move models to the device\n",
    "task1_model.to(device)\n",
    "task2_model.to(device)\n",
    "purpose_model.to(device)\n",
    "\n",
    "# Train\n",
    "task1_model.train()\n",
    "task2_model.train()\n",
    "purpose_model.train()\n",
    "\n",
    "for epoch in range(3):\n",
    "    for batch in dataloader:\n",
    "        # Initialize gradients\n",
    "        task1_optimizer.zero_grad()\n",
    "        task2_optimizer.zero_grad()\n",
    "        purpose_optimizer.zero_grad()\n",
    "\n",
    "        input_ids = batch['input_ids'].to(device)\n",
    "        attention_mask = batch['attention_mask'].to(device)\n",
    "        task1_labels = batch['task1_labels'].to(device)\n",
    "        task2_labels = batch['task2_labels'].to(device)\n",
    "        purpose_labels = batch['purpose_labels'].to(device)\n",
    "\n",
    "        task1_outputs = task1_model(input_ids=input_ids, attention_mask=attention_mask, labels=task1_labels)\n",
    "        task2_outputs = task2_model(input_ids=input_ids, attention_mask=attention_mask, labels=task2_labels)\n",
    "        purpose_outputs = purpose_model(input_ids=input_ids, attention_mask=attention_mask, labels=purpose_labels)\n",
    "\n",
    "        task1_loss = task1_outputs.loss\n",
    "        task2_loss = task2_outputs.loss\n",
    "        purpose_loss = purpose_outputs.loss\n",
    "\n",
    "        total_loss = task1_loss + task2_loss + purpose_loss\n",
    "        total_loss.backward()\n",
    "\n",
    "        task1_optimizer.step()\n",
    "        task2_optimizer.step()\n",
    "        purpose_optimizer.step()\n",
    "\n",
    "# Define the paths to save the models\n",
    "task1_model_path = \"/content/drive/MyDrive/DS204/DistilBERT/task1_model.pth\"\n",
    "task2_model_path = \"/content/drive/MyDrive/DS204/DistilBERT/task2_model.pth\"\n",
    "purpose_model_path = \"/content/drive/MyDrive/DS204/DistilBERT/purpose_model.pth\"\n",
    "\n",
    "# Save the models\n",
    "task1_model.save_pretrained(task1_model_path)\n",
    "task2_model.save_pretrained(task2_model_path)\n",
    "purpose_model.save_pretrained(purpose_model_path)\n",
    "\n",
    "# Predict for a sample\n",
    "text = \"This is an extension of the similarity task for compositional models developed by Mitchell and Lapata (2008) and constructed according to the same guidelines\"\n",
    "input_ids = tokenizer.encode(text, truncation=True, padding=True, return_tensors='pt').to(device)\n",
    "\n",
    "task1_outputs = task1_model(input_ids=input_ids)\n",
    "task2_outputs = task2_model(input_ids=input_ids)\n",
    "purpose_outputs = purpose_model(input_ids=input_ids)\n",
    "\n",
    "task1_logits = task1_outputs.logits[0]\n",
    "task2_logits = task2_outputs.logits[0]\n",
    "purpose_logits = purpose_outputs.logits[0]\n",
    "\n",
    "task1_predictions = torch.argmax(task1_logits, dim=0).item()\n",
    "task2_predictions = torch.argmax(task2_logits, dim=0).item()\n",
    "purpose_predictions = torch.argmax(purpose_logits, dim=0).item()"
   ]
  },
  {
   "cell_type": "code",
   "execution_count": null,
   "metadata": {
    "colab": {
     "base_uri": "https://localhost:8080/"
    },
    "id": "bYZTzdyqB4BR",
    "outputId": "64cf911b-f290-465a-aa1f-1f6589bd7f9b"
   },
   "outputs": [
    {
     "data": {
      "text/plain": [
       "DistilBertForSequenceClassification(\n",
       "  (distilbert): DistilBertModel(\n",
       "    (embeddings): Embeddings(\n",
       "      (word_embeddings): Embedding(30522, 768, padding_idx=0)\n",
       "      (position_embeddings): Embedding(512, 768)\n",
       "      (LayerNorm): LayerNorm((768,), eps=1e-12, elementwise_affine=True)\n",
       "      (dropout): Dropout(p=0.1, inplace=False)\n",
       "    )\n",
       "    (transformer): Transformer(\n",
       "      (layer): ModuleList(\n",
       "        (0-5): 6 x TransformerBlock(\n",
       "          (attention): MultiHeadSelfAttention(\n",
       "            (dropout): Dropout(p=0.1, inplace=False)\n",
       "            (q_lin): Linear(in_features=768, out_features=768, bias=True)\n",
       "            (k_lin): Linear(in_features=768, out_features=768, bias=True)\n",
       "            (v_lin): Linear(in_features=768, out_features=768, bias=True)\n",
       "            (out_lin): Linear(in_features=768, out_features=768, bias=True)\n",
       "          )\n",
       "          (sa_layer_norm): LayerNorm((768,), eps=1e-12, elementwise_affine=True)\n",
       "          (ffn): FFN(\n",
       "            (dropout): Dropout(p=0.1, inplace=False)\n",
       "            (lin1): Linear(in_features=768, out_features=3072, bias=True)\n",
       "            (lin2): Linear(in_features=3072, out_features=768, bias=True)\n",
       "            (activation): GELUActivation()\n",
       "          )\n",
       "          (output_layer_norm): LayerNorm((768,), eps=1e-12, elementwise_affine=True)\n",
       "        )\n",
       "      )\n",
       "    )\n",
       "  )\n",
       "  (pre_classifier): Linear(in_features=768, out_features=768, bias=True)\n",
       "  (classifier): Linear(in_features=768, out_features=3, bias=True)\n",
       "  (dropout): Dropout(p=0.2, inplace=False)\n",
       ")"
      ]
     },
     "execution_count": 75,
     "metadata": {},
     "output_type": "execute_result"
    }
   ],
   "source": [
    "from transformers import DistilBertForSequenceClassification\n",
    "\n",
    "# Define the paths to the saved models\n",
    "task1_model_distilber_path = \"/content/drive/MyDrive/DS204/DistilBERT/task1_model.pth\"\n",
    "task2_model_distilber_path = \"/content/drive/MyDrive/DS204/DistilBERT/task2_model.pth\"\n",
    "purpose_model_distilber_path = \"/content/drive/MyDrive/DS204/DistilBERT/purpose_model.pth\"\n",
    "\n",
    "device = torch.device(\"cuda\" if torch.cuda.is_available() else \"cpu\")\n",
    "# Load the models\n",
    "task1_model_distilbert = DistilBertForSequenceClassification.from_pretrained(task1_model_distilber_path)\n",
    "task2_model_distilbert = DistilBertForSequenceClassification.from_pretrained(task2_model_distilber_path)\n",
    "purpose_model_distilbert = DistilBertForSequenceClassification.from_pretrained(purpose_model_distilber_path)\n",
    "\n",
    "# Move models to the device\n",
    "task1_model_distilbert.to(device)\n",
    "task2_model_distilbert.to(device)\n",
    "purpose_model_distilbert.to(device)\n"
   ]
  },
  {
   "cell_type": "code",
   "execution_count": null,
   "metadata": {
    "id": "kOX9EYvRWzfA"
   },
   "outputs": [],
   "source": [
    "from transformers import DistilBertTokenizer, DistilBertForSequenceClassification, AdamW\n",
    "import torch\n",
    "import torch.nn as nn\n",
    "tokenizer = DistilBertTokenizer.from_pretrained('distilbert-base-uncased')"
   ]
  },
  {
   "cell_type": "code",
   "execution_count": null,
   "metadata": {
    "id": "E3k55xpLB4Jy"
   },
   "outputs": [],
   "source": [
    "#predict for a sample\n",
    "text = \"his is an extension of the similarity task for compositional models developed by Mitchell and Lapata ( 2008 ) and constructed according to the same guidelines\"\n",
    "input_ids = tokenizer.encode(text, truncation=True, padding=True, return_tensors='pt').to(device)\n",
    "\n",
    "task1_outputs = task1_model_distilbert(input_ids)\n",
    "task2_outputs = task2_model_distilbert(input_ids)\n",
    "purpose_outputs = purpose_model_distilbert(input_ids)\n",
    "\n",
    "task1_logits = task1_outputs.logits[0]\n",
    "task2_logits = task2_outputs.logits[0]\n",
    "purpose_logits = purpose_outputs.logits[0]\n",
    "\n",
    "task1_predictions = torch.argmax(task1_logits, dim=0).item()\n",
    "task2_predictions = torch.argmax(task2_logits, dim=0).item()\n",
    "purpose_predictions = torch.argmax(purpose_logits, dim=0).item()"
   ]
  },
  {
   "cell_type": "code",
   "execution_count": null,
   "metadata": {
    "colab": {
     "base_uri": "https://localhost:8080/"
    },
    "id": "aeeRvnI-W-Wo",
    "outputId": "a783350b-b4ab-4645-810e-c27f34ab70ed"
   },
   "outputs": [
    {
     "name": "stdout",
     "output_type": "stream",
     "text": [
      "Task 1:  Approach\n",
      "Task 2:  File\n",
      "Purpose:  Utilize\n"
     ]
    }
   ],
   "source": [
    "#mapping label\n",
    "task1_label = ['Addition', 'Approach', 'Substance'][task1_predictions]\n",
    "task2_label = ['Data', 'File', 'Instrument', 'Methodology', 'Publication', 'Script', 'Site'][task2_predictions]\n",
    "purpose_label = ['Generate', 'Present', 'Utilize'][purpose_predictions]\n",
    "\n",
    "print(\"Task 1: \", task1_label)\n",
    "print(\"Task 2: \", task2_label)\n",
    "print(\"Purpose: \", purpose_label)"
   ]
  },
  {
   "cell_type": "code",
   "execution_count": null,
   "metadata": {
    "id": "3RveAgeqV9Zg"
   },
   "outputs": [],
   "source": [
    "def predict_label(data,label_task1,label_task2,label_purpose):\n",
    "  list_predict_task1 = []\n",
    "  list_predict_task2 = []\n",
    "  list_predict_purpose = []\n",
    "\n",
    "  for i in range(0,len(data)):\n",
    "    input_ids_i = tokenizer.encode(data[i], truncation=True, padding=True, return_tensors='pt').to(device)\n",
    "    task1_outputs_i = task1_model_distilbert(input_ids_i)\n",
    "    task2_outputs_i = task2_model_distilbert(input_ids_i)\n",
    "    purpose_output_i = purpose_model_distilbert(input_ids_i)\n",
    "\n",
    "    task1_logits_i = task1_outputs_i.logits[0]\n",
    "    task2_logits_i = task2_outputs_i.logits[0]\n",
    "    purpose_logits_i = purpose_output_i.logits[0]\n",
    "\n",
    "    task1_predictions_i = torch.argmax(task1_logits_i, dim=0).item()\n",
    "    task2_predictions_i = torch.argmax(task2_logits_i, dim=0).item()\n",
    "    purpose_predictions_i = torch.argmax(purpose_logits_i, dim=0).item()\n",
    "    list_predict_task1.append(task1_predictions_i)\n",
    "    list_predict_task2.append(task2_predictions_i)\n",
    "    list_predict_purpose.append(purpose_predictions_i)\n",
    "  return list_predict_task1,list_predict_task2,list_predict_purpose"
   ]
  },
  {
   "cell_type": "code",
   "execution_count": null,
   "metadata": {
    "id": "C68bxfEYV9Zp"
   },
   "outputs": [],
   "source": [
    "def caculate_accuracy(data,label_task1,label_task2,label_purpose):\n",
    "  list_score = []\n",
    "  number_label_true_task1 = 0\n",
    "  number_label_true_task2 = 0\n",
    "  number_label_true_purpose = 0\n",
    "  accuracy_sc_task1 = 0\n",
    "  accuracy_sc_task2 = 0\n",
    "  accuracy_sc_purpose = 0\n",
    "  for i in range(0,len(data)):\n",
    "    input_ids_i = tokenizer.encode(data[i], truncation=True, padding=True, return_tensors='pt').to(device)\n",
    "    task1_outputs_i = task1_model_distilbert(input_ids_i)\n",
    "    task2_outputs_i = task2_model_distilbert(input_ids_i)\n",
    "    purpose_output_i = purpose_model_distilbert(input_ids_i)\n",
    "\n",
    "    task1_logits_i = task1_outputs_i.logits[0]\n",
    "    task2_logits_i = task2_outputs_i.logits[0]\n",
    "    purpose_logits_i = purpose_output_i.logits[0]\n",
    "\n",
    "    task1_predictions_i = torch.argmax(task1_logits_i, dim=0).item()\n",
    "    task2_predictions_i = torch.argmax(task2_logits_i, dim=0).item()\n",
    "    purpose_predictions_i = torch.argmax(purpose_logits_i, dim=0).item()\n",
    "    if task1_predictions_i == label_task1[i]:\n",
    "      number_label_true_task1 +=1\n",
    "    if task2_predictions_i == label_task2[i]:\n",
    "      number_label_true_task2 +=1\n",
    "    if purpose_predictions_i == label_purpose[i]:\n",
    "      number_label_true_purpose +=1\n",
    "  accuracy_sc_task1 = number_label_true_task1/len(data)\n",
    "  accuracy_sc_task2 = number_label_true_task2/len(data)\n",
    "  accuracy_sc_purpose = number_label_true_purpose/len(data)\n",
    "  list_score = [accuracy_sc_task1,accuracy_sc_task2,accuracy_sc_purpose]\n",
    "  return list_score"
   ]
  },
  {
   "cell_type": "code",
   "execution_count": null,
   "metadata": {
    "colab": {
     "base_uri": "https://localhost:8080/"
    },
    "id": "qcdtk9RtV9Zp",
    "outputId": "073b6c4e-0d82-4521-b058-6b90f68be478"
   },
   "outputs": [
    {
     "name": "stdout",
     "output_type": "stream",
     "text": [
      "82.91624958291625\n"
     ]
    }
   ],
   "source": [
    "acc_train = caculate_accuracy(X_train,y_train_task1,y_train_task2,y_train_purpose)\n",
    "print(np.mean(acc_train)*100)"
   ]
  },
  {
   "cell_type": "code",
   "execution_count": null,
   "metadata": {
    "id": "TCQqn_mJV9Zq"
   },
   "outputs": [],
   "source": [
    "y_test_task1 = y_test['task1'].tolist()\n",
    "y_test_task2 = y_test['task2'].tolist()\n",
    "y_test_purpose = y_test['purpose'].tolist()"
   ]
  },
  {
   "cell_type": "code",
   "execution_count": null,
   "metadata": {
    "id": "7TAjQHiSV9Zq"
   },
   "outputs": [],
   "source": [
    "label_encode = LabelEncoder()\n",
    "y_test_task1 = label_encode.fit_transform(y_test_task1)"
   ]
  },
  {
   "cell_type": "code",
   "execution_count": null,
   "metadata": {
    "id": "HUnwollcV9Zq"
   },
   "outputs": [],
   "source": [
    "label_encode = LabelEncoder()\n",
    "y_test_task2 = label_encode.fit_transform(y_test_task2)"
   ]
  },
  {
   "cell_type": "code",
   "execution_count": null,
   "metadata": {
    "id": "EXlzDdbPV9Zq"
   },
   "outputs": [],
   "source": [
    "label_encode = LabelEncoder()\n",
    "y_test_purpose = label_encode.fit_transform(y_test_purpose)"
   ]
  },
  {
   "cell_type": "code",
   "execution_count": null,
   "metadata": {
    "id": "czGQExokV9Zq"
   },
   "outputs": [],
   "source": [
    "list_pre_task1, list_pre_task2,list_pre_purpose = predict_label(X_test,y_test_task1,y_test_task2,y_test_purpose)"
   ]
  },
  {
   "cell_type": "code",
   "execution_count": null,
   "metadata": {
    "colab": {
     "base_uri": "https://localhost:8080/"
    },
    "id": "JPSnZ1XKV9Zq",
    "outputId": "e1c69637-13c0-4372-f466-1cd78185f28d"
   },
   "outputs": [
    {
     "name": "stdout",
     "output_type": "stream",
     "text": [
      "độ chính xác trên tập test 65.86666666666666 %\n"
     ]
    }
   ],
   "source": [
    "acc_test = caculate_accuracy(X_test,y_test_task1,y_test_task2,y_test_purpose)\n",
    "print(\"độ chính xác trên tập test\",np.mean(acc_test)*100,\"%\")"
   ]
  },
  {
   "cell_type": "code",
   "execution_count": null,
   "metadata": {
    "id": "ZuWtN3auV9Zr"
   },
   "outputs": [],
   "source": [
    "mapping = {'Addition':0,'Approach':1,'Substance':2}\n",
    "y_decode_task1 = y_test['task1'].map(mapping)"
   ]
  },
  {
   "cell_type": "code",
   "execution_count": null,
   "metadata": {
    "id": "tzKCiRSaV9Zr"
   },
   "outputs": [],
   "source": [
    "list_precision = []\n",
    "for label in range(0,3):\n",
    "  y_task_1_true_label = np.where(y_decode_task1==label,1,0)\n",
    "  list_pre_task1_label = [1 if elements == label else 0 for elements in list_pre_task1]\n",
    "  pre = precision_score(y_task_1_true_label,list_pre_task1_label)\n",
    "  list_precision.append(pre)"
   ]
  },
  {
   "cell_type": "code",
   "execution_count": null,
   "metadata": {
    "colab": {
     "base_uri": "https://localhost:8080/"
    },
    "id": "ijBqkngpV9Zr",
    "outputId": "2a97f110-9d6b-4f87-bb2d-73dfa45ce083"
   },
   "outputs": [
    {
     "name": "stdout",
     "output_type": "stream",
     "text": [
      "precision của từng nhãn task1: Addition 0.7752808988764045, Approach 0.7184466019417476, Substance 0.8275862068965517\n"
     ]
    }
   ],
   "source": [
    "print(\"precision của từng nhãn task1: Addition {}, Approach {}, Substance {}\" .format(list_precision[0],list_precision[1],list_precision[2]))"
   ]
  },
  {
   "cell_type": "code",
   "execution_count": null,
   "metadata": {
    "id": "CKr5XIk-V9Zr"
   },
   "outputs": [],
   "source": [
    "from sklearn.metrics import recall_score\n",
    "list_recall = []\n",
    "for label in range(0,3):\n",
    "  y_task_1_true_label = np.where(y_decode_task1==label,1,0)\n",
    "  list_pre_task1_label = [1 if elements == label else 0 for elements in list_pre_task1]\n",
    "  recall = recall_score(y_task_1_true_label,list_pre_task1_label)\n",
    "  list_recall.append(recall)"
   ]
  },
  {
   "cell_type": "code",
   "execution_count": null,
   "metadata": {
    "colab": {
     "base_uri": "https://localhost:8080/"
    },
    "id": "VPvV1AVmV9Zr",
    "outputId": "d89c5cdd-39c2-426d-9d2f-6caabf08d32c"
   },
   "outputs": [
    {
     "name": "stdout",
     "output_type": "stream",
     "text": [
      "recall của từng nhãn task1: Addition 0.770949720670391, Approach 0.8043478260869565, Substance 0.7007299270072993\n"
     ]
    }
   ],
   "source": [
    "print(\"recall của từng nhãn task1: Addition {}, Approach {}, Substance {}\" .format(list_recall[0],list_recall[1],list_recall[2]))"
   ]
  },
  {
   "cell_type": "code",
   "execution_count": null,
   "metadata": {
    "id": "CWZ3-mTVV9Zr"
   },
   "outputs": [],
   "source": [
    "from sklearn.metrics import f1_score\n",
    "f1_score_task1 = []\n",
    "for label in range(0,3):\n",
    "  y_task_1_true_label = np.where(y_decode_task1==label,1,0)\n",
    "  list_f1_role1_label = [1 if elements == label else 0 for elements in list_pre_task1]\n",
    "  score = f1_score(y_task_1_true_label,list_f1_role1_label)\n",
    "  f1_score_task1.append(score)"
   ]
  },
  {
   "cell_type": "code",
   "execution_count": null,
   "metadata": {
    "colab": {
     "base_uri": "https://localhost:8080/"
    },
    "id": "y7zgNaxuV9Zs",
    "outputId": "4ce69831-e91b-469f-f9bb-6478d95bb5a6"
   },
   "outputs": [
    {
     "name": "stdout",
     "output_type": "stream",
     "text": [
      "F1-score của từng nhãn task1: Addition 0.7731092436974789, Approach 0.7589743589743588, Substance 0.7588932806324112\n"
     ]
    }
   ],
   "source": [
    "print(\"F1-score của từng nhãn task1: Addition {}, Approach {}, Substance {}\" .format(f1_score_task1[0],f1_score_task1[1],f1_score_task1[2]))"
   ]
  },
  {
   "cell_type": "code",
   "execution_count": null,
   "metadata": {
    "id": "Y6djD_3_V9Zs"
   },
   "outputs": [],
   "source": [
    "#đánh giá pre,recall, f1 cho task2\n",
    "mapping = {'Data':0, 'File':1, 'Instrument':2, 'Methodology':3, 'Publication':4, 'Script':5, 'Site':6}\n",
    "y_decode_task2 = y_test['task2'].map(mapping)"
   ]
  },
  {
   "cell_type": "code",
   "execution_count": null,
   "metadata": {
    "id": "EyrZed06V9Zs"
   },
   "outputs": [],
   "source": [
    "list_precision_task2 = []\n",
    "for label in range(0,7):\n",
    "  y_task_2_true_label = np.where(y_decode_task2==label,1,0)\n",
    "  list_pre_task2_label = [1 if elements == label else 0 for elements in list_pre_task2]\n",
    "  pre = precision_score(y_task_2_true_label,list_pre_task2_label)\n",
    "  list_precision_task2.append(pre)"
   ]
  },
  {
   "cell_type": "code",
   "execution_count": null,
   "metadata": {
    "colab": {
     "base_uri": "https://localhost:8080/"
    },
    "id": "N6FbeW3RV9Zs",
    "outputId": "af383876-fd34-42f9-ce70-d571f9d83d80"
   },
   "outputs": [
    {
     "name": "stdout",
     "output_type": "stream",
     "text": [
      "precision cho nhãn task2: Data: 0.47\n",
      "precision cho nhãn task2: File: 0.58\n",
      "precision cho nhãn task2: Instrument: 0.67\n",
      "precision cho nhãn task2: Methodology: 0.49\n",
      "precision cho nhãn task2: Publication: 0.69\n",
      "precision cho nhãn task2: Script: 0.70\n",
      "precision cho nhãn task2: Site: 0.62\n"
     ]
    }
   ],
   "source": [
    "labels = ['Data', 'File', 'Instrument', 'Methodology', 'Publication', 'Script', 'Site']\n",
    "for label, score in zip(labels, list_precision_task2):\n",
    "    print(\"precision cho nhãn task2: {}: {:.2f}\".format(label, score))\n"
   ]
  },
  {
   "cell_type": "code",
   "execution_count": null,
   "metadata": {
    "id": "6PkKjYFYV9Zs"
   },
   "outputs": [],
   "source": [
    "list_recal_task2 = []\n",
    "for label in range(0,7):\n",
    "  y_task_2_true_label = np.where(y_decode_task2==label,1,0)\n",
    "  list_pre_task2_label = [1 if elements == label else 0 for elements in list_pre_task2]\n",
    "  re = recall_score(y_task_2_true_label,list_pre_task2_label)\n",
    "  list_recal_task2.append(re)"
   ]
  },
  {
   "cell_type": "code",
   "execution_count": null,
   "metadata": {
    "colab": {
     "base_uri": "https://localhost:8080/"
    },
    "id": "nVNaCc1hV9Zs",
    "outputId": "85456dbf-a0d7-4404-a49d-88c47ce66e1a"
   },
   "outputs": [
    {
     "name": "stdout",
     "output_type": "stream",
     "text": [
      "recall cho nhãn task2 Data: 0.35\n",
      "recall cho nhãn task2 File: 0.43\n",
      "recall cho nhãn task2 Instrument: 0.72\n",
      "recall cho nhãn task2 Methodology: 0.52\n",
      "recall cho nhãn task2 Publication: 0.91\n",
      "recall cho nhãn task2 Script: 0.66\n",
      "recall cho nhãn task2 Site: 0.73\n"
     ]
    }
   ],
   "source": [
    "labels = ['Data', 'File', 'Instrument', 'Methodology', 'Publication', 'Script', 'Site']\n",
    "for label, score in zip(labels, list_recal_task2):\n",
    "    print(\"recall cho nhãn task2 {}: {:.2f}\".format(label, score))"
   ]
  },
  {
   "cell_type": "code",
   "execution_count": null,
   "metadata": {
    "id": "DgW-ZkDbV9Zs"
   },
   "outputs": [],
   "source": [
    "list_f1_score_task2 = []\n",
    "for label in range(0,7):\n",
    "  y_task_2_true_label = np.where(y_decode_task2==label,1,0)\n",
    "  list_pre_task2_label = [1 if elements == label else 0 for elements in list_pre_task2]\n",
    "  f1 = f1_score(y_task_2_true_label,list_pre_task2_label)\n",
    "  list_f1_score_task2.append(f1)"
   ]
  },
  {
   "cell_type": "code",
   "execution_count": null,
   "metadata": {
    "colab": {
     "base_uri": "https://localhost:8080/"
    },
    "id": "pCXq-FLDV9Zt",
    "outputId": "9c874e9b-d929-4bef-de09-47e5b7cf63eb"
   },
   "outputs": [
    {
     "name": "stdout",
     "output_type": "stream",
     "text": [
      "f1_score cho nhãn task2 Data: 0.40\n",
      "f1_score cho nhãn task2 File: 0.49\n",
      "f1_score cho nhãn task2 Instrument: 0.69\n",
      "f1_score cho nhãn task2 Methodology: 0.50\n",
      "f1_score cho nhãn task2 Publication: 0.78\n",
      "f1_score cho nhãn task2 Script: 0.68\n",
      "f1_score cho nhãn task2 Site: 0.67\n"
     ]
    }
   ],
   "source": [
    "labels = ['Data', 'File', 'Instrument', 'Methodology', 'Publication', 'Script', 'Site']\n",
    "for label, score in zip(labels, list_f1_score_task2):\n",
    "    print(\"f1_score cho nhãn task2 {}: {:.2f}\".format(label, score))"
   ]
  },
  {
   "cell_type": "code",
   "execution_count": null,
   "metadata": {
    "id": "RHL6aC8lV9Zt"
   },
   "outputs": [],
   "source": [
    "#đánh giá pre, recall, f1 cho purpose\n",
    "mapping = {'Generate':0, 'Present':1, 'Utilize':2}\n",
    "y_decode_purpose = y_test['purpose'].map(mapping)"
   ]
  },
  {
   "cell_type": "code",
   "execution_count": null,
   "metadata": {
    "id": "iicnzIjYV9Zt"
   },
   "outputs": [],
   "source": [
    "list_precision_purpose = []\n",
    "for label in range(0,3):\n",
    "  y_purpose_true_label = np.where(y_decode_purpose==label,1,0)\n",
    "  list_purpose_label = [1 if elements == label else 0 for elements in list_pre_purpose]\n",
    "  pre = precision_score(y_purpose_true_label,list_purpose_label)\n",
    "  list_precision_purpose.append(pre)"
   ]
  },
  {
   "cell_type": "code",
   "execution_count": null,
   "metadata": {
    "colab": {
     "base_uri": "https://localhost:8080/"
    },
    "id": "fGh-aS0mV9Zt",
    "outputId": "c79e5519-6c71-40a3-cb7e-ceebcfdd73bc"
   },
   "outputs": [
    {
     "name": "stdout",
     "output_type": "stream",
     "text": [
      "precision cho nhãn purpose Generate: 0.66\n",
      "precision cho nhãn purpose Present: 0.76\n",
      "precision cho nhãn purpose Utilize: 0.50\n"
     ]
    }
   ],
   "source": [
    "labels = ['Generate', 'Present', 'Utilize']\n",
    "for label, score in zip(labels, list_precision_purpose):\n",
    "    print(\"precision cho nhãn purpose {}: {:.2f}\".format(label, score))"
   ]
  },
  {
   "cell_type": "code",
   "execution_count": null,
   "metadata": {
    "id": "l07j2BlTV9Zt"
   },
   "outputs": [],
   "source": [
    "list_recall_purpose = []\n",
    "for label in range(0,3):\n",
    "  y_purpose_true_label = np.where(y_decode_purpose==label,1,0)\n",
    "  list_purpose_label = [1 if elements == label else 0 for elements in list_pre_purpose]\n",
    "  re = recall_score(y_purpose_true_label,list_purpose_label)\n",
    "  list_recall_purpose.append(re)"
   ]
  },
  {
   "cell_type": "code",
   "execution_count": null,
   "metadata": {
    "colab": {
     "base_uri": "https://localhost:8080/"
    },
    "id": "BFi0DqUaV9Zt",
    "outputId": "9bf54f3e-e9dd-4c60-b405-0d3afc88a413"
   },
   "outputs": [
    {
     "name": "stdout",
     "output_type": "stream",
     "text": [
      "recall cho purpose Generate: 0.51\n",
      "recall cho purpose Present: 0.51\n",
      "recall cho purpose Utilize: 0.77\n"
     ]
    }
   ],
   "source": [
    "labels = ['Generate', 'Present', 'Utilize']\n",
    "for label, score in zip(labels, list_recall_purpose):\n",
    "    print(\"recall cho purpose {}: {:.2f}\".format(label, score))"
   ]
  },
  {
   "cell_type": "code",
   "execution_count": null,
   "metadata": {
    "id": "cMoVpLXlV9Zt"
   },
   "outputs": [],
   "source": [
    "list_f1_score_purpose = []\n",
    "for label in range(0,3):\n",
    "  y_purpose_true_label = np.where(y_decode_purpose==label,1,0)\n",
    "  list_purpose_label = [1 if elements == label else 0 for elements in list_pre_purpose]\n",
    "  f1 = f1_score(y_purpose_true_label,list_purpose_label)\n",
    "  list_f1_score_purpose.append(f1)"
   ]
  },
  {
   "cell_type": "code",
   "execution_count": null,
   "metadata": {
    "colab": {
     "base_uri": "https://localhost:8080/"
    },
    "id": "_Ipf1dbgV9Zu",
    "outputId": "ade4d136-ef5a-4e92-dbe6-2aeb46ba157a"
   },
   "outputs": [
    {
     "name": "stdout",
     "output_type": "stream",
     "text": [
      "f1_score cho purpose Generate: 0.58\n",
      "f1_score cho purpose Present: 0.61\n",
      "f1_score cho purpose Utilize: 0.61\n"
     ]
    }
   ],
   "source": [
    "labels = ['Generate', 'Present', 'Utilize']\n",
    "for label, score in zip(labels, list_f1_score_purpose):\n",
    "    print(\"f1_score cho purpose {}: {:.2f}\".format(label, score))"
   ]
  },
  {
   "cell_type": "markdown",
   "metadata": {
    "id": "oLYP2nyYYGH8"
   },
   "source": [
    "# **Electra**"
   ]
  },
  {
   "cell_type": "code",
   "execution_count": null,
   "metadata": {
    "id": "G-HayD9il_HK"
   },
   "outputs": [],
   "source": [
    "from transformers import ElectraTokenizer, ElectraForSequenceClassification, AdamW\n",
    "import torch\n",
    "import torch.nn as nn\n",
    "\n",
    "# Load Electra model and tokenizer\n",
    "tokenizer = ElectraTokenizer.from_pretrained('google/electra-base-discriminator')\n",
    "task1_model = ElectraForSequenceClassification.from_pretrained('google/electra-base-discriminator', num_labels=3)\n",
    "task2_model = ElectraForSequenceClassification.from_pretrained('google/electra-base-discriminator', num_labels=7)\n",
    "purpose_model = ElectraForSequenceClassification.from_pretrained('google/electra-base-discriminator', num_labels=3)\n",
    "\n",
    "# Tokenize input data\n",
    "encodings = tokenizer(X_train, truncation=True, padding=True, return_tensors='pt')\n",
    "\n",
    "# Convert labels to tensors\n",
    "task1_labels = torch.tensor(y_train_task1)\n",
    "task2_labels = torch.tensor(y_train_task2)\n",
    "purpose_labels = torch.tensor(y_train_purpose)\n",
    "\n",
    "# Create DataLoader\n",
    "class CustomDataset(torch.utils.data.Dataset):\n",
    "    def __init__(self, encodings, task1_labels, task2_labels, purpose_labels):\n",
    "        self.encodings = encodings\n",
    "        self.task1_labels = task1_labels\n",
    "        self.task2_labels = task2_labels\n",
    "        self.purpose_labels = purpose_labels\n",
    "\n",
    "    def __getitem__(self, idx):\n",
    "        item = {key: val[idx] for key, val in self.encodings.items()}\n",
    "        item['task1_labels'] = self.task1_labels[idx]\n",
    "        item['task2_labels'] = self.task2_labels[idx]\n",
    "        item['purpose_labels'] = self.purpose_labels[idx]\n",
    "        return item\n",
    "\n",
    "    def __len__(self):\n",
    "        return len(self.task1_labels)\n",
    "\n",
    "dataset = CustomDataset(encodings, task1_labels, task2_labels, purpose_labels)\n",
    "dataloader = torch.utils.data.DataLoader(dataset, batch_size=2, shuffle=True)\n",
    "\n",
    "device = torch.device(\"cuda\" if torch.cuda.is_available() else \"cpu\")\n",
    "\n",
    "# Initialize optimizer\n",
    "task1_optimizer = AdamW(task1_model.parameters(), lr=1e-5)\n",
    "task2_optimizer = AdamW(task2_model.parameters(), lr=1e-5)\n",
    "purpose_optimizer = AdamW(purpose_model.parameters(), lr=1e-5)\n",
    "\n",
    "# Initialize loss functions\n",
    "task1_loss_fn = nn.CrossEntropyLoss()\n",
    "task2_loss_fn = nn.CrossEntropyLoss()\n",
    "purpose_loss_fn = nn.CrossEntropyLoss()\n",
    "\n",
    "# Move models to the device\n",
    "task1_model.to(device)\n",
    "task2_model.to(device)\n",
    "purpose_model.to(device)\n",
    "\n",
    "# Train\n",
    "task1_model.train()\n",
    "task2_model.train()\n",
    "purpose_model.train()\n",
    "\n",
    "for epoch in range(3):\n",
    "    for batch in dataloader:\n",
    "        task1_optimizer.zero_grad()\n",
    "        task2_optimizer.zero_grad()\n",
    "        purpose_optimizer.zero_grad()\n",
    "\n",
    "        input_ids = batch['input_ids'].to(device)\n",
    "        attention_mask = batch['attention_mask'].to(device)\n",
    "        task1_labels = batch['task1_labels'].to(device)\n",
    "        task2_labels = batch['task2_labels'].to(device)\n",
    "        purpose_labels = batch['purpose_labels'].to(device)\n",
    "\n",
    "        task1_outputs = task1_model(input_ids=input_ids, attention_mask=attention_mask, labels=task1_labels)\n",
    "        task2_outputs = task2_model(input_ids=input_ids, attention_mask=attention_mask, labels=task2_labels)\n",
    "        purpose_outputs = purpose_model(input_ids=input_ids, attention_mask=attention_mask, labels=purpose_labels)\n",
    "\n",
    "        task1_loss = task1_outputs.loss\n",
    "        task2_loss = task2_outputs.loss\n",
    "        purpose_loss = purpose_outputs.loss\n",
    "\n",
    "        total_loss = task1_loss + task2_loss + purpose_loss\n",
    "        total_loss.backward()\n",
    "\n",
    "        task1_optimizer.step()\n",
    "        task2_optimizer.step()\n",
    "        purpose_optimizer.step()\n",
    "\n",
    "# Define the paths to save the models\n",
    "task1_model_path = \"/content/drive/MyDrive/DS204/Electra/task1_model.pth\"\n",
    "task2_model_path = \"/content/drive/MyDrive/DS204/Electra/task2_model.pth\"\n",
    "purpose_model_path = \"/content/drive/MyDrive/DS204/Electra/purpose_model.pth\"\n",
    "\n",
    "# Save the models\n",
    "task1_model.save_pretrained(task1_model_path)\n",
    "task2_model.save_pretrained(task2_model_path)\n",
    "purpose_model.save_pretrained(purpose_model_path)\n",
    "\n",
    "# Predict for a sample\n",
    "text = \"This is an extension of the similarity task for compositional models developed by Mitchell and Lapata (2008) and constructed according to the same guidelines\"\n",
    "input_ids = tokenizer.encode(text, truncation=True, padding=True, return_tensors='pt').to(device)\n",
    "\n",
    "task1_outputs = task1_model(input_ids=input_ids)\n",
    "task2_outputs = task2_model(input_ids=input_ids)\n",
    "purpose_outputs = purpose_model(input_ids=input_ids)\n",
    "\n",
    "task1_logits = task1_outputs.logits[0]\n",
    "task2_logits = task2_outputs.logits[0]\n",
    "purpose_logits = purpose_outputs.logits[0]\n",
    "\n",
    "task1_predictions = torch.argmax(task1_logits, dim=0).item()\n",
    "task2_predictions = torch.argmax(task2_logits, dim=0).item()\n",
    "purpose_predictions = torch.argmax(purpose_logits, dim=0).item()"
   ]
  },
  {
   "cell_type": "code",
   "execution_count": null,
   "metadata": {
    "colab": {
     "base_uri": "https://localhost:8080/"
    },
    "id": "pnq2nouEB4Nh",
    "outputId": "a020ee5c-cb0c-47a7-93fe-f21188b16f00"
   },
   "outputs": [
    {
     "data": {
      "text/plain": [
       "ElectraForSequenceClassification(\n",
       "  (electra): ElectraModel(\n",
       "    (embeddings): ElectraEmbeddings(\n",
       "      (word_embeddings): Embedding(30522, 768, padding_idx=0)\n",
       "      (position_embeddings): Embedding(512, 768)\n",
       "      (token_type_embeddings): Embedding(2, 768)\n",
       "      (LayerNorm): LayerNorm((768,), eps=1e-12, elementwise_affine=True)\n",
       "      (dropout): Dropout(p=0.1, inplace=False)\n",
       "    )\n",
       "    (encoder): ElectraEncoder(\n",
       "      (layer): ModuleList(\n",
       "        (0-11): 12 x ElectraLayer(\n",
       "          (attention): ElectraAttention(\n",
       "            (self): ElectraSelfAttention(\n",
       "              (query): Linear(in_features=768, out_features=768, bias=True)\n",
       "              (key): Linear(in_features=768, out_features=768, bias=True)\n",
       "              (value): Linear(in_features=768, out_features=768, bias=True)\n",
       "              (dropout): Dropout(p=0.1, inplace=False)\n",
       "            )\n",
       "            (output): ElectraSelfOutput(\n",
       "              (dense): Linear(in_features=768, out_features=768, bias=True)\n",
       "              (LayerNorm): LayerNorm((768,), eps=1e-12, elementwise_affine=True)\n",
       "              (dropout): Dropout(p=0.1, inplace=False)\n",
       "            )\n",
       "          )\n",
       "          (intermediate): ElectraIntermediate(\n",
       "            (dense): Linear(in_features=768, out_features=3072, bias=True)\n",
       "            (intermediate_act_fn): GELUActivation()\n",
       "          )\n",
       "          (output): ElectraOutput(\n",
       "            (dense): Linear(in_features=3072, out_features=768, bias=True)\n",
       "            (LayerNorm): LayerNorm((768,), eps=1e-12, elementwise_affine=True)\n",
       "            (dropout): Dropout(p=0.1, inplace=False)\n",
       "          )\n",
       "        )\n",
       "      )\n",
       "    )\n",
       "  )\n",
       "  (classifier): ElectraClassificationHead(\n",
       "    (dense): Linear(in_features=768, out_features=768, bias=True)\n",
       "    (dropout): Dropout(p=0.1, inplace=False)\n",
       "    (out_proj): Linear(in_features=768, out_features=3, bias=True)\n",
       "  )\n",
       ")"
      ]
     },
     "execution_count": 73,
     "metadata": {},
     "output_type": "execute_result"
    }
   ],
   "source": [
    "from transformers import ElectraTokenizer, ElectraForSequenceClassification, AdamW\n",
    "import torch\n",
    "import torch.nn as nn\n",
    "\n",
    "# Check if a GPU is available\n",
    "device = torch.device(\"cuda\" if torch.cuda.is_available() else \"cpu\")\n",
    "\n",
    "# Define the paths to the saved model directories\n",
    "task1_model_electra_path = \"/content/drive/MyDrive/DS204/Dataset/Electra/task1_model.pth\"\n",
    "task2_model_electra_path = \"/content/drive/MyDrive/DS204/Dataset/Electra/task2_model.pth\"\n",
    "purpose_model_electra_path = \"/content/drive/MyDrive/DS204/Dataset/Electra/purpose_model.pth\"\n",
    "\n",
    "# Load the models\n",
    "task1_model_electra = ElectraForSequenceClassification.from_pretrained(task1_model_electra_path)\n",
    "task2_model_electra = ElectraForSequenceClassification.from_pretrained(task2_model_electra_path)\n",
    "purpose_model_electra = ElectraForSequenceClassification.from_pretrained(purpose_model_electra_path)\n",
    "\n",
    "# Move models to the device\n",
    "task1_model_electra.to(device)\n",
    "task2_model_electra.to(device)\n",
    "purpose_model_electra.to(device)"
   ]
  },
  {
   "cell_type": "code",
   "execution_count": null,
   "metadata": {
    "id": "pE5dGLRW3Bvs"
   },
   "outputs": [],
   "source": [
    "tokenizer = ElectraTokenizer.from_pretrained('google/electra-base-discriminator')"
   ]
  },
  {
   "cell_type": "code",
   "execution_count": null,
   "metadata": {
    "id": "zkBgRVrbaIQG"
   },
   "outputs": [],
   "source": [
    "#predict for a sample\n",
    "text = \"his is an extension of the similarity task for compositional models developed by Mitchell and Lapata ( 2008 ) and constructed according to the same guidelines\"\n",
    "input_ids = tokenizer.encode(text, truncation=True, padding=True, return_tensors='pt').to(device)\n",
    "\n",
    "task1_outputs = task1_model_electra(input_ids)\n",
    "task2_outputs = task2_model_electra(input_ids)\n",
    "purpose_outputs = purpose_model_electra(input_ids)\n",
    "\n",
    "task1_logits = task1_outputs.logits[0]\n",
    "task2_logits = task2_outputs.logits[0]\n",
    "purpose_logits = purpose_outputs.logits[0]\n",
    "\n",
    "task1_predictions = torch.argmax(task1_logits, dim=0).item()\n",
    "task2_predictions = torch.argmax(task2_logits, dim=0).item()\n",
    "purpose_predictions = torch.argmax(purpose_logits, dim=0).item()"
   ]
  },
  {
   "cell_type": "code",
   "execution_count": null,
   "metadata": {
    "colab": {
     "base_uri": "https://localhost:8080/"
    },
    "id": "d4fQX6gdaIQO",
    "outputId": "f70c1073-61fd-484f-b276-f889de6f55e4"
   },
   "outputs": [
    {
     "name": "stdout",
     "output_type": "stream",
     "text": [
      "Task 1:  Substance\n",
      "Task 2:  File\n",
      "Purpose:  Generate\n"
     ]
    }
   ],
   "source": [
    "#mapping label\n",
    "task1_label = ['Addition', 'Approach', 'Substance'][task1_predictions]\n",
    "task2_label = ['Data', 'File', 'Instrument', 'Methodology', 'Publication', 'Script', 'Site'][task2_predictions]\n",
    "purpose_label = ['Generate', 'Present', 'Utilize'][purpose_predictions]\n",
    "\n",
    "print(\"Task 1: \", task1_label)\n",
    "print(\"Task 2: \", task2_label)\n",
    "print(\"Purpose: \", purpose_label)"
   ]
  },
  {
   "cell_type": "code",
   "execution_count": null,
   "metadata": {
    "id": "r2wWVvvraIQP"
   },
   "outputs": [],
   "source": [
    "def predict_label(data,label_task1,label_task2,label_purpose):\n",
    "  list_predict_task1 = []\n",
    "  list_predict_task2 = []\n",
    "  list_predict_purpose = []\n",
    "\n",
    "  for i in range(0,len(data)):\n",
    "    input_ids_i = tokenizer.encode(data[i], truncation=True, padding=True, return_tensors='pt').to(device)\n",
    "    task1_outputs_i = task2_model_electra(input_ids_i)\n",
    "    task2_outputs_i = task2_model_electra(input_ids_i)\n",
    "    purpose_output_i = purpose_model_electra(input_ids_i)\n",
    "\n",
    "    task1_logits_i = task1_outputs_i.logits[0]\n",
    "    task2_logits_i = task2_outputs_i.logits[0]\n",
    "    purpose_logits_i = purpose_output_i.logits[0]\n",
    "\n",
    "    task1_predictions_i = torch.argmax(task1_logits_i, dim=0).item()\n",
    "    task2_predictions_i = torch.argmax(task2_logits_i, dim=0).item()\n",
    "    purpose_predictions_i = torch.argmax(purpose_logits_i, dim=0).item()\n",
    "    list_predict_task1.append(task1_predictions_i)\n",
    "    list_predict_task2.append(task2_predictions_i)\n",
    "    list_predict_purpose.append(purpose_predictions_i)\n",
    "  return list_predict_task1,list_predict_task2,list_predict_purpose"
   ]
  },
  {
   "cell_type": "code",
   "execution_count": null,
   "metadata": {
    "id": "xAzixrrFaIQP"
   },
   "outputs": [],
   "source": [
    "def caculate_accuracy(data,label_task1,label_task2,label_purpose):\n",
    "  list_score = []\n",
    "  number_label_true_task1 = 0\n",
    "  number_label_true_task2 = 0\n",
    "  number_label_true_purpose = 0\n",
    "  accuracy_sc_task1 = 0\n",
    "  accuracy_sc_task2 = 0\n",
    "  accuracy_sc_purpose = 0\n",
    "  for i in range(0,len(data)):\n",
    "    input_ids_i = tokenizer.encode(data[i], truncation=True, padding=True, return_tensors='pt').to(device)\n",
    "    task1_outputs_i = task1_model_electra(input_ids_i)\n",
    "    task2_outputs_i = task2_model_electra(input_ids_i)\n",
    "    purpose_output_i = purpose_model_electra(input_ids_i)\n",
    "\n",
    "    task1_logits_i = task1_outputs_i.logits[0]\n",
    "    task2_logits_i = task2_outputs_i.logits[0]\n",
    "    purpose_logits_i = purpose_output_i.logits[0]\n",
    "\n",
    "    task1_predictions_i = torch.argmax(task1_logits_i, dim=0).item()\n",
    "    task2_predictions_i = torch.argmax(task2_logits_i, dim=0).item()\n",
    "    purpose_predictions_i = torch.argmax(purpose_logits_i, dim=0).item()\n",
    "    if task1_predictions_i == label_task1[i]:\n",
    "      number_label_true_task1 +=1\n",
    "    if task2_predictions_i == label_task2[i]:\n",
    "      number_label_true_task2 +=1\n",
    "    if purpose_predictions_i == label_purpose[i]:\n",
    "      number_label_true_purpose +=1\n",
    "  accuracy_sc_task1 = number_label_true_task1/len(data)\n",
    "  accuracy_sc_task2 = number_label_true_task2/len(data)\n",
    "  accuracy_sc_purpose = number_label_true_purpose/len(data)\n",
    "  list_score = [accuracy_sc_task1,accuracy_sc_task2,accuracy_sc_purpose]\n",
    "  return list_score"
   ]
  },
  {
   "cell_type": "code",
   "execution_count": null,
   "metadata": {
    "colab": {
     "base_uri": "https://localhost:8080/"
    },
    "id": "92WypC9IaIQP",
    "outputId": "b5828d19-03b5-4dd9-c339-5b6ac90dcb4d"
   },
   "outputs": [
    {
     "name": "stdout",
     "output_type": "stream",
     "text": [
      "77.69436102769437\n"
     ]
    }
   ],
   "source": [
    "acc_train = caculate_accuracy(X_train,y_train_task1,y_train_task2,y_train_purpose)\n",
    "print(np.mean(acc_train)*100)"
   ]
  },
  {
   "cell_type": "code",
   "execution_count": null,
   "metadata": {
    "id": "dwl90GFMaIQP"
   },
   "outputs": [],
   "source": [
    "y_test_task1 = y_test['task1'].tolist()\n",
    "y_test_task2 = y_test['task2'].tolist()\n",
    "y_test_purpose = y_test['purpose'].tolist()"
   ]
  },
  {
   "cell_type": "code",
   "execution_count": null,
   "metadata": {
    "id": "m-3iWvRLaIQP"
   },
   "outputs": [],
   "source": [
    "label_encode = LabelEncoder()\n",
    "y_test_task1 = label_encode.fit_transform(y_test_task1)"
   ]
  },
  {
   "cell_type": "code",
   "execution_count": null,
   "metadata": {
    "id": "4P_chDAYaIQP"
   },
   "outputs": [],
   "source": [
    "label_encode = LabelEncoder()\n",
    "y_test_task2 = label_encode.fit_transform(y_test_task2)"
   ]
  },
  {
   "cell_type": "code",
   "execution_count": null,
   "metadata": {
    "id": "YZIJ4YooaIQP"
   },
   "outputs": [],
   "source": [
    "label_encode = LabelEncoder()\n",
    "y_test_purpose = label_encode.fit_transform(y_test_purpose)"
   ]
  },
  {
   "cell_type": "code",
   "execution_count": null,
   "metadata": {
    "id": "0OYKxdiVaIQQ"
   },
   "outputs": [],
   "source": [
    "list_pre_task1, list_pre_task2,list_pre_purpose = predict_label(X_test,y_test_task1,y_test_task2,y_test_purpose)"
   ]
  },
  {
   "cell_type": "code",
   "execution_count": null,
   "metadata": {
    "colab": {
     "base_uri": "https://localhost:8080/"
    },
    "id": "guWOvBL_aIQQ",
    "outputId": "03dd4f53-67ed-485f-a4b8-725ec3de7a25"
   },
   "outputs": [
    {
     "name": "stdout",
     "output_type": "stream",
     "text": [
      "độ chính xác trên tập test 63.06666666666666 %\n"
     ]
    }
   ],
   "source": [
    "acc_test = caculate_accuracy(X_test,y_test_task1,y_test_task2,y_test_purpose)\n",
    "print(\"độ chính xác trên tập test\",np.mean(acc_test)*100,\"%\")"
   ]
  },
  {
   "cell_type": "code",
   "execution_count": null,
   "metadata": {
    "id": "uB0RtgnBaIQQ"
   },
   "outputs": [],
   "source": [
    "mapping = {'Addition':0,'Approach':1,'Substance':2}\n",
    "y_decode_task1 = y_test['task1'].map(mapping)"
   ]
  },
  {
   "cell_type": "code",
   "execution_count": null,
   "metadata": {
    "id": "zPg0k44zaIQQ"
   },
   "outputs": [],
   "source": [
    "list_precision = []\n",
    "for label in range(0,3):\n",
    "  y_task_1_true_label = np.where(y_decode_task1==label,1,0)\n",
    "  list_pre_task1_label = [1 if elements == label else 0 for elements in list_pre_task1]\n",
    "  pre = precision_score(y_task_1_true_label,list_pre_task1_label)\n",
    "  list_precision.append(pre)"
   ]
  },
  {
   "cell_type": "code",
   "execution_count": null,
   "metadata": {
    "colab": {
     "base_uri": "https://localhost:8080/"
    },
    "id": "tsyiIhjbaIQQ",
    "outputId": "c712f8ed-b707-45f6-b947-975f0f718855"
   },
   "outputs": [
    {
     "name": "stdout",
     "output_type": "stream",
     "text": [
      "precision của từng nhãn task1: Addition 0.3968253968253968, Approach 0.2222222222222222, Substance 0.35526315789473684\n"
     ]
    }
   ],
   "source": [
    "print(\"precision của từng nhãn task1: Addition {}, Approach {}, Substance {}\" .format(list_precision[0],list_precision[1],list_precision[2]))"
   ]
  },
  {
   "cell_type": "code",
   "execution_count": null,
   "metadata": {
    "id": "ZZ2akC3OaIQQ"
   },
   "outputs": [],
   "source": [
    "from sklearn.metrics import recall_score\n",
    "list_recall = []\n",
    "for label in range(0,3):\n",
    "  y_task_1_true_label = np.where(y_decode_task1==label,1,0)\n",
    "  list_pre_task1_label = [1 if elements == label else 0 for elements in list_pre_task1]\n",
    "  recall = recall_score(y_task_1_true_label,list_pre_task1_label)\n",
    "  list_recall.append(recall)"
   ]
  },
  {
   "cell_type": "code",
   "execution_count": null,
   "metadata": {
    "colab": {
     "base_uri": "https://localhost:8080/"
    },
    "id": "XtXTQW87aIQQ",
    "outputId": "a1df290d-9b40-4b50-ac31-5f27334af0c9"
   },
   "outputs": [
    {
     "name": "stdout",
     "output_type": "stream",
     "text": [
      "recall của từng nhãn task1: Addition 0.13966480446927373, Approach 0.07608695652173914, Substance 0.19708029197080293\n"
     ]
    }
   ],
   "source": [
    "print(\"recall của từng nhãn task1: Addition {}, Approach {}, Substance {}\" .format(list_recall[0],list_recall[1],list_recall[2]))"
   ]
  },
  {
   "cell_type": "code",
   "execution_count": null,
   "metadata": {
    "id": "z8Avreg8aIQQ"
   },
   "outputs": [],
   "source": [
    "from sklearn.metrics import f1_score\n",
    "f1_score_task1 = []\n",
    "for label in range(0,3):\n",
    "  y_task_1_true_label = np.where(y_decode_task1==label,1,0)\n",
    "  list_f1_role1_label = [1 if elements == label else 0 for elements in list_pre_task1]\n",
    "  score = f1_score(y_task_1_true_label,list_f1_role1_label)\n",
    "  f1_score_task1.append(score)"
   ]
  },
  {
   "cell_type": "code",
   "execution_count": null,
   "metadata": {
    "colab": {
     "base_uri": "https://localhost:8080/"
    },
    "id": "Ienm4t_uaIQR",
    "outputId": "97d4a610-add1-4c0f-9400-560cc107922e"
   },
   "outputs": [
    {
     "name": "stdout",
     "output_type": "stream",
     "text": [
      "F1-score của từng nhãn task1: Addition 0.20661157024793386, Approach 0.11336032388663968, Substance 0.25352112676056343\n"
     ]
    }
   ],
   "source": [
    "print(\"F1-score của từng nhãn task1: Addition {}, Approach {}, Substance {}\" .format(f1_score_task1[0],f1_score_task1[1],f1_score_task1[2]))"
   ]
  },
  {
   "cell_type": "code",
   "execution_count": null,
   "metadata": {
    "id": "OHquoRJgaIQR"
   },
   "outputs": [],
   "source": [
    "#đánh giá pre,recall, f1 cho task2\n",
    "mapping = {'Data':0, 'File':1, 'Instrument':2, 'Methodology':3, 'Publication':4, 'Script':5, 'Site':6}\n",
    "y_decode_task2 = y_test['task2'].map(mapping)"
   ]
  },
  {
   "cell_type": "code",
   "execution_count": null,
   "metadata": {
    "id": "H63xkHivaIQR"
   },
   "outputs": [],
   "source": [
    "list_precision_task2 = []\n",
    "for label in range(0,7):\n",
    "  y_task_2_true_label = np.where(y_decode_task2==label,1,0)\n",
    "  list_pre_task2_label = [1 if elements == label else 0 for elements in list_pre_task2]\n",
    "  pre = precision_score(y_task_2_true_label,list_pre_task2_label)\n",
    "  list_precision_task2.append(pre)"
   ]
  },
  {
   "cell_type": "code",
   "execution_count": null,
   "metadata": {
    "colab": {
     "base_uri": "https://localhost:8080/"
    },
    "id": "I_-SXCOgaIQR",
    "outputId": "f075f7d0-7181-4c6c-d6ac-6422621f295d"
   },
   "outputs": [
    {
     "name": "stdout",
     "output_type": "stream",
     "text": [
      "precision cho nhãn task2: Data: 0.40\n",
      "precision cho nhãn task2: File: 0.54\n",
      "precision cho nhãn task2: Instrument: 0.67\n",
      "precision cho nhãn task2: Methodology: 0.37\n",
      "precision cho nhãn task2: Publication: 0.64\n",
      "precision cho nhãn task2: Script: 0.74\n",
      "precision cho nhãn task2: Site: 0.67\n"
     ]
    }
   ],
   "source": [
    "labels = ['Data', 'File', 'Instrument', 'Methodology', 'Publication', 'Script', 'Site']\n",
    "for label, score in zip(labels, list_precision_task2):\n",
    "    print(\"precision cho nhãn task2: {}: {:.2f}\".format(label, score))\n"
   ]
  },
  {
   "cell_type": "code",
   "execution_count": null,
   "metadata": {
    "id": "fYt_kBnTaIQR"
   },
   "outputs": [],
   "source": [
    "list_recal_task2 = []\n",
    "for label in range(0,7):\n",
    "  y_task_2_true_label = np.where(y_decode_task2==label,1,0)\n",
    "  list_pre_task2_label = [1 if elements == label else 0 for elements in list_pre_task2]\n",
    "  re = recall_score(y_task_2_true_label,list_pre_task2_label)\n",
    "  list_recal_task2.append(re)"
   ]
  },
  {
   "cell_type": "code",
   "execution_count": null,
   "metadata": {
    "colab": {
     "base_uri": "https://localhost:8080/"
    },
    "id": "YthKDVOxaIQS",
    "outputId": "7512c087-7585-420f-a6c5-f6c6784af6cc"
   },
   "outputs": [
    {
     "name": "stdout",
     "output_type": "stream",
     "text": [
      "recall cho nhãn task2 Data: 0.37\n",
      "recall cho nhãn task2 File: 0.43\n",
      "recall cho nhãn task2 Instrument: 0.58\n",
      "recall cho nhãn task2 Methodology: 0.71\n",
      "recall cho nhãn task2 Publication: 0.85\n",
      "recall cho nhãn task2 Script: 0.41\n",
      "recall cho nhãn task2 Site: 0.55\n"
     ]
    }
   ],
   "source": [
    "labels = ['Data', 'File', 'Instrument', 'Methodology', 'Publication', 'Script', 'Site']\n",
    "for label, score in zip(labels, list_recal_task2):\n",
    "    print(\"recall cho nhãn task2 {}: {:.2f}\".format(label, score))"
   ]
  },
  {
   "cell_type": "code",
   "execution_count": null,
   "metadata": {
    "id": "X1BAhBneaIQS"
   },
   "outputs": [],
   "source": [
    "list_f1_score_task2 = []\n",
    "for label in range(0,7):\n",
    "  y_task_2_true_label = np.where(y_decode_task2==label,1,0)\n",
    "  list_pre_task2_label = [1 if elements == label else 0 for elements in list_pre_task2]\n",
    "  f1 = f1_score(y_task_2_true_label,list_pre_task2_label)\n",
    "  list_f1_score_task2.append(f1)"
   ]
  },
  {
   "cell_type": "code",
   "execution_count": null,
   "metadata": {
    "colab": {
     "base_uri": "https://localhost:8080/"
    },
    "id": "YhYUAo6WaIQS",
    "outputId": "c996f093-7ef7-4a65-e53b-48f4ce531625"
   },
   "outputs": [
    {
     "name": "stdout",
     "output_type": "stream",
     "text": [
      "f1_score cho nhãn task2 Data: 0.38\n",
      "f1_score cho nhãn task2 File: 0.48\n",
      "f1_score cho nhãn task2 Instrument: 0.62\n",
      "f1_score cho nhãn task2 Methodology: 0.48\n",
      "f1_score cho nhãn task2 Publication: 0.73\n",
      "f1_score cho nhãn task2 Script: 0.53\n",
      "f1_score cho nhãn task2 Site: 0.60\n"
     ]
    }
   ],
   "source": [
    "labels = ['Data', 'File', 'Instrument', 'Methodology', 'Publication', 'Script', 'Site']\n",
    "for label, score in zip(labels, list_f1_score_task2):\n",
    "    print(\"f1_score cho nhãn task2 {}: {:.2f}\".format(label, score))"
   ]
  },
  {
   "cell_type": "code",
   "execution_count": null,
   "metadata": {
    "id": "o8kNV2cEaIQS"
   },
   "outputs": [],
   "source": [
    "#đánh giá pre, recall, f1 cho purpose\n",
    "mapping = {'Generate':0, 'Present':1, 'Utilize':2}\n",
    "y_decode_purpose = y_test['purpose'].map(mapping)"
   ]
  },
  {
   "cell_type": "code",
   "execution_count": null,
   "metadata": {
    "id": "PPgRW8SOaIQS"
   },
   "outputs": [],
   "source": [
    "list_precision_purpose = []\n",
    "for label in range(0,3):\n",
    "  y_purpose_true_label = np.where(y_decode_purpose==label,1,0)\n",
    "  list_purpose_label = [1 if elements == label else 0 for elements in list_pre_purpose]\n",
    "  pre = precision_score(y_purpose_true_label,list_purpose_label)\n",
    "  list_precision_purpose.append(pre)"
   ]
  },
  {
   "cell_type": "code",
   "execution_count": null,
   "metadata": {
    "colab": {
     "base_uri": "https://localhost:8080/"
    },
    "id": "qAmWjMk6aIQS",
    "outputId": "1acebcfc-a2ba-45e2-c6b4-a1e3823b4684"
   },
   "outputs": [
    {
     "name": "stdout",
     "output_type": "stream",
     "text": [
      "precision cho nhãn purpose Generate: 0.71\n",
      "precision cho nhãn purpose Present: 0.70\n",
      "precision cho nhãn purpose Utilize: 0.52\n"
     ]
    }
   ],
   "source": [
    "labels = ['Generate', 'Present', 'Utilize']\n",
    "for label, score in zip(labels, list_precision_purpose):\n",
    "    print(\"precision cho nhãn purpose {}: {:.2f}\".format(label, score))"
   ]
  },
  {
   "cell_type": "code",
   "execution_count": null,
   "metadata": {
    "id": "83-c-ZIQaIQS"
   },
   "outputs": [],
   "source": [
    "list_recall_purpose = []\n",
    "for label in range(0,3):\n",
    "  y_purpose_true_label = np.where(y_decode_purpose==label,1,0)\n",
    "  list_purpose_label = [1 if elements == label else 0 for elements in list_pre_purpose]\n",
    "  re = recall_score(y_purpose_true_label,list_purpose_label)\n",
    "  list_recall_purpose.append(re)"
   ]
  },
  {
   "cell_type": "code",
   "execution_count": null,
   "metadata": {
    "colab": {
     "base_uri": "https://localhost:8080/"
    },
    "id": "Cd9mWXiJaIQS",
    "outputId": "c97570fc-70de-4df6-ab70-21b106fdd190"
   },
   "outputs": [
    {
     "name": "stdout",
     "output_type": "stream",
     "text": [
      "recall cho purpose Generate: 0.54\n",
      "recall cho purpose Present: 0.55\n",
      "recall cho purpose Utilize: 0.76\n"
     ]
    }
   ],
   "source": [
    "labels = ['Generate', 'Present', 'Utilize']\n",
    "for label, score in zip(labels, list_recall_purpose):\n",
    "    print(\"recall cho purpose {}: {:.2f}\".format(label, score))"
   ]
  },
  {
   "cell_type": "code",
   "execution_count": null,
   "metadata": {
    "id": "g7_oMknyaIQT"
   },
   "outputs": [],
   "source": [
    "list_f1_score_purpose = []\n",
    "for label in range(0,3):\n",
    "  y_purpose_true_label = np.where(y_decode_purpose==label,1,0)\n",
    "  list_purpose_label = [1 if elements == label else 0 for elements in list_pre_purpose]\n",
    "  f1 = f1_score(y_purpose_true_label,list_purpose_label)\n",
    "  list_f1_score_purpose.append(f1)"
   ]
  },
  {
   "cell_type": "code",
   "execution_count": null,
   "metadata": {
    "colab": {
     "base_uri": "https://localhost:8080/"
    },
    "id": "jMtPX-3gaIQT",
    "outputId": "47842227-7090-408d-c371-b4622976fec6"
   },
   "outputs": [
    {
     "name": "stdout",
     "output_type": "stream",
     "text": [
      "f1_score cho purpose Generate: 0.62\n",
      "f1_score cho purpose Present: 0.62\n",
      "f1_score cho purpose Utilize: 0.62\n"
     ]
    }
   ],
   "source": [
    "labels = ['Generate', 'Present', 'Utilize']\n",
    "for label, score in zip(labels, list_f1_score_purpose):\n",
    "    print(\"f1_score cho purpose {}: {:.2f}\".format(label, score))"
   ]
  },
  {
   "cell_type": "markdown",
   "metadata": {
    "id": "emdSNnG9ckeS"
   },
   "source": [
    "# **Roberta**"
   ]
  },
  {
   "cell_type": "code",
   "execution_count": null,
   "metadata": {
    "id": "_00s574TmGbu"
   },
   "outputs": [],
   "source": [
    "from transformers import RobertaTokenizer, RobertaForSequenceClassification, AdamW\n",
    "import torch\n",
    "import torch.nn as nn\n",
    "\n",
    "# Load RoBERTa model and tokenizer\n",
    "tokenizer = RobertaTokenizer.from_pretrained('roberta-base')\n",
    "task1_model = RobertaForSequenceClassification.from_pretrained('roberta-base', num_labels=3)\n",
    "task2_model = RobertaForSequenceClassification.from_pretrained('roberta-base', num_labels=7)\n",
    "purpose_model = RobertaForSequenceClassification.from_pretrained('roberta-base', num_labels=3)\n",
    "\n",
    "# Tokenize input data\n",
    "encodings = tokenizer(X_train, truncation=True, padding=True, return_tensors='pt')\n",
    "\n",
    "# Convert labels to tensors\n",
    "task1_labels = torch.tensor(y_train_task1)\n",
    "task2_labels = torch.tensor(y_train_task2)\n",
    "purpose_labels = torch.tensor(y_train_purpose)\n",
    "\n",
    "# Create DataLoader\n",
    "class CustomDataset(torch.utils.data.Dataset):\n",
    "    def __init__(self, encodings, task_labels, task2_labels, purpose_labels):\n",
    "        self.encodings = encodings\n",
    "        self.task1_labels = task1_labels\n",
    "        self.task2_labels = task2_labels\n",
    "        self.purpose_labels = purpose_labels\n",
    "\n",
    "    def __getitem__(self, idx):\n",
    "        item = {key: val[idx] for key, val in self.encodings.items()}\n",
    "        item['task1_labels'] = self.task1_labels[idx]\n",
    "        item['task2_labels'] = self.task2_labels[idx]\n",
    "        item['purpose_labels'] = self.purpose_labels[idx]\n",
    "        return item\n",
    "\n",
    "    def __len__(self):\n",
    "        return len(self.task1_labels)\n",
    "\n",
    "dataset = CustomDataset(encodings, task1_labels, task2_labels, purpose_labels)\n",
    "dataloader = torch.utils.data.DataLoader(dataset, batch_size=2, shuffle=True)\n",
    "device = torch.device(\"cuda\" if torch.cuda.is_available() else \"cpu\")\n",
    "\n",
    "# Init optimizer algorithm\n",
    "task1_optimizer = AdamW(task1_model.parameters(), lr=1e-5)\n",
    "task2_optimizer = AdamW(task2_model.parameters(), lr=1e-5)\n",
    "purpose_optimizer = AdamW(purpose_model.parameters(), lr=1e-5)\n",
    "\n",
    "# Init loss function\n",
    "task1_loss_fn = nn.CrossEntropyLoss()\n",
    "task2_loss_fn = nn.CrossEntropyLoss()\n",
    "purpose_loss_fn = nn.CrossEntropyLoss()\n",
    "\n",
    "task1_model.to(device)\n",
    "task2_model.to(device)\n",
    "purpose_model.to(device)\n",
    "\n",
    "# Train\n",
    "task1_model.train()\n",
    "task2_model.train()\n",
    "purpose_model.train()\n",
    "\n",
    "for epoch in range(3):\n",
    "    for batch in dataloader:\n",
    "        task1_optimizer.zero_grad()\n",
    "        task2_optimizer.zero_grad()\n",
    "        purpose_optimizer.zero_grad()\n",
    "\n",
    "        input_ids = batch['input_ids'].to(device)\n",
    "        attention_mask = batch['attention_mask'].to(device)\n",
    "        task1_labels = batch['task1_labels'].to(device)\n",
    "        task2_labels = batch['task2_labels'].to(device)\n",
    "        purpose_labels = batch['purpose_labels'].to(device)\n",
    "\n",
    "        task1_outputs = task1_model(input_ids, attention_mask=attention_mask, labels=task1_labels)\n",
    "        task2_outputs = task2_model(input_ids, attention_mask=attention_mask, labels=task2_labels)\n",
    "        purpose_outputs = purpose_model(input_ids, attention_mask=attention_mask, labels=purpose_labels)\n",
    "\n",
    "        task1_loss = task1_outputs.loss\n",
    "        task2_loss = task2_outputs.loss\n",
    "        purpose_loss = purpose_outputs.loss\n",
    "\n",
    "        total_loss = task1_loss + task2_loss + purpose_loss\n",
    "        total_loss.backward()\n",
    "\n",
    "        task1_optimizer.step()\n",
    "        task2_optimizer.step()\n",
    "        purpose_optimizer.step()\n",
    "\n",
    "# Define the paths to save the models\n",
    "task1_model_path = \"/content/drive/MyDrive/DS204/Roberta/task1_model.pth\"\n",
    "task2_model_path = \"/content/drive/MyDrive/DS204/Roberta/task2_model.pth\"\n",
    "purpose_model_path = \"/content/drive/MyDrive/DS204/Roberta/purpose_model.pth\"\n",
    "\n",
    "# Save the models\n",
    "task1_model.save_pretrained(task1_model_path)\n",
    "task2_model.save_pretrained(task2_model_path)\n",
    "purpose_model.save_pretrained(purpose_model_path)\n",
    "\n",
    "# Predict for a sample\n",
    "text = \"This is an extension of the similarity task for compositional models developed by Mitchell and Lapata (2008) and constructed according to the same guidelines\"\n",
    "input_ids = tokenizer.encode(text, truncation=True, padding=True, return_tensors='pt').to(device)\n",
    "\n",
    "task1_outputs = task1_model(input_ids)\n",
    "task2_outputs = task2_model(input_ids)\n",
    "purpose_outputs = purpose_model(input_ids)\n",
    "\n",
    "task1_logits = task1_outputs.logits[0]\n",
    "task2_logits = task2_outputs.logits[0]\n",
    "purpose_logits = purpose_outputs.logits[0]\n",
    "\n",
    "task1_predictions = torch.argmax(task1_logits, dim=0).item()\n",
    "task2_predictions = torch.argmax(task2_logits, dim=0).item()\n",
    "purpose_predictions = torch.argmax(purpose_logits, dim=0).item()"
   ]
  },
  {
   "cell_type": "code",
   "execution_count": null,
   "metadata": {
    "colab": {
     "base_uri": "https://localhost:8080/"
    },
    "id": "roTQPXXKLw1t",
    "outputId": "0fbbd9d3-31df-416e-ed54-dfe7eb967b60"
   },
   "outputs": [
    {
     "data": {
      "text/plain": [
       "RobertaForSequenceClassification(\n",
       "  (roberta): RobertaModel(\n",
       "    (embeddings): RobertaEmbeddings(\n",
       "      (word_embeddings): Embedding(50265, 768, padding_idx=1)\n",
       "      (position_embeddings): Embedding(514, 768, padding_idx=1)\n",
       "      (token_type_embeddings): Embedding(1, 768)\n",
       "      (LayerNorm): LayerNorm((768,), eps=1e-05, elementwise_affine=True)\n",
       "      (dropout): Dropout(p=0.1, inplace=False)\n",
       "    )\n",
       "    (encoder): RobertaEncoder(\n",
       "      (layer): ModuleList(\n",
       "        (0-11): 12 x RobertaLayer(\n",
       "          (attention): RobertaAttention(\n",
       "            (self): RobertaSelfAttention(\n",
       "              (query): Linear(in_features=768, out_features=768, bias=True)\n",
       "              (key): Linear(in_features=768, out_features=768, bias=True)\n",
       "              (value): Linear(in_features=768, out_features=768, bias=True)\n",
       "              (dropout): Dropout(p=0.1, inplace=False)\n",
       "            )\n",
       "            (output): RobertaSelfOutput(\n",
       "              (dense): Linear(in_features=768, out_features=768, bias=True)\n",
       "              (LayerNorm): LayerNorm((768,), eps=1e-05, elementwise_affine=True)\n",
       "              (dropout): Dropout(p=0.1, inplace=False)\n",
       "            )\n",
       "          )\n",
       "          (intermediate): RobertaIntermediate(\n",
       "            (dense): Linear(in_features=768, out_features=3072, bias=True)\n",
       "            (intermediate_act_fn): GELUActivation()\n",
       "          )\n",
       "          (output): RobertaOutput(\n",
       "            (dense): Linear(in_features=3072, out_features=768, bias=True)\n",
       "            (LayerNorm): LayerNorm((768,), eps=1e-05, elementwise_affine=True)\n",
       "            (dropout): Dropout(p=0.1, inplace=False)\n",
       "          )\n",
       "        )\n",
       "      )\n",
       "    )\n",
       "  )\n",
       "  (classifier): RobertaClassificationHead(\n",
       "    (dense): Linear(in_features=768, out_features=768, bias=True)\n",
       "    (dropout): Dropout(p=0.1, inplace=False)\n",
       "    (out_proj): Linear(in_features=768, out_features=3, bias=True)\n",
       "  )\n",
       ")"
      ]
     },
     "execution_count": 143,
     "metadata": {},
     "output_type": "execute_result"
    }
   ],
   "source": [
    "from transformers import RobertaForSequenceClassification\n",
    "\n",
    "# Define the paths to the saved model directories\n",
    "task1_model_roberta_path = \"/content/drive/MyDrive/DS204/Roberta/task1_model.pth\"\n",
    "task2_model_roberta_path = \"/content/drive/MyDrive/DS204/Roberta/task2_model.pth\"\n",
    "purpose_model_roberta_path = \"/content/drive/MyDrive/DS204/Roberta/purpose_model.pth\"\n",
    "\n",
    "# Load the models\n",
    "task1_model_roberta = RobertaForSequenceClassification.from_pretrained(task1_model_roberta_path)\n",
    "task2_model_roberta = RobertaForSequenceClassification.from_pretrained(task2_model_roberta_path)\n",
    "purpose_model_roberta = RobertaForSequenceClassification.from_pretrained(purpose_model_roberta_path)\n",
    "\n",
    "# Move models to the device\n",
    "task1_model_roberta.to(device)\n",
    "task2_model_roberta.to(device)\n",
    "purpose_model_roberta.to(device)\n"
   ]
  },
  {
   "cell_type": "code",
   "execution_count": null,
   "metadata": {
    "colab": {
     "base_uri": "https://localhost:8080/",
     "height": 113,
     "referenced_widgets": [
      "843a1bea67de45f59356f4f84d434d5d",
      "b0f2892c180640a89439d442af84d964",
      "91531874fb4940c9a8618d062f3925d1",
      "1964b0fc083d4580b35856ce29bf7449",
      "c6c64ea6cbe745659d818f8864bf6961",
      "ae78a43a0c834c0691586e92dcff0c6a",
      "861b0028baf84b9bb67cdbd8c6210a9b",
      "1f8dc824db1b4cbf9bd2384833531025",
      "7b18a7ee25414627b8e504594bd6a34d",
      "9dc427b3f9334a228ab4a505bdad910d",
      "98eb35fff22c425e992b64bdc3c503aa",
      "e545abc15c364f3ab017808461da6d21",
      "d1b0cb3d3bfd47f7bc6c56760fc9de9e",
      "ca0238db1b694430984019204069c51e",
      "a482d5c212d14ff4b03554d6690ec119",
      "601d548936594024b01ff9be0adba417",
      "3f2daded7aac4de1ab6dbc99601baa08",
      "7451e032f0a444b09faa1addec43d07c",
      "609269df07484b669bc279354ee9e0cc",
      "799ca5cbf64f4f50a9d934c2179430d2",
      "1c1be632cadc4a82abf557d9676eb5da",
      "b71d22be975d415e98090724c6766b52",
      "f1b67a1ba1f845cd835ac8acb127dd1c",
      "c99bae21b82b47a1b4c0e4b59b05ac0b",
      "c2a1aa0037b74e19a0f1f6891e304bf6",
      "9ba43a6f8b8947c1818daea732c27bb2",
      "ee7a400d2e684491975e74884c2c2046",
      "174fad134fca4aadb7de043ef2442c0a",
      "c67b6187a8154d659a4da369f5df8bc2",
      "517a48ef5f3348ab9b66ab45e0967845",
      "bb771bfd7bf54ce498f2d984e63f92a3",
      "3d8bc44fd62642e888d08abd5cf03313",
      "5655b21ea90a46d19ec43842d8c3a100"
     ]
    },
    "id": "qDd9bql0dum9",
    "outputId": "671c9ef1-da60-4ec0-96fe-1dec4a71ebed"
   },
   "outputs": [
    {
     "data": {
      "application/vnd.jupyter.widget-view+json": {
       "model_id": "843a1bea67de45f59356f4f84d434d5d",
       "version_major": 2,
       "version_minor": 0
      },
      "text/plain": [
       "Downloading (…)olve/main/vocab.json:   0%|          | 0.00/899k [00:00<?, ?B/s]"
      ]
     },
     "metadata": {},
     "output_type": "display_data"
    },
    {
     "data": {
      "application/vnd.jupyter.widget-view+json": {
       "model_id": "e545abc15c364f3ab017808461da6d21",
       "version_major": 2,
       "version_minor": 0
      },
      "text/plain": [
       "Downloading (…)olve/main/merges.txt:   0%|          | 0.00/456k [00:00<?, ?B/s]"
      ]
     },
     "metadata": {},
     "output_type": "display_data"
    },
    {
     "data": {
      "application/vnd.jupyter.widget-view+json": {
       "model_id": "f1b67a1ba1f845cd835ac8acb127dd1c",
       "version_major": 2,
       "version_minor": 0
      },
      "text/plain": [
       "Downloading (…)lve/main/config.json:   0%|          | 0.00/481 [00:00<?, ?B/s]"
      ]
     },
     "metadata": {},
     "output_type": "display_data"
    }
   ],
   "source": [
    "from transformers import RobertaTokenizer, RobertaForSequenceClassification, AdamW\n",
    "tokenizer = RobertaTokenizer.from_pretrained('roberta-base')"
   ]
  },
  {
   "cell_type": "code",
   "execution_count": null,
   "metadata": {
    "id": "tCNSMjQudQa5"
   },
   "outputs": [],
   "source": [
    "#predict for a sample\n",
    "text = \"his is an extension of the similarity task for compositional models developed by Mitchell and Lapata ( 2008 ) and constructed according to the same guidelines\"\n",
    "input_ids = tokenizer.encode(text, truncation=True, padding=True, return_tensors='pt').to(device)\n",
    "\n",
    "task1_outputs = task1_model_roberta(input_ids)\n",
    "task2_outputs = task2_model_roberta(input_ids)\n",
    "purpose_outputs = purpose_model_roberta(input_ids)\n",
    "\n",
    "task1_logits = task1_outputs.logits[0]\n",
    "task2_logits = task2_outputs.logits[0]\n",
    "purpose_logits = purpose_outputs.logits[0]\n",
    "\n",
    "task1_predictions = torch.argmax(task1_logits, dim=0).item()\n",
    "task2_predictions = torch.argmax(task2_logits, dim=0).item()\n",
    "purpose_predictions = torch.argmax(purpose_logits, dim=0).item()"
   ]
  },
  {
   "cell_type": "code",
   "execution_count": null,
   "metadata": {
    "colab": {
     "base_uri": "https://localhost:8080/"
    },
    "id": "Sp9FGs4CdQa6",
    "outputId": "98a5363f-1ce4-4c15-969c-f8781301101b"
   },
   "outputs": [
    {
     "name": "stdout",
     "output_type": "stream",
     "text": [
      "Task 1:  Approach\n",
      "Task 2:  Methodology\n",
      "Purpose:  Utilize\n"
     ]
    }
   ],
   "source": [
    "#mapping label\n",
    "task1_label = ['Addition', 'Approach', 'Substance'][task1_predictions]\n",
    "task2_label = ['Data', 'File', 'Instrument', 'Methodology', 'Publication', 'Script', 'Site'][task2_predictions]\n",
    "purpose_label = ['Generate', 'Present', 'Utilize'][purpose_predictions]\n",
    "\n",
    "print(\"Task 1: \", task1_label)\n",
    "print(\"Task 2: \", task2_label)\n",
    "print(\"Purpose: \", purpose_label)"
   ]
  },
  {
   "cell_type": "code",
   "execution_count": null,
   "metadata": {
    "id": "24VIx5ESdQa6"
   },
   "outputs": [],
   "source": [
    "def predict_label(data,label_task1,label_task2,label_purpose):\n",
    "  list_predict_task1 = []\n",
    "  list_predict_task2 = []\n",
    "  list_predict_purpose = []\n",
    "\n",
    "  for i in range(0,len(data)):\n",
    "    input_ids_i = tokenizer.encode(data[i], truncation=True, padding=True, return_tensors='pt').to(device)\n",
    "    task1_outputs_i = task1_model_roberta(input_ids_i)\n",
    "    task2_outputs_i = task2_model_roberta(input_ids_i)\n",
    "    purpose_output_i = purpose_model_roberta(input_ids_i)\n",
    "\n",
    "    task1_logits_i = task1_outputs_i.logits[0]\n",
    "    task2_logits_i = task2_outputs_i.logits[0]\n",
    "    purpose_logits_i = purpose_output_i.logits[0]\n",
    "\n",
    "    task1_predictions_i = torch.argmax(task1_logits_i, dim=0).item()\n",
    "    task2_predictions_i = torch.argmax(task2_logits_i, dim=0).item()\n",
    "    purpose_predictions_i = torch.argmax(purpose_logits_i, dim=0).item()\n",
    "    list_predict_task1.append(task1_predictions_i)\n",
    "    list_predict_task2.append(task2_predictions_i)\n",
    "    list_predict_purpose.append(purpose_predictions_i)\n",
    "  return list_predict_task1,list_predict_task2,list_predict_purpose"
   ]
  },
  {
   "cell_type": "code",
   "execution_count": null,
   "metadata": {
    "id": "UBI9kkhXdQa6"
   },
   "outputs": [],
   "source": [
    "def caculate_accuracy(data,label_task1,label_task2,label_purpose):\n",
    "  list_score = []\n",
    "  number_label_true_task1 = 0\n",
    "  number_label_true_task2 = 0\n",
    "  number_label_true_purpose = 0\n",
    "  accuracy_sc_task1 = 0\n",
    "  accuracy_sc_task2 = 0\n",
    "  accuracy_sc_purpose = 0\n",
    "  for i in range(0,len(data)):\n",
    "    input_ids_i = tokenizer.encode(data[i], truncation=True, padding=True, return_tensors='pt').to(device)\n",
    "    task1_outputs_i = task1_model_roberta(input_ids_i)\n",
    "    task2_outputs_i = task2_model_roberta(input_ids_i)\n",
    "    purpose_output_i = purpose_model_roberta(input_ids_i)\n",
    "\n",
    "    task1_logits_i = task1_outputs_i.logits[0]\n",
    "    task2_logits_i = task2_outputs_i.logits[0]\n",
    "    purpose_logits_i = purpose_output_i.logits[0]\n",
    "\n",
    "    task1_predictions_i = torch.argmax(task1_logits_i, dim=0).item()\n",
    "    task2_predictions_i = torch.argmax(task2_logits_i, dim=0).item()\n",
    "    purpose_predictions_i = torch.argmax(purpose_logits_i, dim=0).item()\n",
    "    if task1_predictions_i == label_task1[i]:\n",
    "      number_label_true_task1 +=1\n",
    "    if task2_predictions_i == label_task2[i]:\n",
    "      number_label_true_task2 +=1\n",
    "    if purpose_predictions_i == label_purpose[i]:\n",
    "      number_label_true_purpose +=1\n",
    "  accuracy_sc_task1 = number_label_true_task1/len(data)\n",
    "  accuracy_sc_task2 = number_label_true_task2/len(data)\n",
    "  accuracy_sc_purpose = number_label_true_purpose/len(data)\n",
    "  list_score = [accuracy_sc_task1,accuracy_sc_task2,accuracy_sc_purpose]\n",
    "  return list_score"
   ]
  },
  {
   "cell_type": "code",
   "execution_count": null,
   "metadata": {
    "colab": {
     "base_uri": "https://localhost:8080/"
    },
    "id": "kkvWzn6DdQa6",
    "outputId": "3845f0b2-c9b3-4810-c9e5-d4645649f5d9"
   },
   "outputs": [
    {
     "name": "stdout",
     "output_type": "stream",
     "text": [
      "79.02902902902902\n"
     ]
    }
   ],
   "source": [
    "acc_train = caculate_accuracy(X_train,y_train_task1,y_train_task2,y_train_purpose)\n",
    "print(np.mean(acc_train)*100)"
   ]
  },
  {
   "cell_type": "code",
   "execution_count": null,
   "metadata": {
    "id": "pu51tY1udQa7"
   },
   "outputs": [],
   "source": [
    "y_test_task1 = y_test['task1'].tolist()\n",
    "y_test_task2 = y_test['task2'].tolist()\n",
    "y_test_purpose = y_test['purpose'].tolist()"
   ]
  },
  {
   "cell_type": "code",
   "execution_count": null,
   "metadata": {
    "id": "fb2bvK1qdQa7"
   },
   "outputs": [],
   "source": [
    "label_encode = LabelEncoder()\n",
    "y_test_task1 = label_encode.fit_transform(y_test_task1)"
   ]
  },
  {
   "cell_type": "code",
   "execution_count": null,
   "metadata": {
    "id": "25rA3EpFdQa7"
   },
   "outputs": [],
   "source": [
    "label_encode = LabelEncoder()\n",
    "y_test_task2 = label_encode.fit_transform(y_test_task2)"
   ]
  },
  {
   "cell_type": "code",
   "execution_count": null,
   "metadata": {
    "id": "60604XsydQa7"
   },
   "outputs": [],
   "source": [
    "label_encode = LabelEncoder()\n",
    "y_test_purpose = label_encode.fit_transform(y_test_purpose)"
   ]
  },
  {
   "cell_type": "code",
   "execution_count": null,
   "metadata": {
    "id": "ealbdSFkdQa8"
   },
   "outputs": [],
   "source": [
    "list_pre_task1, list_pre_task2,list_pre_purpose = predict_label(X_test,y_test_task1,y_test_task2,y_test_purpose)"
   ]
  },
  {
   "cell_type": "code",
   "execution_count": null,
   "metadata": {
    "colab": {
     "base_uri": "https://localhost:8080/"
    },
    "id": "jbRIBfYsdQa8",
    "outputId": "02e27c90-a806-4521-ece1-33469239d7c3"
   },
   "outputs": [
    {
     "name": "stdout",
     "output_type": "stream",
     "text": [
      "độ chính xác trên tập test 65.8 %\n"
     ]
    }
   ],
   "source": [
    "acc_test = caculate_accuracy(X_test,y_test_task1,y_test_task2,y_test_purpose)\n",
    "print(\"độ chính xác trên tập test\",np.mean(acc_test)*100,\"%\")"
   ]
  },
  {
   "cell_type": "code",
   "execution_count": null,
   "metadata": {
    "id": "Y3XvkFcNdQa8"
   },
   "outputs": [],
   "source": [
    "mapping = {'Addition':0,'Approach':1,'Substance':2}\n",
    "y_decode_task1 = y_test['task1'].map(mapping)"
   ]
  },
  {
   "cell_type": "code",
   "execution_count": null,
   "metadata": {
    "id": "_Jg5k7B8dQa8"
   },
   "outputs": [],
   "source": [
    "list_precision = []\n",
    "for label in range(0,3):\n",
    "  y_task_1_true_label = np.where(y_decode_task1==label,1,0)\n",
    "  list_pre_task1_label = [1 if elements == label else 0 for elements in list_pre_task1]\n",
    "  pre = precision_score(y_task_1_true_label,list_pre_task1_label)\n",
    "  list_precision.append(pre)"
   ]
  },
  {
   "cell_type": "code",
   "execution_count": null,
   "metadata": {
    "colab": {
     "base_uri": "https://localhost:8080/"
    },
    "id": "B0o2wr-_dQa8",
    "outputId": "a5f353cb-07e4-40b3-f4a2-dc2b90e39885"
   },
   "outputs": [
    {
     "name": "stdout",
     "output_type": "stream",
     "text": [
      "precision của từng nhãn task1: Addition 0.774390243902439, Approach 0.7156862745098039, Substance 0.75\n"
     ]
    }
   ],
   "source": [
    "print(\"precision của từng nhãn task1: Addition {}, Approach {}, Substance {}\" .format(list_precision[0],list_precision[1],list_precision[2]))"
   ]
  },
  {
   "cell_type": "code",
   "execution_count": null,
   "metadata": {
    "id": "f0usm5pydQa9"
   },
   "outputs": [],
   "source": [
    "from sklearn.metrics import recall_score\n",
    "list_recall = []\n",
    "for label in range(0,3):\n",
    "  y_task_1_true_label = np.where(y_decode_task1==label,1,0)\n",
    "  list_pre_task1_label = [1 if elements == label else 0 for elements in list_pre_task1]\n",
    "  recall = recall_score(y_task_1_true_label,list_pre_task1_label)\n",
    "  list_recall.append(recall)"
   ]
  },
  {
   "cell_type": "code",
   "execution_count": null,
   "metadata": {
    "colab": {
     "base_uri": "https://localhost:8080/"
    },
    "id": "XfFk0WtadQa9",
    "outputId": "ca9fa5b0-724c-4a84-feed-d7e532af72d8"
   },
   "outputs": [
    {
     "name": "stdout",
     "output_type": "stream",
     "text": [
      "recall của từng nhãn task1: Addition 0.7094972067039106, Approach 0.7934782608695652, Substance 0.7226277372262774\n"
     ]
    }
   ],
   "source": [
    "print(\"recall của từng nhãn task1: Addition {}, Approach {}, Substance {}\" .format(list_recall[0],list_recall[1],list_recall[2]))"
   ]
  },
  {
   "cell_type": "code",
   "execution_count": null,
   "metadata": {
    "id": "uISKgkBbdQa9"
   },
   "outputs": [],
   "source": [
    "from sklearn.metrics import f1_score\n",
    "f1_score_task1 = []\n",
    "for label in range(0,3):\n",
    "  y_task_1_true_label = np.where(y_decode_task1==label,1,0)\n",
    "  list_f1_role1_label = [1 if elements == label else 0 for elements in list_pre_task1]\n",
    "  score = f1_score(y_task_1_true_label,list_f1_role1_label)\n",
    "  f1_score_task1.append(score)"
   ]
  },
  {
   "cell_type": "code",
   "execution_count": null,
   "metadata": {
    "colab": {
     "base_uri": "https://localhost:8080/"
    },
    "id": "rBNOZ2etdQa9",
    "outputId": "05902165-29aa-429c-dfe0-44ad8621cfb0"
   },
   "outputs": [
    {
     "name": "stdout",
     "output_type": "stream",
     "text": [
      "F1-score của từng nhãn task1: Addition 0.7405247813411078, Approach 0.7525773195876289, Substance 0.7360594795539033\n"
     ]
    }
   ],
   "source": [
    "print(\"F1-score của từng nhãn task1: Addition {}, Approach {}, Substance {}\" .format(f1_score_task1[0],f1_score_task1[1],f1_score_task1[2]))"
   ]
  },
  {
   "cell_type": "code",
   "execution_count": null,
   "metadata": {
    "id": "ADPv7mzEdQa9"
   },
   "outputs": [],
   "source": [
    "#đánh giá pre,recall, f1 cho task2\n",
    "mapping = {'Data':0, 'File':1, 'Instrument':2, 'Methodology':3, 'Publication':4, 'Script':5, 'Site':6}\n",
    "y_decode_task2 = y_test['task2'].map(mapping)"
   ]
  },
  {
   "cell_type": "code",
   "execution_count": null,
   "metadata": {
    "id": "ROVgF8DudQa-"
   },
   "outputs": [],
   "source": [
    "list_precision_task2 = []\n",
    "for label in range(0,7):\n",
    "  y_task_2_true_label = np.where(y_decode_task2==label,1,0)\n",
    "  list_pre_task2_label = [1 if elements == label else 0 for elements in list_pre_task2]\n",
    "  pre = precision_score(y_task_2_true_label,list_pre_task2_label)\n",
    "  list_precision_task2.append(pre)"
   ]
  },
  {
   "cell_type": "code",
   "execution_count": null,
   "metadata": {
    "colab": {
     "base_uri": "https://localhost:8080/"
    },
    "id": "7w99CcxBdQa-",
    "outputId": "fcf1e7ce-2fe3-48fa-e220-ba03e3072509"
   },
   "outputs": [
    {
     "name": "stdout",
     "output_type": "stream",
     "text": [
      "precision cho nhãn task2: Data: 0.53\n",
      "precision cho nhãn task2: File: 0.71\n",
      "precision cho nhãn task2: Instrument: 0.62\n",
      "precision cho nhãn task2: Methodology: 0.55\n",
      "precision cho nhãn task2: Publication: 0.71\n",
      "precision cho nhãn task2: Script: 0.71\n",
      "precision cho nhãn task2: Site: 0.65\n"
     ]
    }
   ],
   "source": [
    "labels = ['Data', 'File', 'Instrument', 'Methodology', 'Publication', 'Script', 'Site']\n",
    "for label, score in zip(labels, list_precision_task2):\n",
    "    print(\"precision cho nhãn task2: {}: {:.2f}\".format(label, score))\n"
   ]
  },
  {
   "cell_type": "code",
   "execution_count": null,
   "metadata": {
    "id": "CwKva914dQa-"
   },
   "outputs": [],
   "source": [
    "list_recal_task2 = []\n",
    "for label in range(0,7):\n",
    "  y_task_2_true_label = np.where(y_decode_task2==label,1,0)\n",
    "  list_pre_task2_label = [1 if elements == label else 0 for elements in list_pre_task2]\n",
    "  re = recall_score(y_task_2_true_label,list_pre_task2_label)\n",
    "  list_recal_task2.append(re)"
   ]
  },
  {
   "cell_type": "code",
   "execution_count": null,
   "metadata": {
    "colab": {
     "base_uri": "https://localhost:8080/"
    },
    "id": "SSUu1xQxdQa-",
    "outputId": "ea659168-f58f-4aca-9014-0954f675afbe"
   },
   "outputs": [
    {
     "name": "stdout",
     "output_type": "stream",
     "text": [
      "recall cho nhãn task2 Data: 0.47\n",
      "recall cho nhãn task2 File: 0.52\n",
      "recall cho nhãn task2 Instrument: 0.88\n",
      "recall cho nhãn task2 Methodology: 0.40\n",
      "recall cho nhãn task2 Publication: 0.72\n",
      "recall cho nhãn task2 Script: 0.75\n",
      "recall cho nhãn task2 Site: 0.71\n"
     ]
    }
   ],
   "source": [
    "labels = ['Data', 'File', 'Instrument', 'Methodology', 'Publication', 'Script', 'Site']\n",
    "for label, score in zip(labels, list_recal_task2):\n",
    "    print(\"recall cho nhãn task2 {}: {:.2f}\".format(label, score))"
   ]
  },
  {
   "cell_type": "code",
   "execution_count": null,
   "metadata": {
    "id": "jseuVu7ydQa_"
   },
   "outputs": [],
   "source": [
    "list_f1_score_task2 = []\n",
    "for label in range(0,7):\n",
    "  y_task_2_true_label = np.where(y_decode_task2==label,1,0)\n",
    "  list_pre_task2_label = [1 if elements == label else 0 for elements in list_pre_task2]\n",
    "  f1 = f1_score(y_task_2_true_label,list_pre_task2_label)\n",
    "  list_f1_score_task2.append(f1)"
   ]
  },
  {
   "cell_type": "code",
   "execution_count": null,
   "metadata": {
    "colab": {
     "base_uri": "https://localhost:8080/"
    },
    "id": "rsWN0dpddQa_",
    "outputId": "da2309e7-2221-4f8d-b38c-31501a093eb0"
   },
   "outputs": [
    {
     "name": "stdout",
     "output_type": "stream",
     "text": [
      "f1_score cho nhãn task2 Data: 0.50\n",
      "f1_score cho nhãn task2 File: 0.60\n",
      "f1_score cho nhãn task2 Instrument: 0.73\n",
      "f1_score cho nhãn task2 Methodology: 0.46\n",
      "f1_score cho nhãn task2 Publication: 0.72\n",
      "f1_score cho nhãn task2 Script: 0.73\n",
      "f1_score cho nhãn task2 Site: 0.68\n"
     ]
    }
   ],
   "source": [
    "labels = ['Data', 'File', 'Instrument', 'Methodology', 'Publication', 'Script', 'Site']\n",
    "for label, score in zip(labels, list_f1_score_task2):\n",
    "    print(\"f1_score cho nhãn task2 {}: {:.2f}\".format(label, score))"
   ]
  },
  {
   "cell_type": "code",
   "execution_count": null,
   "metadata": {
    "id": "DgHOYVjVdQa_"
   },
   "outputs": [],
   "source": [
    "#đánh giá pre, recall, f1 cho purpose\n",
    "mapping = {'Generate':0, 'Present':1, 'Utilize':2}\n",
    "y_decode_purpose = y_test['purpose'].map(mapping)"
   ]
  },
  {
   "cell_type": "code",
   "execution_count": null,
   "metadata": {
    "id": "rEFAghK4dQa_"
   },
   "outputs": [],
   "source": [
    "list_precision_purpose = []\n",
    "for label in range(0,3):\n",
    "  y_purpose_true_label = np.where(y_decode_purpose==label,1,0)\n",
    "  list_purpose_label = [1 if elements == label else 0 for elements in list_pre_purpose]\n",
    "  pre = precision_score(y_purpose_true_label,list_purpose_label)\n",
    "  list_precision_purpose.append(pre)"
   ]
  },
  {
   "cell_type": "code",
   "execution_count": null,
   "metadata": {
    "colab": {
     "base_uri": "https://localhost:8080/"
    },
    "id": "TA0ubrijdQa_",
    "outputId": "4d80311c-7ac8-42f0-ff86-801386113b5a"
   },
   "outputs": [
    {
     "name": "stdout",
     "output_type": "stream",
     "text": [
      "precision cho nhãn purpose Generate: 0.69\n",
      "precision cho nhãn purpose Present: 0.80\n",
      "precision cho nhãn purpose Utilize: 0.49\n"
     ]
    }
   ],
   "source": [
    "labels = ['Generate', 'Present', 'Utilize']\n",
    "for label, score in zip(labels, list_precision_purpose):\n",
    "    print(\"precision cho nhãn purpose {}: {:.2f}\".format(label, score))"
   ]
  },
  {
   "cell_type": "code",
   "execution_count": null,
   "metadata": {
    "id": "D1FdWO1kdQbA"
   },
   "outputs": [],
   "source": [
    "list_recall_purpose = []\n",
    "for label in range(0,3):\n",
    "  y_purpose_true_label = np.where(y_decode_purpose==label,1,0)\n",
    "  list_purpose_label = [1 if elements == label else 0 for elements in list_pre_purpose]\n",
    "  re = recall_score(y_purpose_true_label,list_purpose_label)\n",
    "  list_recall_purpose.append(re)"
   ]
  },
  {
   "cell_type": "code",
   "execution_count": null,
   "metadata": {
    "colab": {
     "base_uri": "https://localhost:8080/"
    },
    "id": "qb2az5AxdQbA",
    "outputId": "8f4d9269-35e9-4f85-bdef-06bec428b2b9"
   },
   "outputs": [
    {
     "name": "stdout",
     "output_type": "stream",
     "text": [
      "recall cho purpose Generate: 0.49\n",
      "recall cho purpose Present: 0.40\n",
      "recall cho purpose Utilize: 0.89\n"
     ]
    }
   ],
   "source": [
    "labels = ['Generate', 'Present', 'Utilize']\n",
    "for label, score in zip(labels, list_recall_purpose):\n",
    "    print(\"recall cho purpose {}: {:.2f}\".format(label, score))"
   ]
  },
  {
   "cell_type": "code",
   "execution_count": null,
   "metadata": {
    "id": "jvOhrI1EdQbA"
   },
   "outputs": [],
   "source": [
    "list_f1_score_purpose = []\n",
    "for label in range(0,3):\n",
    "  y_purpose_true_label = np.where(y_decode_purpose==label,1,0)\n",
    "  list_purpose_label = [1 if elements == label else 0 for elements in list_pre_purpose]\n",
    "  f1 = f1_score(y_purpose_true_label,list_purpose_label)\n",
    "  list_f1_score_purpose.append(f1)"
   ]
  },
  {
   "cell_type": "code",
   "execution_count": null,
   "metadata": {
    "colab": {
     "base_uri": "https://localhost:8080/"
    },
    "id": "47Cnu_8fdQbA",
    "outputId": "af1b56d4-0393-4789-ae56-1a73a9b2c0e1"
   },
   "outputs": [
    {
     "name": "stdout",
     "output_type": "stream",
     "text": [
      "f1_score cho purpose Generate: 0.57\n",
      "f1_score cho purpose Present: 0.53\n",
      "f1_score cho purpose Utilize: 0.63\n"
     ]
    }
   ],
   "source": [
    "labels = ['Generate', 'Present', 'Utilize']\n",
    "for label, score in zip(labels, list_f1_score_purpose):\n",
    "    print(\"f1_score cho purpose {}: {:.2f}\".format(label, score))"
   ]
  },
  {
   "cell_type": "markdown",
   "metadata": {
    "id": "kXFlimJHkrMT"
   },
   "source": [
    "# **Các mô hình đề xuất**"
   ]
  },
  {
   "cell_type": "markdown",
   "metadata": {
    "id": "rfUwN74EmXji"
   },
   "source": [
    "# **Matrix Factorization + SVD Recommendation System**"
   ]
  },
  {
   "cell_type": "code",
   "execution_count": null,
   "metadata": {
    "id": "fZqsRJErk2Ys"
   },
   "outputs": [],
   "source": [
    "pip install scikit-surprise"
   ]
  },
  {
   "cell_type": "code",
   "execution_count": null,
   "metadata": {
    "id": "6Nok53e4mZ_4"
   },
   "outputs": [],
   "source": [
    "from sklearn.feature_extraction.text import TfidfVectorizer\n",
    "from sklearn.metrics.pairwise import cosine_similarity\n",
    "from scipy.sparse.linalg import svds\n",
    "import numpy as np\n",
    "\n",
    "# Extract relevant columns\n",
    "df = data[['citations', 'task1', 'task2', 'purpose', 'name_of_paper', 'link_to_paper']]\n",
    "\n",
    "# Preprocess text data and extract features\n",
    "vectorizer = TfidfVectorizer()\n",
    "text_features = vectorizer.fit_transform(df['citations'])\n",
    "\n",
    "# Calculate similarity matrix\n",
    "similarity_matrix = cosine_similarity(text_features, text_features)\n",
    "\n",
    "# Perform matrix factorization using Singular Value Decomposition (SVD)\n",
    "num_components = 50  # Number of latent factors\n",
    "U, sigma, Vt = svds(similarity_matrix, k=num_components)\n",
    "sigma = np.diag(sigma)\n",
    "\n",
    "# Calculate the predicted similarity matrix\n",
    "predicted_similarity_matrix = np.dot(np.dot(U, sigma), Vt)\n",
    "\n",
    "# Function to get recommended results based on labels and rate\n",
    "def get_recommendations(labels, predicted_similarity_matrix, data, top_n=5):\n",
    "    recommendations = []\n",
    "    for label in labels:\n",
    "        label_indices = data[(data['task1'] == label) & (data['task2'] == label) & (data['purpose'] == label)].index\n",
    "        label_scores = predicted_similarity_matrix[label_indices].sum(axis=0)\n",
    "        top_indices = label_scores.argsort()[::-1][:top_n]\n",
    "        top_results = data.loc[top_indices, ['name_of_paper', 'link_to_paper']].values.tolist()\n",
    "        recommendations.extend(top_results)\n",
    "    return recommendations[:top_n]\n",
    "\n",
    "# Get recommended results\n",
    "recommendations = get_recommendations(labels, predicted_similarity_matrix, df, top_n=5)\n",
    "\n",
    "# Print the recommended results\n",
    "print(\"List of related scientific articles in the same category:\")\n",
    "for i, result in enumerate(recommendations, 1):\n",
    "    paper_name, link = result\n",
    "    print(f\"{i}. {paper_name} - {link}\")\n"
   ]
  },
  {
   "cell_type": "markdown",
   "metadata": {
    "id": "lL_EqmtumdGy"
   },
   "source": [
    "# **Context-based Recommendation System**"
   ]
  },
  {
   "cell_type": "code",
   "execution_count": null,
   "metadata": {
    "id": "c1EkhOXBmeys"
   },
   "outputs": [],
   "source": [
    "from sklearn.feature_extraction.text import TfidfVectorizer\n",
    "from sklearn.metrics.pairwise import cosine_similarity\n",
    "\n",
    "# Extract relevant columns\n",
    "df = data[['citations', 'task1', 'task2', 'purpose', 'name_of_paper', 'link_to_paper']]  # Replace 0, 1, 2 with column names if available\n",
    "\n",
    "# Preprocess text data and extract features\n",
    "vectorizer = TfidfVectorizer()\n",
    "text_features = vectorizer.fit_transform(df['citations'])\n",
    "\n",
    "# Calculate similarity\n",
    "labels = ['Addition', 'File', 'Generate']  # Labels from classification task\n",
    "similarity_scores = cosine_similarity(text_features, text_features)\n",
    "\n",
    "# Function to get recommended results based on labels and rate\n",
    "def get_recommendations(labels, similarity_scores, data, top_n=5):\n",
    "    recommendations = []\n",
    "    for label in labels:\n",
    "        label_indices = data[(data['task1'] == label) & (data['task2'] == label) & (data['purpose'] == label)].index\n",
    "        label_scores = similarity_scores[label_indices].sum(axis=0)\n",
    "        top_indices = label_scores.argsort()[::-1][:top_n]\n",
    "        top_results = data.loc[top_indices, ['name_of_paper', 'link_to_paper']].values.tolist()\n",
    "        recommendations.extend(top_results)\n",
    "    return recommendations[:top_n]\n",
    "\n",
    "# Get recommended results\n",
    "recommendations = get_recommendations(labels, similarity_scores, df, top_n=5)\n",
    "\n",
    "# Print the recommended results\n",
    "print(\"List of related scientific articles in the same category:\")\n",
    "for i, result in enumerate(recommendations, 1):\n",
    "    paper_name, link = result\n",
    "    print(f\"{i}. {paper_name} - {link}\")"
   ]
  },
  {
   "cell_type": "markdown",
   "metadata": {
    "id": "Ju8jluo8mkwS"
   },
   "source": [
    "# **RF (BoW+TFIDF) Recommendation System**"
   ]
  },
  {
   "cell_type": "code",
   "execution_count": null,
   "metadata": {
    "id": "Pi_EBBAGmhBt"
   },
   "outputs": [],
   "source": [
    "import pandas as pd\n",
    "import numpy as np\n",
    "from sklearn.feature_extraction.text import TfidfVectorizer\n",
    "from sklearn.ensemble import RandomForestRegressor\n",
    "from sklearn.metrics.pairwise import cosine_similarity\n",
    "\n",
    "task1_label = 'Addition'\n",
    "task2_label = 'File'\n",
    "purpose_label = 'Generate'\n",
    "\n",
    "input_text = 'Named entity recognition with bidirectional LSTM-CNNs'\n",
    "\n",
    "# Get samples with the same labels as the predicted labels\n",
    "data_same_label = data[(data[\"task1\"] == task1_label) & (data[\"task2\"] == task2_label) & (data[\"purpose\"] == purpose_label)]\n",
    "data_text_same_label = data_same_label['citations']\n",
    "\n",
    "# Create a vectorizer for BoW+TFIDF\n",
    "vectorizer = TfidfVectorizer()\n",
    "\n",
    "# Fit and transform the text data\n",
    "vectorizer.fit(data_text_same_label)\n",
    "text_vector = vectorizer.transform([input_text])\n",
    "list_text_vector = vectorizer.transform(data_text_same_label)\n",
    "\n",
    "# Calculate similarity scores between the input vector and vectors in the dataset\n",
    "similarity_scores = cosine_similarity(text_vector, list_text_vector)\n",
    "\n",
    "# Convert the similarity matrix into a target array\n",
    "target = np.squeeze(similarity_scores)\n",
    "\n",
    "# Create a RandomForestRegressor model and train it\n",
    "regressor = RandomForestRegressor(n_estimators=100, random_state=42)\n",
    "regressor.fit(list_text_vector, target)\n",
    "\n",
    "# Predict the similarity scores between the input vector and vectors in the dataset\n",
    "prediction_scores = regressor.predict(list_text_vector)\n",
    "\n",
    "# Build a list of similarity scores and recommendations\n",
    "recommendation_scores = [(index, score) for index, score in enumerate(prediction_scores)]\n",
    "recommendation_scores = sorted(recommendation_scores, key=lambda x: x[1], reverse=True)\n",
    "\n",
    "def recommendation(recommendation_scores, top_n=5):\n",
    "    print(\"List of related scientific articles in the same category:\")\n",
    "    for i in range(top_n):\n",
    "        index = recommendation_scores[i][0]\n",
    "        paper_name = data.loc[index, 'name_of_paper']\n",
    "        paper_link = data.loc[index, 'link_to_paper']\n",
    "        print(f\"{i+1}. {paper_name} - {paper_link}\")\n",
    "\n",
    "recommendation(recommendation_scores)"
   ]
  },
  {
   "cell_type": "markdown",
   "metadata": {
    "id": "6NVWzqvRmpED"
   },
   "source": [
    "# **RF (N-grams+TFIDF) Recommendation System**"
   ]
  },
  {
   "cell_type": "code",
   "execution_count": null,
   "metadata": {
    "id": "EXAPZupmmqnz"
   },
   "outputs": [],
   "source": [
    "import pandas as pd\n",
    "from sklearn.feature_extraction.text import TfidfVectorizer\n",
    "from sklearn.ensemble import RandomForestRegressor\n",
    "from sklearn.metrics.pairwise import cosine_similarity\n",
    "import numpy as np"
   ]
  },
  {
   "cell_type": "code",
   "execution_count": null,
   "metadata": {
    "id": "7pDaof7lmrvP"
   },
   "outputs": [],
   "source": [
    "task1_label = 'Addition'\n",
    "task2_label = 'File'\n",
    "purpose_label = 'Generate'\n",
    "\n",
    "input_text = 'Named entity recognition with bidirectional LSTM-CNNs'\n",
    "\n",
    "# Lấy ra các mẫu dữ liệu có nhãn giống với nhãn dự đoán\n",
    "data_same_label = data[(data[\"task1\"] == task1_label) & (data[\"task2\"] == task2_label) & (data[\"purpose\"] == purpose_label)]\n",
    "data_text_same_label = data_same_label['citations']\n",
    "\n",
    "# Tạo vectorizer cho N-grams + TFIDF\n",
    "vectorizer = TfidfVectorizer(ngram_range=(1, 3))\n",
    "\n",
    "# Fit và chuyển đổi dữ liệu text\n",
    "vectorizer.fit(data_text_same_label)\n",
    "text_vector = vectorizer.transform([input_text])\n",
    "list_text_vector = vectorizer.transform(data_text_same_label)\n",
    "\n",
    "# Tính độ tương đồng giữa vector đầu vào và các vector trong dataset\n",
    "similarity_scores = cosine_similarity(text_vector, list_text_vector)\n",
    "\n",
    "# Chuyển đổi ma trận độ tương đồng thành một mục tiêu tương tự\n",
    "target = np.squeeze(similarity_scores)\n",
    "\n",
    "# Tạo mô hình RandomForestRegressor và huấn luyện\n",
    "regressor = RandomForestRegressor(n_estimators=100, random_state=42)\n",
    "regressor.fit(list_text_vector, target)\n",
    "\n",
    "# Dự đoán độ tương đồng giữa vector đầu vào và các vector trong dataset\n",
    "prediction_scores = regressor.predict(list_text_vector)\n",
    "\n",
    "# Xây dựng danh sách độ tương đồng và recommend\n",
    "recommendation_scores = [(index, score) for index, score in enumerate(prediction_scores)]\n",
    "recommendation_scores = sorted(recommendation_scores, key=lambda x: x[1], reverse=True)\n",
    "\n",
    "def recommendation(recommendation_scores, top_n=5):\n",
    "    print(\"List of related scientific articles in the same category:\")\n",
    "    for i in range(top_n):\n",
    "        index = recommendation_scores[i][0]\n",
    "        paper_name = data.loc[index, 'name_of_paper']\n",
    "        paper_link = data.loc[index, 'link_to_paper']\n",
    "        print(f\"{i+1}. {paper_name} - {paper_link}\")\n",
    "\n",
    "recommendation(recommendation_scores)\n"
   ]
  },
  {
   "cell_type": "markdown",
   "metadata": {
    "id": "Nn2Ko_9Cmuwo"
   },
   "source": [
    "# **BERT-base + RF Recommendation System**"
   ]
  },
  {
   "cell_type": "code",
   "execution_count": null,
   "metadata": {
    "id": "ZnUiAy2OmwJz"
   },
   "outputs": [],
   "source": [
    "!pip install transformers\n"
   ]
  },
  {
   "cell_type": "code",
   "execution_count": null,
   "metadata": {
    "id": "KXficWSbmxMV"
   },
   "outputs": [],
   "source": [
    "import pandas as pd\n",
    "from sklearn.feature_extraction.text import TfidfVectorizer\n",
    "from sklearn.ensemble import RandomForestRegressor\n",
    "from sklearn.metrics.pairwise import cosine_similarity\n",
    "from transformers import BertTokenizer, BertModel\n",
    "from sklearn.metrics import average_precision_score\n",
    "import torch\n",
    "import numpy as np"
   ]
  },
  {
   "cell_type": "code",
   "execution_count": null,
   "metadata": {
    "id": "iLFxWKhDmyd4"
   },
   "outputs": [],
   "source": [
    "# Initialize BERT tokenizer and model\n",
    "tokenizer = BertTokenizer.from_pretrained('bert-base-uncased')\n",
    "model = BertModel.from_pretrained('bert-base-uncased')"
   ]
  },
  {
   "cell_type": "code",
   "execution_count": null,
   "metadata": {
    "id": "kxFUmnlrmz0-"
   },
   "outputs": [],
   "source": [
    "import torch\n",
    "from transformers import BertTokenizer, BertModel\n",
    "from sklearn.ensemble import RandomForestRegressor\n",
    "\n",
    "# Khởi tạo tokenizer và mô hình BERT\n",
    "tokenizer = BertTokenizer.from_pretrained('bert-base-uncased')\n",
    "model = BertModel.from_pretrained('bert-base-uncased')\n",
    "\n",
    "task1_label = 'Addition'\n",
    "task2_label = 'File'\n",
    "purpose_label = 'Generate'\n",
    "\n",
    "input_text = 'Named entity recognition with bidirectional LSTM-CNNs'\n",
    "\n",
    "# Lấy ra các mẫu dữ liệu có nhãn giống với nhãn dự đoán\n",
    "data_same_label = data[(data[\"task1\"] == task1_label) & (data[\"task2\"] == task2_label) & (data[\"purpose\"] == purpose_label)]\n",
    "data_text_same_label = data_same_label['citations']\n",
    "\n",
    "# Tokenize và mã hóa các câu văn thành tensor đầu vào cho BERT\n",
    "encoded_inputs = tokenizer(data_text_same_label.tolist(), padding=True, truncation=True, max_length=512, return_tensors='pt')\n",
    "input_ids = encoded_inputs['input_ids']\n",
    "attention_mask = encoded_inputs['attention_mask']\n",
    "\n",
    "# Trích xuất ngữ cảnh từ BERT\n",
    "with torch.no_grad():\n",
    "    outputs = model(input_ids, attention_mask=attention_mask)\n",
    "    embeddings = outputs.last_hidden_state[:, 0, :].numpy()\n",
    "\n",
    "# Tạo mô hình RandomForestRegressor và huấn luyện\n",
    "regressor = RandomForestRegressor(n_estimators=100, random_state=42)\n",
    "\n",
    "# Tạo một mảng numpy chứa các vector ngữ cảnh đầu ra tương ứng\n",
    "targets = data_same_label['target_embeddings'].to_numpy()\n",
    "\n",
    "regressor.fit(embeddings, targets)\n",
    "\n",
    "# Mã hóa và trích xuất ngữ cảnh từ văn bản đầu vào\n",
    "encoded_input = tokenizer(input_text, padding=True, truncation=True, max_length=512, return_tensors='pt')\n",
    "input_ids = encoded_input['input_ids']\n",
    "attention_mask = encoded_input['attention_mask']\n",
    "\n",
    "with torch.no_grad():\n",
    "    output = model(input_ids, attention_mask=attention_mask)\n",
    "    embedding = output.last_hidden_state[:, 0, :].numpy()\n",
    "\n",
    "# Dự đoán độ tương đồng giữa vector đầu vào và các vector trong dataset\n",
    "prediction_scores = regressor.predict(embedding)\n",
    "\n",
    "# Xây dựng danh sách độ tương đồng và recommend\n",
    "recommendation_scores = [(index, score) for index, score in enumerate(prediction_scores)]\n",
    "recommendation_scores = sorted(recommendation_scores, key=lambda x: x[1], reverse=True)\n",
    "\n",
    "def recommendation(recommendation_scores, top_n=5):\n",
    "    print(\"List of related scientific articles in the same category:\")\n",
    "    for i in range(top_n):\n",
    "        index = recommendation_scores[i][0]\n",
    "        paper_name = data_same_label.iloc[index]['name_of_paper']\n",
    "        paper_link = data_same_label.iloc[index]['link_to_paper']\n",
    "        print(f\"{i+1}. {paper_name} - {paper_link}\")\n",
    "\n",
    "recommendation(recommendation_scores, top_n=5)"
   ]
  },
  {
   "cell_type": "markdown",
   "metadata": {
    "id": "UtqfFPXLnDS9"
   },
   "source": [
    "# **Xây dựng hệ khuyến nghị dùng model phân loại tốt nhất DistilBERT và mô hình đề xuất kết hợp BERT-base+RF**"
   ]
  },
  {
   "cell_type": "code",
   "execution_count": null,
   "metadata": {
    "colab": {
     "base_uri": "https://localhost:8080/"
    },
    "id": "WI10FTlynSMR",
    "outputId": "dfe63856-de5c-4c29-f2ca-aa5a68909b90"
   },
   "outputs": [
    {
     "name": "stderr",
     "output_type": "stream",
     "text": [
      "Some weights of the model checkpoint at bert-base-uncased were not used when initializing BertModel: ['cls.predictions.bias', 'cls.seq_relationship.bias', 'cls.predictions.transform.LayerNorm.weight', 'cls.seq_relationship.weight', 'cls.predictions.transform.dense.bias', 'cls.predictions.transform.dense.weight', 'cls.predictions.transform.LayerNorm.bias']\n",
      "- This IS expected if you are initializing BertModel from the checkpoint of a model trained on another task or with another architecture (e.g. initializing a BertForSequenceClassification model from a BertForPreTraining model).\n",
      "- This IS NOT expected if you are initializing BertModel from the checkpoint of a model that you expect to be exactly identical (initializing a BertForSequenceClassification model from a BertForSequenceClassification model).\n"
     ]
    }
   ],
   "source": [
    "from transformers import DistilBertForSequenceClassification, BertTokenizer, BertModel\n",
    "from sklearn.ensemble import RandomForestRegressor\n",
    "import torch\n",
    "import pandas as pd\n",
    "\n",
    "# Load the saved models\n",
    "task1_model_distilber_path = \"/content/drive/MyDrive/DS204/Dataset/DistilBERT/task1_model.pth\"\n",
    "task2_model_distilber_path = \"/content/drive/MyDrive/DS204/Dataset/DistilBERT/task2_model.pth\"\n",
    "purpose_model_distilber_path = \"/content/drive/MyDrive/DS204/Dataset/DistilBERT/purpose_model.pth\"\n",
    "\n",
    "device = torch.device(\"cuda\" if torch.cuda.is_available() else \"cpu\")\n",
    "\n",
    "task1_model_distilbert = DistilBertForSequenceClassification.from_pretrained(task1_model_distilber_path)\n",
    "task2_model_distilbert = DistilBertForSequenceClassification.from_pretrained(task2_model_distilber_path)\n",
    "purpose_model_distilbert = DistilBertForSequenceClassification.from_pretrained(purpose_model_distilber_path)\n",
    "\n",
    "task1_model_distilbert.to(device)\n",
    "task2_model_distilbert.to(device)\n",
    "purpose_model_distilbert.to(device)\n",
    "\n",
    "# Load the BERT model for recommendation\n",
    "tokenizer = BertTokenizer.from_pretrained('bert-base-uncased')\n",
    "model = BertModel.from_pretrained('bert-base-uncased')\n",
    "model.to(device)\n",
    "\n",
    "input_text = 'Named entity recognition with bidirectional LSTM-CNNs'\n",
    "\n",
    "#Gán tên cột cho bộ dữ liệu\n",
    "column_names = ['citations', 'task1', 'task2','purpose','name_of_paper','link_to_paper']\n",
    "\n",
    "#Đọc dữ liệu\n",
    "data = pd.read_csv('/content/drive/MyDrive/DS204/Dataset/Citations_dataset.csv',header=None,names=column_names)\n",
    "\n",
    "# Filter the data based on task labels\n",
    "data_same_label = data[(data[\"task1\"] == task1_label) & (data[\"task2\"] == task2_label) & (data[\"purpose\"] == purpose_label)]\n",
    "data_text_same_label = data_same_label['citations']\n",
    "\n",
    "# Tokenize and encode the text data as input tensors for BERT\n",
    "encoded_inputs = tokenizer(data_text_same_label.tolist(), padding=True, truncation=True, max_length=512, return_tensors='pt')\n",
    "input_ids = encoded_inputs['input_ids'].to(device)\n",
    "attention_mask = encoded_inputs['attention_mask'].to(device)\n",
    "\n",
    "# Extract embeddings from BERT\n",
    "with torch.no_grad():\n",
    "    outputs = model(input_ids=input_ids, attention_mask=attention_mask)\n",
    "    embeddings = outputs.last_hidden_state[:, 0, :].cpu().numpy()\n",
    "\n",
    "# Train a RandomForestRegressor model\n",
    "regressor = RandomForestRegressor(n_estimators=100, random_state=42)\n",
    "regressor.fit(embeddings, embeddings)\n",
    "\n",
    "# Tokenize and extract embeddings from the input text\n",
    "encoded_input = tokenizer(input_text, padding=True, truncation=True, max_length=512, return_tensors='pt')\n",
    "input_ids = encoded_input['input_ids'].to(device)\n",
    "attention_mask = encoded_input['attention_mask'].to(device)\n",
    "\n",
    "with torch.no_grad():\n",
    "    output = model(input_ids=input_ids, attention_mask=attention_mask)\n",
    "    embedding = output.last_hidden_state[:, 0, :].cpu().numpy()\n",
    "\n",
    "# Predict similarity scores between the input vector and vectors in the dataset\n",
    "prediction_scores = regressor.predict(embeddings)\n",
    "\n",
    "# Combine the classification and recommendation results\n",
    "with torch.no_grad():\n",
    "    task1_outputs = task1_model_distilbert(input_ids=input_ids)\n",
    "    task2_outputs = task2_model_distilbert(input_ids=input_ids)\n",
    "    purpose_outputs = purpose_model_distilbert(input_ids=input_ids)\n",
    "\n",
    "task1_logits = task1_outputs.logits[0].cpu()\n",
    "task2_logits = task2_outputs.logits[0].cpu()\n",
    "purpose_logits = purpose_outputs.logits[0].cpu()\n",
    "\n",
    "task1_predictions = torch.argmax(task1_logits, dim=0).item()\n",
    "task2_predictions = torch.argmax(task2_logits, dim=0).item()\n",
    "purpose_predictions = torch.argmax(purpose_logits, dim=0).item()\n",
    "\n",
    "# Mapping labels\n",
    "task1_label = ['Addition', 'Approach', 'Substance'][task1_predictions]\n",
    "task2_label = ['Data', 'File', 'Instrument', 'Methodology', 'Publication', 'Script', 'Site'][task2_predictions]\n",
    "purpose_label = ['Generate', 'Present', 'Utilize'][purpose_predictions]\n",
    "\n",
    "recommendation_scores = [(index, score) for index, score in enumerate(prediction_scores)]\n",
    "recommendation_scores = sorted(recommendation_scores, key=lambda x: x[1].all(), reverse=True)"
   ]
  },
  {
   "cell_type": "code",
   "execution_count": null,
   "metadata": {
    "id": "XOrqrvfpvQAb"
   },
   "outputs": [],
   "source": [
    "# Function to print the recommendation list\n",
    "def recommendation(recommendation_scores, top_n=5):\n",
    "    print(\"List of related scientific articles in the same category:\")\n",
    "    for i in range(top_n):\n",
    "        index = recommendation_scores[i][0]\n",
    "        paper_name = data_same_label.iloc[index]['name_of_paper']\n",
    "        paper_link = data_same_label.iloc[index]['link_to_paper']\n",
    "        print(f\"{i+1}. {paper_name} - {paper_link}\")"
   ]
  },
  {
   "cell_type": "code",
   "execution_count": null,
   "metadata": {
    "colab": {
     "base_uri": "https://localhost:8080/"
    },
    "id": "B0eeTCJuuhm2",
    "outputId": "b949908a-9747-484c-f975-c46cd7347504"
   },
   "outputs": [
    {
     "name": "stdout",
     "output_type": "stream",
     "text": [
      "Task 1:  Addition\n",
      "Task 2:  Data\n",
      "Purpose:  Generate\n"
     ]
    }
   ],
   "source": [
    "# Print the results\n",
    "print(\"Task 1: \", task1_label)\n",
    "print(\"Task 2: \", task2_label)\n",
    "print(\"Purpose: \", purpose_label)"
   ]
  },
  {
   "cell_type": "code",
   "execution_count": null,
   "metadata": {
    "colab": {
     "base_uri": "https://localhost:8080/"
    },
    "id": "hfECjrbtvUfp",
    "outputId": "d259f740-cfdd-4d65-ab0e-e68e628a40a3"
   },
   "outputs": [
    {
     "name": "stdout",
     "output_type": "stream",
     "text": [
      "List of related scientific articles in the same category:\n",
      "1. Improving machine reading comprehension with general reading strategies - https://www.aclweb.org/anthology/P17-1078.pdf\n",
      "2. Joint learning of named entity recognition and entity linking - https://www.aclweb.org/anthology/D17-1239.pdf\n",
      "3. Neural architectures for fine-grained entity type classification - https://www.aclweb.org/anthology/P18-1056.pdf\n",
      "4. Transfer learning for context-aware question answering systems - https://www.aclweb.org/anthology/P18-2124.pdf\n",
      "5. Deep contextualized word representations - https://www.aclweb.org/anthology/N18-1202.pdf\n"
     ]
    }
   ],
   "source": [
    "recommendation(recommendation_scores, top_n=5)"
   ]
  }
 ],
 "metadata": {
  "accelerator": "GPU",
  "colab": {
   "gpuType": "T4",
   "machine_shape": "hm",
   "provenance": []
  },
  "kernelspec": {
   "display_name": "Python 3 (ipykernel)",
   "language": "python",
   "name": "python3"
  },
  "language_info": {
   "codemirror_mode": {
    "name": "ipython",
    "version": 3
   },
   "file_extension": ".py",
   "mimetype": "text/x-python",
   "name": "python",
   "nbconvert_exporter": "python",
   "pygments_lexer": "ipython3",
   "version": "3.11.5"
  },
  "widgets": {
   "application/vnd.jupyter.widget-state+json": {
    "03acc0e42cc6486f801d5a7083dd52eb": {
     "model_module": "@jupyter-widgets/controls",
     "model_module_version": "1.5.0",
     "model_name": "HTMLModel",
     "state": {
      "_dom_classes": [],
      "_model_module": "@jupyter-widgets/controls",
      "_model_module_version": "1.5.0",
      "_model_name": "HTMLModel",
      "_view_count": null,
      "_view_module": "@jupyter-widgets/controls",
      "_view_module_version": "1.5.0",
      "_view_name": "HTMLView",
      "description": "",
      "description_tooltip": null,
      "layout": "IPY_MODEL_25364c7c4237486a99e5eae94b089d1a",
      "placeholder": "​",
      "style": "IPY_MODEL_99792b6bcacd4ccea24bba26329d4a5b",
      "value": " 232k/232k [00:00&lt;00:00, 1.02MB/s]"
     }
    },
    "05bc1584e0e54ab69a4536b94d3ebb36": {
     "model_module": "@jupyter-widgets/controls",
     "model_module_version": "1.5.0",
     "model_name": "DescriptionStyleModel",
     "state": {
      "_model_module": "@jupyter-widgets/controls",
      "_model_module_version": "1.5.0",
      "_model_name": "DescriptionStyleModel",
      "_view_count": null,
      "_view_module": "@jupyter-widgets/base",
      "_view_module_version": "1.2.0",
      "_view_name": "StyleView",
      "description_width": ""
     }
    },
    "0aee3ddc676c44eaab77c58e7161f926": {
     "model_module": "@jupyter-widgets/controls",
     "model_module_version": "1.5.0",
     "model_name": "DescriptionStyleModel",
     "state": {
      "_model_module": "@jupyter-widgets/controls",
      "_model_module_version": "1.5.0",
      "_model_name": "DescriptionStyleModel",
      "_view_count": null,
      "_view_module": "@jupyter-widgets/base",
      "_view_module_version": "1.2.0",
      "_view_name": "StyleView",
      "description_width": ""
     }
    },
    "0be6591f1c3c403ea311661f97c57cd0": {
     "model_module": "@jupyter-widgets/base",
     "model_module_version": "1.2.0",
     "model_name": "LayoutModel",
     "state": {
      "_model_module": "@jupyter-widgets/base",
      "_model_module_version": "1.2.0",
      "_model_name": "LayoutModel",
      "_view_count": null,
      "_view_module": "@jupyter-widgets/base",
      "_view_module_version": "1.2.0",
      "_view_name": "LayoutView",
      "align_content": null,
      "align_items": null,
      "align_self": null,
      "border": null,
      "bottom": null,
      "display": null,
      "flex": null,
      "flex_flow": null,
      "grid_area": null,
      "grid_auto_columns": null,
      "grid_auto_flow": null,
      "grid_auto_rows": null,
      "grid_column": null,
      "grid_gap": null,
      "grid_row": null,
      "grid_template_areas": null,
      "grid_template_columns": null,
      "grid_template_rows": null,
      "height": null,
      "justify_content": null,
      "justify_items": null,
      "left": null,
      "margin": null,
      "max_height": null,
      "max_width": null,
      "min_height": null,
      "min_width": null,
      "object_fit": null,
      "object_position": null,
      "order": null,
      "overflow": null,
      "overflow_x": null,
      "overflow_y": null,
      "padding": null,
      "right": null,
      "top": null,
      "visibility": null,
      "width": null
     }
    },
    "12f6b534bd4046b3bf30be6146078c59": {
     "model_module": "@jupyter-widgets/base",
     "model_module_version": "1.2.0",
     "model_name": "LayoutModel",
     "state": {
      "_model_module": "@jupyter-widgets/base",
      "_model_module_version": "1.2.0",
      "_model_name": "LayoutModel",
      "_view_count": null,
      "_view_module": "@jupyter-widgets/base",
      "_view_module_version": "1.2.0",
      "_view_name": "LayoutView",
      "align_content": null,
      "align_items": null,
      "align_self": null,
      "border": null,
      "bottom": null,
      "display": null,
      "flex": null,
      "flex_flow": null,
      "grid_area": null,
      "grid_auto_columns": null,
      "grid_auto_flow": null,
      "grid_auto_rows": null,
      "grid_column": null,
      "grid_gap": null,
      "grid_row": null,
      "grid_template_areas": null,
      "grid_template_columns": null,
      "grid_template_rows": null,
      "height": null,
      "justify_content": null,
      "justify_items": null,
      "left": null,
      "margin": null,
      "max_height": null,
      "max_width": null,
      "min_height": null,
      "min_width": null,
      "object_fit": null,
      "object_position": null,
      "order": null,
      "overflow": null,
      "overflow_x": null,
      "overflow_y": null,
      "padding": null,
      "right": null,
      "top": null,
      "visibility": null,
      "width": null
     }
    },
    "15e54e43268b4e38bce9796b56c25c4f": {
     "model_module": "@jupyter-widgets/controls",
     "model_module_version": "1.5.0",
     "model_name": "HTMLModel",
     "state": {
      "_dom_classes": [],
      "_model_module": "@jupyter-widgets/controls",
      "_model_module_version": "1.5.0",
      "_model_name": "HTMLModel",
      "_view_count": null,
      "_view_module": "@jupyter-widgets/controls",
      "_view_module_version": "1.5.0",
      "_view_name": "HTMLView",
      "description": "",
      "description_tooltip": null,
      "layout": "IPY_MODEL_12f6b534bd4046b3bf30be6146078c59",
      "placeholder": "​",
      "style": "IPY_MODEL_8ec5e141ff104dfca531494cedae911c",
      "value": "Downloading model.safetensors: 100%"
     }
    },
    "174fad134fca4aadb7de043ef2442c0a": {
     "model_module": "@jupyter-widgets/base",
     "model_module_version": "1.2.0",
     "model_name": "LayoutModel",
     "state": {
      "_model_module": "@jupyter-widgets/base",
      "_model_module_version": "1.2.0",
      "_model_name": "LayoutModel",
      "_view_count": null,
      "_view_module": "@jupyter-widgets/base",
      "_view_module_version": "1.2.0",
      "_view_name": "LayoutView",
      "align_content": null,
      "align_items": null,
      "align_self": null,
      "border": null,
      "bottom": null,
      "display": null,
      "flex": null,
      "flex_flow": null,
      "grid_area": null,
      "grid_auto_columns": null,
      "grid_auto_flow": null,
      "grid_auto_rows": null,
      "grid_column": null,
      "grid_gap": null,
      "grid_row": null,
      "grid_template_areas": null,
      "grid_template_columns": null,
      "grid_template_rows": null,
      "height": null,
      "justify_content": null,
      "justify_items": null,
      "left": null,
      "margin": null,
      "max_height": null,
      "max_width": null,
      "min_height": null,
      "min_width": null,
      "object_fit": null,
      "object_position": null,
      "order": null,
      "overflow": null,
      "overflow_x": null,
      "overflow_y": null,
      "padding": null,
      "right": null,
      "top": null,
      "visibility": null,
      "width": null
     }
    },
    "1964b0fc083d4580b35856ce29bf7449": {
     "model_module": "@jupyter-widgets/controls",
     "model_module_version": "1.5.0",
     "model_name": "HTMLModel",
     "state": {
      "_dom_classes": [],
      "_model_module": "@jupyter-widgets/controls",
      "_model_module_version": "1.5.0",
      "_model_name": "HTMLModel",
      "_view_count": null,
      "_view_module": "@jupyter-widgets/controls",
      "_view_module_version": "1.5.0",
      "_view_name": "HTMLView",
      "description": "",
      "description_tooltip": null,
      "layout": "IPY_MODEL_9dc427b3f9334a228ab4a505bdad910d",
      "placeholder": "​",
      "style": "IPY_MODEL_98eb35fff22c425e992b64bdc3c503aa",
      "value": " 899k/899k [00:00&lt;00:00, 5.99MB/s]"
     }
    },
    "1c1be632cadc4a82abf557d9676eb5da": {
     "model_module": "@jupyter-widgets/base",
     "model_module_version": "1.2.0",
     "model_name": "LayoutModel",
     "state": {
      "_model_module": "@jupyter-widgets/base",
      "_model_module_version": "1.2.0",
      "_model_name": "LayoutModel",
      "_view_count": null,
      "_view_module": "@jupyter-widgets/base",
      "_view_module_version": "1.2.0",
      "_view_name": "LayoutView",
      "align_content": null,
      "align_items": null,
      "align_self": null,
      "border": null,
      "bottom": null,
      "display": null,
      "flex": null,
      "flex_flow": null,
      "grid_area": null,
      "grid_auto_columns": null,
      "grid_auto_flow": null,
      "grid_auto_rows": null,
      "grid_column": null,
      "grid_gap": null,
      "grid_row": null,
      "grid_template_areas": null,
      "grid_template_columns": null,
      "grid_template_rows": null,
      "height": null,
      "justify_content": null,
      "justify_items": null,
      "left": null,
      "margin": null,
      "max_height": null,
      "max_width": null,
      "min_height": null,
      "min_width": null,
      "object_fit": null,
      "object_position": null,
      "order": null,
      "overflow": null,
      "overflow_x": null,
      "overflow_y": null,
      "padding": null,
      "right": null,
      "top": null,
      "visibility": null,
      "width": null
     }
    },
    "1f8dc824db1b4cbf9bd2384833531025": {
     "model_module": "@jupyter-widgets/base",
     "model_module_version": "1.2.0",
     "model_name": "LayoutModel",
     "state": {
      "_model_module": "@jupyter-widgets/base",
      "_model_module_version": "1.2.0",
      "_model_name": "LayoutModel",
      "_view_count": null,
      "_view_module": "@jupyter-widgets/base",
      "_view_module_version": "1.2.0",
      "_view_name": "LayoutView",
      "align_content": null,
      "align_items": null,
      "align_self": null,
      "border": null,
      "bottom": null,
      "display": null,
      "flex": null,
      "flex_flow": null,
      "grid_area": null,
      "grid_auto_columns": null,
      "grid_auto_flow": null,
      "grid_auto_rows": null,
      "grid_column": null,
      "grid_gap": null,
      "grid_row": null,
      "grid_template_areas": null,
      "grid_template_columns": null,
      "grid_template_rows": null,
      "height": null,
      "justify_content": null,
      "justify_items": null,
      "left": null,
      "margin": null,
      "max_height": null,
      "max_width": null,
      "min_height": null,
      "min_width": null,
      "object_fit": null,
      "object_position": null,
      "order": null,
      "overflow": null,
      "overflow_x": null,
      "overflow_y": null,
      "padding": null,
      "right": null,
      "top": null,
      "visibility": null,
      "width": null
     }
    },
    "25364c7c4237486a99e5eae94b089d1a": {
     "model_module": "@jupyter-widgets/base",
     "model_module_version": "1.2.0",
     "model_name": "LayoutModel",
     "state": {
      "_model_module": "@jupyter-widgets/base",
      "_model_module_version": "1.2.0",
      "_model_name": "LayoutModel",
      "_view_count": null,
      "_view_module": "@jupyter-widgets/base",
      "_view_module_version": "1.2.0",
      "_view_name": "LayoutView",
      "align_content": null,
      "align_items": null,
      "align_self": null,
      "border": null,
      "bottom": null,
      "display": null,
      "flex": null,
      "flex_flow": null,
      "grid_area": null,
      "grid_auto_columns": null,
      "grid_auto_flow": null,
      "grid_auto_rows": null,
      "grid_column": null,
      "grid_gap": null,
      "grid_row": null,
      "grid_template_areas": null,
      "grid_template_columns": null,
      "grid_template_rows": null,
      "height": null,
      "justify_content": null,
      "justify_items": null,
      "left": null,
      "margin": null,
      "max_height": null,
      "max_width": null,
      "min_height": null,
      "min_width": null,
      "object_fit": null,
      "object_position": null,
      "order": null,
      "overflow": null,
      "overflow_x": null,
      "overflow_y": null,
      "padding": null,
      "right": null,
      "top": null,
      "visibility": null,
      "width": null
     }
    },
    "36057ba7f4ee4db88fd07f7342682663": {
     "model_module": "@jupyter-widgets/controls",
     "model_module_version": "1.5.0",
     "model_name": "FloatProgressModel",
     "state": {
      "_dom_classes": [],
      "_model_module": "@jupyter-widgets/controls",
      "_model_module_version": "1.5.0",
      "_model_name": "FloatProgressModel",
      "_view_count": null,
      "_view_module": "@jupyter-widgets/controls",
      "_view_module_version": "1.5.0",
      "_view_name": "ProgressView",
      "bar_style": "success",
      "description": "",
      "description_tooltip": null,
      "layout": "IPY_MODEL_a3f90a3b0d1f4f3c8c3bcd4e3015b699",
      "max": 28,
      "min": 0,
      "orientation": "horizontal",
      "style": "IPY_MODEL_43b969aa50344491b178f96c5d210b04",
      "value": 28
     }
    },
    "3a3a26d6ef424c9dac3262576687f079": {
     "model_module": "@jupyter-widgets/controls",
     "model_module_version": "1.5.0",
     "model_name": "FloatProgressModel",
     "state": {
      "_dom_classes": [],
      "_model_module": "@jupyter-widgets/controls",
      "_model_module_version": "1.5.0",
      "_model_name": "FloatProgressModel",
      "_view_count": null,
      "_view_module": "@jupyter-widgets/controls",
      "_view_module_version": "1.5.0",
      "_view_name": "ProgressView",
      "bar_style": "success",
      "description": "",
      "description_tooltip": null,
      "layout": "IPY_MODEL_9d5d5a6c99c54ef1aa74accfe82a2474",
      "max": 231508,
      "min": 0,
      "orientation": "horizontal",
      "style": "IPY_MODEL_590f5f074c6d4a67ad974c133443f4ef",
      "value": 231508
     }
    },
    "3d8bc44fd62642e888d08abd5cf03313": {
     "model_module": "@jupyter-widgets/base",
     "model_module_version": "1.2.0",
     "model_name": "LayoutModel",
     "state": {
      "_model_module": "@jupyter-widgets/base",
      "_model_module_version": "1.2.0",
      "_model_name": "LayoutModel",
      "_view_count": null,
      "_view_module": "@jupyter-widgets/base",
      "_view_module_version": "1.2.0",
      "_view_name": "LayoutView",
      "align_content": null,
      "align_items": null,
      "align_self": null,
      "border": null,
      "bottom": null,
      "display": null,
      "flex": null,
      "flex_flow": null,
      "grid_area": null,
      "grid_auto_columns": null,
      "grid_auto_flow": null,
      "grid_auto_rows": null,
      "grid_column": null,
      "grid_gap": null,
      "grid_row": null,
      "grid_template_areas": null,
      "grid_template_columns": null,
      "grid_template_rows": null,
      "height": null,
      "justify_content": null,
      "justify_items": null,
      "left": null,
      "margin": null,
      "max_height": null,
      "max_width": null,
      "min_height": null,
      "min_width": null,
      "object_fit": null,
      "object_position": null,
      "order": null,
      "overflow": null,
      "overflow_x": null,
      "overflow_y": null,
      "padding": null,
      "right": null,
      "top": null,
      "visibility": null,
      "width": null
     }
    },
    "3f2daded7aac4de1ab6dbc99601baa08": {
     "model_module": "@jupyter-widgets/base",
     "model_module_version": "1.2.0",
     "model_name": "LayoutModel",
     "state": {
      "_model_module": "@jupyter-widgets/base",
      "_model_module_version": "1.2.0",
      "_model_name": "LayoutModel",
      "_view_count": null,
      "_view_module": "@jupyter-widgets/base",
      "_view_module_version": "1.2.0",
      "_view_name": "LayoutView",
      "align_content": null,
      "align_items": null,
      "align_self": null,
      "border": null,
      "bottom": null,
      "display": null,
      "flex": null,
      "flex_flow": null,
      "grid_area": null,
      "grid_auto_columns": null,
      "grid_auto_flow": null,
      "grid_auto_rows": null,
      "grid_column": null,
      "grid_gap": null,
      "grid_row": null,
      "grid_template_areas": null,
      "grid_template_columns": null,
      "grid_template_rows": null,
      "height": null,
      "justify_content": null,
      "justify_items": null,
      "left": null,
      "margin": null,
      "max_height": null,
      "max_width": null,
      "min_height": null,
      "min_width": null,
      "object_fit": null,
      "object_position": null,
      "order": null,
      "overflow": null,
      "overflow_x": null,
      "overflow_y": null,
      "padding": null,
      "right": null,
      "top": null,
      "visibility": null,
      "width": null
     }
    },
    "43116d7b6138478d93df1b30b1142060": {
     "model_module": "@jupyter-widgets/controls",
     "model_module_version": "1.5.0",
     "model_name": "HBoxModel",
     "state": {
      "_dom_classes": [],
      "_model_module": "@jupyter-widgets/controls",
      "_model_module_version": "1.5.0",
      "_model_name": "HBoxModel",
      "_view_count": null,
      "_view_module": "@jupyter-widgets/controls",
      "_view_module_version": "1.5.0",
      "_view_name": "HBoxView",
      "box_style": "",
      "children": [
       "IPY_MODEL_fa5075dbb47b4282988296278fbc49fb",
       "IPY_MODEL_36057ba7f4ee4db88fd07f7342682663",
       "IPY_MODEL_a74fb7417626424e904f0f59b4445245"
      ],
      "layout": "IPY_MODEL_b30b55bf8286412db4d1a9a4f170fac2"
     }
    },
    "43b969aa50344491b178f96c5d210b04": {
     "model_module": "@jupyter-widgets/controls",
     "model_module_version": "1.5.0",
     "model_name": "ProgressStyleModel",
     "state": {
      "_model_module": "@jupyter-widgets/controls",
      "_model_module_version": "1.5.0",
      "_model_name": "ProgressStyleModel",
      "_view_count": null,
      "_view_module": "@jupyter-widgets/base",
      "_view_module_version": "1.2.0",
      "_view_name": "StyleView",
      "bar_color": null,
      "description_width": ""
     }
    },
    "47e95a7a79a545e29680fdde68dd7710": {
     "model_module": "@jupyter-widgets/controls",
     "model_module_version": "1.5.0",
     "model_name": "DescriptionStyleModel",
     "state": {
      "_model_module": "@jupyter-widgets/controls",
      "_model_module_version": "1.5.0",
      "_model_name": "DescriptionStyleModel",
      "_view_count": null,
      "_view_module": "@jupyter-widgets/base",
      "_view_module_version": "1.2.0",
      "_view_name": "StyleView",
      "description_width": ""
     }
    },
    "4d2e92bed20b4fc683f6973452f54556": {
     "model_module": "@jupyter-widgets/controls",
     "model_module_version": "1.5.0",
     "model_name": "HTMLModel",
     "state": {
      "_dom_classes": [],
      "_model_module": "@jupyter-widgets/controls",
      "_model_module_version": "1.5.0",
      "_model_name": "HTMLModel",
      "_view_count": null,
      "_view_module": "@jupyter-widgets/controls",
      "_view_module_version": "1.5.0",
      "_view_name": "HTMLView",
      "description": "",
      "description_tooltip": null,
      "layout": "IPY_MODEL_fec060122e3d46f0909b0f2b16f65678",
      "placeholder": "​",
      "style": "IPY_MODEL_9dee3e667cac4312af5ddc781c43ff4e",
      "value": "Downloading (…)lve/main/config.json: 100%"
     }
    },
    "50d520f6aeb74893ac99626e006310cb": {
     "model_module": "@jupyter-widgets/controls",
     "model_module_version": "1.5.0",
     "model_name": "FloatProgressModel",
     "state": {
      "_dom_classes": [],
      "_model_module": "@jupyter-widgets/controls",
      "_model_module_version": "1.5.0",
      "_model_name": "FloatProgressModel",
      "_view_count": null,
      "_view_module": "@jupyter-widgets/controls",
      "_view_module_version": "1.5.0",
      "_view_name": "ProgressView",
      "bar_style": "success",
      "description": "",
      "description_tooltip": null,
      "layout": "IPY_MODEL_6cd1d104df2942519b0d08ec08b8c595",
      "max": 570,
      "min": 0,
      "orientation": "horizontal",
      "style": "IPY_MODEL_840c08664cfb4c45a3d8e69350a125fb",
      "value": 570
     }
    },
    "517a48ef5f3348ab9b66ab45e0967845": {
     "model_module": "@jupyter-widgets/base",
     "model_module_version": "1.2.0",
     "model_name": "LayoutModel",
     "state": {
      "_model_module": "@jupyter-widgets/base",
      "_model_module_version": "1.2.0",
      "_model_name": "LayoutModel",
      "_view_count": null,
      "_view_module": "@jupyter-widgets/base",
      "_view_module_version": "1.2.0",
      "_view_name": "LayoutView",
      "align_content": null,
      "align_items": null,
      "align_self": null,
      "border": null,
      "bottom": null,
      "display": null,
      "flex": null,
      "flex_flow": null,
      "grid_area": null,
      "grid_auto_columns": null,
      "grid_auto_flow": null,
      "grid_auto_rows": null,
      "grid_column": null,
      "grid_gap": null,
      "grid_row": null,
      "grid_template_areas": null,
      "grid_template_columns": null,
      "grid_template_rows": null,
      "height": null,
      "justify_content": null,
      "justify_items": null,
      "left": null,
      "margin": null,
      "max_height": null,
      "max_width": null,
      "min_height": null,
      "min_width": null,
      "object_fit": null,
      "object_position": null,
      "order": null,
      "overflow": null,
      "overflow_x": null,
      "overflow_y": null,
      "padding": null,
      "right": null,
      "top": null,
      "visibility": null,
      "width": null
     }
    },
    "5655b21ea90a46d19ec43842d8c3a100": {
     "model_module": "@jupyter-widgets/controls",
     "model_module_version": "1.5.0",
     "model_name": "DescriptionStyleModel",
     "state": {
      "_model_module": "@jupyter-widgets/controls",
      "_model_module_version": "1.5.0",
      "_model_name": "DescriptionStyleModel",
      "_view_count": null,
      "_view_module": "@jupyter-widgets/base",
      "_view_module_version": "1.2.0",
      "_view_name": "StyleView",
      "description_width": ""
     }
    },
    "58c6ab60a2b543e5807d70a72882f68e": {
     "model_module": "@jupyter-widgets/base",
     "model_module_version": "1.2.0",
     "model_name": "LayoutModel",
     "state": {
      "_model_module": "@jupyter-widgets/base",
      "_model_module_version": "1.2.0",
      "_model_name": "LayoutModel",
      "_view_count": null,
      "_view_module": "@jupyter-widgets/base",
      "_view_module_version": "1.2.0",
      "_view_name": "LayoutView",
      "align_content": null,
      "align_items": null,
      "align_self": null,
      "border": null,
      "bottom": null,
      "display": null,
      "flex": null,
      "flex_flow": null,
      "grid_area": null,
      "grid_auto_columns": null,
      "grid_auto_flow": null,
      "grid_auto_rows": null,
      "grid_column": null,
      "grid_gap": null,
      "grid_row": null,
      "grid_template_areas": null,
      "grid_template_columns": null,
      "grid_template_rows": null,
      "height": null,
      "justify_content": null,
      "justify_items": null,
      "left": null,
      "margin": null,
      "max_height": null,
      "max_width": null,
      "min_height": null,
      "min_width": null,
      "object_fit": null,
      "object_position": null,
      "order": null,
      "overflow": null,
      "overflow_x": null,
      "overflow_y": null,
      "padding": null,
      "right": null,
      "top": null,
      "visibility": null,
      "width": null
     }
    },
    "590f5f074c6d4a67ad974c133443f4ef": {
     "model_module": "@jupyter-widgets/controls",
     "model_module_version": "1.5.0",
     "model_name": "ProgressStyleModel",
     "state": {
      "_model_module": "@jupyter-widgets/controls",
      "_model_module_version": "1.5.0",
      "_model_name": "ProgressStyleModel",
      "_view_count": null,
      "_view_module": "@jupyter-widgets/base",
      "_view_module_version": "1.2.0",
      "_view_name": "StyleView",
      "bar_color": null,
      "description_width": ""
     }
    },
    "601d548936594024b01ff9be0adba417": {
     "model_module": "@jupyter-widgets/base",
     "model_module_version": "1.2.0",
     "model_name": "LayoutModel",
     "state": {
      "_model_module": "@jupyter-widgets/base",
      "_model_module_version": "1.2.0",
      "_model_name": "LayoutModel",
      "_view_count": null,
      "_view_module": "@jupyter-widgets/base",
      "_view_module_version": "1.2.0",
      "_view_name": "LayoutView",
      "align_content": null,
      "align_items": null,
      "align_self": null,
      "border": null,
      "bottom": null,
      "display": null,
      "flex": null,
      "flex_flow": null,
      "grid_area": null,
      "grid_auto_columns": null,
      "grid_auto_flow": null,
      "grid_auto_rows": null,
      "grid_column": null,
      "grid_gap": null,
      "grid_row": null,
      "grid_template_areas": null,
      "grid_template_columns": null,
      "grid_template_rows": null,
      "height": null,
      "justify_content": null,
      "justify_items": null,
      "left": null,
      "margin": null,
      "max_height": null,
      "max_width": null,
      "min_height": null,
      "min_width": null,
      "object_fit": null,
      "object_position": null,
      "order": null,
      "overflow": null,
      "overflow_x": null,
      "overflow_y": null,
      "padding": null,
      "right": null,
      "top": null,
      "visibility": null,
      "width": null
     }
    },
    "609269df07484b669bc279354ee9e0cc": {
     "model_module": "@jupyter-widgets/base",
     "model_module_version": "1.2.0",
     "model_name": "LayoutModel",
     "state": {
      "_model_module": "@jupyter-widgets/base",
      "_model_module_version": "1.2.0",
      "_model_name": "LayoutModel",
      "_view_count": null,
      "_view_module": "@jupyter-widgets/base",
      "_view_module_version": "1.2.0",
      "_view_name": "LayoutView",
      "align_content": null,
      "align_items": null,
      "align_self": null,
      "border": null,
      "bottom": null,
      "display": null,
      "flex": null,
      "flex_flow": null,
      "grid_area": null,
      "grid_auto_columns": null,
      "grid_auto_flow": null,
      "grid_auto_rows": null,
      "grid_column": null,
      "grid_gap": null,
      "grid_row": null,
      "grid_template_areas": null,
      "grid_template_columns": null,
      "grid_template_rows": null,
      "height": null,
      "justify_content": null,
      "justify_items": null,
      "left": null,
      "margin": null,
      "max_height": null,
      "max_width": null,
      "min_height": null,
      "min_width": null,
      "object_fit": null,
      "object_position": null,
      "order": null,
      "overflow": null,
      "overflow_x": null,
      "overflow_y": null,
      "padding": null,
      "right": null,
      "top": null,
      "visibility": null,
      "width": null
     }
    },
    "6cd1d104df2942519b0d08ec08b8c595": {
     "model_module": "@jupyter-widgets/base",
     "model_module_version": "1.2.0",
     "model_name": "LayoutModel",
     "state": {
      "_model_module": "@jupyter-widgets/base",
      "_model_module_version": "1.2.0",
      "_model_name": "LayoutModel",
      "_view_count": null,
      "_view_module": "@jupyter-widgets/base",
      "_view_module_version": "1.2.0",
      "_view_name": "LayoutView",
      "align_content": null,
      "align_items": null,
      "align_self": null,
      "border": null,
      "bottom": null,
      "display": null,
      "flex": null,
      "flex_flow": null,
      "grid_area": null,
      "grid_auto_columns": null,
      "grid_auto_flow": null,
      "grid_auto_rows": null,
      "grid_column": null,
      "grid_gap": null,
      "grid_row": null,
      "grid_template_areas": null,
      "grid_template_columns": null,
      "grid_template_rows": null,
      "height": null,
      "justify_content": null,
      "justify_items": null,
      "left": null,
      "margin": null,
      "max_height": null,
      "max_width": null,
      "min_height": null,
      "min_width": null,
      "object_fit": null,
      "object_position": null,
      "order": null,
      "overflow": null,
      "overflow_x": null,
      "overflow_y": null,
      "padding": null,
      "right": null,
      "top": null,
      "visibility": null,
      "width": null
     }
    },
    "7451e032f0a444b09faa1addec43d07c": {
     "model_module": "@jupyter-widgets/controls",
     "model_module_version": "1.5.0",
     "model_name": "DescriptionStyleModel",
     "state": {
      "_model_module": "@jupyter-widgets/controls",
      "_model_module_version": "1.5.0",
      "_model_name": "DescriptionStyleModel",
      "_view_count": null,
      "_view_module": "@jupyter-widgets/base",
      "_view_module_version": "1.2.0",
      "_view_name": "StyleView",
      "description_width": ""
     }
    },
    "799ca5cbf64f4f50a9d934c2179430d2": {
     "model_module": "@jupyter-widgets/controls",
     "model_module_version": "1.5.0",
     "model_name": "ProgressStyleModel",
     "state": {
      "_model_module": "@jupyter-widgets/controls",
      "_model_module_version": "1.5.0",
      "_model_name": "ProgressStyleModel",
      "_view_count": null,
      "_view_module": "@jupyter-widgets/base",
      "_view_module_version": "1.2.0",
      "_view_name": "StyleView",
      "bar_color": null,
      "description_width": ""
     }
    },
    "7b18a7ee25414627b8e504594bd6a34d": {
     "model_module": "@jupyter-widgets/controls",
     "model_module_version": "1.5.0",
     "model_name": "ProgressStyleModel",
     "state": {
      "_model_module": "@jupyter-widgets/controls",
      "_model_module_version": "1.5.0",
      "_model_name": "ProgressStyleModel",
      "_view_count": null,
      "_view_module": "@jupyter-widgets/base",
      "_view_module_version": "1.2.0",
      "_view_name": "StyleView",
      "bar_color": null,
      "description_width": ""
     }
    },
    "7f79a50d1ebc4ef0a5ba5de611520c2e": {
     "model_module": "@jupyter-widgets/base",
     "model_module_version": "1.2.0",
     "model_name": "LayoutModel",
     "state": {
      "_model_module": "@jupyter-widgets/base",
      "_model_module_version": "1.2.0",
      "_model_name": "LayoutModel",
      "_view_count": null,
      "_view_module": "@jupyter-widgets/base",
      "_view_module_version": "1.2.0",
      "_view_name": "LayoutView",
      "align_content": null,
      "align_items": null,
      "align_self": null,
      "border": null,
      "bottom": null,
      "display": null,
      "flex": null,
      "flex_flow": null,
      "grid_area": null,
      "grid_auto_columns": null,
      "grid_auto_flow": null,
      "grid_auto_rows": null,
      "grid_column": null,
      "grid_gap": null,
      "grid_row": null,
      "grid_template_areas": null,
      "grid_template_columns": null,
      "grid_template_rows": null,
      "height": null,
      "justify_content": null,
      "justify_items": null,
      "left": null,
      "margin": null,
      "max_height": null,
      "max_width": null,
      "min_height": null,
      "min_width": null,
      "object_fit": null,
      "object_position": null,
      "order": null,
      "overflow": null,
      "overflow_x": null,
      "overflow_y": null,
      "padding": null,
      "right": null,
      "top": null,
      "visibility": null,
      "width": null
     }
    },
    "840c08664cfb4c45a3d8e69350a125fb": {
     "model_module": "@jupyter-widgets/controls",
     "model_module_version": "1.5.0",
     "model_name": "ProgressStyleModel",
     "state": {
      "_model_module": "@jupyter-widgets/controls",
      "_model_module_version": "1.5.0",
      "_model_name": "ProgressStyleModel",
      "_view_count": null,
      "_view_module": "@jupyter-widgets/base",
      "_view_module_version": "1.2.0",
      "_view_name": "StyleView",
      "bar_color": null,
      "description_width": ""
     }
    },
    "843a1bea67de45f59356f4f84d434d5d": {
     "model_module": "@jupyter-widgets/controls",
     "model_module_version": "1.5.0",
     "model_name": "HBoxModel",
     "state": {
      "_dom_classes": [],
      "_model_module": "@jupyter-widgets/controls",
      "_model_module_version": "1.5.0",
      "_model_name": "HBoxModel",
      "_view_count": null,
      "_view_module": "@jupyter-widgets/controls",
      "_view_module_version": "1.5.0",
      "_view_name": "HBoxView",
      "box_style": "",
      "children": [
       "IPY_MODEL_b0f2892c180640a89439d442af84d964",
       "IPY_MODEL_91531874fb4940c9a8618d062f3925d1",
       "IPY_MODEL_1964b0fc083d4580b35856ce29bf7449"
      ],
      "layout": "IPY_MODEL_c6c64ea6cbe745659d818f8864bf6961"
     }
    },
    "861b0028baf84b9bb67cdbd8c6210a9b": {
     "model_module": "@jupyter-widgets/controls",
     "model_module_version": "1.5.0",
     "model_name": "DescriptionStyleModel",
     "state": {
      "_model_module": "@jupyter-widgets/controls",
      "_model_module_version": "1.5.0",
      "_model_name": "DescriptionStyleModel",
      "_view_count": null,
      "_view_module": "@jupyter-widgets/base",
      "_view_module_version": "1.2.0",
      "_view_name": "StyleView",
      "description_width": ""
     }
    },
    "8a2159afbf03437e90c46754dc6a1726": {
     "model_module": "@jupyter-widgets/controls",
     "model_module_version": "1.5.0",
     "model_name": "HTMLModel",
     "state": {
      "_dom_classes": [],
      "_model_module": "@jupyter-widgets/controls",
      "_model_module_version": "1.5.0",
      "_model_name": "HTMLModel",
      "_view_count": null,
      "_view_module": "@jupyter-widgets/controls",
      "_view_module_version": "1.5.0",
      "_view_name": "HTMLView",
      "description": "",
      "description_tooltip": null,
      "layout": "IPY_MODEL_b4e6f81fe78141a5936f0cc982443767",
      "placeholder": "​",
      "style": "IPY_MODEL_94acadeebf11476583883f4db72792a5",
      "value": "Downloading (…)solve/main/vocab.txt: 100%"
     }
    },
    "8a537a3805ac406996842978a4fcfaf0": {
     "model_module": "@jupyter-widgets/controls",
     "model_module_version": "1.5.0",
     "model_name": "DescriptionStyleModel",
     "state": {
      "_model_module": "@jupyter-widgets/controls",
      "_model_module_version": "1.5.0",
      "_model_name": "DescriptionStyleModel",
      "_view_count": null,
      "_view_module": "@jupyter-widgets/base",
      "_view_module_version": "1.2.0",
      "_view_name": "StyleView",
      "description_width": ""
     }
    },
    "8ec5e141ff104dfca531494cedae911c": {
     "model_module": "@jupyter-widgets/controls",
     "model_module_version": "1.5.0",
     "model_name": "DescriptionStyleModel",
     "state": {
      "_model_module": "@jupyter-widgets/controls",
      "_model_module_version": "1.5.0",
      "_model_name": "DescriptionStyleModel",
      "_view_count": null,
      "_view_module": "@jupyter-widgets/base",
      "_view_module_version": "1.2.0",
      "_view_name": "StyleView",
      "description_width": ""
     }
    },
    "90638814e04d4a079b330660631f57cd": {
     "model_module": "@jupyter-widgets/base",
     "model_module_version": "1.2.0",
     "model_name": "LayoutModel",
     "state": {
      "_model_module": "@jupyter-widgets/base",
      "_model_module_version": "1.2.0",
      "_model_name": "LayoutModel",
      "_view_count": null,
      "_view_module": "@jupyter-widgets/base",
      "_view_module_version": "1.2.0",
      "_view_name": "LayoutView",
      "align_content": null,
      "align_items": null,
      "align_self": null,
      "border": null,
      "bottom": null,
      "display": null,
      "flex": null,
      "flex_flow": null,
      "grid_area": null,
      "grid_auto_columns": null,
      "grid_auto_flow": null,
      "grid_auto_rows": null,
      "grid_column": null,
      "grid_gap": null,
      "grid_row": null,
      "grid_template_areas": null,
      "grid_template_columns": null,
      "grid_template_rows": null,
      "height": null,
      "justify_content": null,
      "justify_items": null,
      "left": null,
      "margin": null,
      "max_height": null,
      "max_width": null,
      "min_height": null,
      "min_width": null,
      "object_fit": null,
      "object_position": null,
      "order": null,
      "overflow": null,
      "overflow_x": null,
      "overflow_y": null,
      "padding": null,
      "right": null,
      "top": null,
      "visibility": null,
      "width": null
     }
    },
    "91531874fb4940c9a8618d062f3925d1": {
     "model_module": "@jupyter-widgets/controls",
     "model_module_version": "1.5.0",
     "model_name": "FloatProgressModel",
     "state": {
      "_dom_classes": [],
      "_model_module": "@jupyter-widgets/controls",
      "_model_module_version": "1.5.0",
      "_model_name": "FloatProgressModel",
      "_view_count": null,
      "_view_module": "@jupyter-widgets/controls",
      "_view_module_version": "1.5.0",
      "_view_name": "ProgressView",
      "bar_style": "success",
      "description": "",
      "description_tooltip": null,
      "layout": "IPY_MODEL_1f8dc824db1b4cbf9bd2384833531025",
      "max": 898823,
      "min": 0,
      "orientation": "horizontal",
      "style": "IPY_MODEL_7b18a7ee25414627b8e504594bd6a34d",
      "value": 898823
     }
    },
    "9235b74979104bff994e0cfa9e507cc3": {
     "model_module": "@jupyter-widgets/controls",
     "model_module_version": "1.5.0",
     "model_name": "HBoxModel",
     "state": {
      "_dom_classes": [],
      "_model_module": "@jupyter-widgets/controls",
      "_model_module_version": "1.5.0",
      "_model_name": "HBoxModel",
      "_view_count": null,
      "_view_module": "@jupyter-widgets/controls",
      "_view_module_version": "1.5.0",
      "_view_name": "HBoxView",
      "box_style": "",
      "children": [
       "IPY_MODEL_8a2159afbf03437e90c46754dc6a1726",
       "IPY_MODEL_3a3a26d6ef424c9dac3262576687f079",
       "IPY_MODEL_03acc0e42cc6486f801d5a7083dd52eb"
      ],
      "layout": "IPY_MODEL_58c6ab60a2b543e5807d70a72882f68e"
     }
    },
    "9305397325f843b58ff057afbc5581ab": {
     "model_module": "@jupyter-widgets/base",
     "model_module_version": "1.2.0",
     "model_name": "LayoutModel",
     "state": {
      "_model_module": "@jupyter-widgets/base",
      "_model_module_version": "1.2.0",
      "_model_name": "LayoutModel",
      "_view_count": null,
      "_view_module": "@jupyter-widgets/base",
      "_view_module_version": "1.2.0",
      "_view_name": "LayoutView",
      "align_content": null,
      "align_items": null,
      "align_self": null,
      "border": null,
      "bottom": null,
      "display": null,
      "flex": null,
      "flex_flow": null,
      "grid_area": null,
      "grid_auto_columns": null,
      "grid_auto_flow": null,
      "grid_auto_rows": null,
      "grid_column": null,
      "grid_gap": null,
      "grid_row": null,
      "grid_template_areas": null,
      "grid_template_columns": null,
      "grid_template_rows": null,
      "height": null,
      "justify_content": null,
      "justify_items": null,
      "left": null,
      "margin": null,
      "max_height": null,
      "max_width": null,
      "min_height": null,
      "min_width": null,
      "object_fit": null,
      "object_position": null,
      "order": null,
      "overflow": null,
      "overflow_x": null,
      "overflow_y": null,
      "padding": null,
      "right": null,
      "top": null,
      "visibility": null,
      "width": null
     }
    },
    "94acadeebf11476583883f4db72792a5": {
     "model_module": "@jupyter-widgets/controls",
     "model_module_version": "1.5.0",
     "model_name": "DescriptionStyleModel",
     "state": {
      "_model_module": "@jupyter-widgets/controls",
      "_model_module_version": "1.5.0",
      "_model_name": "DescriptionStyleModel",
      "_view_count": null,
      "_view_module": "@jupyter-widgets/base",
      "_view_module_version": "1.2.0",
      "_view_name": "StyleView",
      "description_width": ""
     }
    },
    "95cec2fffef240d3b64f663778f022cf": {
     "model_module": "@jupyter-widgets/base",
     "model_module_version": "1.2.0",
     "model_name": "LayoutModel",
     "state": {
      "_model_module": "@jupyter-widgets/base",
      "_model_module_version": "1.2.0",
      "_model_name": "LayoutModel",
      "_view_count": null,
      "_view_module": "@jupyter-widgets/base",
      "_view_module_version": "1.2.0",
      "_view_name": "LayoutView",
      "align_content": null,
      "align_items": null,
      "align_self": null,
      "border": null,
      "bottom": null,
      "display": null,
      "flex": null,
      "flex_flow": null,
      "grid_area": null,
      "grid_auto_columns": null,
      "grid_auto_flow": null,
      "grid_auto_rows": null,
      "grid_column": null,
      "grid_gap": null,
      "grid_row": null,
      "grid_template_areas": null,
      "grid_template_columns": null,
      "grid_template_rows": null,
      "height": null,
      "justify_content": null,
      "justify_items": null,
      "left": null,
      "margin": null,
      "max_height": null,
      "max_width": null,
      "min_height": null,
      "min_width": null,
      "object_fit": null,
      "object_position": null,
      "order": null,
      "overflow": null,
      "overflow_x": null,
      "overflow_y": null,
      "padding": null,
      "right": null,
      "top": null,
      "visibility": null,
      "width": null
     }
    },
    "9788e8ddb69a41dd90c39d8cd62e426c": {
     "model_module": "@jupyter-widgets/base",
     "model_module_version": "1.2.0",
     "model_name": "LayoutModel",
     "state": {
      "_model_module": "@jupyter-widgets/base",
      "_model_module_version": "1.2.0",
      "_model_name": "LayoutModel",
      "_view_count": null,
      "_view_module": "@jupyter-widgets/base",
      "_view_module_version": "1.2.0",
      "_view_name": "LayoutView",
      "align_content": null,
      "align_items": null,
      "align_self": null,
      "border": null,
      "bottom": null,
      "display": null,
      "flex": null,
      "flex_flow": null,
      "grid_area": null,
      "grid_auto_columns": null,
      "grid_auto_flow": null,
      "grid_auto_rows": null,
      "grid_column": null,
      "grid_gap": null,
      "grid_row": null,
      "grid_template_areas": null,
      "grid_template_columns": null,
      "grid_template_rows": null,
      "height": null,
      "justify_content": null,
      "justify_items": null,
      "left": null,
      "margin": null,
      "max_height": null,
      "max_width": null,
      "min_height": null,
      "min_width": null,
      "object_fit": null,
      "object_position": null,
      "order": null,
      "overflow": null,
      "overflow_x": null,
      "overflow_y": null,
      "padding": null,
      "right": null,
      "top": null,
      "visibility": null,
      "width": null
     }
    },
    "98eb35fff22c425e992b64bdc3c503aa": {
     "model_module": "@jupyter-widgets/controls",
     "model_module_version": "1.5.0",
     "model_name": "DescriptionStyleModel",
     "state": {
      "_model_module": "@jupyter-widgets/controls",
      "_model_module_version": "1.5.0",
      "_model_name": "DescriptionStyleModel",
      "_view_count": null,
      "_view_module": "@jupyter-widgets/base",
      "_view_module_version": "1.2.0",
      "_view_name": "StyleView",
      "description_width": ""
     }
    },
    "99792b6bcacd4ccea24bba26329d4a5b": {
     "model_module": "@jupyter-widgets/controls",
     "model_module_version": "1.5.0",
     "model_name": "DescriptionStyleModel",
     "state": {
      "_model_module": "@jupyter-widgets/controls",
      "_model_module_version": "1.5.0",
      "_model_name": "DescriptionStyleModel",
      "_view_count": null,
      "_view_module": "@jupyter-widgets/base",
      "_view_module_version": "1.2.0",
      "_view_name": "StyleView",
      "description_width": ""
     }
    },
    "9ba43a6f8b8947c1818daea732c27bb2": {
     "model_module": "@jupyter-widgets/controls",
     "model_module_version": "1.5.0",
     "model_name": "HTMLModel",
     "state": {
      "_dom_classes": [],
      "_model_module": "@jupyter-widgets/controls",
      "_model_module_version": "1.5.0",
      "_model_name": "HTMLModel",
      "_view_count": null,
      "_view_module": "@jupyter-widgets/controls",
      "_view_module_version": "1.5.0",
      "_view_name": "HTMLView",
      "description": "",
      "description_tooltip": null,
      "layout": "IPY_MODEL_3d8bc44fd62642e888d08abd5cf03313",
      "placeholder": "​",
      "style": "IPY_MODEL_5655b21ea90a46d19ec43842d8c3a100",
      "value": " 481/481 [00:00&lt;00:00, 27.4kB/s]"
     }
    },
    "9d5d5a6c99c54ef1aa74accfe82a2474": {
     "model_module": "@jupyter-widgets/base",
     "model_module_version": "1.2.0",
     "model_name": "LayoutModel",
     "state": {
      "_model_module": "@jupyter-widgets/base",
      "_model_module_version": "1.2.0",
      "_model_name": "LayoutModel",
      "_view_count": null,
      "_view_module": "@jupyter-widgets/base",
      "_view_module_version": "1.2.0",
      "_view_name": "LayoutView",
      "align_content": null,
      "align_items": null,
      "align_self": null,
      "border": null,
      "bottom": null,
      "display": null,
      "flex": null,
      "flex_flow": null,
      "grid_area": null,
      "grid_auto_columns": null,
      "grid_auto_flow": null,
      "grid_auto_rows": null,
      "grid_column": null,
      "grid_gap": null,
      "grid_row": null,
      "grid_template_areas": null,
      "grid_template_columns": null,
      "grid_template_rows": null,
      "height": null,
      "justify_content": null,
      "justify_items": null,
      "left": null,
      "margin": null,
      "max_height": null,
      "max_width": null,
      "min_height": null,
      "min_width": null,
      "object_fit": null,
      "object_position": null,
      "order": null,
      "overflow": null,
      "overflow_x": null,
      "overflow_y": null,
      "padding": null,
      "right": null,
      "top": null,
      "visibility": null,
      "width": null
     }
    },
    "9dc427b3f9334a228ab4a505bdad910d": {
     "model_module": "@jupyter-widgets/base",
     "model_module_version": "1.2.0",
     "model_name": "LayoutModel",
     "state": {
      "_model_module": "@jupyter-widgets/base",
      "_model_module_version": "1.2.0",
      "_model_name": "LayoutModel",
      "_view_count": null,
      "_view_module": "@jupyter-widgets/base",
      "_view_module_version": "1.2.0",
      "_view_name": "LayoutView",
      "align_content": null,
      "align_items": null,
      "align_self": null,
      "border": null,
      "bottom": null,
      "display": null,
      "flex": null,
      "flex_flow": null,
      "grid_area": null,
      "grid_auto_columns": null,
      "grid_auto_flow": null,
      "grid_auto_rows": null,
      "grid_column": null,
      "grid_gap": null,
      "grid_row": null,
      "grid_template_areas": null,
      "grid_template_columns": null,
      "grid_template_rows": null,
      "height": null,
      "justify_content": null,
      "justify_items": null,
      "left": null,
      "margin": null,
      "max_height": null,
      "max_width": null,
      "min_height": null,
      "min_width": null,
      "object_fit": null,
      "object_position": null,
      "order": null,
      "overflow": null,
      "overflow_x": null,
      "overflow_y": null,
      "padding": null,
      "right": null,
      "top": null,
      "visibility": null,
      "width": null
     }
    },
    "9dee3e667cac4312af5ddc781c43ff4e": {
     "model_module": "@jupyter-widgets/controls",
     "model_module_version": "1.5.0",
     "model_name": "DescriptionStyleModel",
     "state": {
      "_model_module": "@jupyter-widgets/controls",
      "_model_module_version": "1.5.0",
      "_model_name": "DescriptionStyleModel",
      "_view_count": null,
      "_view_module": "@jupyter-widgets/base",
      "_view_module_version": "1.2.0",
      "_view_name": "StyleView",
      "description_width": ""
     }
    },
    "a3f90a3b0d1f4f3c8c3bcd4e3015b699": {
     "model_module": "@jupyter-widgets/base",
     "model_module_version": "1.2.0",
     "model_name": "LayoutModel",
     "state": {
      "_model_module": "@jupyter-widgets/base",
      "_model_module_version": "1.2.0",
      "_model_name": "LayoutModel",
      "_view_count": null,
      "_view_module": "@jupyter-widgets/base",
      "_view_module_version": "1.2.0",
      "_view_name": "LayoutView",
      "align_content": null,
      "align_items": null,
      "align_self": null,
      "border": null,
      "bottom": null,
      "display": null,
      "flex": null,
      "flex_flow": null,
      "grid_area": null,
      "grid_auto_columns": null,
      "grid_auto_flow": null,
      "grid_auto_rows": null,
      "grid_column": null,
      "grid_gap": null,
      "grid_row": null,
      "grid_template_areas": null,
      "grid_template_columns": null,
      "grid_template_rows": null,
      "height": null,
      "justify_content": null,
      "justify_items": null,
      "left": null,
      "margin": null,
      "max_height": null,
      "max_width": null,
      "min_height": null,
      "min_width": null,
      "object_fit": null,
      "object_position": null,
      "order": null,
      "overflow": null,
      "overflow_x": null,
      "overflow_y": null,
      "padding": null,
      "right": null,
      "top": null,
      "visibility": null,
      "width": null
     }
    },
    "a482d5c212d14ff4b03554d6690ec119": {
     "model_module": "@jupyter-widgets/controls",
     "model_module_version": "1.5.0",
     "model_name": "HTMLModel",
     "state": {
      "_dom_classes": [],
      "_model_module": "@jupyter-widgets/controls",
      "_model_module_version": "1.5.0",
      "_model_name": "HTMLModel",
      "_view_count": null,
      "_view_module": "@jupyter-widgets/controls",
      "_view_module_version": "1.5.0",
      "_view_name": "HTMLView",
      "description": "",
      "description_tooltip": null,
      "layout": "IPY_MODEL_1c1be632cadc4a82abf557d9676eb5da",
      "placeholder": "​",
      "style": "IPY_MODEL_b71d22be975d415e98090724c6766b52",
      "value": " 456k/456k [00:00&lt;00:00, 8.61MB/s]"
     }
    },
    "a74fb7417626424e904f0f59b4445245": {
     "model_module": "@jupyter-widgets/controls",
     "model_module_version": "1.5.0",
     "model_name": "HTMLModel",
     "state": {
      "_dom_classes": [],
      "_model_module": "@jupyter-widgets/controls",
      "_model_module_version": "1.5.0",
      "_model_name": "HTMLModel",
      "_view_count": null,
      "_view_module": "@jupyter-widgets/controls",
      "_view_module_version": "1.5.0",
      "_view_name": "HTMLView",
      "description": "",
      "description_tooltip": null,
      "layout": "IPY_MODEL_9788e8ddb69a41dd90c39d8cd62e426c",
      "placeholder": "​",
      "style": "IPY_MODEL_0aee3ddc676c44eaab77c58e7161f926",
      "value": " 28.0/28.0 [00:00&lt;00:00, 739B/s]"
     }
    },
    "ae78a43a0c834c0691586e92dcff0c6a": {
     "model_module": "@jupyter-widgets/base",
     "model_module_version": "1.2.0",
     "model_name": "LayoutModel",
     "state": {
      "_model_module": "@jupyter-widgets/base",
      "_model_module_version": "1.2.0",
      "_model_name": "LayoutModel",
      "_view_count": null,
      "_view_module": "@jupyter-widgets/base",
      "_view_module_version": "1.2.0",
      "_view_name": "LayoutView",
      "align_content": null,
      "align_items": null,
      "align_self": null,
      "border": null,
      "bottom": null,
      "display": null,
      "flex": null,
      "flex_flow": null,
      "grid_area": null,
      "grid_auto_columns": null,
      "grid_auto_flow": null,
      "grid_auto_rows": null,
      "grid_column": null,
      "grid_gap": null,
      "grid_row": null,
      "grid_template_areas": null,
      "grid_template_columns": null,
      "grid_template_rows": null,
      "height": null,
      "justify_content": null,
      "justify_items": null,
      "left": null,
      "margin": null,
      "max_height": null,
      "max_width": null,
      "min_height": null,
      "min_width": null,
      "object_fit": null,
      "object_position": null,
      "order": null,
      "overflow": null,
      "overflow_x": null,
      "overflow_y": null,
      "padding": null,
      "right": null,
      "top": null,
      "visibility": null,
      "width": null
     }
    },
    "b0f2892c180640a89439d442af84d964": {
     "model_module": "@jupyter-widgets/controls",
     "model_module_version": "1.5.0",
     "model_name": "HTMLModel",
     "state": {
      "_dom_classes": [],
      "_model_module": "@jupyter-widgets/controls",
      "_model_module_version": "1.5.0",
      "_model_name": "HTMLModel",
      "_view_count": null,
      "_view_module": "@jupyter-widgets/controls",
      "_view_module_version": "1.5.0",
      "_view_name": "HTMLView",
      "description": "",
      "description_tooltip": null,
      "layout": "IPY_MODEL_ae78a43a0c834c0691586e92dcff0c6a",
      "placeholder": "​",
      "style": "IPY_MODEL_861b0028baf84b9bb67cdbd8c6210a9b",
      "value": "Downloading (…)olve/main/vocab.json: 100%"
     }
    },
    "b30b55bf8286412db4d1a9a4f170fac2": {
     "model_module": "@jupyter-widgets/base",
     "model_module_version": "1.2.0",
     "model_name": "LayoutModel",
     "state": {
      "_model_module": "@jupyter-widgets/base",
      "_model_module_version": "1.2.0",
      "_model_name": "LayoutModel",
      "_view_count": null,
      "_view_module": "@jupyter-widgets/base",
      "_view_module_version": "1.2.0",
      "_view_name": "LayoutView",
      "align_content": null,
      "align_items": null,
      "align_self": null,
      "border": null,
      "bottom": null,
      "display": null,
      "flex": null,
      "flex_flow": null,
      "grid_area": null,
      "grid_auto_columns": null,
      "grid_auto_flow": null,
      "grid_auto_rows": null,
      "grid_column": null,
      "grid_gap": null,
      "grid_row": null,
      "grid_template_areas": null,
      "grid_template_columns": null,
      "grid_template_rows": null,
      "height": null,
      "justify_content": null,
      "justify_items": null,
      "left": null,
      "margin": null,
      "max_height": null,
      "max_width": null,
      "min_height": null,
      "min_width": null,
      "object_fit": null,
      "object_position": null,
      "order": null,
      "overflow": null,
      "overflow_x": null,
      "overflow_y": null,
      "padding": null,
      "right": null,
      "top": null,
      "visibility": null,
      "width": null
     }
    },
    "b4e6f81fe78141a5936f0cc982443767": {
     "model_module": "@jupyter-widgets/base",
     "model_module_version": "1.2.0",
     "model_name": "LayoutModel",
     "state": {
      "_model_module": "@jupyter-widgets/base",
      "_model_module_version": "1.2.0",
      "_model_name": "LayoutModel",
      "_view_count": null,
      "_view_module": "@jupyter-widgets/base",
      "_view_module_version": "1.2.0",
      "_view_name": "LayoutView",
      "align_content": null,
      "align_items": null,
      "align_self": null,
      "border": null,
      "bottom": null,
      "display": null,
      "flex": null,
      "flex_flow": null,
      "grid_area": null,
      "grid_auto_columns": null,
      "grid_auto_flow": null,
      "grid_auto_rows": null,
      "grid_column": null,
      "grid_gap": null,
      "grid_row": null,
      "grid_template_areas": null,
      "grid_template_columns": null,
      "grid_template_rows": null,
      "height": null,
      "justify_content": null,
      "justify_items": null,
      "left": null,
      "margin": null,
      "max_height": null,
      "max_width": null,
      "min_height": null,
      "min_width": null,
      "object_fit": null,
      "object_position": null,
      "order": null,
      "overflow": null,
      "overflow_x": null,
      "overflow_y": null,
      "padding": null,
      "right": null,
      "top": null,
      "visibility": null,
      "width": null
     }
    },
    "b71d22be975d415e98090724c6766b52": {
     "model_module": "@jupyter-widgets/controls",
     "model_module_version": "1.5.0",
     "model_name": "DescriptionStyleModel",
     "state": {
      "_model_module": "@jupyter-widgets/controls",
      "_model_module_version": "1.5.0",
      "_model_name": "DescriptionStyleModel",
      "_view_count": null,
      "_view_module": "@jupyter-widgets/base",
      "_view_module_version": "1.2.0",
      "_view_name": "StyleView",
      "description_width": ""
     }
    },
    "bb771bfd7bf54ce498f2d984e63f92a3": {
     "model_module": "@jupyter-widgets/controls",
     "model_module_version": "1.5.0",
     "model_name": "ProgressStyleModel",
     "state": {
      "_model_module": "@jupyter-widgets/controls",
      "_model_module_version": "1.5.0",
      "_model_name": "ProgressStyleModel",
      "_view_count": null,
      "_view_module": "@jupyter-widgets/base",
      "_view_module_version": "1.2.0",
      "_view_name": "StyleView",
      "bar_color": null,
      "description_width": ""
     }
    },
    "c28c02e9bfc84337b9965d9eaf53172f": {
     "model_module": "@jupyter-widgets/base",
     "model_module_version": "1.2.0",
     "model_name": "LayoutModel",
     "state": {
      "_model_module": "@jupyter-widgets/base",
      "_model_module_version": "1.2.0",
      "_model_name": "LayoutModel",
      "_view_count": null,
      "_view_module": "@jupyter-widgets/base",
      "_view_module_version": "1.2.0",
      "_view_name": "LayoutView",
      "align_content": null,
      "align_items": null,
      "align_self": null,
      "border": null,
      "bottom": null,
      "display": null,
      "flex": null,
      "flex_flow": null,
      "grid_area": null,
      "grid_auto_columns": null,
      "grid_auto_flow": null,
      "grid_auto_rows": null,
      "grid_column": null,
      "grid_gap": null,
      "grid_row": null,
      "grid_template_areas": null,
      "grid_template_columns": null,
      "grid_template_rows": null,
      "height": null,
      "justify_content": null,
      "justify_items": null,
      "left": null,
      "margin": null,
      "max_height": null,
      "max_width": null,
      "min_height": null,
      "min_width": null,
      "object_fit": null,
      "object_position": null,
      "order": null,
      "overflow": null,
      "overflow_x": null,
      "overflow_y": null,
      "padding": null,
      "right": null,
      "top": null,
      "visibility": null,
      "width": null
     }
    },
    "c2a1aa0037b74e19a0f1f6891e304bf6": {
     "model_module": "@jupyter-widgets/controls",
     "model_module_version": "1.5.0",
     "model_name": "FloatProgressModel",
     "state": {
      "_dom_classes": [],
      "_model_module": "@jupyter-widgets/controls",
      "_model_module_version": "1.5.0",
      "_model_name": "FloatProgressModel",
      "_view_count": null,
      "_view_module": "@jupyter-widgets/controls",
      "_view_module_version": "1.5.0",
      "_view_name": "ProgressView",
      "bar_style": "success",
      "description": "",
      "description_tooltip": null,
      "layout": "IPY_MODEL_517a48ef5f3348ab9b66ab45e0967845",
      "max": 481,
      "min": 0,
      "orientation": "horizontal",
      "style": "IPY_MODEL_bb771bfd7bf54ce498f2d984e63f92a3",
      "value": 481
     }
    },
    "c67b6187a8154d659a4da369f5df8bc2": {
     "model_module": "@jupyter-widgets/controls",
     "model_module_version": "1.5.0",
     "model_name": "DescriptionStyleModel",
     "state": {
      "_model_module": "@jupyter-widgets/controls",
      "_model_module_version": "1.5.0",
      "_model_name": "DescriptionStyleModel",
      "_view_count": null,
      "_view_module": "@jupyter-widgets/base",
      "_view_module_version": "1.2.0",
      "_view_name": "StyleView",
      "description_width": ""
     }
    },
    "c6c64ea6cbe745659d818f8864bf6961": {
     "model_module": "@jupyter-widgets/base",
     "model_module_version": "1.2.0",
     "model_name": "LayoutModel",
     "state": {
      "_model_module": "@jupyter-widgets/base",
      "_model_module_version": "1.2.0",
      "_model_name": "LayoutModel",
      "_view_count": null,
      "_view_module": "@jupyter-widgets/base",
      "_view_module_version": "1.2.0",
      "_view_name": "LayoutView",
      "align_content": null,
      "align_items": null,
      "align_self": null,
      "border": null,
      "bottom": null,
      "display": null,
      "flex": null,
      "flex_flow": null,
      "grid_area": null,
      "grid_auto_columns": null,
      "grid_auto_flow": null,
      "grid_auto_rows": null,
      "grid_column": null,
      "grid_gap": null,
      "grid_row": null,
      "grid_template_areas": null,
      "grid_template_columns": null,
      "grid_template_rows": null,
      "height": null,
      "justify_content": null,
      "justify_items": null,
      "left": null,
      "margin": null,
      "max_height": null,
      "max_width": null,
      "min_height": null,
      "min_width": null,
      "object_fit": null,
      "object_position": null,
      "order": null,
      "overflow": null,
      "overflow_x": null,
      "overflow_y": null,
      "padding": null,
      "right": null,
      "top": null,
      "visibility": null,
      "width": null
     }
    },
    "c76d2aa0f3f9490e81cf9f16a4974e9e": {
     "model_module": "@jupyter-widgets/controls",
     "model_module_version": "1.5.0",
     "model_name": "HBoxModel",
     "state": {
      "_dom_classes": [],
      "_model_module": "@jupyter-widgets/controls",
      "_model_module_version": "1.5.0",
      "_model_name": "HBoxModel",
      "_view_count": null,
      "_view_module": "@jupyter-widgets/controls",
      "_view_module_version": "1.5.0",
      "_view_name": "HBoxView",
      "box_style": "",
      "children": [
       "IPY_MODEL_4d2e92bed20b4fc683f6973452f54556",
       "IPY_MODEL_50d520f6aeb74893ac99626e006310cb",
       "IPY_MODEL_fe0196ee20e34f97a7e7e2130a879c86"
      ],
      "layout": "IPY_MODEL_c28c02e9bfc84337b9965d9eaf53172f"
     }
    },
    "c99bae21b82b47a1b4c0e4b59b05ac0b": {
     "model_module": "@jupyter-widgets/controls",
     "model_module_version": "1.5.0",
     "model_name": "HTMLModel",
     "state": {
      "_dom_classes": [],
      "_model_module": "@jupyter-widgets/controls",
      "_model_module_version": "1.5.0",
      "_model_name": "HTMLModel",
      "_view_count": null,
      "_view_module": "@jupyter-widgets/controls",
      "_view_module_version": "1.5.0",
      "_view_name": "HTMLView",
      "description": "",
      "description_tooltip": null,
      "layout": "IPY_MODEL_174fad134fca4aadb7de043ef2442c0a",
      "placeholder": "​",
      "style": "IPY_MODEL_c67b6187a8154d659a4da369f5df8bc2",
      "value": "Downloading (…)lve/main/config.json: 100%"
     }
    },
    "ca0238db1b694430984019204069c51e": {
     "model_module": "@jupyter-widgets/controls",
     "model_module_version": "1.5.0",
     "model_name": "FloatProgressModel",
     "state": {
      "_dom_classes": [],
      "_model_module": "@jupyter-widgets/controls",
      "_model_module_version": "1.5.0",
      "_model_name": "FloatProgressModel",
      "_view_count": null,
      "_view_module": "@jupyter-widgets/controls",
      "_view_module_version": "1.5.0",
      "_view_name": "ProgressView",
      "bar_style": "success",
      "description": "",
      "description_tooltip": null,
      "layout": "IPY_MODEL_609269df07484b669bc279354ee9e0cc",
      "max": 456318,
      "min": 0,
      "orientation": "horizontal",
      "style": "IPY_MODEL_799ca5cbf64f4f50a9d934c2179430d2",
      "value": 456318
     }
    },
    "ccfc032dd4f54305a7709e874b9f7ad4": {
     "model_module": "@jupyter-widgets/controls",
     "model_module_version": "1.5.0",
     "model_name": "ProgressStyleModel",
     "state": {
      "_model_module": "@jupyter-widgets/controls",
      "_model_module_version": "1.5.0",
      "_model_name": "ProgressStyleModel",
      "_view_count": null,
      "_view_module": "@jupyter-widgets/base",
      "_view_module_version": "1.2.0",
      "_view_name": "StyleView",
      "bar_color": null,
      "description_width": ""
     }
    },
    "d1b0cb3d3bfd47f7bc6c56760fc9de9e": {
     "model_module": "@jupyter-widgets/controls",
     "model_module_version": "1.5.0",
     "model_name": "HTMLModel",
     "state": {
      "_dom_classes": [],
      "_model_module": "@jupyter-widgets/controls",
      "_model_module_version": "1.5.0",
      "_model_name": "HTMLModel",
      "_view_count": null,
      "_view_module": "@jupyter-widgets/controls",
      "_view_module_version": "1.5.0",
      "_view_name": "HTMLView",
      "description": "",
      "description_tooltip": null,
      "layout": "IPY_MODEL_3f2daded7aac4de1ab6dbc99601baa08",
      "placeholder": "​",
      "style": "IPY_MODEL_7451e032f0a444b09faa1addec43d07c",
      "value": "Downloading (…)olve/main/merges.txt: 100%"
     }
    },
    "d8fad1691f0a424da371b016d1623bf8": {
     "model_module": "@jupyter-widgets/controls",
     "model_module_version": "1.5.0",
     "model_name": "FloatProgressModel",
     "state": {
      "_dom_classes": [],
      "_model_module": "@jupyter-widgets/controls",
      "_model_module_version": "1.5.0",
      "_model_name": "FloatProgressModel",
      "_view_count": null,
      "_view_module": "@jupyter-widgets/controls",
      "_view_module_version": "1.5.0",
      "_view_name": "ProgressView",
      "bar_style": "success",
      "description": "",
      "description_tooltip": null,
      "layout": "IPY_MODEL_9305397325f843b58ff057afbc5581ab",
      "max": 440449768,
      "min": 0,
      "orientation": "horizontal",
      "style": "IPY_MODEL_ccfc032dd4f54305a7709e874b9f7ad4",
      "value": 440449768
     }
    },
    "db9b5d2a05e5431fb370bae2b2c5a3bf": {
     "model_module": "@jupyter-widgets/controls",
     "model_module_version": "1.5.0",
     "model_name": "HBoxModel",
     "state": {
      "_dom_classes": [],
      "_model_module": "@jupyter-widgets/controls",
      "_model_module_version": "1.5.0",
      "_model_name": "HBoxModel",
      "_view_count": null,
      "_view_module": "@jupyter-widgets/controls",
      "_view_module_version": "1.5.0",
      "_view_name": "HBoxView",
      "box_style": "",
      "children": [
       "IPY_MODEL_15e54e43268b4e38bce9796b56c25c4f",
       "IPY_MODEL_d8fad1691f0a424da371b016d1623bf8",
       "IPY_MODEL_f4c91a12966e460199086f4be26db697"
      ],
      "layout": "IPY_MODEL_90638814e04d4a079b330660631f57cd"
     }
    },
    "e545abc15c364f3ab017808461da6d21": {
     "model_module": "@jupyter-widgets/controls",
     "model_module_version": "1.5.0",
     "model_name": "HBoxModel",
     "state": {
      "_dom_classes": [],
      "_model_module": "@jupyter-widgets/controls",
      "_model_module_version": "1.5.0",
      "_model_name": "HBoxModel",
      "_view_count": null,
      "_view_module": "@jupyter-widgets/controls",
      "_view_module_version": "1.5.0",
      "_view_name": "HBoxView",
      "box_style": "",
      "children": [
       "IPY_MODEL_d1b0cb3d3bfd47f7bc6c56760fc9de9e",
       "IPY_MODEL_ca0238db1b694430984019204069c51e",
       "IPY_MODEL_a482d5c212d14ff4b03554d6690ec119"
      ],
      "layout": "IPY_MODEL_601d548936594024b01ff9be0adba417"
     }
    },
    "ee7a400d2e684491975e74884c2c2046": {
     "model_module": "@jupyter-widgets/base",
     "model_module_version": "1.2.0",
     "model_name": "LayoutModel",
     "state": {
      "_model_module": "@jupyter-widgets/base",
      "_model_module_version": "1.2.0",
      "_model_name": "LayoutModel",
      "_view_count": null,
      "_view_module": "@jupyter-widgets/base",
      "_view_module_version": "1.2.0",
      "_view_name": "LayoutView",
      "align_content": null,
      "align_items": null,
      "align_self": null,
      "border": null,
      "bottom": null,
      "display": null,
      "flex": null,
      "flex_flow": null,
      "grid_area": null,
      "grid_auto_columns": null,
      "grid_auto_flow": null,
      "grid_auto_rows": null,
      "grid_column": null,
      "grid_gap": null,
      "grid_row": null,
      "grid_template_areas": null,
      "grid_template_columns": null,
      "grid_template_rows": null,
      "height": null,
      "justify_content": null,
      "justify_items": null,
      "left": null,
      "margin": null,
      "max_height": null,
      "max_width": null,
      "min_height": null,
      "min_width": null,
      "object_fit": null,
      "object_position": null,
      "order": null,
      "overflow": null,
      "overflow_x": null,
      "overflow_y": null,
      "padding": null,
      "right": null,
      "top": null,
      "visibility": null,
      "width": null
     }
    },
    "f1b67a1ba1f845cd835ac8acb127dd1c": {
     "model_module": "@jupyter-widgets/controls",
     "model_module_version": "1.5.0",
     "model_name": "HBoxModel",
     "state": {
      "_dom_classes": [],
      "_model_module": "@jupyter-widgets/controls",
      "_model_module_version": "1.5.0",
      "_model_name": "HBoxModel",
      "_view_count": null,
      "_view_module": "@jupyter-widgets/controls",
      "_view_module_version": "1.5.0",
      "_view_name": "HBoxView",
      "box_style": "",
      "children": [
       "IPY_MODEL_c99bae21b82b47a1b4c0e4b59b05ac0b",
       "IPY_MODEL_c2a1aa0037b74e19a0f1f6891e304bf6",
       "IPY_MODEL_9ba43a6f8b8947c1818daea732c27bb2"
      ],
      "layout": "IPY_MODEL_ee7a400d2e684491975e74884c2c2046"
     }
    },
    "f4c91a12966e460199086f4be26db697": {
     "model_module": "@jupyter-widgets/controls",
     "model_module_version": "1.5.0",
     "model_name": "HTMLModel",
     "state": {
      "_dom_classes": [],
      "_model_module": "@jupyter-widgets/controls",
      "_model_module_version": "1.5.0",
      "_model_name": "HTMLModel",
      "_view_count": null,
      "_view_module": "@jupyter-widgets/controls",
      "_view_module_version": "1.5.0",
      "_view_name": "HTMLView",
      "description": "",
      "description_tooltip": null,
      "layout": "IPY_MODEL_0be6591f1c3c403ea311661f97c57cd0",
      "placeholder": "​",
      "style": "IPY_MODEL_8a537a3805ac406996842978a4fcfaf0",
      "value": " 440M/440M [00:01&lt;00:00, 229MB/s]"
     }
    },
    "fa5075dbb47b4282988296278fbc49fb": {
     "model_module": "@jupyter-widgets/controls",
     "model_module_version": "1.5.0",
     "model_name": "HTMLModel",
     "state": {
      "_dom_classes": [],
      "_model_module": "@jupyter-widgets/controls",
      "_model_module_version": "1.5.0",
      "_model_name": "HTMLModel",
      "_view_count": null,
      "_view_module": "@jupyter-widgets/controls",
      "_view_module_version": "1.5.0",
      "_view_name": "HTMLView",
      "description": "",
      "description_tooltip": null,
      "layout": "IPY_MODEL_7f79a50d1ebc4ef0a5ba5de611520c2e",
      "placeholder": "​",
      "style": "IPY_MODEL_47e95a7a79a545e29680fdde68dd7710",
      "value": "Downloading (…)okenizer_config.json: 100%"
     }
    },
    "fe0196ee20e34f97a7e7e2130a879c86": {
     "model_module": "@jupyter-widgets/controls",
     "model_module_version": "1.5.0",
     "model_name": "HTMLModel",
     "state": {
      "_dom_classes": [],
      "_model_module": "@jupyter-widgets/controls",
      "_model_module_version": "1.5.0",
      "_model_name": "HTMLModel",
      "_view_count": null,
      "_view_module": "@jupyter-widgets/controls",
      "_view_module_version": "1.5.0",
      "_view_name": "HTMLView",
      "description": "",
      "description_tooltip": null,
      "layout": "IPY_MODEL_95cec2fffef240d3b64f663778f022cf",
      "placeholder": "​",
      "style": "IPY_MODEL_05bc1584e0e54ab69a4536b94d3ebb36",
      "value": " 570/570 [00:00&lt;00:00, 8.78kB/s]"
     }
    },
    "fec060122e3d46f0909b0f2b16f65678": {
     "model_module": "@jupyter-widgets/base",
     "model_module_version": "1.2.0",
     "model_name": "LayoutModel",
     "state": {
      "_model_module": "@jupyter-widgets/base",
      "_model_module_version": "1.2.0",
      "_model_name": "LayoutModel",
      "_view_count": null,
      "_view_module": "@jupyter-widgets/base",
      "_view_module_version": "1.2.0",
      "_view_name": "LayoutView",
      "align_content": null,
      "align_items": null,
      "align_self": null,
      "border": null,
      "bottom": null,
      "display": null,
      "flex": null,
      "flex_flow": null,
      "grid_area": null,
      "grid_auto_columns": null,
      "grid_auto_flow": null,
      "grid_auto_rows": null,
      "grid_column": null,
      "grid_gap": null,
      "grid_row": null,
      "grid_template_areas": null,
      "grid_template_columns": null,
      "grid_template_rows": null,
      "height": null,
      "justify_content": null,
      "justify_items": null,
      "left": null,
      "margin": null,
      "max_height": null,
      "max_width": null,
      "min_height": null,
      "min_width": null,
      "object_fit": null,
      "object_position": null,
      "order": null,
      "overflow": null,
      "overflow_x": null,
      "overflow_y": null,
      "padding": null,
      "right": null,
      "top": null,
      "visibility": null,
      "width": null
     }
    }
   }
  }
 },
 "nbformat": 4,
 "nbformat_minor": 1
}
